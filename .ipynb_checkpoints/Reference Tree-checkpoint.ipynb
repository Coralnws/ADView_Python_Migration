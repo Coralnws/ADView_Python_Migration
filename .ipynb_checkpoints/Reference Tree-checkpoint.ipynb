{
 "cells": [
  {
   "cell_type": "code",
   "execution_count": 1,
   "id": "04b86733",
   "metadata": {},
   "outputs": [
    {
     "name": "stdout",
     "output_type": "stream",
     "text": [
      "Requirement already satisfied: dendropy in c:\\users\\coral\\desktop\\phylo\\venv\\lib\\site-packages (from -r requirements.txt (line 1)) (4.6.1)\n",
      "Requirement already satisfied: ipycanvas in c:\\users\\coral\\desktop\\phylo\\venv\\lib\\site-packages (from -r requirements.txt (line 2)) (0.13.1)\n",
      "Requirement already satisfied: setuptools in c:\\users\\coral\\desktop\\phylo\\venv\\lib\\site-packages (from dendropy->-r requirements.txt (line 1)) (68.2.2)\n",
      "Requirement already satisfied: ipywidgets<9,>=7.6.0 in c:\\users\\coral\\desktop\\phylo\\venv\\lib\\site-packages (from ipycanvas->-r requirements.txt (line 2)) (8.1.1)\n",
      "Requirement already satisfied: pillow>=6.0 in c:\\users\\coral\\desktop\\phylo\\venv\\lib\\site-packages (from ipycanvas->-r requirements.txt (line 2)) (10.1.0)\n",
      "Requirement already satisfied: numpy in c:\\users\\coral\\desktop\\phylo\\venv\\lib\\site-packages (from ipycanvas->-r requirements.txt (line 2)) (1.26.2)\n",
      "Requirement already satisfied: comm>=0.1.3 in c:\\users\\coral\\desktop\\phylo\\venv\\lib\\site-packages (from ipywidgets<9,>=7.6.0->ipycanvas->-r requirements.txt (line 2)) (0.2.0)\n",
      "Requirement already satisfied: ipython>=6.1.0 in c:\\users\\coral\\desktop\\phylo\\venv\\lib\\site-packages (from ipywidgets<9,>=7.6.0->ipycanvas->-r requirements.txt (line 2)) (8.17.2)\n",
      "Requirement already satisfied: traitlets>=4.3.1 in c:\\users\\coral\\desktop\\phylo\\venv\\lib\\site-packages (from ipywidgets<9,>=7.6.0->ipycanvas->-r requirements.txt (line 2)) (5.14.0)\n",
      "Requirement already satisfied: widgetsnbextension~=4.0.9 in c:\\users\\coral\\desktop\\phylo\\venv\\lib\\site-packages (from ipywidgets<9,>=7.6.0->ipycanvas->-r requirements.txt (line 2)) (4.0.9)\n",
      "Requirement already satisfied: jupyterlab-widgets~=3.0.9 in c:\\users\\coral\\desktop\\phylo\\venv\\lib\\site-packages (from ipywidgets<9,>=7.6.0->ipycanvas->-r requirements.txt (line 2)) (3.0.9)\n",
      "Requirement already satisfied: decorator in c:\\users\\coral\\desktop\\phylo\\venv\\lib\\site-packages (from ipython>=6.1.0->ipywidgets<9,>=7.6.0->ipycanvas->-r requirements.txt (line 2)) (5.1.1)\n",
      "Requirement already satisfied: jedi>=0.16 in c:\\users\\coral\\desktop\\phylo\\venv\\lib\\site-packages (from ipython>=6.1.0->ipywidgets<9,>=7.6.0->ipycanvas->-r requirements.txt (line 2)) (0.19.1)\n",
      "Requirement already satisfied: matplotlib-inline in c:\\users\\coral\\desktop\\phylo\\venv\\lib\\site-packages (from ipython>=6.1.0->ipywidgets<9,>=7.6.0->ipycanvas->-r requirements.txt (line 2)) (0.1.6)\n",
      "Requirement already satisfied: prompt-toolkit!=3.0.37,<3.1.0,>=3.0.30 in c:\\users\\coral\\desktop\\phylo\\venv\\lib\\site-packages (from ipython>=6.1.0->ipywidgets<9,>=7.6.0->ipycanvas->-r requirements.txt (line 2)) (3.0.41)\n",
      "Requirement already satisfied: pygments>=2.4.0 in c:\\users\\coral\\desktop\\phylo\\venv\\lib\\site-packages (from ipython>=6.1.0->ipywidgets<9,>=7.6.0->ipycanvas->-r requirements.txt (line 2)) (2.16.1)\n",
      "Requirement already satisfied: stack-data in c:\\users\\coral\\desktop\\phylo\\venv\\lib\\site-packages (from ipython>=6.1.0->ipywidgets<9,>=7.6.0->ipycanvas->-r requirements.txt (line 2)) (0.6.3)\n",
      "Requirement already satisfied: colorama in c:\\users\\coral\\desktop\\phylo\\venv\\lib\\site-packages (from ipython>=6.1.0->ipywidgets<9,>=7.6.0->ipycanvas->-r requirements.txt (line 2)) (0.4.6)\n",
      "Requirement already satisfied: parso<0.9.0,>=0.8.3 in c:\\users\\coral\\desktop\\phylo\\venv\\lib\\site-packages (from jedi>=0.16->ipython>=6.1.0->ipywidgets<9,>=7.6.0->ipycanvas->-r requirements.txt (line 2)) (0.8.3)\n",
      "Requirement already satisfied: wcwidth in c:\\users\\coral\\desktop\\phylo\\venv\\lib\\site-packages (from prompt-toolkit!=3.0.37,<3.1.0,>=3.0.30->ipython>=6.1.0->ipywidgets<9,>=7.6.0->ipycanvas->-r requirements.txt (line 2)) (0.2.10)\n",
      "Requirement already satisfied: executing>=1.2.0 in c:\\users\\coral\\desktop\\phylo\\venv\\lib\\site-packages (from stack-data->ipython>=6.1.0->ipywidgets<9,>=7.6.0->ipycanvas->-r requirements.txt (line 2)) (2.0.1)\n",
      "Requirement already satisfied: asttokens>=2.1.0 in c:\\users\\coral\\desktop\\phylo\\venv\\lib\\site-packages (from stack-data->ipython>=6.1.0->ipywidgets<9,>=7.6.0->ipycanvas->-r requirements.txt (line 2)) (2.4.1)\n",
      "Requirement already satisfied: pure-eval in c:\\users\\coral\\desktop\\phylo\\venv\\lib\\site-packages (from stack-data->ipython>=6.1.0->ipywidgets<9,>=7.6.0->ipycanvas->-r requirements.txt (line 2)) (0.2.2)\n",
      "Requirement already satisfied: six>=1.12.0 in c:\\users\\coral\\desktop\\phylo\\venv\\lib\\site-packages (from asttokens>=2.1.0->stack-data->ipython>=6.1.0->ipywidgets<9,>=7.6.0->ipycanvas->-r requirements.txt (line 2)) (1.16.0)\n"
     ]
    },
    {
     "name": "stderr",
     "output_type": "stream",
     "text": [
      "\n",
      "[notice] A new release of pip is available: 23.2.1 -> 24.0\n",
      "[notice] To update, run: python.exe -m pip install --upgrade pip\n"
     ]
    }
   ],
   "source": [
    "!pip install -r requirements.txt"
   ]
  },
  {
   "cell_type": "code",
   "execution_count": 9,
   "id": "b60808f5-8e58-46c7-a055-ac2a8608787c",
   "metadata": {},
   "outputs": [],
   "source": [
    "import AD_Py as AD_Py\n",
    "import importlib\n",
    "importlib.reload(AD_Py)\n",
    "# mytree = AD_Py.AD_Py(treefile = \"Data/69species/test.tre\")\n",
    "mytree = AD_Py.AD_Py(treefile = \"Data/69species/astral.FAA.trim50genes.final.tre\")"
   ]
  },
  {
   "cell_type": "code",
   "execution_count": 10,
   "id": "08d50fd9-5b73-41cf-a9fd-ac29e78625f0",
   "metadata": {},
   "outputs": [],
   "source": [
    "outgroup = [\"Uronema sp\", \"Monomastix opisthostigma\", \"Pyramimonas parkeae\", \"Nephroselmis pyriformis\"]\n",
    "mytree.set_outgroup(outgroup)"
   ]
  },
  {
   "cell_type": "code",
   "execution_count": 3,
   "id": "16419580-c7e1-4fb1-a94b-f12d5728ca73",
   "metadata": {},
   "outputs": [],
   "source": [
    "mytree.add_tree_collection(treefile = \"Data/69species/tc.tre\",namefile=\"Data/69species/names.txt\")"
   ]
  },
  {
   "cell_type": "code",
   "execution_count": 4,
   "id": "3f7fba2a-9cd2-488d-9efe-c1a2b96ef3fa",
   "metadata": {},
   "outputs": [],
   "source": [
    "# mytree.tree_collection()"
   ]
  },
  {
   "cell_type": "code",
   "execution_count": 11,
   "id": "6c798ff9-74c3-433b-8d97-13970de6d6d6",
   "metadata": {
    "scrolled": true
   },
   "outputs": [
    {
     "data": {
      "application/vnd.jupyter.widget-view+json": {
       "model_id": "9e14080420964eb2a7e5a642a6646192",
       "version_major": 2,
       "version_minor": 0
      },
      "text/plain": [
       "rtCanvas(height=2080, width=1100)"
      ]
     },
     "execution_count": 11,
     "metadata": {},
     "output_type": "execute_result"
    }
   ],
   "source": [
    "import importlib\n",
    "importlib.reload(AD_Py)\n",
    "\n",
    "rt_canvas = mytree.reference_tree()\n",
    "rt_canvas"
   ]
  },
  {
   "cell_type": "code",
   "execution_count": 8,
   "id": "0c592e27-1e33-41f5-833c-46b56e4741b2",
   "metadata": {
    "scrolled": true
   },
   "outputs": [
    {
     "data": {
      "application/vnd.jupyter.widget-view+json": {
       "model_id": "cda50f0b23024cd0bfbe976a8f6f23dd",
       "version_major": 2,
       "version_minor": 0
      },
      "text/plain": [
       "tcCanvas(height=870, width=1100)"
      ]
     },
     "execution_count": 8,
     "metadata": {},
     "output_type": "execute_result"
    }
   ],
   "source": [
    "import importlib\n",
    "importlib.reload(AD_Py)\n",
    "tc_canvas=mytree.AD(view='Individual',scale=1.0,context_level = 2,max_ad=30,sort='name',show_block_proportional=True,ignore_independent_leaf=False)\n",
    "tc_canvas"
   ]
  },
  {
   "cell_type": "code",
   "execution_count": null,
   "id": "3e4ea6a8-15f3-4b10-a150-1aedc6f02d60",
   "metadata": {},
   "outputs": [],
   "source": []
  },
  {
   "cell_type": "code",
   "execution_count": 27,
   "id": "9cef31c1-9eba-4b1c-9fda-cdfad6ff26ed",
   "metadata": {},
   "outputs": [
    {
     "data": {
      "application/vnd.jupyter.widget-view+json": {
       "model_id": "e88f410fe11f42e496d5c5fbe5c77ba6",
       "version_major": 2,
       "version_minor": 0
      },
      "text/plain": [
       "tcCanvas(height=400, width=1100)"
      ]
     },
     "execution_count": 27,
     "metadata": {},
     "output_type": "execute_result"
    }
   ],
   "source": [
    "import tcCanvas as tcCanvas\n",
    "import importlib\n",
    "importlib.reload(tcCanvas)\n",
    "\n",
    "cluster_canvas=mytree.AD(view='Cluster',scale=1.0,context_level = 2,ignore_independent_leaf=False,show_block_proportional=True)\n",
    "cluster_canvas"
   ]
  },
  {
   "cell_type": "code",
   "execution_count": 30,
   "id": "df127d06-7bac-42f1-997c-5cebf7e02e5d",
   "metadata": {},
   "outputs": [
    {
     "name": "stdout",
     "output_type": "stream",
     "text": [
      "A\n",
      "<Node object at 0x1dc6c89c790: '6' (None)>\n"
     ]
    }
   ],
   "source": [
    "for subtree in tc_canvas.subtree_list:\n",
    "    print(subtree.label)\n",
    "    print(subtree.root.corr[0])"
   ]
  },
  {
   "cell_type": "code",
   "execution_count": 37,
   "id": "f2812679-d597-4ea5-ac37-d90d860067f8",
   "metadata": {},
   "outputs": [
    {
     "name": "stdout",
     "output_type": "stream",
     "text": [
      "ad_tree :1\n",
      "Root <Node object at 0x1dc6c8fbd90: 'None' (None)>\n",
      "    INDV BLANK BLOCK\n",
      "    Internal Node <Node object at 0x1dc6c8b42d0: '1' (None)>\n",
      "        Internal Node <Node object at 0x1dc6c8b4610: '1' (None)>\n",
      "            Internal Node <Node object at 0x1dc6c8b4690: '1' (None)>\n",
      "                INDV BLANK BLOCK\n",
      "            A:3\n",
      "ad_tree :2\n",
      "Root <Node object at 0x1dc6c8ce350: 'None' (None)>\n",
      "    INDV BLANK BLOCK\n",
      "    Internal Node <Node object at 0x1dc6c8ac5d0: '1' (None)>\n",
      "        Internal Node <Node object at 0x1dc6c8ac710: '1' (None)>\n",
      "            INDV BLANK BLOCK\n",
      "        A:4\n",
      "ad_tree :3\n",
      "Root <Node object at 0x1dc6c8ce390: 'None' (None)>\n",
      "    INDV BLANK BLOCK\n",
      "    Internal Node <Node object at 0x1dc6c87c9d0: '100' (None)>\n",
      "        Internal Node <Node object at 0x1dc6c87cb10: '100' (None)>\n",
      "            INDV BLANK BLOCK\n",
      "        A:4\n",
      "ad_tree :4\n",
      "Root <Node object at 0x1dc6c8cde50: 'None' (None)>\n",
      "    INDV BLANK BLOCK\n",
      "    Internal Node <Node object at 0x1dc6ca364d0: '100' (None)>\n",
      "        Internal Node <Node object at 0x1dc6ca36610: '100' (None)>\n",
      "            INDV BLANK BLOCK\n",
      "        A:4\n",
      "ad_tree :5\n",
      "Root <Node object at 0x1dc6c8cdc50: 'None' (None)>\n",
      "    INDV BLANK BLOCK\n",
      "    Internal Node <Node object at 0x1dc6ca50050: '100' (None)>\n",
      "        A:4\n",
      "        Internal Node <Node object at 0x1dc6ca50b90: '100' (None)>\n",
      "            INDV BLANK BLOCK\n",
      "ad_tree :6\n",
      "Root <Node object at 0x1dc6c8cd8d0: 'None' (None)>\n",
      "    INDV BLANK BLOCK\n",
      "    Internal Node <Node object at 0x1dc6ca1df90: '100' (None)>\n",
      "        Internal Node <Node object at 0x1dc6ca1e0d0: '100' (None)>\n",
      "            INDV BLANK BLOCK\n",
      "        A:4\n",
      "ad_tree :7\n",
      "Root <Node object at 0x1dc6c8cd590: 'None' (None)>\n",
      "    INDV BLANK BLOCK\n",
      "    Internal Node <Node object at 0x1dc6ca0d8d0: '100' (None)>\n",
      "        Internal Node <Node object at 0x1dc6ca0da10: '100' (None)>\n",
      "            INDV BLANK BLOCK\n",
      "        A:4\n",
      "ad_tree :8\n",
      "Root <Node object at 0x1dc6c8cd390: 'None' (None)>\n",
      "    INDV BLANK BLOCK\n",
      "    Internal Node <Node object at 0x1dc6c9d4ed0: '100' (None)>\n",
      "        Internal Node <Node object at 0x1dc6c9d5010: '100' (None)>\n",
      "            INDV BLANK BLOCK\n",
      "        A:4\n",
      "ad_tree :9\n",
      "Root <Node object at 0x1dc6c8cc3d0: 'None' (None)>\n",
      "    INDV BLANK BLOCK\n",
      "    Internal Node <Node object at 0x1dc6c7e6750: '100' (None)>\n",
      "        Internal Node <Node object at 0x1dc6c7e72d0: '100' (None)>\n",
      "            INDV BLANK BLOCK\n",
      "        A:4\n",
      "ad_tree :10\n",
      "Root <Node object at 0x1dc6c8cc610: 'None' (None)>\n",
      "    INDV BLANK BLOCK\n",
      "    Internal Node <Node object at 0x1dc6c901d50: '100' (None)>\n",
      "        Internal Node <Node object at 0x1dc6c901e90: '100' (None)>\n",
      "            INDV BLANK BLOCK\n",
      "        A:4\n",
      "ad_tree :11\n",
      "Root <Node object at 0x1dc6c8cc810: 'None' (None)>\n",
      "    INDV BLANK BLOCK\n",
      "    Internal Node <Node object at 0x1dc6ca66450: '100' (None)>\n",
      "        Internal Node <Node object at 0x1dc6c91ca90: '100' (None)>\n",
      "            INDV BLANK BLOCK\n",
      "        A:4\n",
      "ad_tree :12\n",
      "Root <Node object at 0x1dc6c8cc9d0: 'None' (None)>\n",
      "    INDV BLANK BLOCK\n",
      "    Internal Node <Node object at 0x1dc6c9fedd0: '100' (None)>\n",
      "        Internal Node <Node object at 0x1dc6c9fdf50: '100' (None)>\n",
      "            INDV BLANK BLOCK\n",
      "        A:4\n",
      "ad_tree :13\n",
      "Root <Node object at 0x1dc6c8cd010: 'None' (None)>\n",
      "    INDV BLANK BLOCK\n",
      "    Internal Node <Node object at 0x1dc6c83ca10: '87' (None)>\n",
      "        Internal Node <Node object at 0x1dc6c83cad0: '100' (None)>\n",
      "            INDV BLANK BLOCK\n",
      "            A:4\n",
      "        Internal Node <Node object at 0x1dc6c83dfd0: '97' (None)>\n",
      "            Internal Node <Node object at 0x1dc6c83e090: '97' (None)>\n",
      "                INDV BLANK BLOCK\n",
      "            INDV BLANK BLOCK\n",
      "ad_tree :14\n",
      "Root <Node object at 0x1dc6c8ccdd0: 'None' (None)>\n",
      "    INDV BLANK BLOCK\n",
      "    Internal Node <Node object at 0x1dc6c8edf10: '59' (None)>\n",
      "        A:4\n",
      "        Internal Node <Node object at 0x1dc6c8eea50: '36' (None)>\n",
      "            INDV BLANK BLOCK\n",
      "ad_tree :15\n",
      "Root <Node object at 0x1dc6c8cce90: 'None' (None)>\n",
      "    INDV BLANK BLOCK\n",
      "    Internal Node <Node object at 0x1dc6c9a38d0: '95' (None)>\n",
      "        A:4\n",
      "        Internal Node <Node object at 0x1dc6ca4c450: '72' (None)>\n",
      "            INDV BLANK BLOCK\n",
      "            Internal Node <Node object at 0x1dc6ca4cc50: '45' (None)>\n",
      "                INDV BLANK BLOCK\n",
      "ad_tree :16\n",
      "Root <Node object at 0x1dc6c8ce490: 'None' (None)>\n",
      "    INDV BLANK BLOCK\n",
      "    Internal Node <Node object at 0x1dc6c9c1c10: '100' (None)>\n",
      "        Internal Node <Node object at 0x1dc6c9c1d50: '99' (None)>\n",
      "            INDV BLANK BLOCK\n",
      "        A:4\n",
      "ad_tree :17\n",
      "Root <Node object at 0x1dc6cf75cd0: 'None' (None)>\n",
      "    INDV BLANK BLOCK\n",
      "    Internal Node <Node object at 0x1dc6c99b810: '1' (None)>\n",
      "        Internal Node <Node object at 0x1dc6c99bb50: '1' (None)>\n",
      "            Internal Node <Node object at 0x1dc6c99bbd0: '1' (None)>\n",
      "                INDV BLANK BLOCK\n",
      "            A:3\n",
      "ad_tree :18\n",
      "Root <Node object at 0x1dc6cf75e90: 'None' (None)>\n",
      "    INDV BLANK BLOCK\n",
      "    Internal Node <Node object at 0x1dc6c993cd0: '100' (None)>\n",
      "        A:4\n",
      "        Internal Node <Node object at 0x1dc6c98c850: '100' (None)>\n",
      "            INDV BLANK BLOCK\n",
      "ad_tree :19\n",
      "Root <Node object at 0x1dc6cf76090: 'None' (None)>\n",
      "    INDV BLANK BLOCK\n",
      "    Internal Node <Node object at 0x1dc6c975810: '100' (None)>\n",
      "        Internal Node <Node object at 0x1dc6c975950: '100' (None)>\n",
      "            INDV BLANK BLOCK\n",
      "        A:4\n",
      "ad_tree :20\n",
      "Root <Node object at 0x1dc6cf76210: 'None' (None)>\n",
      "    INDV BLANK BLOCK\n",
      "    Internal Node <Node object at 0x1dc6ca92fd0: '64' (None)>\n",
      "        Internal Node <Node object at 0x1dc6ca93090: '99' (None)>\n",
      "            A:4\n",
      "            INDV BLANK BLOCK\n",
      "        Internal Node <Node object at 0x1dc6ca785d0: '99' (None)>\n",
      "            Internal Node <Node object at 0x1dc6ca78690: '99' (None)>\n",
      "                INDV BLANK BLOCK\n",
      "            INDV BLANK BLOCK\n",
      "ad_tree :21\n",
      "Root <Node object at 0x1dc6cf76390: 'None' (None)>\n",
      "    INDV BLANK BLOCK\n",
      "    Internal Node <Node object at 0x1dc6ca9ce50: '100' (None)>\n",
      "        Internal Node <Node object at 0x1dc6ca9cf90: '100' (None)>\n",
      "            INDV BLANK BLOCK\n",
      "        A:4\n",
      "ad_tree :22\n",
      "Root <Node object at 0x1dc6cf76410: 'None' (None)>\n",
      "    INDV BLANK BLOCK\n",
      "    Internal Node <Node object at 0x1dc6ca61210: '100' (None)>\n",
      "        A:4\n",
      "        Internal Node <Node object at 0x1dc6ca61cd0: '100' (None)>\n",
      "            INDV BLANK BLOCK\n",
      "ad_tree :23\n",
      "Root <Node object at 0x1dc6cf76650: 'None' (None)>\n",
      "    INDV BLANK BLOCK\n",
      "    Internal Node <Node object at 0x1dc6cacf9d0: '100' (None)>\n",
      "        Internal Node <Node object at 0x1dc6cacfb10: '100' (None)>\n",
      "            INDV BLANK BLOCK\n",
      "        A:4\n",
      "ad_tree :24\n",
      "Root <Node object at 0x1dc6cf76690: 'None' (None)>\n",
      "    INDV BLANK BLOCK\n",
      "    Internal Node <Node object at 0x1dc6cad5a10: '15' (None)>\n",
      "        Internal Node <Node object at 0x1dc6cad5b50: '15' (None)>\n",
      "            Internal Node <Node object at 0x1dc6cad5c90: '4' (None)>\n",
      "                INDV BLANK BLOCK\n",
      "            INDV BLANK BLOCK\n",
      "        A:4\n",
      "ad_tree :25\n",
      "Root <Node object at 0x1dc6cf76810: 'None' (None)>\n",
      "    INDV BLANK BLOCK\n",
      "    Internal Node <Node object at 0x1dc6caeb4d0: '100' (None)>\n",
      "        A:4\n",
      "        Internal Node <Node object at 0x1dc6caec050: '100' (None)>\n",
      "            INDV BLANK BLOCK\n",
      "ad_tree :26\n",
      "Root <Node object at 0x1dc6cf75d50: 'None' (None)>\n",
      "    INDV BLANK BLOCK\n",
      "    Internal Node <Node object at 0x1dc6cafd010: '41' (None)>\n",
      "        Internal Node <Node object at 0x1dc6cafd190: '81' (None)>\n",
      "            INDV BLANK BLOCK\n",
      "            A:4\n",
      "ad_tree :27\n",
      "Root <Node object at 0x1dc6cf820d0: 'None' (None)>\n",
      "    INDV BLANK BLOCK\n",
      "    Internal Node <Node object at 0x1dc6cb12d90: '100' (None)>\n",
      "        A:4\n",
      "        Internal Node <Node object at 0x1dc6cb138d0: '100' (None)>\n",
      "            INDV BLANK BLOCK\n",
      "ad_tree :28\n",
      "Root <Node object at 0x1dc6cf76bd0: 'None' (None)>\n",
      "    INDV BLANK BLOCK\n",
      "    Internal Node <Node object at 0x1dc6cb248d0: '100' (None)>\n",
      "        Internal Node <Node object at 0x1dc6cb24a10: '100' (None)>\n",
      "            INDV BLANK BLOCK\n",
      "        A:4\n",
      "ad_tree :29\n",
      "Root <Node object at 0x1dc6cf82150: 'None' (None)>\n",
      "    INDV BLANK BLOCK\n",
      "    Internal Node <Node object at 0x1dc6cb3a3d0: '100' (None)>\n",
      "        A:4\n",
      "        Internal Node <Node object at 0x1dc6cb3af10: '100' (None)>\n",
      "            INDV BLANK BLOCK\n",
      "ad_tree :30\n",
      "Root <Node object at 0x1dc6cf89510: 'None' (None)>\n",
      "    INDV BLANK BLOCK\n",
      "    Internal Node <Node object at 0x1dc6cb4fc50: '97' (None)>\n",
      "        Internal Node <Node object at 0x1dc6cb4fdd0: '93' (None)>\n",
      "            INDV BLANK BLOCK\n",
      "            A:4\n"
     ]
    }
   ],
   "source": [
    "for index,ad_tree in enumerate(tc_canvas.ad_list):\n",
    "    print(\"ad_tree :\" + str(index+1))\n",
    "    ad_tree.plot_tree()"
   ]
  },
  {
   "cell_type": "code",
   "execution_count": 14,
   "id": "8c189a14-085c-4e13-8403-c16a8e8d4095",
   "metadata": {
    "scrolled": true
   },
   "outputs": [
    {
     "name": "stdout",
     "output_type": "stream",
     "text": [
      "ad_tree :1\n",
      "(A[(B_INDEPENDENT,(B,(B_INDEPENDENT,Individual_blank_block)Internal Node)Internal Node);],Individual_blank_block);\n",
      "ad_tree :2\n",
      "(A[(B,(B_INDEPENDENT,Individual_blank_block)Internal Node);],Individual_blank_block);\n",
      "ad_tree :3\n",
      "(A[(B,(B_INDEPENDENT,Individual_blank_block)Internal Node);],Individual_blank_block);\n",
      "ad_tree :4\n",
      "(A[(B,(B_INDEPENDENT,Individual_blank_block)Internal Node);],Individual_blank_block);\n",
      "ad_tree :5\n",
      "(A[(B,(B_INDEPENDENT,Individual_blank_block)Internal Node);],Individual_blank_block);\n",
      "ad_tree :6\n",
      "(A[(B,(B_INDEPENDENT,Individual_blank_block)Internal Node);],Individual_blank_block);\n",
      "ad_tree :7\n",
      "(A[(B,(B_INDEPENDENT,Individual_blank_block)Internal Node);],Individual_blank_block);\n",
      "ad_tree :8\n",
      "(A[(B,(B_INDEPENDENT,Individual_blank_block)Internal Node);],Individual_blank_block);\n",
      "ad_tree :9\n",
      "(A[(B,(B_INDEPENDENT,Individual_blank_block)Internal Node);],Individual_blank_block);\n",
      "ad_tree :10\n",
      "(A[(B,(B_INDEPENDENT,Individual_blank_block)Internal Node);],Individual_blank_block);\n"
     ]
    }
   ],
   "source": [
    "import dendropy\n",
    "newick_str = \"\"\n",
    "\n",
    "for index,ad_tree in enumerate(tc_canvas.ad_list):\n",
    "    print(\"ad_tree :\" + str(index+1))\n",
    "    newick_str = ad_tree.ad_to_string(ignore_independant_leaf=True)\n",
    "    print(newick_str)\n",
    "    # tree = dendropy.Tree.get(data=newick_str, schema=\"newick\",taxon_namespace=taxon_namespace)\n",
    "    # dendropy_tree_list.append(tree)\n",
    "\n",
    "    \n",
    "# tree1 = dendropy_tree_list[3]\n",
    "# # tree1.print_plot()\n",
    "# tree2 = dendropy_tree_list[4]\n",
    "\n",
    "# for leaf in tree1.leaf_node_iter():\n",
    "#     leaf.taxon = None\n",
    "# for leaf in tree2.leaf_node_iter():\n",
    "#     leaf.taxon = None\n",
    "\n",
    "# rf_distance = dendropy.calculate.treecompare.symmetric_difference(tree1, tree2)\n",
    "# print(rf_distance)\n",
    "\n"
   ]
  },
  {
   "cell_type": "code",
   "execution_count": 87,
   "id": "36bbcf64-37ef-43b4-9a68-055624ce8ce7",
   "metadata": {},
   "outputs": [
    {
     "name": "stdout",
     "output_type": "stream",
     "text": [
      "RF distance: 0\n"
     ]
    }
   ],
   "source": [
    "from ete3 import Tree, TreeStyle, TextFace\n",
    "\n",
    "tree1 = ete3_tree_list[0]\n",
    "tree2 = ete3_tree_list[4]\n",
    "rf_distance = tree1.robinson_foulds(tree2)[0]\n",
    "\n",
    "print(\"RF distance:\", rf_distance)\n",
    "\n",
    "ts = TreeStyle()\n",
    "ts.show_leaf_name = True\n",
    "ts.show_branch_length = True\n",
    "ts.show_branch_support = True\n",
    "\n",
    "# 在Jupyter Notebook中显示树\n",
    "# tree1.render(\"%%inline\", tree_style=ts)\n",
    "# tree2.render(\"%%inline\", tree_style=ts)"
   ]
  },
  {
   "cell_type": "code",
   "execution_count": 55,
   "id": "ddda35a3-7803-4d67-86ed-6d84bbd6c27e",
   "metadata": {},
   "outputs": [
    {
     "name": "stdout",
     "output_type": "stream",
     "text": [
      "Root <Node object at 0x2d8f0e64d50: 'None' (None)>\n",
      "    INDV BLANK BLOCK\n",
      "    A:4\n",
      "Root <Node object at 0x2d8f0e702d0: 'None' (None)>\n",
      "    INDV BLANK BLOCK\n",
      "    A:4\n",
      "Root <Node object at 0x2d8f0e73810: 'None' (None)>\n",
      "    INDV BLANK BLOCK\n",
      "    A:4\n"
     ]
    }
   ],
   "source": [
    "for index,ad_tree in enumerate(tc_canvas.ad_list):\n",
    "    if index == 3:\n",
    "        break\n",
    "    ad_tree.plot_tree()\n",
    "    # for node in ad_tree.traverse_postorder():\n",
    "    #     if node.nested_tree is not None:\n",
    "    #         node.nested_tree.plot_tree()\n",
    "            # for node in node.nested_tree.traverse_postorder():\n",
    "            #     print(node.node_or_block)\n",
    "    # print(ad_tree)"
   ]
  },
  {
   "cell_type": "code",
   "execution_count": 16,
   "id": "3244a17a-39ed-43b7-a7b7-7d2bec113c42",
   "metadata": {},
   "outputs": [
    {
     "name": "stdout",
     "output_type": "stream",
     "text": [
      "<Error> : Reference Tree not exist.\n",
      "Please ensure that you have called the reference_tree() function before calling this function.\n"
     ]
    }
   ],
   "source": [
    "# mytree.select_subtree([\"mesostigma\",\"spirotaenia\"])\n",
    "mytree.select_leaf_node(\"uronema\")"
   ]
  },
  {
   "cell_type": "code",
   "execution_count": 21,
   "id": "1c9aa213-2ebf-4718-bd1c-ae3158e9f9d6",
   "metadata": {},
   "outputs": [
    {
     "name": "stdout",
     "output_type": "stream",
     "text": [
      "[]\n"
     ]
    }
   ],
   "source": [
    "print(canvas.output)"
   ]
  },
  {
   "cell_type": "code",
   "execution_count": null,
   "id": "ea244723-4226-498e-8664-2833dcea4dff",
   "metadata": {},
   "outputs": [],
   "source": []
  },
  {
   "cell_type": "code",
   "execution_count": null,
   "id": "0e6f1e22-f6a4-4671-adfb-d8b729be1cd0",
   "metadata": {},
   "outputs": [],
   "source": []
  }
 ],
 "metadata": {
  "kernelspec": {
   "display_name": "Python 3 (ipykernel)",
   "language": "python",
   "name": "python3"
  },
  "language_info": {
   "codemirror_mode": {
    "name": "ipython",
    "version": 3
   },
   "file_extension": ".py",
   "mimetype": "text/x-python",
   "name": "python",
   "nbconvert_exporter": "python",
   "pygments_lexer": "ipython3",
   "version": "3.11.4"
  }
 },
 "nbformat": 4,
 "nbformat_minor": 5
}
