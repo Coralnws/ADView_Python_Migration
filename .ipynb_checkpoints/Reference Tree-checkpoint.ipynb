{
 "cells": [
  {
   "cell_type": "code",
   "execution_count": 1,
   "id": "04b86733",
   "metadata": {},
   "outputs": [
    {
     "name": "stdout",
     "output_type": "stream",
     "text": [
      "Requirement already satisfied: dendropy in c:\\users\\coral\\desktop\\phylo\\venv\\lib\\site-packages (from -r requirements.txt (line 1)) (4.6.1)\n",
      "Requirement already satisfied: ipycanvas in c:\\users\\coral\\desktop\\phylo\\venv\\lib\\site-packages (from -r requirements.txt (line 2)) (0.13.1)\n",
      "Requirement already satisfied: setuptools in c:\\users\\coral\\desktop\\phylo\\venv\\lib\\site-packages (from dendropy->-r requirements.txt (line 1)) (68.2.2)\n",
      "Requirement already satisfied: ipywidgets<9,>=7.6.0 in c:\\users\\coral\\desktop\\phylo\\venv\\lib\\site-packages (from ipycanvas->-r requirements.txt (line 2)) (8.1.1)\n",
      "Requirement already satisfied: pillow>=6.0 in c:\\users\\coral\\desktop\\phylo\\venv\\lib\\site-packages (from ipycanvas->-r requirements.txt (line 2)) (10.1.0)\n",
      "Requirement already satisfied: numpy in c:\\users\\coral\\desktop\\phylo\\venv\\lib\\site-packages (from ipycanvas->-r requirements.txt (line 2)) (1.26.2)\n",
      "Requirement already satisfied: comm>=0.1.3 in c:\\users\\coral\\desktop\\phylo\\venv\\lib\\site-packages (from ipywidgets<9,>=7.6.0->ipycanvas->-r requirements.txt (line 2)) (0.2.0)\n",
      "Requirement already satisfied: ipython>=6.1.0 in c:\\users\\coral\\desktop\\phylo\\venv\\lib\\site-packages (from ipywidgets<9,>=7.6.0->ipycanvas->-r requirements.txt (line 2)) (8.17.2)\n",
      "Requirement already satisfied: traitlets>=4.3.1 in c:\\users\\coral\\desktop\\phylo\\venv\\lib\\site-packages (from ipywidgets<9,>=7.6.0->ipycanvas->-r requirements.txt (line 2)) (5.14.0)\n",
      "Requirement already satisfied: widgetsnbextension~=4.0.9 in c:\\users\\coral\\desktop\\phylo\\venv\\lib\\site-packages (from ipywidgets<9,>=7.6.0->ipycanvas->-r requirements.txt (line 2)) (4.0.9)\n",
      "Requirement already satisfied: jupyterlab-widgets~=3.0.9 in c:\\users\\coral\\desktop\\phylo\\venv\\lib\\site-packages (from ipywidgets<9,>=7.6.0->ipycanvas->-r requirements.txt (line 2)) (3.0.9)\n",
      "Requirement already satisfied: decorator in c:\\users\\coral\\desktop\\phylo\\venv\\lib\\site-packages (from ipython>=6.1.0->ipywidgets<9,>=7.6.0->ipycanvas->-r requirements.txt (line 2)) (5.1.1)\n",
      "Requirement already satisfied: jedi>=0.16 in c:\\users\\coral\\desktop\\phylo\\venv\\lib\\site-packages (from ipython>=6.1.0->ipywidgets<9,>=7.6.0->ipycanvas->-r requirements.txt (line 2)) (0.19.1)\n",
      "Requirement already satisfied: matplotlib-inline in c:\\users\\coral\\desktop\\phylo\\venv\\lib\\site-packages (from ipython>=6.1.0->ipywidgets<9,>=7.6.0->ipycanvas->-r requirements.txt (line 2)) (0.1.6)\n",
      "Requirement already satisfied: prompt-toolkit!=3.0.37,<3.1.0,>=3.0.30 in c:\\users\\coral\\desktop\\phylo\\venv\\lib\\site-packages (from ipython>=6.1.0->ipywidgets<9,>=7.6.0->ipycanvas->-r requirements.txt (line 2)) (3.0.41)\n",
      "Requirement already satisfied: pygments>=2.4.0 in c:\\users\\coral\\desktop\\phylo\\venv\\lib\\site-packages (from ipython>=6.1.0->ipywidgets<9,>=7.6.0->ipycanvas->-r requirements.txt (line 2)) (2.16.1)\n",
      "Requirement already satisfied: stack-data in c:\\users\\coral\\desktop\\phylo\\venv\\lib\\site-packages (from ipython>=6.1.0->ipywidgets<9,>=7.6.0->ipycanvas->-r requirements.txt (line 2)) (0.6.3)\n",
      "Requirement already satisfied: colorama in c:\\users\\coral\\desktop\\phylo\\venv\\lib\\site-packages (from ipython>=6.1.0->ipywidgets<9,>=7.6.0->ipycanvas->-r requirements.txt (line 2)) (0.4.6)\n",
      "Requirement already satisfied: parso<0.9.0,>=0.8.3 in c:\\users\\coral\\desktop\\phylo\\venv\\lib\\site-packages (from jedi>=0.16->ipython>=6.1.0->ipywidgets<9,>=7.6.0->ipycanvas->-r requirements.txt (line 2)) (0.8.3)\n",
      "Requirement already satisfied: wcwidth in c:\\users\\coral\\desktop\\phylo\\venv\\lib\\site-packages (from prompt-toolkit!=3.0.37,<3.1.0,>=3.0.30->ipython>=6.1.0->ipywidgets<9,>=7.6.0->ipycanvas->-r requirements.txt (line 2)) (0.2.10)\n",
      "Requirement already satisfied: executing>=1.2.0 in c:\\users\\coral\\desktop\\phylo\\venv\\lib\\site-packages (from stack-data->ipython>=6.1.0->ipywidgets<9,>=7.6.0->ipycanvas->-r requirements.txt (line 2)) (2.0.1)\n",
      "Requirement already satisfied: asttokens>=2.1.0 in c:\\users\\coral\\desktop\\phylo\\venv\\lib\\site-packages (from stack-data->ipython>=6.1.0->ipywidgets<9,>=7.6.0->ipycanvas->-r requirements.txt (line 2)) (2.4.1)\n",
      "Requirement already satisfied: pure-eval in c:\\users\\coral\\desktop\\phylo\\venv\\lib\\site-packages (from stack-data->ipython>=6.1.0->ipywidgets<9,>=7.6.0->ipycanvas->-r requirements.txt (line 2)) (0.2.2)\n",
      "Requirement already satisfied: six>=1.12.0 in c:\\users\\coral\\desktop\\phylo\\venv\\lib\\site-packages (from asttokens>=2.1.0->stack-data->ipython>=6.1.0->ipywidgets<9,>=7.6.0->ipycanvas->-r requirements.txt (line 2)) (1.16.0)\n"
     ]
    },
    {
     "name": "stderr",
     "output_type": "stream",
     "text": [
      "\n",
      "[notice] A new release of pip is available: 23.2.1 -> 24.0\n",
      "[notice] To update, run: python.exe -m pip install --upgrade pip\n"
     ]
    }
   ],
   "source": [
    "!pip install -r requirements.txt"
   ]
  },
  {
   "cell_type": "code",
   "execution_count": 186,
   "id": "b60808f5-8e58-46c7-a055-ac2a8608787c",
   "metadata": {},
   "outputs": [],
   "source": [
    "import AD_Py as AD_Py\n",
    "import importlib\n",
    "importlib.reload(AD_Py)\n",
    "# mytree = AD_Py.AD_Py(treefile = \"Data/69species/test.tre\")\n",
    "mytree = AD_Py.AD_Py(treefile = \"Data/69species/astral.FAA.trim50genes.final.tre\")"
   ]
  },
  {
   "cell_type": "code",
   "execution_count": 187,
   "id": "08d50fd9-5b73-41cf-a9fd-ac29e78625f0",
   "metadata": {},
   "outputs": [],
   "source": [
    "outgroup = [\"Uronema sp\", \"Monomastix opisthostigma\", \"Pyramimonas parkeae\", \"Nephroselmis pyriformis\"]\n",
    "mytree.set_outgroup(outgroup)"
   ]
  },
  {
   "cell_type": "code",
   "execution_count": 188,
   "id": "16419580-c7e1-4fb1-a94b-f12d5728ca73",
   "metadata": {},
   "outputs": [],
   "source": [
    "mytree.add_tree_collection(treefile = \"Data/69species/tc.tre\",namefile=\"Data/69species/names.txt\")"
   ]
  },
  {
   "cell_type": "code",
   "execution_count": 189,
   "id": "f4035521-013e-4b4b-b475-04c2ed430eed",
   "metadata": {},
   "outputs": [
    {
     "data": {
      "application/vnd.plotly.v1+json": {
       "config": {
        "plotlyServerURL": "https://plot.ly"
       },
       "data": [
        {
         "hoverinfo": "text",
         "hovertemplate": "%{text}",
         "legendgroup": "Reference Tree",
         "marker": {
          "color": "#636efa",
          "symbol": "circle"
         },
         "mode": "markers",
         "name": "Reference Tree",
         "orientation": "v",
         "showlegend": true,
         "text": [
          "0 : astral.FAA.trim50genes.final.tre",
          "1 : FAA.604genes.trimExtensively.phylobayes.CAT.final.tre",
          "2 : FAA.604genes.trimExtensively.phylobayes.CATGTR.final.tre",
          "3 : FAA.604genes.trimExtensively.unpartitioned.final.tre",
          "4 : FAA.604genes.trimExtensively.unpartitioned.gamma.final.tre",
          "5 : FAA.trim50genes.unpartitioned.final.tre",
          "6 : FAA.trim50genes33taxa.unpartitioned.final.tre",
          "7 : FAA.trim50genes50sites.clustered.partitioned.final.tre",
          "8 : FAA.trim50genes50sites.partitioned.gamma.final.tre",
          "9 : FAA.trim50genes50sites.unpartitioned.final.tre",
          "10 : FAA.trim50genes50sites25Xbranches.unpartitioned.final.tre",
          "11 : FAA.trim50genesChara.allPos.unpartitioned.final.tre",
          "12 : FAA.untrimmed.unpartitioned.final.tre",
          "13 : FNA.trim50genes50sites.unpartitioned.final.tre",
          "14 : FNA.trim50genes50sites25Xbranches.unpartitioned.final.tre",
          "15 : FNA2AA.604genes.trimExtensively.allPos.unpartitioned.final.tre",
          "16 : FNA2AA.604genes.trimExtensively.allPos.unpartitioned.gamma.final.tre",
          "17 : FNA2AA.604genes.trimExtensively.no3rd.phylobayes.CATGTR.final.tre",
          "18 : FNA2AA.604genes.trimExtensively.no3rd.unpartitioned.final.tre",
          "19 : FNA2AA.604genes.trimExtensively.no3rd.unpartitioned.gamma.final.tre",
          "20 : FNA2AA.trim50genes.allPos.unpartitioned.final.tre",
          "21 : FNA2AA.trim50genes.no3rd.unpartitioned.final.tre",
          "22 : FNA2AA.trim50genes33taxa.allPos.unpartitioned.final.tre",
          "23 : FNA2AA.trim50genes33taxa.no3rd.unpartitioned.final.tre",
          "24 : FNA2AA.trim50genes50sites.allPos.partitioned.final.tre",
          "25 : FNA2AA.trim50genes50sites.allPos.partitioned.gamma.final.tre",
          "26 : FNA2AA.trim50genes50sites.allPos.unpartitioned.final.tre",
          "27 : FNA2AA.trim50genes50sites.no3rd.partitioned.final.tre",
          "28 : FNA2AA.trim50genes50sites.no3rd.partitioned.gamma.final.tre",
          "29 : FNA2AA.trim50genes50sites.no3rd.unpartitioned.final.tre",
          "30 : FNA2AA.trim50genes50sites25Xbranches.allPos.unpartitioned.final.tre",
          "31 : FNA2AA.trim50genes50sites25Xbranches.no3rd.unpartitioned.final.tre",
          "32 : FNA2AA.trim50genesChara.allPos.unpartitioned.final.tre",
          "33 : FNA2AA.trim50genesChara.no3rd.unpartitioned.final.tre",
          "34 : FNA2AA.untrimmed.allPos.unpartitioned.final.tre",
          "35 : FNA2AA.untrimmed.no3rd.unpartitioned.final.tre",
          "36 : astral.FAA.trim50genes25Xbranches.final.tre",
          "37 : astral.FAA.trim50genes33taxa.final.tre",
          "38 : astral.FAA.untrimmed.final.tre",
          "39 : astral.FNA.trim50genes.final.tre",
          "40 : astral.FNA.trim50genes25Xbranches.final.tre",
          "41 : astral.FNA.untrimmed.final.tre",
          "42 : astral.FNA2AA.trim50genes.allPos.final.tre",
          "43 : astral.FNA2AA.trim50genes.no3rd.final.tre",
          "44 : astral.FNA2AA.trim50genes25Xbranches.allPos.final.tre",
          "45 : astral.FNA2AA.trim50genes25Xbranches.no3rd.final.tre",
          "46 : astral.FNA2AA.trim50genes33taxa.allPos.final.tre",
          "47 : astral.FNA2AA.trim50genes33taxa.no3rd.final.tre",
          "48 : astral.FNA2AA.untrimmed.allPos.final.tre",
          "49 : astral.FNA2AA.untrimmed.allPos.gamma.final.tre",
          "50 : astral.FNA2AA.untrimmed.no3rd.final.tre",
          "51 : astral.FNA2AA.untrimmed.no3rd.gamma.final.tre",
          "52 : supertree.FAA.trim50genes.final.tre",
          "53 : supertree.FAA.trim50genes25Xbranches.final.tre",
          "54 : supertree.FAA.trim50genes33taxa.final.tre",
          "55 : supertree.FAA.untrimmed.final.tre",
          "56 : supertree.FNA.trim50genes.final.tre",
          "57 : supertree.FNA.trim50genes25Xbranches.final.tre",
          "58 : supertree.FNA.untrimmed.final.tre",
          "59 : supertree.FNA2AA.trim50genes.allPos.final.tre",
          "60 : supertree.FNA2AA.trim50genes.no3rd.final.tre",
          "61 : supertree.FNA2AA.trim50genes25Xbranches.allPos.final.tre",
          "62 : supertree.FNA2AA.trim50genes25Xbranches.no3rd.final.tre",
          "63 : supertree.FNA2AA.trim50genes33taxa.allPos.final.tre",
          "64 : supertree.FNA2AA.trim50genes33taxa.no3rd.final.tre",
          "65 : supertree.FNA2AA.untrimmed.allPos.final.tre",
          "66 : supertree.FNA2AA.untrimmed.allPos.gamma.final.tre",
          "67 : supertree.FNA2AA.untrimmed.no3rd.final.tre",
          "68 : supertree.FNA2AA.untrimmed.no3rd.gamma.final.tre"
         ],
         "type": "scatter",
         "x": [
          36.47298344152385
         ],
         "xaxis": "x",
         "y": [
          33.95501022178416
         ],
         "yaxis": "y"
        },
        {
         "hoverinfo": "text",
         "hovertemplate": "%{text}",
         "legendgroup": "Tree Collection",
         "marker": {
          "color": "#EF553B",
          "symbol": "circle"
         },
         "mode": "markers",
         "name": "Tree Collection",
         "orientation": "v",
         "showlegend": true,
         "text": [
          "0 : astral.FAA.trim50genes.final.tre",
          "1 : FAA.604genes.trimExtensively.phylobayes.CAT.final.tre",
          "2 : FAA.604genes.trimExtensively.phylobayes.CATGTR.final.tre",
          "3 : FAA.604genes.trimExtensively.unpartitioned.final.tre",
          "4 : FAA.604genes.trimExtensively.unpartitioned.gamma.final.tre",
          "5 : FAA.trim50genes.unpartitioned.final.tre",
          "6 : FAA.trim50genes33taxa.unpartitioned.final.tre",
          "7 : FAA.trim50genes50sites.clustered.partitioned.final.tre",
          "8 : FAA.trim50genes50sites.partitioned.gamma.final.tre",
          "9 : FAA.trim50genes50sites.unpartitioned.final.tre",
          "10 : FAA.trim50genes50sites25Xbranches.unpartitioned.final.tre",
          "11 : FAA.trim50genesChara.allPos.unpartitioned.final.tre",
          "12 : FAA.untrimmed.unpartitioned.final.tre",
          "13 : FNA.trim50genes50sites.unpartitioned.final.tre",
          "14 : FNA.trim50genes50sites25Xbranches.unpartitioned.final.tre",
          "15 : FNA2AA.604genes.trimExtensively.allPos.unpartitioned.final.tre",
          "16 : FNA2AA.604genes.trimExtensively.allPos.unpartitioned.gamma.final.tre",
          "17 : FNA2AA.604genes.trimExtensively.no3rd.phylobayes.CATGTR.final.tre",
          "18 : FNA2AA.604genes.trimExtensively.no3rd.unpartitioned.final.tre",
          "19 : FNA2AA.604genes.trimExtensively.no3rd.unpartitioned.gamma.final.tre",
          "20 : FNA2AA.trim50genes.allPos.unpartitioned.final.tre",
          "21 : FNA2AA.trim50genes.no3rd.unpartitioned.final.tre",
          "22 : FNA2AA.trim50genes33taxa.allPos.unpartitioned.final.tre",
          "23 : FNA2AA.trim50genes33taxa.no3rd.unpartitioned.final.tre",
          "24 : FNA2AA.trim50genes50sites.allPos.partitioned.final.tre",
          "25 : FNA2AA.trim50genes50sites.allPos.partitioned.gamma.final.tre",
          "26 : FNA2AA.trim50genes50sites.allPos.unpartitioned.final.tre",
          "27 : FNA2AA.trim50genes50sites.no3rd.partitioned.final.tre",
          "28 : FNA2AA.trim50genes50sites.no3rd.partitioned.gamma.final.tre",
          "29 : FNA2AA.trim50genes50sites.no3rd.unpartitioned.final.tre",
          "30 : FNA2AA.trim50genes50sites25Xbranches.allPos.unpartitioned.final.tre",
          "31 : FNA2AA.trim50genes50sites25Xbranches.no3rd.unpartitioned.final.tre",
          "32 : FNA2AA.trim50genesChara.allPos.unpartitioned.final.tre",
          "33 : FNA2AA.trim50genesChara.no3rd.unpartitioned.final.tre",
          "34 : FNA2AA.untrimmed.allPos.unpartitioned.final.tre",
          "35 : FNA2AA.untrimmed.no3rd.unpartitioned.final.tre",
          "36 : astral.FAA.trim50genes25Xbranches.final.tre",
          "37 : astral.FAA.trim50genes33taxa.final.tre",
          "38 : astral.FAA.untrimmed.final.tre",
          "39 : astral.FNA.trim50genes.final.tre",
          "40 : astral.FNA.trim50genes25Xbranches.final.tre",
          "41 : astral.FNA.untrimmed.final.tre",
          "42 : astral.FNA2AA.trim50genes.allPos.final.tre",
          "43 : astral.FNA2AA.trim50genes.no3rd.final.tre",
          "44 : astral.FNA2AA.trim50genes25Xbranches.allPos.final.tre",
          "45 : astral.FNA2AA.trim50genes25Xbranches.no3rd.final.tre",
          "46 : astral.FNA2AA.trim50genes33taxa.allPos.final.tre",
          "47 : astral.FNA2AA.trim50genes33taxa.no3rd.final.tre",
          "48 : astral.FNA2AA.untrimmed.allPos.final.tre",
          "49 : astral.FNA2AA.untrimmed.allPos.gamma.final.tre",
          "50 : astral.FNA2AA.untrimmed.no3rd.final.tre",
          "51 : astral.FNA2AA.untrimmed.no3rd.gamma.final.tre",
          "52 : supertree.FAA.trim50genes.final.tre",
          "53 : supertree.FAA.trim50genes25Xbranches.final.tre",
          "54 : supertree.FAA.trim50genes33taxa.final.tre",
          "55 : supertree.FAA.untrimmed.final.tre",
          "56 : supertree.FNA.trim50genes.final.tre",
          "57 : supertree.FNA.trim50genes25Xbranches.final.tre",
          "58 : supertree.FNA.untrimmed.final.tre",
          "59 : supertree.FNA2AA.trim50genes.allPos.final.tre",
          "60 : supertree.FNA2AA.trim50genes.no3rd.final.tre",
          "61 : supertree.FNA2AA.trim50genes25Xbranches.allPos.final.tre",
          "62 : supertree.FNA2AA.trim50genes25Xbranches.no3rd.final.tre",
          "63 : supertree.FNA2AA.trim50genes33taxa.allPos.final.tre",
          "64 : supertree.FNA2AA.trim50genes33taxa.no3rd.final.tre",
          "65 : supertree.FNA2AA.untrimmed.allPos.final.tre",
          "66 : supertree.FNA2AA.untrimmed.allPos.gamma.final.tre",
          "67 : supertree.FNA2AA.untrimmed.no3rd.final.tre",
          "68 : supertree.FNA2AA.untrimmed.no3rd.gamma.final.tre"
         ],
         "type": "scatter",
         "x": [
          21.199859310541793,
          23.937789116935303,
          19.22733267537624,
          21.54546390755906,
          13.663401250282849,
          11.597894272615546,
          15.367570721638266,
          15.436789255340349,
          13.981361849482548,
          19.011624690532187,
          4.421659663214584,
          15.339049679252334,
          13.49473610322997,
          12.441539920417357,
          14.391129451207407,
          20.867145620085847,
          27.856869013076896,
          20.30455955213057,
          20.861617984989284,
          11.835835358495444,
          14.512262779236247,
          19.72252430592219,
          9.841410020409779,
          11.632471156394924,
          11.505946197338911,
          16.689516835387636,
          8.176054612188889,
          16.329762204639167,
          14.08263321695746,
          14.77056046822144,
          15.566273225909558,
          0,
          5.200486318680547,
          13.247050449353194,
          14.510429685203404,
          36.39359266474809,
          38.21849817578759,
          36.55097268365583,
          33.50724287797393,
          44.38312750184153,
          33.39458881774235,
          31.073273645315055,
          41.640054852409634,
          39.67027901257015,
          43.01294305114795,
          40.30187180068547,
          35.66974390439066,
          30.566079077737594,
          32.46277900350225,
          41.65610229438292,
          41.375823905599546,
          35.48845705359926,
          30.062321052358758,
          26.23748185214832,
          32.810605869209674,
          38.454212444153185,
          37.23581891194364,
          38.35368251979598,
          33.727368055472695,
          33.14043201135169,
          36.91197474647376,
          39.3986226515695,
          28.20375456499977,
          27.07899266670094,
          33.6630652177032,
          32.20214539752093,
          34.9747994415853,
          30.00384584989726
         ],
         "xaxis": "x",
         "y": [
          37.04879447392021,
          36.82412795227011,
          28.645658172319013,
          32.69839556728386,
          27.27993549953178,
          40.43992890956585,
          33.362049278367735,
          33.44089258466987,
          30.3700751286708,
          28.453746278015068,
          32.616821825391156,
          31.718415957529515,
          0,
          15.77696113913897,
          19.414092761955143,
          19.559347630570567,
          48.42217744898318,
          28.18486378410295,
          29.01189222223979,
          3.2628016597260974,
          26.731777725116892,
          15.831741176724801,
          34.88692380447684,
          18.61098953711724,
          17.786530237878086,
          16.033527267501647,
          32.01005656000577,
          28.301162749683506,
          29.42476962847423,
          15.227093303982677,
          27.66359289817287,
          3.1536181226117925,
          28.249540014383054,
          3.689655366706642,
          26.651338869806256,
          34.032676610710645,
          39.45146090156012,
          33.874553864869526,
          7.268122911631721,
          10.815476827161154,
          7.216849626664633,
          10.729661432974703,
          23.70453549844494,
          14.066611286623973,
          23.8351822784417,
          4.76501370328652,
          32.87644849167838,
          9.254420763020724,
          13.259160420912128,
          23.793073233251246,
          29.456783471235997,
          28.5156776629586,
          29.702021515039867,
          30.502726700799535,
          26.800610508811893,
          11.710540038097244,
          16.839277968637987,
          11.621813264794271,
          16.331248930383595,
          28.901281075626525,
          15.364659412252333,
          26.936041783270465,
          13.356644740538929,
          36.260023721658904,
          16.27429144644624,
          16.468759856517575,
          31.30675079044198,
          32.61176348738093
         ],
         "yaxis": "y"
        }
       ],
       "layout": {
        "dragmode": false,
        "height": 600,
        "legend": {
         "title": {
          "text": "color"
         },
         "tracegroupgap": 0
        },
        "plot_bgcolor": "#FFF0D5",
        "showlegend": false,
        "template": {
         "data": {
          "bar": [
           {
            "error_x": {
             "color": "#2a3f5f"
            },
            "error_y": {
             "color": "#2a3f5f"
            },
            "marker": {
             "line": {
              "color": "#E5ECF6",
              "width": 0.5
             },
             "pattern": {
              "fillmode": "overlay",
              "size": 10,
              "solidity": 0.2
             }
            },
            "type": "bar"
           }
          ],
          "barpolar": [
           {
            "marker": {
             "line": {
              "color": "#E5ECF6",
              "width": 0.5
             },
             "pattern": {
              "fillmode": "overlay",
              "size": 10,
              "solidity": 0.2
             }
            },
            "type": "barpolar"
           }
          ],
          "carpet": [
           {
            "aaxis": {
             "endlinecolor": "#2a3f5f",
             "gridcolor": "white",
             "linecolor": "white",
             "minorgridcolor": "white",
             "startlinecolor": "#2a3f5f"
            },
            "baxis": {
             "endlinecolor": "#2a3f5f",
             "gridcolor": "white",
             "linecolor": "white",
             "minorgridcolor": "white",
             "startlinecolor": "#2a3f5f"
            },
            "type": "carpet"
           }
          ],
          "choropleth": [
           {
            "colorbar": {
             "outlinewidth": 0,
             "ticks": ""
            },
            "type": "choropleth"
           }
          ],
          "contour": [
           {
            "colorbar": {
             "outlinewidth": 0,
             "ticks": ""
            },
            "colorscale": [
             [
              0,
              "#0d0887"
             ],
             [
              0.1111111111111111,
              "#46039f"
             ],
             [
              0.2222222222222222,
              "#7201a8"
             ],
             [
              0.3333333333333333,
              "#9c179e"
             ],
             [
              0.4444444444444444,
              "#bd3786"
             ],
             [
              0.5555555555555556,
              "#d8576b"
             ],
             [
              0.6666666666666666,
              "#ed7953"
             ],
             [
              0.7777777777777778,
              "#fb9f3a"
             ],
             [
              0.8888888888888888,
              "#fdca26"
             ],
             [
              1,
              "#f0f921"
             ]
            ],
            "type": "contour"
           }
          ],
          "contourcarpet": [
           {
            "colorbar": {
             "outlinewidth": 0,
             "ticks": ""
            },
            "type": "contourcarpet"
           }
          ],
          "heatmap": [
           {
            "colorbar": {
             "outlinewidth": 0,
             "ticks": ""
            },
            "colorscale": [
             [
              0,
              "#0d0887"
             ],
             [
              0.1111111111111111,
              "#46039f"
             ],
             [
              0.2222222222222222,
              "#7201a8"
             ],
             [
              0.3333333333333333,
              "#9c179e"
             ],
             [
              0.4444444444444444,
              "#bd3786"
             ],
             [
              0.5555555555555556,
              "#d8576b"
             ],
             [
              0.6666666666666666,
              "#ed7953"
             ],
             [
              0.7777777777777778,
              "#fb9f3a"
             ],
             [
              0.8888888888888888,
              "#fdca26"
             ],
             [
              1,
              "#f0f921"
             ]
            ],
            "type": "heatmap"
           }
          ],
          "heatmapgl": [
           {
            "colorbar": {
             "outlinewidth": 0,
             "ticks": ""
            },
            "colorscale": [
             [
              0,
              "#0d0887"
             ],
             [
              0.1111111111111111,
              "#46039f"
             ],
             [
              0.2222222222222222,
              "#7201a8"
             ],
             [
              0.3333333333333333,
              "#9c179e"
             ],
             [
              0.4444444444444444,
              "#bd3786"
             ],
             [
              0.5555555555555556,
              "#d8576b"
             ],
             [
              0.6666666666666666,
              "#ed7953"
             ],
             [
              0.7777777777777778,
              "#fb9f3a"
             ],
             [
              0.8888888888888888,
              "#fdca26"
             ],
             [
              1,
              "#f0f921"
             ]
            ],
            "type": "heatmapgl"
           }
          ],
          "histogram": [
           {
            "marker": {
             "pattern": {
              "fillmode": "overlay",
              "size": 10,
              "solidity": 0.2
             }
            },
            "type": "histogram"
           }
          ],
          "histogram2d": [
           {
            "colorbar": {
             "outlinewidth": 0,
             "ticks": ""
            },
            "colorscale": [
             [
              0,
              "#0d0887"
             ],
             [
              0.1111111111111111,
              "#46039f"
             ],
             [
              0.2222222222222222,
              "#7201a8"
             ],
             [
              0.3333333333333333,
              "#9c179e"
             ],
             [
              0.4444444444444444,
              "#bd3786"
             ],
             [
              0.5555555555555556,
              "#d8576b"
             ],
             [
              0.6666666666666666,
              "#ed7953"
             ],
             [
              0.7777777777777778,
              "#fb9f3a"
             ],
             [
              0.8888888888888888,
              "#fdca26"
             ],
             [
              1,
              "#f0f921"
             ]
            ],
            "type": "histogram2d"
           }
          ],
          "histogram2dcontour": [
           {
            "colorbar": {
             "outlinewidth": 0,
             "ticks": ""
            },
            "colorscale": [
             [
              0,
              "#0d0887"
             ],
             [
              0.1111111111111111,
              "#46039f"
             ],
             [
              0.2222222222222222,
              "#7201a8"
             ],
             [
              0.3333333333333333,
              "#9c179e"
             ],
             [
              0.4444444444444444,
              "#bd3786"
             ],
             [
              0.5555555555555556,
              "#d8576b"
             ],
             [
              0.6666666666666666,
              "#ed7953"
             ],
             [
              0.7777777777777778,
              "#fb9f3a"
             ],
             [
              0.8888888888888888,
              "#fdca26"
             ],
             [
              1,
              "#f0f921"
             ]
            ],
            "type": "histogram2dcontour"
           }
          ],
          "mesh3d": [
           {
            "colorbar": {
             "outlinewidth": 0,
             "ticks": ""
            },
            "type": "mesh3d"
           }
          ],
          "parcoords": [
           {
            "line": {
             "colorbar": {
              "outlinewidth": 0,
              "ticks": ""
             }
            },
            "type": "parcoords"
           }
          ],
          "pie": [
           {
            "automargin": true,
            "type": "pie"
           }
          ],
          "scatter": [
           {
            "fillpattern": {
             "fillmode": "overlay",
             "size": 10,
             "solidity": 0.2
            },
            "type": "scatter"
           }
          ],
          "scatter3d": [
           {
            "line": {
             "colorbar": {
              "outlinewidth": 0,
              "ticks": ""
             }
            },
            "marker": {
             "colorbar": {
              "outlinewidth": 0,
              "ticks": ""
             }
            },
            "type": "scatter3d"
           }
          ],
          "scattercarpet": [
           {
            "marker": {
             "colorbar": {
              "outlinewidth": 0,
              "ticks": ""
             }
            },
            "type": "scattercarpet"
           }
          ],
          "scattergeo": [
           {
            "marker": {
             "colorbar": {
              "outlinewidth": 0,
              "ticks": ""
             }
            },
            "type": "scattergeo"
           }
          ],
          "scattergl": [
           {
            "marker": {
             "colorbar": {
              "outlinewidth": 0,
              "ticks": ""
             }
            },
            "type": "scattergl"
           }
          ],
          "scattermapbox": [
           {
            "marker": {
             "colorbar": {
              "outlinewidth": 0,
              "ticks": ""
             }
            },
            "type": "scattermapbox"
           }
          ],
          "scatterpolar": [
           {
            "marker": {
             "colorbar": {
              "outlinewidth": 0,
              "ticks": ""
             }
            },
            "type": "scatterpolar"
           }
          ],
          "scatterpolargl": [
           {
            "marker": {
             "colorbar": {
              "outlinewidth": 0,
              "ticks": ""
             }
            },
            "type": "scatterpolargl"
           }
          ],
          "scatterternary": [
           {
            "marker": {
             "colorbar": {
              "outlinewidth": 0,
              "ticks": ""
             }
            },
            "type": "scatterternary"
           }
          ],
          "surface": [
           {
            "colorbar": {
             "outlinewidth": 0,
             "ticks": ""
            },
            "colorscale": [
             [
              0,
              "#0d0887"
             ],
             [
              0.1111111111111111,
              "#46039f"
             ],
             [
              0.2222222222222222,
              "#7201a8"
             ],
             [
              0.3333333333333333,
              "#9c179e"
             ],
             [
              0.4444444444444444,
              "#bd3786"
             ],
             [
              0.5555555555555556,
              "#d8576b"
             ],
             [
              0.6666666666666666,
              "#ed7953"
             ],
             [
              0.7777777777777778,
              "#fb9f3a"
             ],
             [
              0.8888888888888888,
              "#fdca26"
             ],
             [
              1,
              "#f0f921"
             ]
            ],
            "type": "surface"
           }
          ],
          "table": [
           {
            "cells": {
             "fill": {
              "color": "#EBF0F8"
             },
             "line": {
              "color": "white"
             }
            },
            "header": {
             "fill": {
              "color": "#C8D4E3"
             },
             "line": {
              "color": "white"
             }
            },
            "type": "table"
           }
          ]
         },
         "layout": {
          "annotationdefaults": {
           "arrowcolor": "#2a3f5f",
           "arrowhead": 0,
           "arrowwidth": 1
          },
          "autotypenumbers": "strict",
          "coloraxis": {
           "colorbar": {
            "outlinewidth": 0,
            "ticks": ""
           }
          },
          "colorscale": {
           "diverging": [
            [
             0,
             "#8e0152"
            ],
            [
             0.1,
             "#c51b7d"
            ],
            [
             0.2,
             "#de77ae"
            ],
            [
             0.3,
             "#f1b6da"
            ],
            [
             0.4,
             "#fde0ef"
            ],
            [
             0.5,
             "#f7f7f7"
            ],
            [
             0.6,
             "#e6f5d0"
            ],
            [
             0.7,
             "#b8e186"
            ],
            [
             0.8,
             "#7fbc41"
            ],
            [
             0.9,
             "#4d9221"
            ],
            [
             1,
             "#276419"
            ]
           ],
           "sequential": [
            [
             0,
             "#0d0887"
            ],
            [
             0.1111111111111111,
             "#46039f"
            ],
            [
             0.2222222222222222,
             "#7201a8"
            ],
            [
             0.3333333333333333,
             "#9c179e"
            ],
            [
             0.4444444444444444,
             "#bd3786"
            ],
            [
             0.5555555555555556,
             "#d8576b"
            ],
            [
             0.6666666666666666,
             "#ed7953"
            ],
            [
             0.7777777777777778,
             "#fb9f3a"
            ],
            [
             0.8888888888888888,
             "#fdca26"
            ],
            [
             1,
             "#f0f921"
            ]
           ],
           "sequentialminus": [
            [
             0,
             "#0d0887"
            ],
            [
             0.1111111111111111,
             "#46039f"
            ],
            [
             0.2222222222222222,
             "#7201a8"
            ],
            [
             0.3333333333333333,
             "#9c179e"
            ],
            [
             0.4444444444444444,
             "#bd3786"
            ],
            [
             0.5555555555555556,
             "#d8576b"
            ],
            [
             0.6666666666666666,
             "#ed7953"
            ],
            [
             0.7777777777777778,
             "#fb9f3a"
            ],
            [
             0.8888888888888888,
             "#fdca26"
            ],
            [
             1,
             "#f0f921"
            ]
           ]
          },
          "colorway": [
           "#636efa",
           "#EF553B",
           "#00cc96",
           "#ab63fa",
           "#FFA15A",
           "#19d3f3",
           "#FF6692",
           "#B6E880",
           "#FF97FF",
           "#FECB52"
          ],
          "font": {
           "color": "#2a3f5f"
          },
          "geo": {
           "bgcolor": "white",
           "lakecolor": "white",
           "landcolor": "#E5ECF6",
           "showlakes": true,
           "showland": true,
           "subunitcolor": "white"
          },
          "hoverlabel": {
           "align": "left"
          },
          "hovermode": "closest",
          "mapbox": {
           "style": "light"
          },
          "paper_bgcolor": "white",
          "plot_bgcolor": "#E5ECF6",
          "polar": {
           "angularaxis": {
            "gridcolor": "white",
            "linecolor": "white",
            "ticks": ""
           },
           "bgcolor": "#E5ECF6",
           "radialaxis": {
            "gridcolor": "white",
            "linecolor": "white",
            "ticks": ""
           }
          },
          "scene": {
           "xaxis": {
            "backgroundcolor": "#E5ECF6",
            "gridcolor": "white",
            "gridwidth": 2,
            "linecolor": "white",
            "showbackground": true,
            "ticks": "",
            "zerolinecolor": "white"
           },
           "yaxis": {
            "backgroundcolor": "#E5ECF6",
            "gridcolor": "white",
            "gridwidth": 2,
            "linecolor": "white",
            "showbackground": true,
            "ticks": "",
            "zerolinecolor": "white"
           },
           "zaxis": {
            "backgroundcolor": "#E5ECF6",
            "gridcolor": "white",
            "gridwidth": 2,
            "linecolor": "white",
            "showbackground": true,
            "ticks": "",
            "zerolinecolor": "white"
           }
          },
          "shapedefaults": {
           "line": {
            "color": "#2a3f5f"
           }
          },
          "ternary": {
           "aaxis": {
            "gridcolor": "white",
            "linecolor": "white",
            "ticks": ""
           },
           "baxis": {
            "gridcolor": "white",
            "linecolor": "white",
            "ticks": ""
           },
           "bgcolor": "#E5ECF6",
           "caxis": {
            "gridcolor": "white",
            "linecolor": "white",
            "ticks": ""
           }
          },
          "title": {
           "x": 0.05
          },
          "xaxis": {
           "automargin": true,
           "gridcolor": "white",
           "linecolor": "white",
           "ticks": "",
           "title": {
            "standoff": 15
           },
           "zerolinecolor": "white",
           "zerolinewidth": 2
          },
          "yaxis": {
           "automargin": true,
           "gridcolor": "white",
           "linecolor": "white",
           "ticks": "",
           "title": {
            "standoff": 15
           },
           "zerolinecolor": "white",
           "zerolinewidth": 2
          }
         }
        },
        "title": {
         "text": "Tree Distance"
        },
        "width": 600,
        "xaxis": {
         "anchor": "y",
         "autorange": true,
         "color": "#000000",
         "domain": [
          0,
          1
         ],
         "range": [
          -2.9417388241246316,
          47.32486632596616
         ],
         "title": {
          "text": "x"
         },
         "type": "linear"
        },
        "yaxis": {
         "anchor": "x",
         "autorange": true,
         "color": "#000000",
         "domain": [
          0,
          1
         ],
         "range": [
          -3.2346798700737747,
          51.656857319056954
         ],
         "title": {
          "text": "y"
         },
         "type": "linear"
        }
       }
      },
      "image/png": "[encoded data removed]",
      "text/html": [
       "<div>                            <div id=\"03539dc5-ab0f-40cb-ac42-bc8c6f974348\" class=\"plotly-graph-div\" style=\"height:600px; width:600px;\"></div>            <script type=\"text/javascript\">                require([\"plotly\"], function(Plotly) {                    window.PLOTLYENV=window.PLOTLYENV || {};                                    if (document.getElementById(\"03539dc5-ab0f-40cb-ac42-bc8c6f974348\")) {                    Plotly.newPlot(                        \"03539dc5-ab0f-40cb-ac42-bc8c6f974348\",                        [{\"hovertemplate\":\"%{text}\",\"legendgroup\":\"Reference Tree\",\"marker\":{\"color\":\"#636efa\",\"symbol\":\"circle\"},\"mode\":\"markers\",\"name\":\"Reference Tree\",\"orientation\":\"v\",\"showlegend\":true,\"x\":[36.47298344152385],\"xaxis\":\"x\",\"y\":[33.95501022178416],\"yaxis\":\"y\",\"type\":\"scatter\",\"hoverinfo\":\"text\",\"text\":[\"0 : astral.FAA.trim50genes.final.tre\",\"1 : FAA.604genes.trimExtensively.phylobayes.CAT.final.tre\",\"2 : FAA.604genes.trimExtensively.phylobayes.CATGTR.final.tre\",\"3 : FAA.604genes.trimExtensively.unpartitioned.final.tre\",\"4 : FAA.604genes.trimExtensively.unpartitioned.gamma.final.tre\",\"5 : FAA.trim50genes.unpartitioned.final.tre\",\"6 : FAA.trim50genes33taxa.unpartitioned.final.tre\",\"7 : FAA.trim50genes50sites.clustered.partitioned.final.tre\",\"8 : FAA.trim50genes50sites.partitioned.gamma.final.tre\",\"9 : FAA.trim50genes50sites.unpartitioned.final.tre\",\"10 : FAA.trim50genes50sites25Xbranches.unpartitioned.final.tre\",\"11 : FAA.trim50genesChara.allPos.unpartitioned.final.tre\",\"12 : FAA.untrimmed.unpartitioned.final.tre\",\"13 : FNA.trim50genes50sites.unpartitioned.final.tre\",\"14 : FNA.trim50genes50sites25Xbranches.unpartitioned.final.tre\",\"15 : FNA2AA.604genes.trimExtensively.allPos.unpartitioned.final.tre\",\"16 : FNA2AA.604genes.trimExtensively.allPos.unpartitioned.gamma.final.tre\",\"17 : FNA2AA.604genes.trimExtensively.no3rd.phylobayes.CATGTR.final.tre\",\"18 : FNA2AA.604genes.trimExtensively.no3rd.unpartitioned.final.tre\",\"19 : FNA2AA.604genes.trimExtensively.no3rd.unpartitioned.gamma.final.tre\",\"20 : FNA2AA.trim50genes.allPos.unpartitioned.final.tre\",\"21 : FNA2AA.trim50genes.no3rd.unpartitioned.final.tre\",\"22 : FNA2AA.trim50genes33taxa.allPos.unpartitioned.final.tre\",\"23 : FNA2AA.trim50genes33taxa.no3rd.unpartitioned.final.tre\",\"24 : FNA2AA.trim50genes50sites.allPos.partitioned.final.tre\",\"25 : FNA2AA.trim50genes50sites.allPos.partitioned.gamma.final.tre\",\"26 : FNA2AA.trim50genes50sites.allPos.unpartitioned.final.tre\",\"27 : FNA2AA.trim50genes50sites.no3rd.partitioned.final.tre\",\"28 : FNA2AA.trim50genes50sites.no3rd.partitioned.gamma.final.tre\",\"29 : FNA2AA.trim50genes50sites.no3rd.unpartitioned.final.tre\",\"30 : FNA2AA.trim50genes50sites25Xbranches.allPos.unpartitioned.final.tre\",\"31 : FNA2AA.trim50genes50sites25Xbranches.no3rd.unpartitioned.final.tre\",\"32 : FNA2AA.trim50genesChara.allPos.unpartitioned.final.tre\",\"33 : FNA2AA.trim50genesChara.no3rd.unpartitioned.final.tre\",\"34 : FNA2AA.untrimmed.allPos.unpartitioned.final.tre\",\"35 : FNA2AA.untrimmed.no3rd.unpartitioned.final.tre\",\"36 : astral.FAA.trim50genes25Xbranches.final.tre\",\"37 : astral.FAA.trim50genes33taxa.final.tre\",\"38 : astral.FAA.untrimmed.final.tre\",\"39 : astral.FNA.trim50genes.final.tre\",\"40 : astral.FNA.trim50genes25Xbranches.final.tre\",\"41 : astral.FNA.untrimmed.final.tre\",\"42 : astral.FNA2AA.trim50genes.allPos.final.tre\",\"43 : astral.FNA2AA.trim50genes.no3rd.final.tre\",\"44 : astral.FNA2AA.trim50genes25Xbranches.allPos.final.tre\",\"45 : astral.FNA2AA.trim50genes25Xbranches.no3rd.final.tre\",\"46 : astral.FNA2AA.trim50genes33taxa.allPos.final.tre\",\"47 : astral.FNA2AA.trim50genes33taxa.no3rd.final.tre\",\"48 : astral.FNA2AA.untrimmed.allPos.final.tre\",\"49 : astral.FNA2AA.untrimmed.allPos.gamma.final.tre\",\"50 : astral.FNA2AA.untrimmed.no3rd.final.tre\",\"51 : astral.FNA2AA.untrimmed.no3rd.gamma.final.tre\",\"52 : supertree.FAA.trim50genes.final.tre\",\"53 : supertree.FAA.trim50genes25Xbranches.final.tre\",\"54 : supertree.FAA.trim50genes33taxa.final.tre\",\"55 : supertree.FAA.untrimmed.final.tre\",\"56 : supertree.FNA.trim50genes.final.tre\",\"57 : supertree.FNA.trim50genes25Xbranches.final.tre\",\"58 : supertree.FNA.untrimmed.final.tre\",\"59 : supertree.FNA2AA.trim50genes.allPos.final.tre\",\"60 : supertree.FNA2AA.trim50genes.no3rd.final.tre\",\"61 : supertree.FNA2AA.trim50genes25Xbranches.allPos.final.tre\",\"62 : supertree.FNA2AA.trim50genes25Xbranches.no3rd.final.tre\",\"63 : supertree.FNA2AA.trim50genes33taxa.allPos.final.tre\",\"64 : supertree.FNA2AA.trim50genes33taxa.no3rd.final.tre\",\"65 : supertree.FNA2AA.untrimmed.allPos.final.tre\",\"66 : supertree.FNA2AA.untrimmed.allPos.gamma.final.tre\",\"67 : supertree.FNA2AA.untrimmed.no3rd.final.tre\",\"68 : supertree.FNA2AA.untrimmed.no3rd.gamma.final.tre\"]},{\"hovertemplate\":\"%{text}\",\"legendgroup\":\"Tree Collection\",\"marker\":{\"color\":\"#EF553B\",\"symbol\":\"circle\"},\"mode\":\"markers\",\"name\":\"Tree Collection\",\"orientation\":\"v\",\"showlegend\":true,\"x\":[21.199859310541793,23.937789116935303,19.22733267537624,21.54546390755906,13.663401250282849,11.597894272615546,15.367570721638266,15.436789255340349,13.981361849482548,19.011624690532187,4.421659663214584,15.339049679252334,13.49473610322997,12.441539920417357,14.391129451207407,20.867145620085847,27.856869013076896,20.30455955213057,20.861617984989284,11.835835358495444,14.512262779236247,19.72252430592219,9.841410020409779,11.632471156394924,11.505946197338911,16.689516835387636,8.176054612188889,16.329762204639167,14.08263321695746,14.77056046822144,15.566273225909558,0.0,5.200486318680547,13.247050449353194,14.510429685203404,36.39359266474809,38.21849817578759,36.55097268365583,33.50724287797393,44.38312750184153,33.39458881774235,31.073273645315055,41.640054852409634,39.67027901257015,43.01294305114795,40.30187180068547,35.66974390439066,30.566079077737594,32.46277900350225,41.65610229438292,41.375823905599546,35.48845705359926,30.062321052358758,26.23748185214832,32.810605869209674,38.454212444153185,37.23581891194364,38.35368251979598,33.727368055472695,33.14043201135169,36.91197474647376,39.3986226515695,28.20375456499977,27.07899266670094,33.6630652177032,32.20214539752093,34.9747994415853,30.00384584989726],\"xaxis\":\"x\",\"y\":[37.04879447392021,36.82412795227011,28.645658172319013,32.69839556728386,27.27993549953178,40.43992890956585,33.362049278367735,33.44089258466987,30.3700751286708,28.453746278015068,32.616821825391156,31.718415957529515,0.0,15.77696113913897,19.414092761955143,19.559347630570567,48.42217744898318,28.18486378410295,29.01189222223979,3.2628016597260974,26.731777725116892,15.831741176724801,34.88692380447684,18.61098953711724,17.786530237878086,16.033527267501647,32.01005656000577,28.301162749683506,29.42476962847423,15.227093303982677,27.66359289817287,3.1536181226117925,28.249540014383054,3.689655366706642,26.651338869806256,34.032676610710645,39.45146090156012,33.874553864869526,7.268122911631721,10.815476827161154,7.216849626664633,10.729661432974703,23.70453549844494,14.066611286623973,23.8351822784417,4.76501370328652,32.87644849167838,9.254420763020724,13.259160420912128,23.793073233251246,29.456783471235997,28.5156776629586,29.702021515039867,30.502726700799535,26.800610508811893,11.710540038097244,16.839277968637987,11.621813264794271,16.331248930383595,28.901281075626525,15.364659412252333,26.936041783270465,13.356644740538929,36.260023721658904,16.27429144644624,16.468759856517575,31.30675079044198,32.61176348738093],\"yaxis\":\"y\",\"type\":\"scatter\",\"hoverinfo\":\"text\",\"text\":[\"0 : astral.FAA.trim50genes.final.tre\",\"1 : FAA.604genes.trimExtensively.phylobayes.CAT.final.tre\",\"2 : FAA.604genes.trimExtensively.phylobayes.CATGTR.final.tre\",\"3 : FAA.604genes.trimExtensively.unpartitioned.final.tre\",\"4 : FAA.604genes.trimExtensively.unpartitioned.gamma.final.tre\",\"5 : FAA.trim50genes.unpartitioned.final.tre\",\"6 : FAA.trim50genes33taxa.unpartitioned.final.tre\",\"7 : FAA.trim50genes50sites.clustered.partitioned.final.tre\",\"8 : FAA.trim50genes50sites.partitioned.gamma.final.tre\",\"9 : FAA.trim50genes50sites.unpartitioned.final.tre\",\"10 : FAA.trim50genes50sites25Xbranches.unpartitioned.final.tre\",\"11 : FAA.trim50genesChara.allPos.unpartitioned.final.tre\",\"12 : FAA.untrimmed.unpartitioned.final.tre\",\"13 : FNA.trim50genes50sites.unpartitioned.final.tre\",\"14 : FNA.trim50genes50sites25Xbranches.unpartitioned.final.tre\",\"15 : FNA2AA.604genes.trimExtensively.allPos.unpartitioned.final.tre\",\"16 : FNA2AA.604genes.trimExtensively.allPos.unpartitioned.gamma.final.tre\",\"17 : FNA2AA.604genes.trimExtensively.no3rd.phylobayes.CATGTR.final.tre\",\"18 : FNA2AA.604genes.trimExtensively.no3rd.unpartitioned.final.tre\",\"19 : FNA2AA.604genes.trimExtensively.no3rd.unpartitioned.gamma.final.tre\",\"20 : FNA2AA.trim50genes.allPos.unpartitioned.final.tre\",\"21 : FNA2AA.trim50genes.no3rd.unpartitioned.final.tre\",\"22 : FNA2AA.trim50genes33taxa.allPos.unpartitioned.final.tre\",\"23 : FNA2AA.trim50genes33taxa.no3rd.unpartitioned.final.tre\",\"24 : FNA2AA.trim50genes50sites.allPos.partitioned.final.tre\",\"25 : FNA2AA.trim50genes50sites.allPos.partitioned.gamma.final.tre\",\"26 : FNA2AA.trim50genes50sites.allPos.unpartitioned.final.tre\",\"27 : FNA2AA.trim50genes50sites.no3rd.partitioned.final.tre\",\"28 : FNA2AA.trim50genes50sites.no3rd.partitioned.gamma.final.tre\",\"29 : FNA2AA.trim50genes50sites.no3rd.unpartitioned.final.tre\",\"30 : FNA2AA.trim50genes50sites25Xbranches.allPos.unpartitioned.final.tre\",\"31 : FNA2AA.trim50genes50sites25Xbranches.no3rd.unpartitioned.final.tre\",\"32 : FNA2AA.trim50genesChara.allPos.unpartitioned.final.tre\",\"33 : FNA2AA.trim50genesChara.no3rd.unpartitioned.final.tre\",\"34 : FNA2AA.untrimmed.allPos.unpartitioned.final.tre\",\"35 : FNA2AA.untrimmed.no3rd.unpartitioned.final.tre\",\"36 : astral.FAA.trim50genes25Xbranches.final.tre\",\"37 : astral.FAA.trim50genes33taxa.final.tre\",\"38 : astral.FAA.untrimmed.final.tre\",\"39 : astral.FNA.trim50genes.final.tre\",\"40 : astral.FNA.trim50genes25Xbranches.final.tre\",\"41 : astral.FNA.untrimmed.final.tre\",\"42 : astral.FNA2AA.trim50genes.allPos.final.tre\",\"43 : astral.FNA2AA.trim50genes.no3rd.final.tre\",\"44 : astral.FNA2AA.trim50genes25Xbranches.allPos.final.tre\",\"45 : astral.FNA2AA.trim50genes25Xbranches.no3rd.final.tre\",\"46 : astral.FNA2AA.trim50genes33taxa.allPos.final.tre\",\"47 : astral.FNA2AA.trim50genes33taxa.no3rd.final.tre\",\"48 : astral.FNA2AA.untrimmed.allPos.final.tre\",\"49 : astral.FNA2AA.untrimmed.allPos.gamma.final.tre\",\"50 : astral.FNA2AA.untrimmed.no3rd.final.tre\",\"51 : astral.FNA2AA.untrimmed.no3rd.gamma.final.tre\",\"52 : supertree.FAA.trim50genes.final.tre\",\"53 : supertree.FAA.trim50genes25Xbranches.final.tre\",\"54 : supertree.FAA.trim50genes33taxa.final.tre\",\"55 : supertree.FAA.untrimmed.final.tre\",\"56 : supertree.FNA.trim50genes.final.tre\",\"57 : supertree.FNA.trim50genes25Xbranches.final.tre\",\"58 : supertree.FNA.untrimmed.final.tre\",\"59 : supertree.FNA2AA.trim50genes.allPos.final.tre\",\"60 : supertree.FNA2AA.trim50genes.no3rd.final.tre\",\"61 : supertree.FNA2AA.trim50genes25Xbranches.allPos.final.tre\",\"62 : supertree.FNA2AA.trim50genes25Xbranches.no3rd.final.tre\",\"63 : supertree.FNA2AA.trim50genes33taxa.allPos.final.tre\",\"64 : supertree.FNA2AA.trim50genes33taxa.no3rd.final.tre\",\"65 : supertree.FNA2AA.untrimmed.allPos.final.tre\",\"66 : supertree.FNA2AA.untrimmed.allPos.gamma.final.tre\",\"67 : supertree.FNA2AA.untrimmed.no3rd.final.tre\",\"68 : supertree.FNA2AA.untrimmed.no3rd.gamma.final.tre\"]}],                        {\"template\":{\"data\":{\"histogram2dcontour\":[{\"type\":\"histogram2dcontour\",\"colorbar\":{\"outlinewidth\":0,\"ticks\":\"\"},\"colorscale\":[[0.0,\"#0d0887\"],[0.1111111111111111,\"#46039f\"],[0.2222222222222222,\"#7201a8\"],[0.3333333333333333,\"#9c179e\"],[0.4444444444444444,\"#bd3786\"],[0.5555555555555556,\"#d8576b\"],[0.6666666666666666,\"#ed7953\"],[0.7777777777777778,\"#fb9f3a\"],[0.8888888888888888,\"#fdca26\"],[1.0,\"#f0f921\"]]}],\"choropleth\":[{\"type\":\"choropleth\",\"colorbar\":{\"outlinewidth\":0,\"ticks\":\"\"}}],\"histogram2d\":[{\"type\":\"histogram2d\",\"colorbar\":{\"outlinewidth\":0,\"ticks\":\"\"},\"colorscale\":[[0.0,\"#0d0887\"],[0.1111111111111111,\"#46039f\"],[0.2222222222222222,\"#7201a8\"],[0.3333333333333333,\"#9c179e\"],[0.4444444444444444,\"#bd3786\"],[0.5555555555555556,\"#d8576b\"],[0.6666666666666666,\"#ed7953\"],[0.7777777777777778,\"#fb9f3a\"],[0.8888888888888888,\"#fdca26\"],[1.0,\"#f0f921\"]]}],\"heatmap\":[{\"type\":\"heatmap\",\"colorbar\":{\"outlinewidth\":0,\"ticks\":\"\"},\"colorscale\":[[0.0,\"#0d0887\"],[0.1111111111111111,\"#46039f\"],[0.2222222222222222,\"#7201a8\"],[0.3333333333333333,\"#9c179e\"],[0.4444444444444444,\"#bd3786\"],[0.5555555555555556,\"#d8576b\"],[0.6666666666666666,\"#ed7953\"],[0.7777777777777778,\"#fb9f3a\"],[0.8888888888888888,\"#fdca26\"],[1.0,\"#f0f921\"]]}],\"heatmapgl\":[{\"type\":\"heatmapgl\",\"colorbar\":{\"outlinewidth\":0,\"ticks\":\"\"},\"colorscale\":[[0.0,\"#0d0887\"],[0.1111111111111111,\"#46039f\"],[0.2222222222222222,\"#7201a8\"],[0.3333333333333333,\"#9c179e\"],[0.4444444444444444,\"#bd3786\"],[0.5555555555555556,\"#d8576b\"],[0.6666666666666666,\"#ed7953\"],[0.7777777777777778,\"#fb9f3a\"],[0.8888888888888888,\"#fdca26\"],[1.0,\"#f0f921\"]]}],\"contourcarpet\":[{\"type\":\"contourcarpet\",\"colorbar\":{\"outlinewidth\":0,\"ticks\":\"\"}}],\"contour\":[{\"type\":\"contour\",\"colorbar\":{\"outlinewidth\":0,\"ticks\":\"\"},\"colorscale\":[[0.0,\"#0d0887\"],[0.1111111111111111,\"#46039f\"],[0.2222222222222222,\"#7201a8\"],[0.3333333333333333,\"#9c179e\"],[0.4444444444444444,\"#bd3786\"],[0.5555555555555556,\"#d8576b\"],[0.6666666666666666,\"#ed7953\"],[0.7777777777777778,\"#fb9f3a\"],[0.8888888888888888,\"#fdca26\"],[1.0,\"#f0f921\"]]}],\"surface\":[{\"type\":\"surface\",\"colorbar\":{\"outlinewidth\":0,\"ticks\":\"\"},\"colorscale\":[[0.0,\"#0d0887\"],[0.1111111111111111,\"#46039f\"],[0.2222222222222222,\"#7201a8\"],[0.3333333333333333,\"#9c179e\"],[0.4444444444444444,\"#bd3786\"],[0.5555555555555556,\"#d8576b\"],[0.6666666666666666,\"#ed7953\"],[0.7777777777777778,\"#fb9f3a\"],[0.8888888888888888,\"#fdca26\"],[1.0,\"#f0f921\"]]}],\"mesh3d\":[{\"type\":\"mesh3d\",\"colorbar\":{\"outlinewidth\":0,\"ticks\":\"\"}}],\"scatter\":[{\"fillpattern\":{\"fillmode\":\"overlay\",\"size\":10,\"solidity\":0.2},\"type\":\"scatter\"}],\"parcoords\":[{\"type\":\"parcoords\",\"line\":{\"colorbar\":{\"outlinewidth\":0,\"ticks\":\"\"}}}],\"scatterpolargl\":[{\"type\":\"scatterpolargl\",\"marker\":{\"colorbar\":{\"outlinewidth\":0,\"ticks\":\"\"}}}],\"bar\":[{\"error_x\":{\"color\":\"#2a3f5f\"},\"error_y\":{\"color\":\"#2a3f5f\"},\"marker\":{\"line\":{\"color\":\"#E5ECF6\",\"width\":0.5},\"pattern\":{\"fillmode\":\"overlay\",\"size\":10,\"solidity\":0.2}},\"type\":\"bar\"}],\"scattergeo\":[{\"type\":\"scattergeo\",\"marker\":{\"colorbar\":{\"outlinewidth\":0,\"ticks\":\"\"}}}],\"scatterpolar\":[{\"type\":\"scatterpolar\",\"marker\":{\"colorbar\":{\"outlinewidth\":0,\"ticks\":\"\"}}}],\"histogram\":[{\"marker\":{\"pattern\":{\"fillmode\":\"overlay\",\"size\":10,\"solidity\":0.2}},\"type\":\"histogram\"}],\"scattergl\":[{\"type\":\"scattergl\",\"marker\":{\"colorbar\":{\"outlinewidth\":0,\"ticks\":\"\"}}}],\"scatter3d\":[{\"type\":\"scatter3d\",\"line\":{\"colorbar\":{\"outlinewidth\":0,\"ticks\":\"\"}},\"marker\":{\"colorbar\":{\"outlinewidth\":0,\"ticks\":\"\"}}}],\"scattermapbox\":[{\"type\":\"scattermapbox\",\"marker\":{\"colorbar\":{\"outlinewidth\":0,\"ticks\":\"\"}}}],\"scatterternary\":[{\"type\":\"scatterternary\",\"marker\":{\"colorbar\":{\"outlinewidth\":0,\"ticks\":\"\"}}}],\"scattercarpet\":[{\"type\":\"scattercarpet\",\"marker\":{\"colorbar\":{\"outlinewidth\":0,\"ticks\":\"\"}}}],\"carpet\":[{\"aaxis\":{\"endlinecolor\":\"#2a3f5f\",\"gridcolor\":\"white\",\"linecolor\":\"white\",\"minorgridcolor\":\"white\",\"startlinecolor\":\"#2a3f5f\"},\"baxis\":{\"endlinecolor\":\"#2a3f5f\",\"gridcolor\":\"white\",\"linecolor\":\"white\",\"minorgridcolor\":\"white\",\"startlinecolor\":\"#2a3f5f\"},\"type\":\"carpet\"}],\"table\":[{\"cells\":{\"fill\":{\"color\":\"#EBF0F8\"},\"line\":{\"color\":\"white\"}},\"header\":{\"fill\":{\"color\":\"#C8D4E3\"},\"line\":{\"color\":\"white\"}},\"type\":\"table\"}],\"barpolar\":[{\"marker\":{\"line\":{\"color\":\"#E5ECF6\",\"width\":0.5},\"pattern\":{\"fillmode\":\"overlay\",\"size\":10,\"solidity\":0.2}},\"type\":\"barpolar\"}],\"pie\":[{\"automargin\":true,\"type\":\"pie\"}]},\"layout\":{\"autotypenumbers\":\"strict\",\"colorway\":[\"#636efa\",\"#EF553B\",\"#00cc96\",\"#ab63fa\",\"#FFA15A\",\"#19d3f3\",\"#FF6692\",\"#B6E880\",\"#FF97FF\",\"#FECB52\"],\"font\":{\"color\":\"#2a3f5f\"},\"hovermode\":\"closest\",\"hoverlabel\":{\"align\":\"left\"},\"paper_bgcolor\":\"white\",\"plot_bgcolor\":\"#E5ECF6\",\"polar\":{\"bgcolor\":\"#E5ECF6\",\"angularaxis\":{\"gridcolor\":\"white\",\"linecolor\":\"white\",\"ticks\":\"\"},\"radialaxis\":{\"gridcolor\":\"white\",\"linecolor\":\"white\",\"ticks\":\"\"}},\"ternary\":{\"bgcolor\":\"#E5ECF6\",\"aaxis\":{\"gridcolor\":\"white\",\"linecolor\":\"white\",\"ticks\":\"\"},\"baxis\":{\"gridcolor\":\"white\",\"linecolor\":\"white\",\"ticks\":\"\"},\"caxis\":{\"gridcolor\":\"white\",\"linecolor\":\"white\",\"ticks\":\"\"}},\"coloraxis\":{\"colorbar\":{\"outlinewidth\":0,\"ticks\":\"\"}},\"colorscale\":{\"sequential\":[[0.0,\"#0d0887\"],[0.1111111111111111,\"#46039f\"],[0.2222222222222222,\"#7201a8\"],[0.3333333333333333,\"#9c179e\"],[0.4444444444444444,\"#bd3786\"],[0.5555555555555556,\"#d8576b\"],[0.6666666666666666,\"#ed7953\"],[0.7777777777777778,\"#fb9f3a\"],[0.8888888888888888,\"#fdca26\"],[1.0,\"#f0f921\"]],\"sequentialminus\":[[0.0,\"#0d0887\"],[0.1111111111111111,\"#46039f\"],[0.2222222222222222,\"#7201a8\"],[0.3333333333333333,\"#9c179e\"],[0.4444444444444444,\"#bd3786\"],[0.5555555555555556,\"#d8576b\"],[0.6666666666666666,\"#ed7953\"],[0.7777777777777778,\"#fb9f3a\"],[0.8888888888888888,\"#fdca26\"],[1.0,\"#f0f921\"]],\"diverging\":[[0,\"#8e0152\"],[0.1,\"#c51b7d\"],[0.2,\"#de77ae\"],[0.3,\"#f1b6da\"],[0.4,\"#fde0ef\"],[0.5,\"#f7f7f7\"],[0.6,\"#e6f5d0\"],[0.7,\"#b8e186\"],[0.8,\"#7fbc41\"],[0.9,\"#4d9221\"],[1,\"#276419\"]]},\"xaxis\":{\"gridcolor\":\"white\",\"linecolor\":\"white\",\"ticks\":\"\",\"title\":{\"standoff\":15},\"zerolinecolor\":\"white\",\"automargin\":true,\"zerolinewidth\":2},\"yaxis\":{\"gridcolor\":\"white\",\"linecolor\":\"white\",\"ticks\":\"\",\"title\":{\"standoff\":15},\"zerolinecolor\":\"white\",\"automargin\":true,\"zerolinewidth\":2},\"scene\":{\"xaxis\":{\"backgroundcolor\":\"#E5ECF6\",\"gridcolor\":\"white\",\"linecolor\":\"white\",\"showbackground\":true,\"ticks\":\"\",\"zerolinecolor\":\"white\",\"gridwidth\":2},\"yaxis\":{\"backgroundcolor\":\"#E5ECF6\",\"gridcolor\":\"white\",\"linecolor\":\"white\",\"showbackground\":true,\"ticks\":\"\",\"zerolinecolor\":\"white\",\"gridwidth\":2},\"zaxis\":{\"backgroundcolor\":\"#E5ECF6\",\"gridcolor\":\"white\",\"linecolor\":\"white\",\"showbackground\":true,\"ticks\":\"\",\"zerolinecolor\":\"white\",\"gridwidth\":2}},\"shapedefaults\":{\"line\":{\"color\":\"#2a3f5f\"}},\"annotationdefaults\":{\"arrowcolor\":\"#2a3f5f\",\"arrowhead\":0,\"arrowwidth\":1},\"geo\":{\"bgcolor\":\"white\",\"landcolor\":\"#E5ECF6\",\"subunitcolor\":\"white\",\"showland\":true,\"showlakes\":true,\"lakecolor\":\"white\"},\"title\":{\"x\":0.05},\"mapbox\":{\"style\":\"light\"}}},\"xaxis\":{\"anchor\":\"y\",\"domain\":[0.0,1.0],\"title\":{\"text\":\"x\"},\"color\":\"#000000\"},\"yaxis\":{\"anchor\":\"x\",\"domain\":[0.0,1.0],\"title\":{\"text\":\"y\"},\"color\":\"#000000\"},\"legend\":{\"title\":{\"text\":\"color\"},\"tracegroupgap\":0},\"title\":{\"text\":\"Tree Distance\"},\"dragmode\":false,\"showlegend\":false,\"width\":600,\"height\":600,\"plot_bgcolor\":\"#FFF0D5\"},                        {\"responsive\": true}                    ).then(function(){\n",
       "                            \n",
       "var gd = document.getElementById('03539dc5-ab0f-40cb-ac42-bc8c6f974348');\n",
       "var x = new MutationObserver(function (mutations, observer) {{\n",
       "        var display = window.getComputedStyle(gd).display;\n",
       "        if (!display || display === 'none') {{\n",
       "            console.log([gd, 'removed!']);\n",
       "            Plotly.purge(gd);\n",
       "            observer.disconnect();\n",
       "        }}\n",
       "}});\n",
       "\n",
       "// Listen for the removal of the full notebook cells\n",
       "var notebookContainer = gd.closest('#notebook-container');\n",
       "if (notebookContainer) {{\n",
       "    x.observe(notebookContainer, {childList: true});\n",
       "}}\n",
       "\n",
       "// Listen for the clearing of the current output cell\n",
       "var outputEl = gd.closest('.output');\n",
       "if (outputEl) {{\n",
       "    x.observe(outputEl, {childList: true});\n",
       "}}\n",
       "\n",
       "                        })                };                });            </script>        </div>"
      ]
     },
     "metadata": {},
     "output_type": "display_data"
    }
   ],
   "source": [
    "mytree.tree_distance()"
   ]
  },
  {
   "cell_type": "code",
   "execution_count": null,
   "id": "1b1f226c-1ae6-433e-9272-65da16326aeb",
   "metadata": {},
   "outputs": [],
   "source": [
    "# Testing\n",
    "print(mytree.x_coor[0])\n",
    "print(mytree.y_coor[0])\n",
    "print(mytree.x_coor[36])\n",
    "print(mytree.y_coor[36])"
   ]
  },
  {
   "cell_type": "code",
   "execution_count": 130,
   "id": "6c798ff9-74c3-433b-8d97-13970de6d6d6",
   "metadata": {
    "scrolled": true
   },
   "outputs": [
    {
     "data": {
      "application/vnd.jupyter.widget-view+json": {
       "model_id": "6383e51138774e57897e3fe8ebbbaeb4",
       "version_major": 2,
       "version_minor": 0
      },
      "text/plain": [
       "rtCanvas(height=2080, width=1100)"
      ]
     },
     "execution_count": 130,
     "metadata": {},
     "output_type": "execute_result"
    }
   ],
   "source": [
    "import importlib\n",
    "importlib.reload(AD_Py)\n",
    "\n",
    "rt_canvas = mytree.reference_tree()\n",
    "rt_canvas"
   ]
  },
  {
   "cell_type": "code",
   "execution_count": 131,
   "id": "0c592e27-1e33-41f5-833c-46b56e4741b2",
   "metadata": {},
   "outputs": [
    {
     "data": {
      "application/vnd.jupyter.widget-view+json": {
       "model_id": "5551a9ecb4db44188fabba0a618c360c",
       "version_major": 2,
       "version_minor": 0
      },
      "text/plain": [
       "tcCanvas(height=406, width=1100)"
      ]
     },
     "metadata": {},
     "output_type": "display_data"
    }
   ],
   "source": [
    "import importlib\n",
    "importlib.reload(AD_Py)\n",
    "\n",
    "# Default\n",
    "# parameter_from_individual_ad = True\n",
    "# differentiate_inexact_match = True\n",
    "# subtree_independent = False\n",
    "# ignore_independent_leaf = True\n",
    "# show_block_proportional = True\n",
    "tc_canvas = mytree.AD(view='Individual',scale=1.0,sort='rf_distance',context_level = 2,max_ad=10,show_tree_name=True)\n"
   ]
  },
  {
   "cell_type": "code",
   "execution_count": null,
   "id": "3e4ea6a8-15f3-4b10-a150-1aedc6f02d60",
   "metadata": {},
   "outputs": [],
   "source": []
  },
  {
   "cell_type": "code",
   "execution_count": 11,
   "id": "9cef31c1-9eba-4b1c-9fda-cdfad6ff26ed",
   "metadata": {},
   "outputs": [
    {
     "data": {
      "application/vnd.jupyter.widget-view+json": {
       "model_id": "f9a5a9d628ea4a75803284e53bf52e70",
       "version_major": 2,
       "version_minor": 0
      },
      "text/plain": [
       "tcCanvas(height=210, width=1100)"
      ]
     },
     "execution_count": 11,
     "metadata": {},
     "output_type": "execute_result"
    }
   ],
   "source": [
    "import tcCanvas as tcCanvas\n",
    "import importlib\n",
    "importlib.reload(tcCanvas)\n",
    "\n",
    "# Default\n",
    "# parameter_from_individual_ad = True\n",
    "# differentiate_inexact_match = True\n",
    "# subtree_independent = False\n",
    "# ignore_independent_leaf = True\n",
    "# show_block_proportional = True\n",
    "cluster_canvas = mytree.AD(view='Cluster',scale=1.0,context_level = 2)\n",
    "cluster_canvas"
   ]
  },
  {
   "cell_type": "code",
   "execution_count": 25,
   "id": "0e1ada2f-9f79-4cf3-848b-5104a86c8533",
   "metadata": {},
   "outputs": [
    {
     "name": "stdout",
     "output_type": "stream",
     "text": [
      "([inexact]A,Individual_blank_block);\n",
      "([exact]A,Individual_blank_block);\n"
     ]
    }
   ],
   "source": [
    "for topology in cluster_canvas.topology_list:\n",
    "    print(topology.ad_string)"
   ]
  },
  {
   "cell_type": "code",
   "execution_count": 30,
   "id": "df127d06-7bac-42f1-997c-5cebf7e02e5d",
   "metadata": {},
   "outputs": [
    {
     "name": "stdout",
     "output_type": "stream",
     "text": [
      "A\n",
      "<Node object at 0x1dc6c89c790: '6' (None)>\n"
     ]
    }
   ],
   "source": [
    "for subtree in tc_canvas.subtree_list:\n",
    "    print(subtree.label)\n",
    "    print(subtree.root.corr[0])"
   ]
  },
  {
   "cell_type": "code",
   "execution_count": 23,
   "id": "f2812679-d597-4ea5-ac37-d90d860067f8",
   "metadata": {},
   "outputs": [
    {
     "name": "stdout",
     "output_type": "stream",
     "text": [
      "ad_tree :1\n",
      "Root <Node object at 0x1b8860b7990: 'None' (None)>\n"
     ]
    },
    {
     "ename": "AttributeError",
     "evalue": "'AD_Block' object has no attribute 'taxa_count'",
     "output_type": "error",
     "traceback": [
      "\u001b[1;31m---------------------------------------------------------------------------\u001b[0m",
      "\u001b[1;31mAttributeError\u001b[0m                            Traceback (most recent call last)",
      "Cell \u001b[1;32mIn[23], line 5\u001b[0m\n\u001b[0;32m      3\u001b[0m \u001b[38;5;28;01mfor\u001b[39;00m index,ad_tree \u001b[38;5;129;01min\u001b[39;00m \u001b[38;5;28menumerate\u001b[39m(tc_canvas\u001b[38;5;241m.\u001b[39mad_list):\n\u001b[0;32m      4\u001b[0m     \u001b[38;5;28mprint\u001b[39m(\u001b[38;5;124m\"\u001b[39m\u001b[38;5;124mad_tree :\u001b[39m\u001b[38;5;124m\"\u001b[39m \u001b[38;5;241m+\u001b[39m \u001b[38;5;28mstr\u001b[39m(index\u001b[38;5;241m+\u001b[39m\u001b[38;5;241m1\u001b[39m))\n\u001b[1;32m----> 5\u001b[0m     \u001b[43mad_tree\u001b[49m\u001b[38;5;241;43m.\u001b[39;49m\u001b[43mplot_tree\u001b[49m\u001b[43m(\u001b[49m\u001b[43m)\u001b[49m\n",
      "File \u001b[1;32m~\\Desktop\\Phylo\\Ipy-AD\\ADView_Python_Migration\\AD_Py.py:414\u001b[0m, in \u001b[0;36mAD_Tree.plot_tree\u001b[1;34m(self, node, level)\u001b[0m\n\u001b[0;32m    411\u001b[0m             \u001b[38;5;28mprint\u001b[39m(\u001b[38;5;124m'\u001b[39m\u001b[38;5;124m \u001b[39m\u001b[38;5;124m'\u001b[39m \u001b[38;5;241m*\u001b[39m (level \u001b[38;5;241m*\u001b[39m \u001b[38;5;241m4\u001b[39m) \u001b[38;5;241m+\u001b[39m \u001b[38;5;124m'\u001b[39m\u001b[38;5;124mINDV BLANK BLOCK\u001b[39m\u001b[38;5;124m'\u001b[39m)\n\u001b[0;32m    413\u001b[0m \u001b[38;5;28;01mfor\u001b[39;00m child \u001b[38;5;129;01min\u001b[39;00m node\u001b[38;5;241m.\u001b[39mchildren:\n\u001b[1;32m--> 414\u001b[0m     \u001b[38;5;28;43mself\u001b[39;49m\u001b[38;5;241;43m.\u001b[39;49m\u001b[43mplot_tree\u001b[49m\u001b[43m(\u001b[49m\u001b[43mchild\u001b[49m\u001b[43m,\u001b[49m\u001b[43m \u001b[49m\u001b[43mlevel\u001b[49m\u001b[43m \u001b[49m\u001b[38;5;241;43m+\u001b[39;49m\u001b[43m \u001b[49m\u001b[38;5;241;43m1\u001b[39;49m\u001b[43m)\u001b[49m\n",
      "File \u001b[1;32m~\\Desktop\\Phylo\\Ipy-AD\\ADView_Python_Migration\\AD_Py.py:406\u001b[0m, in \u001b[0;36mAD_Tree.plot_tree\u001b[1;34m(self, node, level)\u001b[0m\n\u001b[0;32m    403\u001b[0m block \u001b[38;5;241m=\u001b[39m node\u001b[38;5;241m.\u001b[39mnode_or_block\n\u001b[0;32m    405\u001b[0m \u001b[38;5;28;01mif\u001b[39;00m block\u001b[38;5;241m.\u001b[39mtype \u001b[38;5;241m==\u001b[39m SUBTREE_BLOCK:\n\u001b[1;32m--> 406\u001b[0m     \u001b[38;5;28mprint\u001b[39m(\u001b[38;5;124m'\u001b[39m\u001b[38;5;124m \u001b[39m\u001b[38;5;124m'\u001b[39m \u001b[38;5;241m*\u001b[39m (level \u001b[38;5;241m*\u001b[39m \u001b[38;5;241m4\u001b[39m) \u001b[38;5;241m+\u001b[39m block\u001b[38;5;241m.\u001b[39mbelong_subtree\u001b[38;5;241m.\u001b[39mlabel \u001b[38;5;241m+\u001b[39m \u001b[38;5;124m'\u001b[39m\u001b[38;5;124m:\u001b[39m\u001b[38;5;124m'\u001b[39m \u001b[38;5;241m+\u001b[39m \u001b[38;5;28mstr\u001b[39m(\u001b[43mblock\u001b[49m\u001b[38;5;241;43m.\u001b[39;49m\u001b[43mtaxa_count\u001b[49m))\n\u001b[0;32m    407\u001b[0m \u001b[38;5;28;01melif\u001b[39;00m block\u001b[38;5;241m.\u001b[39mtype \u001b[38;5;241m==\u001b[39m INDIVIDUAL_BLOCK:\n\u001b[0;32m    408\u001b[0m     \u001b[38;5;28;01mif\u001b[39;00m block\u001b[38;5;241m.\u001b[39mbelong_subtree:\n",
      "\u001b[1;31mAttributeError\u001b[0m: 'AD_Block' object has no attribute 'taxa_count'"
     ]
    }
   ],
   "source": [
    "import importlib\n",
    "importlib.reload(AD_Py)\n",
    "for index,ad_tree in enumerate(tc_canvas.ad_list):\n",
    "    print(\"ad_tree :\" + str(index+1))\n",
    "    ad_tree.plot_tree()"
   ]
  },
  {
   "cell_type": "code",
   "execution_count": 14,
   "id": "8c189a14-085c-4e13-8403-c16a8e8d4095",
   "metadata": {
    "scrolled": true
   },
   "outputs": [
    {
     "name": "stdout",
     "output_type": "stream",
     "text": [
      "ad_tree :1\n",
      "(A[(B_INDEPENDENT,(B,(B_INDEPENDENT,Individual_blank_block)Internal Node)Internal Node);],Individual_blank_block);\n",
      "ad_tree :2\n",
      "(A[(B,(B_INDEPENDENT,Individual_blank_block)Internal Node);],Individual_blank_block);\n",
      "ad_tree :3\n",
      "(A[(B,(B_INDEPENDENT,Individual_blank_block)Internal Node);],Individual_blank_block);\n",
      "ad_tree :4\n",
      "(A[(B,(B_INDEPENDENT,Individual_blank_block)Internal Node);],Individual_blank_block);\n",
      "ad_tree :5\n",
      "(A[(B,(B_INDEPENDENT,Individual_blank_block)Internal Node);],Individual_blank_block);\n",
      "ad_tree :6\n",
      "(A[(B,(B_INDEPENDENT,Individual_blank_block)Internal Node);],Individual_blank_block);\n",
      "ad_tree :7\n",
      "(A[(B,(B_INDEPENDENT,Individual_blank_block)Internal Node);],Individual_blank_block);\n",
      "ad_tree :8\n",
      "(A[(B,(B_INDEPENDENT,Individual_blank_block)Internal Node);],Individual_blank_block);\n",
      "ad_tree :9\n",
      "(A[(B,(B_INDEPENDENT,Individual_blank_block)Internal Node);],Individual_blank_block);\n",
      "ad_tree :10\n",
      "(A[(B,(B_INDEPENDENT,Individual_blank_block)Internal Node);],Individual_blank_block);\n"
     ]
    }
   ],
   "source": [
    "import dendropy\n",
    "newick_str = \"\"\n",
    "\n",
    "for index,ad_tree in enumerate(tc_canvas.ad_list):\n",
    "    print(\"ad_tree :\" + str(index+1))\n",
    "    newick_str = ad_tree.ad_to_string(ignore_independant_leaf=True)\n",
    "    print(newick_str)\n",
    "    # tree = dendropy.Tree.get(data=newick_str, schema=\"newick\",taxon_namespace=taxon_namespace)\n",
    "    # dendropy_tree_list.append(tree)\n",
    "\n",
    "    \n",
    "# tree1 = dendropy_tree_list[3]\n",
    "# # tree1.print_plot()\n",
    "# tree2 = dendropy_tree_list[4]\n",
    "\n",
    "# for leaf in tree1.leaf_node_iter():\n",
    "#     leaf.taxon = None\n",
    "# for leaf in tree2.leaf_node_iter():\n",
    "#     leaf.taxon = None\n",
    "\n",
    "# rf_distance = dendropy.calculate.treecompare.symmetric_difference(tree1, tree2)\n",
    "# print(rf_distance)\n",
    "\n"
   ]
  },
  {
   "cell_type": "code",
   "execution_count": 87,
   "id": "36bbcf64-37ef-43b4-9a68-055624ce8ce7",
   "metadata": {},
   "outputs": [
    {
     "name": "stdout",
     "output_type": "stream",
     "text": [
      "RF distance: 0\n"
     ]
    }
   ],
   "source": [
    "from ete3 import Tree, TreeStyle, TextFace\n",
    "\n",
    "tree1 = ete3_tree_list[0]\n",
    "tree2 = ete3_tree_list[4]\n",
    "rf_distance = tree1.robinson_foulds(tree2)[0]\n",
    "\n",
    "print(\"RF distance:\", rf_distance)\n",
    "\n",
    "ts = TreeStyle()\n",
    "ts.show_leaf_name = True\n",
    "ts.show_branch_length = True\n",
    "ts.show_branch_support = True\n",
    "\n",
    "# 在Jupyter Notebook中显示树\n",
    "# tree1.render(\"%%inline\", tree_style=ts)\n",
    "# tree2.render(\"%%inline\", tree_style=ts)"
   ]
  },
  {
   "cell_type": "code",
   "execution_count": 55,
   "id": "ddda35a3-7803-4d67-86ed-6d84bbd6c27e",
   "metadata": {},
   "outputs": [
    {
     "name": "stdout",
     "output_type": "stream",
     "text": [
      "Root <Node object at 0x2d8f0e64d50: 'None' (None)>\n",
      "    INDV BLANK BLOCK\n",
      "    A:4\n",
      "Root <Node object at 0x2d8f0e702d0: 'None' (None)>\n",
      "    INDV BLANK BLOCK\n",
      "    A:4\n",
      "Root <Node object at 0x2d8f0e73810: 'None' (None)>\n",
      "    INDV BLANK BLOCK\n",
      "    A:4\n"
     ]
    }
   ],
   "source": [
    "for index,ad_tree in enumerate(tc_canvas.ad_list):\n",
    "    if index == 3:\n",
    "        break\n",
    "    ad_tree.plot_tree()\n",
    "    # for node in ad_tree.traverse_postorder():\n",
    "    #     if node.nested_tree is not None:\n",
    "    #         node.nested_tree.plot_tree()\n",
    "            # for node in node.nested_tree.traverse_postorder():\n",
    "            #     print(node.node_or_block)\n",
    "    # print(ad_tree)"
   ]
  },
  {
   "cell_type": "code",
   "execution_count": 16,
   "id": "3244a17a-39ed-43b7-a7b7-7d2bec113c42",
   "metadata": {},
   "outputs": [
    {
     "name": "stdout",
     "output_type": "stream",
     "text": [
      "<Error> : Reference Tree not exist.\n",
      "Please ensure that you have called the reference_tree() function before calling this function.\n"
     ]
    }
   ],
   "source": [
    "# mytree.select_subtree([\"mesostigma\",\"spirotaenia\"])\n",
    "mytree.select_leaf_node(\"uronema\")"
   ]
  },
  {
   "cell_type": "code",
   "execution_count": 21,
   "id": "1c9aa213-2ebf-4718-bd1c-ae3158e9f9d6",
   "metadata": {},
   "outputs": [
    {
     "name": "stdout",
     "output_type": "stream",
     "text": [
      "[]\n"
     ]
    }
   ],
   "source": [
    "print(canvas.output)"
   ]
  },
  {
   "cell_type": "code",
   "execution_count": null,
   "id": "ea244723-4226-498e-8664-2833dcea4dff",
   "metadata": {},
   "outputs": [],
   "source": []
  },
  {
   "cell_type": "code",
   "execution_count": null,
   "id": "0e6f1e22-f6a4-4671-adfb-d8b729be1cd0",
   "metadata": {},
   "outputs": [],
   "source": []
  }
 ],
 "metadata": {
  "kernelspec": {
   "display_name": "Python 3 (ipykernel)",
   "language": "python",
   "name": "python3"
  },
  "language_info": {
   "codemirror_mode": {
    "name": "ipython",
    "version": 3
   },
   "file_extension": ".py",
   "mimetype": "text/x-python",
   "name": "python",
   "nbconvert_exporter": "python",
   "pygments_lexer": "ipython3",
   "version": "3.11.4"
  }
 },
 "nbformat": 4,
 "nbformat_minor": 5
}
