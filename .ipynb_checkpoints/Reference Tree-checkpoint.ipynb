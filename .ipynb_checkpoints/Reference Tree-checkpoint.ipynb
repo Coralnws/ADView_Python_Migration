{
 "cells": [
  {
   "cell_type": "code",
   "execution_count": 1,
   "id": "04b86733",
   "metadata": {},
   "outputs": [
    {
     "name": "stdout",
     "output_type": "stream",
     "text": [
      "Requirement already satisfied: dendropy in c:\\users\\coral\\desktop\\phylo\\venv\\lib\\site-packages (from -r requirements.txt (line 1)) (4.6.1)\n",
      "Requirement already satisfied: ipycanvas in c:\\users\\coral\\desktop\\phylo\\venv\\lib\\site-packages (from -r requirements.txt (line 2)) (0.13.1)\n",
      "Requirement already satisfied: setuptools in c:\\users\\coral\\desktop\\phylo\\venv\\lib\\site-packages (from dendropy->-r requirements.txt (line 1)) (68.2.2)\n",
      "Requirement already satisfied: ipywidgets<9,>=7.6.0 in c:\\users\\coral\\desktop\\phylo\\venv\\lib\\site-packages (from ipycanvas->-r requirements.txt (line 2)) (8.1.1)\n",
      "Requirement already satisfied: pillow>=6.0 in c:\\users\\coral\\desktop\\phylo\\venv\\lib\\site-packages (from ipycanvas->-r requirements.txt (line 2)) (10.1.0)\n",
      "Requirement already satisfied: numpy in c:\\users\\coral\\desktop\\phylo\\venv\\lib\\site-packages (from ipycanvas->-r requirements.txt (line 2)) (1.26.2)\n",
      "Requirement already satisfied: comm>=0.1.3 in c:\\users\\coral\\desktop\\phylo\\venv\\lib\\site-packages (from ipywidgets<9,>=7.6.0->ipycanvas->-r requirements.txt (line 2)) (0.2.0)\n",
      "Requirement already satisfied: ipython>=6.1.0 in c:\\users\\coral\\desktop\\phylo\\venv\\lib\\site-packages (from ipywidgets<9,>=7.6.0->ipycanvas->-r requirements.txt (line 2)) (8.17.2)\n",
      "Requirement already satisfied: traitlets>=4.3.1 in c:\\users\\coral\\desktop\\phylo\\venv\\lib\\site-packages (from ipywidgets<9,>=7.6.0->ipycanvas->-r requirements.txt (line 2)) (5.14.0)\n",
      "Requirement already satisfied: widgetsnbextension~=4.0.9 in c:\\users\\coral\\desktop\\phylo\\venv\\lib\\site-packages (from ipywidgets<9,>=7.6.0->ipycanvas->-r requirements.txt (line 2)) (4.0.9)\n",
      "Requirement already satisfied: jupyterlab-widgets~=3.0.9 in c:\\users\\coral\\desktop\\phylo\\venv\\lib\\site-packages (from ipywidgets<9,>=7.6.0->ipycanvas->-r requirements.txt (line 2)) (3.0.9)\n",
      "Requirement already satisfied: decorator in c:\\users\\coral\\desktop\\phylo\\venv\\lib\\site-packages (from ipython>=6.1.0->ipywidgets<9,>=7.6.0->ipycanvas->-r requirements.txt (line 2)) (5.1.1)\n",
      "Requirement already satisfied: jedi>=0.16 in c:\\users\\coral\\desktop\\phylo\\venv\\lib\\site-packages (from ipython>=6.1.0->ipywidgets<9,>=7.6.0->ipycanvas->-r requirements.txt (line 2)) (0.19.1)\n",
      "Requirement already satisfied: matplotlib-inline in c:\\users\\coral\\desktop\\phylo\\venv\\lib\\site-packages (from ipython>=6.1.0->ipywidgets<9,>=7.6.0->ipycanvas->-r requirements.txt (line 2)) (0.1.6)\n",
      "Requirement already satisfied: prompt-toolkit!=3.0.37,<3.1.0,>=3.0.30 in c:\\users\\coral\\desktop\\phylo\\venv\\lib\\site-packages (from ipython>=6.1.0->ipywidgets<9,>=7.6.0->ipycanvas->-r requirements.txt (line 2)) (3.0.41)\n",
      "Requirement already satisfied: pygments>=2.4.0 in c:\\users\\coral\\desktop\\phylo\\venv\\lib\\site-packages (from ipython>=6.1.0->ipywidgets<9,>=7.6.0->ipycanvas->-r requirements.txt (line 2)) (2.16.1)\n",
      "Requirement already satisfied: stack-data in c:\\users\\coral\\desktop\\phylo\\venv\\lib\\site-packages (from ipython>=6.1.0->ipywidgets<9,>=7.6.0->ipycanvas->-r requirements.txt (line 2)) (0.6.3)\n",
      "Requirement already satisfied: colorama in c:\\users\\coral\\desktop\\phylo\\venv\\lib\\site-packages (from ipython>=6.1.0->ipywidgets<9,>=7.6.0->ipycanvas->-r requirements.txt (line 2)) (0.4.6)\n",
      "Requirement already satisfied: parso<0.9.0,>=0.8.3 in c:\\users\\coral\\desktop\\phylo\\venv\\lib\\site-packages (from jedi>=0.16->ipython>=6.1.0->ipywidgets<9,>=7.6.0->ipycanvas->-r requirements.txt (line 2)) (0.8.3)\n",
      "Requirement already satisfied: wcwidth in c:\\users\\coral\\desktop\\phylo\\venv\\lib\\site-packages (from prompt-toolkit!=3.0.37,<3.1.0,>=3.0.30->ipython>=6.1.0->ipywidgets<9,>=7.6.0->ipycanvas->-r requirements.txt (line 2)) (0.2.10)\n",
      "Requirement already satisfied: executing>=1.2.0 in c:\\users\\coral\\desktop\\phylo\\venv\\lib\\site-packages (from stack-data->ipython>=6.1.0->ipywidgets<9,>=7.6.0->ipycanvas->-r requirements.txt (line 2)) (2.0.1)\n",
      "Requirement already satisfied: asttokens>=2.1.0 in c:\\users\\coral\\desktop\\phylo\\venv\\lib\\site-packages (from stack-data->ipython>=6.1.0->ipywidgets<9,>=7.6.0->ipycanvas->-r requirements.txt (line 2)) (2.4.1)\n",
      "Requirement already satisfied: pure-eval in c:\\users\\coral\\desktop\\phylo\\venv\\lib\\site-packages (from stack-data->ipython>=6.1.0->ipywidgets<9,>=7.6.0->ipycanvas->-r requirements.txt (line 2)) (0.2.2)\n",
      "Requirement already satisfied: six>=1.12.0 in c:\\users\\coral\\desktop\\phylo\\venv\\lib\\site-packages (from asttokens>=2.1.0->stack-data->ipython>=6.1.0->ipywidgets<9,>=7.6.0->ipycanvas->-r requirements.txt (line 2)) (1.16.0)\n"
     ]
    },
    {
     "name": "stderr",
     "output_type": "stream",
     "text": [
      "\n",
      "[notice] A new release of pip is available: 23.2.1 -> 24.0\n",
      "[notice] To update, run: python.exe -m pip install --upgrade pip\n"
     ]
    }
   ],
   "source": [
    "!pip install -r requirements.txt"
   ]
  },
  {
   "cell_type": "code",
   "execution_count": 27,
   "id": "b60808f5-8e58-46c7-a055-ac2a8608787c",
   "metadata": {},
   "outputs": [],
   "source": [
    "import myTree as myTree\n",
    "import importlib\n",
    "importlib.reload(myTree)\n",
    "\n",
    "mytree = myTree.myTree(treefile = \"Data/69species/astral.FAA.trim50genes.final.tre\")\n",
    "outgroup = [\"Uronema sp\", \"Monomastix opisthostigma\", \"Pyramimonas parkeae\", \"Nephroselmis pyriformis\"]\n",
    "\n",
    "mytree.set_outgroup(outgroup)\n",
    "mytree.add_tree_collection(treefile = \"Data/69species/tc.tre\",namefile=\"Data/69species/names.txt\")"
   ]
  },
  {
   "cell_type": "code",
   "execution_count": 28,
   "id": "6c798ff9-74c3-433b-8d97-13970de6d6d6",
   "metadata": {
    "scrolled": true
   },
   "outputs": [
    {
     "data": {
      "application/vnd.jupyter.widget-view+json": {
       "model_id": "15e736a7fada47429a95be9637083097",
       "version_major": 2,
       "version_minor": 0
      },
      "text/plain": [
       "rtCanvas(height=2080, width=1100)"
      ]
     },
     "execution_count": 28,
     "metadata": {},
     "output_type": "execute_result"
    }
   ],
   "source": [
    "import importlib\n",
    "importlib.reload(myTree)\n",
    "\n",
    "canvas = mytree.reference_tree()\n",
    "canvas"
   ]
  },
  {
   "cell_type": "code",
   "execution_count": 30,
   "id": "0c592e27-1e33-41f5-833c-46b56e4741b2",
   "metadata": {},
   "outputs": [
    {
     "name": "stdout",
     "output_type": "stream",
     "text": [
      "in adjust\n"
     ]
    }
   ],
   "source": [
    "print(canvas.output)\n",
    "print(canvas.subtree_list)\n",
    "# canvas[5]"
   ]
  },
  {
   "cell_type": "code",
   "execution_count": 19,
   "id": "3244a17a-39ed-43b7-a7b7-7d2bec113c42",
   "metadata": {},
   "outputs": [
    {
     "ename": "ValueError",
     "evalue": "'A' is not in list",
     "output_type": "error",
     "traceback": [
      "\u001b[1;31m---------------------------------------------------------------------------\u001b[0m",
      "\u001b[1;31mValueError\u001b[0m                                Traceback (most recent call last)",
      "Cell \u001b[1;32mIn[19], line 2\u001b[0m\n\u001b[0;32m      1\u001b[0m \u001b[38;5;66;03m# mytree.select_subtree([\"mesostigma\",\"spirotaenia\"])\u001b[39;00m\n\u001b[1;32m----> 2\u001b[0m \u001b[43mmytree\u001b[49m\u001b[38;5;241;43m.\u001b[39;49m\u001b[43mselect_leaf_node\u001b[49m\u001b[43m(\u001b[49m\u001b[38;5;124;43m\"\u001b[39;49m\u001b[38;5;124;43muronema\u001b[39;49m\u001b[38;5;124;43m\"\u001b[39;49m\u001b[43m)\u001b[49m\n",
      "File \u001b[1;32m~\\Desktop\\Phylo\\Ipy-AD\\ADView_Python_Migration\\myTree.py:135\u001b[0m, in \u001b[0;36mmyTree.select_leaf_node\u001b[1;34m(self, node)\u001b[0m\n\u001b[0;32m    133\u001b[0m \u001b[38;5;28;01mfor\u001b[39;00m leaf_node \u001b[38;5;129;01min\u001b[39;00m \u001b[38;5;28mself\u001b[39m\u001b[38;5;241m.\u001b[39mrt\u001b[38;5;241m.\u001b[39mleaf_node_iter():\n\u001b[0;32m    134\u001b[0m     \u001b[38;5;28;01mif\u001b[39;00m node\u001b[38;5;241m.\u001b[39mlower() \u001b[38;5;129;01min\u001b[39;00m leaf_node\u001b[38;5;241m.\u001b[39mtaxon\u001b[38;5;241m.\u001b[39mlabel\u001b[38;5;241m.\u001b[39mlower():\n\u001b[1;32m--> 135\u001b[0m         \u001b[38;5;28;43mself\u001b[39;49m\u001b[38;5;241;43m.\u001b[39;49m\u001b[43mrt_canvas\u001b[49m\u001b[38;5;241;43m.\u001b[39;49m\u001b[43mdraw_subtree_block\u001b[49m\u001b[43m(\u001b[49m\u001b[43mleaf_node\u001b[49m\u001b[43m)\u001b[49m\n",
      "File \u001b[1;32m~\\Desktop\\Phylo\\Ipy-AD\\ADView_Python_Migration\\myCanvas.py:304\u001b[0m, in \u001b[0;36mrtCanvas.draw_subtree_block\u001b[1;34m(self, node_selected)\u001b[0m\n\u001b[0;32m    299\u001b[0m \u001b[38;5;28;01melse\u001b[39;00m:\n\u001b[0;32m    300\u001b[0m     \u001b[38;5;66;03m# If the node was selected → erase block and remove node from selected_subtree\u001b[39;00m\n\u001b[0;32m    301\u001b[0m \n\u001b[0;32m    302\u001b[0m     \u001b[38;5;66;03m# Clear corresponding layer\u001b[39;00m\n\u001b[0;32m    303\u001b[0m     clear_layer \u001b[38;5;241m=\u001b[39m \u001b[38;5;28mself\u001b[39m\u001b[38;5;241m.\u001b[39msorted_layer_list\u001b[38;5;241m.\u001b[39mindex(node_selected\u001b[38;5;241m.\u001b[39msubtree\u001b[38;5;241m.\u001b[39mlabel)\n\u001b[1;32m--> 304\u001b[0m     \u001b[38;5;28mself\u001b[39m[clear_layer]\u001b[38;5;241m.\u001b[39mclear()\n\u001b[0;32m    306\u001b[0m     \u001b[38;5;66;03m# Manage subtree list and multicanvas layer\u001b[39;00m\n\u001b[0;32m    307\u001b[0m     \u001b[38;5;28;01mdel\u001b[39;00m \u001b[38;5;28mself\u001b[39m\u001b[38;5;241m.\u001b[39mlayer_block_list[node_selected\u001b[38;5;241m.\u001b[39msubtree\u001b[38;5;241m.\u001b[39mlabel]\n",
      "\u001b[1;31mValueError\u001b[0m: 'A' is not in list"
     ]
    }
   ],
   "source": [
    "# mytree.select_subtree([\"mesostigma\",\"spirotaenia\"])\n",
    "mytree.select_leaf_node(\"uronema\")"
   ]
  },
  {
   "cell_type": "code",
   "execution_count": 21,
   "id": "1c9aa213-2ebf-4718-bd1c-ae3158e9f9d6",
   "metadata": {},
   "outputs": [
    {
     "name": "stdout",
     "output_type": "stream",
     "text": [
      "[]\n"
     ]
    }
   ],
   "source": [
    "print(canvas.output)"
   ]
  },
  {
   "cell_type": "code",
   "execution_count": null,
   "id": "ea244723-4226-498e-8664-2833dcea4dff",
   "metadata": {},
   "outputs": [],
   "source": []
  }
 ],
 "metadata": {
  "kernelspec": {
   "display_name": "Python 3 (ipykernel)",
   "language": "python",
   "name": "python3"
  },
  "language_info": {
   "codemirror_mode": {
    "name": "ipython",
    "version": 3
   },
   "file_extension": ".py",
   "mimetype": "text/x-python",
   "name": "python",
   "nbconvert_exporter": "python",
   "pygments_lexer": "ipython3",
   "version": "3.11.4"
  }
 },
 "nbformat": 4,
 "nbformat_minor": 5
}
