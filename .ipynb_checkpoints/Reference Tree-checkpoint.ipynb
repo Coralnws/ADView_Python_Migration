{
 "cells": [
  {
   "cell_type": "code",
   "execution_count": 1,
   "id": "04b86733",
   "metadata": {},
   "outputs": [
    {
     "name": "stdout",
     "output_type": "stream",
     "text": [
      "Requirement already satisfied: dendropy in c:\\users\\coral\\desktop\\phylo\\venv\\lib\\site-packages (4.6.1)\n",
      "Requirement already satisfied: setuptools in c:\\users\\coral\\desktop\\phylo\\venv\\lib\\site-packages (from dendropy) (68.2.2)\n"
     ]
    },
    {
     "name": "stderr",
     "output_type": "stream",
     "text": [
      "\n",
      "[notice] A new release of pip is available: 23.2.1 -> 23.3.2\n",
      "[notice] To update, run: python.exe -m pip install --upgrade pip\n"
     ]
    }
   ],
   "source": [
    "!pip install dendropy"
   ]
  },
  {
   "cell_type": "code",
   "execution_count": 23,
   "id": "992548f1",
   "metadata": {},
   "outputs": [
    {
     "name": "stdout",
     "output_type": "stream",
     "text": [
      "Requirement already satisfied: ipycanvas in c:\\users\\coral\\desktop\\phylo\\venv\\lib\\site-packages (0.13.1)\n",
      "Requirement already satisfied: ipywidgets<9,>=7.6.0 in c:\\users\\coral\\desktop\\phylo\\venv\\lib\\site-packages (from ipycanvas) (8.1.1)\n",
      "Requirement already satisfied: pillow>=6.0 in c:\\users\\coral\\desktop\\phylo\\venv\\lib\\site-packages (from ipycanvas) (10.1.0)\n",
      "Requirement already satisfied: numpy in c:\\users\\coral\\desktop\\phylo\\venv\\lib\\site-packages (from ipycanvas) (1.26.2)\n",
      "Requirement already satisfied: comm>=0.1.3 in c:\\users\\coral\\desktop\\phylo\\venv\\lib\\site-packages (from ipywidgets<9,>=7.6.0->ipycanvas) (0.2.0)\n",
      "Requirement already satisfied: ipython>=6.1.0 in c:\\users\\coral\\desktop\\phylo\\venv\\lib\\site-packages (from ipywidgets<9,>=7.6.0->ipycanvas) (8.17.2)\n",
      "Requirement already satisfied: traitlets>=4.3.1 in c:\\users\\coral\\desktop\\phylo\\venv\\lib\\site-packages (from ipywidgets<9,>=7.6.0->ipycanvas) (5.14.0)\n",
      "Requirement already satisfied: widgetsnbextension~=4.0.9 in c:\\users\\coral\\desktop\\phylo\\venv\\lib\\site-packages (from ipywidgets<9,>=7.6.0->ipycanvas) (4.0.9)\n",
      "Requirement already satisfied: jupyterlab-widgets~=3.0.9 in c:\\users\\coral\\desktop\\phylo\\venv\\lib\\site-packages (from ipywidgets<9,>=7.6.0->ipycanvas) (3.0.9)\n",
      "Requirement already satisfied: decorator in c:\\users\\coral\\desktop\\phylo\\venv\\lib\\site-packages (from ipython>=6.1.0->ipywidgets<9,>=7.6.0->ipycanvas) (5.1.1)\n",
      "Requirement already satisfied: jedi>=0.16 in c:\\users\\coral\\desktop\\phylo\\venv\\lib\\site-packages (from ipython>=6.1.0->ipywidgets<9,>=7.6.0->ipycanvas) (0.19.1)\n",
      "Requirement already satisfied: matplotlib-inline in c:\\users\\coral\\desktop\\phylo\\venv\\lib\\site-packages (from ipython>=6.1.0->ipywidgets<9,>=7.6.0->ipycanvas) (0.1.6)\n",
      "Requirement already satisfied: prompt-toolkit!=3.0.37,<3.1.0,>=3.0.30 in c:\\users\\coral\\desktop\\phylo\\venv\\lib\\site-packages (from ipython>=6.1.0->ipywidgets<9,>=7.6.0->ipycanvas) (3.0.41)\n",
      "Requirement already satisfied: pygments>=2.4.0 in c:\\users\\coral\\desktop\\phylo\\venv\\lib\\site-packages (from ipython>=6.1.0->ipywidgets<9,>=7.6.0->ipycanvas) (2.16.1)\n",
      "Requirement already satisfied: stack-data in c:\\users\\coral\\desktop\\phylo\\venv\\lib\\site-packages (from ipython>=6.1.0->ipywidgets<9,>=7.6.0->ipycanvas) (0.6.3)\n",
      "Requirement already satisfied: colorama in c:\\users\\coral\\desktop\\phylo\\venv\\lib\\site-packages (from ipython>=6.1.0->ipywidgets<9,>=7.6.0->ipycanvas) (0.4.6)\n",
      "Requirement already satisfied: parso<0.9.0,>=0.8.3 in c:\\users\\coral\\desktop\\phylo\\venv\\lib\\site-packages (from jedi>=0.16->ipython>=6.1.0->ipywidgets<9,>=7.6.0->ipycanvas) (0.8.3)\n",
      "Requirement already satisfied: wcwidth in c:\\users\\coral\\desktop\\phylo\\venv\\lib\\site-packages (from prompt-toolkit!=3.0.37,<3.1.0,>=3.0.30->ipython>=6.1.0->ipywidgets<9,>=7.6.0->ipycanvas) (0.2.10)\n",
      "Requirement already satisfied: executing>=1.2.0 in c:\\users\\coral\\desktop\\phylo\\venv\\lib\\site-packages (from stack-data->ipython>=6.1.0->ipywidgets<9,>=7.6.0->ipycanvas) (2.0.1)\n",
      "Requirement already satisfied: asttokens>=2.1.0 in c:\\users\\coral\\desktop\\phylo\\venv\\lib\\site-packages (from stack-data->ipython>=6.1.0->ipywidgets<9,>=7.6.0->ipycanvas) (2.4.1)\n",
      "Requirement already satisfied: pure-eval in c:\\users\\coral\\desktop\\phylo\\venv\\lib\\site-packages (from stack-data->ipython>=6.1.0->ipywidgets<9,>=7.6.0->ipycanvas) (0.2.2)\n",
      "Requirement already satisfied: six>=1.12.0 in c:\\users\\coral\\desktop\\phylo\\venv\\lib\\site-packages (from asttokens>=2.1.0->stack-data->ipython>=6.1.0->ipywidgets<9,>=7.6.0->ipycanvas) (1.16.0)\n"
     ]
    },
    {
     "name": "stderr",
     "output_type": "stream",
     "text": [
      "\n",
      "[notice] A new release of pip is available: 23.2.1 -> 23.3.2\n",
      "[notice] To update, run: python.exe -m pip install --upgrade pip\n"
     ]
    }
   ],
   "source": [
    "!pip install ipycanvas"
   ]
  },
  {
   "cell_type": "code",
   "execution_count": 43,
   "id": "b60808f5-8e58-46c7-a055-ac2a8608787c",
   "metadata": {},
   "outputs": [],
   "source": [
    "import myTree as myTree\n",
    "import importlib\n",
    "importlib.reload(myTree)\n",
    "\n",
    "mytree = myTree.myTree(treefile = \"Data/69species/astral.FAA.trim50genes.final.tre\")\n",
    "mytree.add_tree_collection(treefile = \"Data/69species/tc.tre\")\n",
    "\n",
    "outgroup = [\"Uronema sp\", \"Monomastix opisthostigma\", \"Pyramimonas parkeae\", \"Nephroselmis pyriformis\"]\n",
    "mytree.set_outgroup(outgroup)"
   ]
  },
  {
   "cell_type": "code",
   "execution_count": 46,
   "id": "877e301e-0696-4350-a738-0b32b3b7ac31",
   "metadata": {
    "scrolled": true
   },
   "outputs": [
    {
     "data": {
      "application/vnd.jupyter.widget-view+json": {
       "model_id": "a1df2f67a63a481381359998980bc963",
       "version_major": 2,
       "version_minor": 0
      },
      "text/plain": [
       "rtCanvas(height=2080, width=1000)"
      ]
     },
     "execution_count": 46,
     "metadata": {},
     "output_type": "execute_result"
    }
   ],
   "source": [
    "# mytree.reference_tree()\n",
    "mytree.reference_tree(view_support = True)"
   ]
  },
  {
   "cell_type": "code",
   "execution_count": 20,
   "id": "1c9aa213-2ebf-4718-bd1c-ae3158e9f9d6",
   "metadata": {},
   "outputs": [
    {
     "data": {
      "application/vnd.jupyter.widget-view+json": {
       "model_id": "03c319c66a7f401d8a65ac0dfba8300f",
       "version_major": 2,
       "version_minor": 0
      },
      "text/plain": [
       "Canvas(height=300, width=400)"
      ]
     },
     "metadata": {},
     "output_type": "display_data"
    },
    {
     "data": {
      "application/vnd.jupyter.widget-view+json": {
       "model_id": "e4b8957fe02a49c9ab8eaf84eb54c9ee",
       "version_major": 2,
       "version_minor": 0
      },
      "text/plain": [
       "FloatSlider(value=0.0, description='Scroll', max=300.0, step=1.0)"
      ]
     },
     "metadata": {},
     "output_type": "display_data"
    }
   ],
   "source": [
    "# test slider \n",
    "# testing code\n",
    "from ipycanvas import Canvas, hold_canvas\n",
    "import ipywidgets as widgets\n",
    "from IPython.display import display\n",
    "\n",
    "canvas_width = 400\n",
    "canvas_height = 300\n",
    "canvas = Canvas(width=canvas_width, height=canvas_height)\n",
    "\n",
    "slider = widgets.FloatSlider(min=0, max=canvas_height, step=1, description='Scroll')\n",
    "\n",
    "def on_value_change(change):\n",
    "    with hold_canvas(canvas):\n",
    "        canvas.clear_rect(0, 0, canvas_width, canvas_height)\n",
    "        draw_content(canvas, int(change['new']))\n",
    "\n",
    "slider.observe(on_value_change, 'value')\n",
    "\n",
    "def draw_content(canvas, scroll_value):\n",
    "    canvas.fill_rect(200, 200 - scroll_value, 100, 100) \n",
    "\n",
    "draw_content(canvas, 0)\n",
    "\n",
    "display(canvas)\n",
    "display(slider)\n"
   ]
  },
  {
   "cell_type": "code",
   "execution_count": 14,
   "id": "c4d03d25-bb52-402c-8fa6-6345c70bd55d",
   "metadata": {},
   "outputs": [
    {
     "data": {
      "application/vnd.jupyter.widget-view+json": {
       "model_id": "5ff05c5031b64060885c3a7e18fb58af",
       "version_major": 2,
       "version_minor": 0
      },
      "text/plain": [
       "Canvas(height=600, width=800)"
      ]
     },
     "execution_count": 14,
     "metadata": {},
     "output_type": "execute_result"
    }
   ],
   "source": [
    "# test on_mouse_down_event\n",
    "# testing code\n",
    "\n",
    "import ipycanvas as ipc\n",
    "\n",
    "class Node:\n",
    "    def __init__(self, node_id, x, y, label='', color='lightblue', is_leaf=False):\n",
    "        self.id = node_id\n",
    "        self.x = x\n",
    "        self.y = y\n",
    "        self.label = label\n",
    "        self.color = color\n",
    "        self.is_leaf = is_leaf\n",
    "        self.children = []\n",
    "\n",
    "class Tree:\n",
    "    def __init__(self):\n",
    "        self.nodes = {}\n",
    "        self.root = None\n",
    "\n",
    "    def add_node(self, node_id, x, y, label='', color='lightblue', is_leaf=False):\n",
    "        node = Node(node_id, x, y, label, color, is_leaf)\n",
    "        self.nodes[node_id] = node\n",
    "        if not self.root:\n",
    "            self.root = node\n",
    "\n",
    "    def add_connection(self, parent_id, child_id):\n",
    "        parent_node = self.nodes[parent_id]\n",
    "        child_node = self.nodes[child_id]\n",
    "        parent_node.children.append(child_node)\n",
    "\n",
    "def draw_tree(canvas, node):\n",
    "    canvas.fill_style = node.color\n",
    "    canvas.fill_rect(node.x - 5, node.y - 5, 10, 10)\n",
    "    canvas.fill_style = 'black'\n",
    "    canvas.font = '16px Times New Roman'\n",
    "    canvas.fill_text(node.label, node.x + 10, node.y + 5)\n",
    "    for child in node.children:\n",
    "        canvas.begin_path()\n",
    "        canvas.move_to(node.x, node.y)\n",
    "        if child.is_leaf:\n",
    "            canvas.line_to(child.x - 50, node.y)\n",
    "            canvas.line_to(child.x - 50, child.y)\n",
    "        else:\n",
    "            canvas.line_to(child.x, node.y)\n",
    "        canvas.line_to(child.x, child.y)\n",
    "        canvas.stroke()\n",
    "        draw_tree(canvas, child)\n",
    "\n",
    "canvas = ipc.Canvas(width=800, height=600)\n",
    "tree = Tree()\n",
    "\n",
    "# Add nodes\n",
    "tree.add_node(1, 100, 300)\n",
    "tree.add_node(2, 250, 200)\n",
    "tree.add_node(3, 250, 450)\n",
    "tree.add_node(4, 400, 150, 'Node 4', 'lightblue', True)\n",
    "tree.add_node(5, 400, 250, 'Node 5', 'lightblue', True)\n",
    "tree.add_node(6, 400, 350, 'Node 6', 'lightblue', True)\n",
    "tree.add_node(7, 400, 500, 'Node 7', 'lightblue', True)\n",
    "\n",
    "# Add connections\n",
    "tree.add_connection(1, 2)\n",
    "tree.add_connection(1, 3)\n",
    "tree.add_connection(2, 4)\n",
    "tree.add_connection(2, 5)\n",
    "tree.add_connection(3, 6)\n",
    "tree.add_connection(3, 7)\n",
    "\n",
    "def handle_click(x, y):\n",
    "    for node_id in tree.nodes:\n",
    "        node = tree.nodes[node_id]\n",
    "        if node.x - 5 <= x <= node.x + 5 and node.y - 5 <= y <= node.y + 5:\n",
    "            change_color(node)\n",
    "            break\n",
    "\n",
    "def change_color(node):\n",
    "    node.color = 'orange' if node.color == 'lightblue' else 'lightblue'\n",
    "    canvas.clear_rect(node.x - 5, node.y - 5, 10, 10)\n",
    "    canvas.fill_style = node.color\n",
    "    canvas.fill_rect(node.x - 5, node.y - 5, 10, 10)\n",
    "    for child in node.children:\n",
    "        change_color(child)\n",
    "\n",
    "canvas.on_mouse_down(handle_click)\n",
    "draw_tree(canvas, tree.root)\n",
    "canvas\n"
   ]
  },
  {
   "cell_type": "code",
   "execution_count": 34,
   "id": "21d0cd7a-ff96-40a1-84a3-782214501630",
   "metadata": {},
   "outputs": [
    {
     "data": {
      "application/vnd.jupyter.widget-view+json": {
       "model_id": "0bc62103d5484cfab175484f997d7495",
       "version_major": 2,
       "version_minor": 0
      },
      "text/plain": [
       "Canvas(height=200, width=400)"
      ]
     },
     "execution_count": 34,
     "metadata": {},
     "output_type": "execute_result"
    }
   ],
   "source": []
  },
  {
   "cell_type": "code",
   "execution_count": null,
   "id": "e2e44de3-e414-4a3a-8255-218f4f51f526",
   "metadata": {},
   "outputs": [],
   "source": []
  }
 ],
 "metadata": {
  "kernelspec": {
   "display_name": "Python 3 (ipykernel)",
   "language": "python",
   "name": "python3"
  },
  "language_info": {
   "codemirror_mode": {
    "name": "ipython",
    "version": 3
   },
   "file_extension": ".py",
   "mimetype": "text/x-python",
   "name": "python",
   "nbconvert_exporter": "python",
   "pygments_lexer": "ipython3",
   "version": "3.11.4"
  }
 },
 "nbformat": 4,
 "nbformat_minor": 5
}
