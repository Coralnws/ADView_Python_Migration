{
 "cells": [
  {
   "cell_type": "code",
   "execution_count": 2,
   "id": "78872fa3-dacb-41ff-a82c-35b67f2f4075",
   "metadata": {},
   "outputs": [],
   "source": [
    "from ipycanvas import Canvas\n",
    "from ipywidgets import HBox\n",
    "BLANK = '#FFFFFF'\n",
    "RED = '#F38D76'\n",
    "BLUE = '#33D5FF'\n",
    "PURPLE = '#DFABF8'\n",
    "GREEN = '#C9F8AB'\n",
    "BEIGE = '#F8DAAB'\n",
    "BLACK = '#000000'\n",
    "\n",
    "root_x = 20\n",
    "root_y = 50\n",
    "branch_length = 15\n",
    "branch_height = 15\n",
    "blank_block_width = 40\n",
    "blank_block_height = 10\n",
    "AD_width = 200\n",
    "\n",
    "# rectangle_width = 30\n",
    "# rectangle_height = 15\n",
    "\n",
    "def add_branch(canvas,start_x,start_y,des_x,des_y):\n",
    "    path_x = start_x\n",
    "    path_y = start_y\n",
    "    canvas.set_line_dash([])\n",
    "    canvas.begin_path()\n",
    "    canvas.move_to(path_x, path_y)\n",
    "    canvas.line_to(path_x, des_y)\n",
    "    canvas.line_to(des_x, des_y)\n",
    "    canvas.stroke()\n",
    "\n",
    "    return des_x,des_y\n",
    "\n",
    "def add_block(canvas,loc_x,loc_y,width,height,color):\n",
    "    loc_y = loc_y - (height/2)\n",
    "    canvas.fill_style = color\n",
    "    canvas.stroke_style = BLACK\n",
    "    \n",
    "    # fill_rect(x, y, width, height=None):\n",
    "    # stroke_rect(x, y, width, height=None):\n",
    "    canvas.fill_rect(loc_x,loc_y,width,height)\n",
    "    canvas.stroke_rect(loc_x,loc_y,width,height)\n",
    "\n",
    "    return loc_x,(loc_y + height/2)\n",
    "\n",
    "def elided_branch(canvas,start_x,start_y,des_x,des_y):\n",
    "    line_dashes = [[2, 2], [10, 5], [5, 10, 20], [10, 20], [20, 10], [20, 20]]\n",
    "\n",
    "    path_x = start_x\n",
    "    path_y = start_y\n",
    "    canvas.set_line_dash([])\n",
    "    canvas.begin_path()\n",
    "    canvas.move_to(path_x, path_y)\n",
    "    canvas.line_to(path_x, des_y)\n",
    "    canvas.stroke()\n",
    "    \n",
    "    canvas.set_line_dash(line_dashes[0])\n",
    "    canvas.begin_path()\n",
    "    canvas.move_to(path_x, des_y)\n",
    "    canvas.line_to(des_x, des_y)\n",
    "    canvas.stroke()\n",
    "    \n",
    "    path_x += (des_x - start_x)/2\n",
    "    path_y = des_y - 5\n",
    "    canvas.set_line_dash([])\n",
    "    canvas.begin_path()\n",
    "    canvas.move_to(path_x+1,path_y)\n",
    "    canvas.line_to(path_x-2, path_y + 10)\n",
    "    canvas.stroke()\n",
    "\n",
    "    return des_x,des_y\n",
    "\n"
   ]
  },
  {
   "cell_type": "code",
   "execution_count": 2,
   "id": "4d87c071-9050-4d7f-9c8b-5a21f58ebfe1",
   "metadata": {},
   "outputs": [],
   "source": [
    "#### Testing Draw AD ####\n",
    "## Canvaas 1 ##\n",
    "\n",
    "canvas1 = Canvas(width=250, height=250)\n",
    "coord_x = root_x\n",
    "coord_y = root_y\n",
    "\n",
    "# Level1 - Branch 1\n",
    "coord_x,coord_y = add_branch(canvas1,root_x,root_y,coord_x + 10,coord_y)\n",
    "block_x,block_y = add_branch(canvas1,coord_x,coord_y,coord_x + branch_length, coord_y - branch_height)\n",
    "block_x,block_y = add_block(canvas1,block_x,block_y,blank_block_width,blank_block_height,BLANK)\n",
    "\n",
    "# Level1 - Branch 2\n",
    "coord_x,coord_y = add_branch(canvas1,coord_x,coord_y,coord_x + branch_length, coord_y + branch_height)\n",
    "\n",
    "# Level2 - Branch 1\n",
    "block_x,block_y = add_branch(canvas1,coord_x,coord_y,coord_x + branch_length, coord_y - branch_height)\n",
    "block_x,block_y = add_block(canvas1,block_x,block_y,blank_block_width,blank_block_height,BLANK)\n",
    "\n",
    "# Level2 - Branch 2\n",
    "coord_x,coord_y = add_branch(canvas1,coord_x,coord_y,coord_x + branch_length, coord_y + branch_height)\n",
    "\n",
    "# Level3 - Branch 1\n",
    "block_x,block_y = add_branch(canvas1,coord_x,coord_y,coord_x + branch_length, coord_y - branch_height)\n",
    "block_x,block_y = add_block(canvas1,block_x,block_y,blank_block_width,blank_block_height,BLANK)\n",
    "\n",
    "# Level3 - Branch2\n",
    "# Additional Height = 20\n",
    "coord_x,coord_y = add_branch(canvas1,coord_x,coord_y,coord_x + branch_length, coord_y + branch_height + 20)\n",
    "\n",
    "#Level4 - Branch1\n",
    "block_x,block_y = add_branch(canvas1,coord_x,coord_y,coord_x + branch_length, coord_y - branch_height - 10)\n",
    "block_x,block_y = add_block(canvas1,block_x,block_y,AD_width - block_x,blank_block_height + 20,RED)\n",
    "\n",
    "# Level4 - Branch2\n",
    "coord_x,coord_y = add_branch(canvas1,coord_x,coord_y,coord_x + branch_length, coord_y + branch_height + 20)\n",
    "\n",
    "# Level5 - Branch2\n",
    "lev5_x,lev5_y = add_branch(canvas1,coord_x,coord_y,coord_x + branch_length, coord_y + branch_height + 20)\n",
    "\n",
    "# Level5 - Branch1\n",
    "coord_x,coord_y = add_branch(canvas1,coord_x,coord_y,coord_x + branch_length, coord_y - branch_height- 5)\n",
    "block_x,block_y = add_branch(canvas1,coord_x,coord_y,coord_x + branch_length, coord_y - branch_height)\n",
    "\n",
    "# Level6 - Branch1\n",
    "block_x,block_y = add_block(canvas1,block_x,block_y,blank_block_width,blank_block_height,BLANK)\n",
    "\n",
    "# Level6 - Branch2\n",
    "block_x,block_y = add_branch(canvas1,coord_x,coord_y,coord_x + branch_length, coord_y + branch_height)\n",
    "block_x,block_y = add_block(canvas1,block_x,block_y,AD_width - block_x,blank_block_height + 20,BLUE)\n",
    "\n",
    "# Level6 - Branch3\n",
    "block_x,block_y = add_block(canvas1,lev5_x,lev5_y,AD_width - lev5_x,blank_block_height + 20,PURPLE)\n"
   ]
  },
  {
   "cell_type": "code",
   "execution_count": 3,
   "id": "02286476-2744-4b72-8fce-896135d1d3cd",
   "metadata": {},
   "outputs": [],
   "source": [
    "#### Testing Draw AD ####\n",
    "## Canvaas 2 ##\n",
    "\n",
    "canvas2 = Canvas(width=250, height=250)\n",
    "\n",
    "coord_x = root_x\n",
    "coord_y = root_y\n",
    "\n",
    "# Level1 - Branch 1\n",
    "coord_x,coord_y = add_branch(canvas2,root_x,root_y,coord_x + 10,coord_y)\n",
    "block_x,block_y = add_branch(canvas2,coord_x,coord_y,coord_x + branch_length, coord_y - branch_height)\n",
    "block_x,block_y = add_block(canvas2,block_x,block_y,blank_block_width,blank_block_height,BLANK)\n",
    "\n",
    "# Level1 - Branch 2\n",
    "coord_x,coord_y = elided_branch(canvas2,coord_x,coord_y,coord_x + branch_length, coord_y + branch_height + 10)\n",
    "\n",
    "# Level2 - Branch 1\n",
    "block_x,block_y = add_branch(canvas2,coord_x,coord_y,coord_x + branch_length, coord_y - branch_height)\n",
    "block_x,block_y = add_block(canvas2,block_x,block_y,AD_width - block_x,blank_block_height + 10,RED)\n",
    "\n",
    "# Level2 - Branch2\n",
    "# Additional Height = 20\n",
    "coord_x,coord_y = add_branch(canvas2,coord_x,coord_y,coord_x + branch_length, coord_y + branch_height + 20)\n",
    "\n",
    "# Level3 - Branch 1\n",
    "block_x,block_y = add_branch(canvas2,coord_x,coord_y,coord_x + branch_length, coord_y - branch_height - 10)\n",
    "block_x,block_y = add_block(canvas2,block_x,block_y,AD_width - block_x,blank_block_height + 10,GREEN)\n",
    "\n",
    "# Level3 - Branch2\n",
    "# Additional Height = 20\n",
    "block_x,block_y = add_branch(canvas2,coord_x,coord_y,coord_x + branch_length, coord_y + branch_height + 20)\n",
    "block_x,block_y = add_block(canvas2,block_x,block_y,AD_width - block_x,blank_block_height + 70,BEIGE)\n",
    "\n",
    "#level3 - Branch2 - nesting clade\n",
    "block_x,block_y = elided_branch(canvas2,block_x,block_y,block_x + branch_length, block_y + 2)\n",
    "block_x,block_y = add_block(canvas2,block_x,block_y,AD_width - block_x - 10,blank_block_height + 20,PURPLE)\n"
   ]
  },
  {
   "cell_type": "code",
   "execution_count": 4,
   "id": "ed9b858f-cda4-499b-85ad-e5e7bf95aef7",
   "metadata": {},
   "outputs": [
    {
     "data": {
      "application/vnd.jupyter.widget-view+json": {
       "model_id": "dc6273fc7d0d452db12adae341eddfa9",
       "version_major": 2,
       "version_minor": 0
      },
      "text/plain": [
       "HBox(children=(Canvas(height=250, width=250), Canvas(height=250, width=250)))"
      ]
     },
     "execution_count": 4,
     "metadata": {},
     "output_type": "execute_result"
    }
   ],
   "source": [
    "sprites = [canvas1, canvas2]\n",
    "HBox(sprites)"
   ]
  },
  {
   "cell_type": "code",
   "execution_count": 37,
   "id": "b3f1c521-7fbb-40a8-8612-60509c63e91e",
   "metadata": {},
   "outputs": [
    {
     "data": {
      "application/vnd.jupyter.widget-view+json": {
       "model_id": "7668527c89194cc8a30cb397fe591bf8",
       "version_major": 2,
       "version_minor": 0
      },
      "text/plain": [
       "Canvas(height=800, width=1200)"
      ]
     },
     "execution_count": 37,
     "metadata": {},
     "output_type": "execute_result"
    }
   ],
   "source": [
    "canvas = Canvas(height=800, width=1200)\n",
    "canvas.fill_rect(0,0,1100,1100)\n",
    "canvas.fill_style = RED\n",
    "width = 130\n",
    "height = 150\n",
    "x = 20\n",
    "canvas.fill_rect(x,20,width,height)\n",
    "x += width + 20\n",
    "canvas.fill_rect(x,20,width,height)\n",
    "x += width + 20\n",
    "canvas.fill_rect(x,20,width,height)\n",
    "x += width + 20\n",
    "canvas.fill_rect(x,20,width,height)\n",
    "x += width + 20\n",
    "canvas.fill_rect(x,20,width,height)\n",
    "x += width + 20\n",
    "canvas.fill_rect(x,20,width,height)\n",
    "x += width + 20\n",
    "canvas.fill_rect(x,20,width,height)\n",
    "\n",
    "canvas"
   ]
  },
  {
   "cell_type": "code",
   "execution_count": 31,
   "id": "38516765-d651-4e8b-984c-54a555bfde90",
   "metadata": {},
   "outputs": [
    {
     "data": {
      "application/vnd.jupyter.widget-view+json": {
       "model_id": "4a3bf8ac105743c4b768b779cf4b6aa4",
       "version_major": 2,
       "version_minor": 0
      },
      "text/plain": [
       "Canvas(height=200, width=200)"
      ]
     },
     "execution_count": 31,
     "metadata": {},
     "output_type": "execute_result"
    }
   ],
   "source": [
    "from ipycanvas import Canvas\n",
    "\n",
    "# 创建一个 Canvas 对象\n",
    "canvas = Canvas(width=200, height=200)\n",
    "\n",
    "# 绘制一个矩形\n",
    "canvas.fill_rect(50, 50, 100, 100)\n",
    "\n",
    "# 在 x 和 y 方向分别缩放 1.5 倍\n",
    "canvas.scale(1.1, 1.1)\n",
    "\n",
    "# 绘制另一个矩形，经过缩放后会更大\n",
    "canvas.fill_rect(50, 50, 100, 100)\n",
    "\n",
    "# 显示画布\n",
    "canvas"
   ]
  },
  {
   "cell_type": "code",
   "execution_count": 1,
   "id": "7a2e899c-fb49-48d6-8c8c-7765ad12b0b8",
   "metadata": {},
   "outputs": [
    {
     "ename": "AttributeError",
     "evalue": "partially initialized module 'quads' has no attribute 'QuadTree' (most likely due to a circular import)",
     "output_type": "error",
     "traceback": [
      "\u001b[1;31m---------------------------------------------------------------------------\u001b[0m",
      "\u001b[1;31mAttributeError\u001b[0m                            Traceback (most recent call last)",
      "Cell \u001b[1;32mIn[1], line 1\u001b[0m\n\u001b[1;32m----> 1\u001b[0m \u001b[38;5;28;01mimport\u001b[39;00m \u001b[38;5;21;01mquads\u001b[39;00m \u001b[38;5;28;01mas\u001b[39;00m \u001b[38;5;21;01mquad\u001b[39;00m\n",
      "File \u001b[1;32m~\\Desktop\\Phylo\\Ipy-AD\\ADView_Python_Migration\\quads.py:3\u001b[0m\n\u001b[0;32m      1\u001b[0m \u001b[38;5;28;01mimport\u001b[39;00m \u001b[38;5;21;01mquads\u001b[39;00m\n\u001b[1;32m----> 3\u001b[0m tree \u001b[38;5;241m=\u001b[39m \u001b[43mquads\u001b[49m\u001b[38;5;241;43m.\u001b[39;49m\u001b[43mQuadTree\u001b[49m(\n\u001b[0;32m      4\u001b[0m (\u001b[38;5;241m0\u001b[39m, \u001b[38;5;241m0\u001b[39m),  \u001b[38;5;66;03m# The center point\u001b[39;00m\n\u001b[0;32m      5\u001b[0m  \u001b[38;5;241m10\u001b[39m,  \u001b[38;5;66;03m# The width\u001b[39;00m\n\u001b[0;32m      6\u001b[0m \u001b[38;5;241m10\u001b[39m,  \u001b[38;5;66;03m# The height\u001b[39;00m\n\u001b[0;32m      7\u001b[0m )\n\u001b[0;32m      8\u001b[0m tree\u001b[38;5;241m.\u001b[39minsert((\u001b[38;5;241m1\u001b[39m, \u001b[38;5;241m2\u001b[39m))\n\u001b[0;32m      9\u001b[0m \u001b[38;5;66;03m# tree.visualize()\u001b[39;00m\n",
      "\u001b[1;31mAttributeError\u001b[0m: partially initialized module 'quads' has no attribute 'QuadTree' (most likely due to a circular import)"
     ]
    }
   ],
   "source": [
    "import quadstree as quad\n"
   ]
  },
  {
   "cell_type": "code",
   "execution_count": null,
   "id": "0c19b56a-316b-402e-aae4-becf54b6bf7f",
   "metadata": {},
   "outputs": [],
   "source": []
  },
  {
   "cell_type": "code",
   "execution_count": null,
   "id": "af4c8390-ca72-4d9f-bb32-52c76f8064ec",
   "metadata": {},
   "outputs": [],
   "source": []
  }
 ],
 "metadata": {
  "kernelspec": {
   "display_name": "Python 3 (ipykernel)",
   "language": "python",
   "name": "python3"
  },
  "language_info": {
   "codemirror_mode": {
    "name": "ipython",
    "version": 3
   },
   "file_extension": ".py",
   "mimetype": "text/x-python",
   "name": "python",
   "nbconvert_exporter": "python",
   "pygments_lexer": "ipython3",
   "version": "3.11.4"
  }
 },
 "nbformat": 4,
 "nbformat_minor": 5
}
