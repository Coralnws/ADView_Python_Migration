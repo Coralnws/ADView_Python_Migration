{
 "cells": [
  {
   "cell_type": "code",
   "execution_count": 9,
   "id": "78872fa3-dacb-41ff-a82c-35b67f2f4075",
   "metadata": {},
   "outputs": [],
   "source": [
    "from ipycanvas import Canvas\n",
    "from ipywidgets import HBox\n",
    "BLANK = '#FFFFFF'\n",
    "RED = '#F38D76'\n",
    "BLUE = '#33D5FF'\n",
    "PURPLE = '#DFABF8'\n",
    "GREEN = '#C9F8AB'\n",
    "BEIGE = '#F8DAAB'\n",
    "BLACK = '#000000'\n",
    "\n",
    "root_x = 20\n",
    "root_y = 50\n",
    "branch_length = 15\n",
    "branch_height = 15\n",
    "blank_block_width = 40\n",
    "blank_block_height = 10\n",
    "AD_width = 200\n",
    "\n",
    "# rectangle_width = 30\n",
    "# rectangle_height = 15\n",
    "\n",
    "def add_branch(canvas,start_x,start_y,des_x,des_y):\n",
    "    path_x = start_x\n",
    "    path_y = start_y\n",
    "    canvas.set_line_dash([])\n",
    "    canvas.begin_path()\n",
    "    canvas.move_to(path_x, path_y)\n",
    "    canvas.line_to(path_x, des_y)\n",
    "    canvas.line_to(des_x, des_y)\n",
    "    canvas.stroke()\n",
    "\n",
    "    return des_x,des_y\n",
    "\n",
    "def add_block(canvas,loc_x,loc_y,width,height,color):\n",
    "    loc_y = loc_y - (height/2)\n",
    "    canvas.fill_style = color\n",
    "    canvas.stroke_style = BLACK\n",
    "    \n",
    "    # fill_rect(x, y, width, height=None):\n",
    "    # stroke_rect(x, y, width, height=None):\n",
    "    canvas.fill_rect(loc_x,loc_y,width,height)\n",
    "    canvas.stroke_rect(loc_x,loc_y,width,height)\n",
    "\n",
    "    return loc_x,(loc_y + height/2)\n",
    "\n",
    "def elided_branch(canvas,start_x,start_y,des_x,des_y):\n",
    "    line_dashes = [[2, 2], [10, 5], [5, 10, 20], [10, 20], [20, 10], [20, 20]]\n",
    "\n",
    "    path_x = start_x\n",
    "    path_y = start_y\n",
    "    canvas.set_line_dash([])\n",
    "    canvas.begin_path()\n",
    "    canvas.move_to(path_x, path_y)\n",
    "    canvas.line_to(path_x, des_y)\n",
    "    canvas.stroke()\n",
    "    \n",
    "    canvas.set_line_dash(line_dashes[0])\n",
    "    canvas.begin_path()\n",
    "    canvas.move_to(path_x, des_y)\n",
    "    canvas.line_to(des_x, des_y)\n",
    "    canvas.stroke()\n",
    "    \n",
    "    path_x += (des_x - start_x)/2\n",
    "    path_y = des_y - 5\n",
    "    canvas.set_line_dash([])\n",
    "    canvas.begin_path()\n",
    "    canvas.move_to(path_x+1,path_y)\n",
    "    canvas.line_to(path_x-2, path_y + 10)\n",
    "    canvas.stroke()\n",
    "\n",
    "    return des_x,des_y\n",
    "\n"
   ]
  },
  {
   "cell_type": "code",
   "execution_count": 2,
   "id": "4d87c071-9050-4d7f-9c8b-5a21f58ebfe1",
   "metadata": {},
   "outputs": [],
   "source": [
    "#### Testing Draw AD ####\n",
    "## Canvaas 1 ##\n",
    "\n",
    "canvas1 = Canvas(width=250, height=250)\n",
    "coord_x = root_x\n",
    "coord_y = root_y\n",
    "\n",
    "# Level1 - Branch 1\n",
    "coord_x,coord_y = add_branch(canvas1,root_x,root_y,coord_x + 10,coord_y)\n",
    "block_x,block_y = add_branch(canvas1,coord_x,coord_y,coord_x + branch_length, coord_y - branch_height)\n",
    "block_x,block_y = add_block(canvas1,block_x,block_y,blank_block_width,blank_block_height,BLANK)\n",
    "\n",
    "# Level1 - Branch 2\n",
    "coord_x,coord_y = add_branch(canvas1,coord_x,coord_y,coord_x + branch_length, coord_y + branch_height)\n",
    "\n",
    "# Level2 - Branch 1\n",
    "block_x,block_y = add_branch(canvas1,coord_x,coord_y,coord_x + branch_length, coord_y - branch_height)\n",
    "block_x,block_y = add_block(canvas1,block_x,block_y,blank_block_width,blank_block_height,BLANK)\n",
    "\n",
    "# Level2 - Branch 2\n",
    "coord_x,coord_y = add_branch(canvas1,coord_x,coord_y,coord_x + branch_length, coord_y + branch_height)\n",
    "\n",
    "# Level3 - Branch 1\n",
    "block_x,block_y = add_branch(canvas1,coord_x,coord_y,coord_x + branch_length, coord_y - branch_height)\n",
    "block_x,block_y = add_block(canvas1,block_x,block_y,blank_block_width,blank_block_height,BLANK)\n",
    "\n",
    "# Level3 - Branch2\n",
    "# Additional Height = 20\n",
    "coord_x,coord_y = add_branch(canvas1,coord_x,coord_y,coord_x + branch_length, coord_y + branch_height + 20)\n",
    "\n",
    "#Level4 - Branch1\n",
    "block_x,block_y = add_branch(canvas1,coord_x,coord_y,coord_x + branch_length, coord_y - branch_height - 10)\n",
    "block_x,block_y = add_block(canvas1,block_x,block_y,AD_width - block_x,blank_block_height + 20,RED)\n",
    "\n",
    "# Level4 - Branch2\n",
    "coord_x,coord_y = add_branch(canvas1,coord_x,coord_y,coord_x + branch_length, coord_y + branch_height + 20)\n",
    "\n",
    "# Level5 - Branch2\n",
    "lev5_x,lev5_y = add_branch(canvas1,coord_x,coord_y,coord_x + branch_length, coord_y + branch_height + 20)\n",
    "\n",
    "# Level5 - Branch1\n",
    "coord_x,coord_y = add_branch(canvas1,coord_x,coord_y,coord_x + branch_length, coord_y - branch_height- 5)\n",
    "block_x,block_y = add_branch(canvas1,coord_x,coord_y,coord_x + branch_length, coord_y - branch_height)\n",
    "\n",
    "# Level6 - Branch1\n",
    "block_x,block_y = add_block(canvas1,block_x,block_y,blank_block_width,blank_block_height,BLANK)\n",
    "\n",
    "# Level6 - Branch2\n",
    "block_x,block_y = add_branch(canvas1,coord_x,coord_y,coord_x + branch_length, coord_y + branch_height)\n",
    "block_x,block_y = add_block(canvas1,block_x,block_y,AD_width - block_x,blank_block_height + 20,BLUE)\n",
    "\n",
    "# Level6 - Branch3\n",
    "block_x,block_y = add_block(canvas1,lev5_x,lev5_y,AD_width - lev5_x,blank_block_height + 20,PURPLE)\n"
   ]
  },
  {
   "cell_type": "code",
   "execution_count": 4,
   "id": "02286476-2744-4b72-8fce-896135d1d3cd",
   "metadata": {},
   "outputs": [],
   "source": [
    "#### Testing Draw AD ####\n",
    "## Canvaas 2 ##\n",
    "\n",
    "canvas2 = Canvas(width=250, height=250)\n",
    "\n",
    "coord_x = root_x\n",
    "coord_y = root_y\n",
    "\n",
    "# Level1 - Branch 1\n",
    "coord_x,coord_y = add_branch(canvas2,root_x,root_y,coord_x + 10,coord_y)\n",
    "block_x,block_y = add_branch(canvas2,coord_x,coord_y,coord_x + branch_length, coord_y - branch_height)\n",
    "block_x,block_y = add_block(canvas2,block_x,block_y,blank_block_width,blank_block_height,BLANK)\n",
    "\n",
    "# Level1 - Branch 2\n",
    "coord_x,coord_y = elided_branch(canvas2,coord_x,coord_y,coord_x + branch_length, coord_y + branch_height + 10)\n",
    "\n",
    "# Level2 - Branch 1\n",
    "block_x,block_y = add_branch(canvas2,coord_x,coord_y,coord_x + branch_length, coord_y - branch_height)\n",
    "block_x,block_y = add_block(canvas2,block_x,block_y,AD_width - block_x,blank_block_height + 10,RED)\n",
    "\n",
    "# Level2 - Branch2\n",
    "# Additional Height = 20\n",
    "coord_x,coord_y = add_branch(canvas2,coord_x,coord_y,coord_x + branch_length, coord_y + branch_height + 20)\n",
    "\n",
    "# Level3 - Branch 1\n",
    "block_x,block_y = add_branch(canvas2,coord_x,coord_y,coord_x + branch_length, coord_y - branch_height - 10)\n",
    "block_x,block_y = add_block(canvas2,block_x,block_y,AD_width - block_x,blank_block_height + 10,GREEN)\n",
    "\n",
    "# Level3 - Branch2\n",
    "# Additional Height = 20\n",
    "block_x,block_y = add_branch(canvas2,coord_x,coord_y,coord_x + branch_length, coord_y + branch_height + 20)\n",
    "block_x,block_y = add_block(canvas2,block_x,block_y,AD_width - block_x,blank_block_height + 70,BEIGE)\n",
    "\n",
    "#level3 - Branch2 - nesting clade\n",
    "block_x,block_y = elided_branch(canvas2,block_x,block_y,block_x + branch_length, block_y + 2)\n",
    "block_x,block_y = add_block(canvas2,block_x,block_y,AD_width - block_x - 10,blank_block_height + 20,PURPLE)\n"
   ]
  },
  {
   "cell_type": "code",
   "execution_count": 5,
   "id": "ed9b858f-cda4-499b-85ad-e5e7bf95aef7",
   "metadata": {},
   "outputs": [
    {
     "data": {
      "application/vnd.jupyter.widget-view+json": {
       "model_id": "50670c25b73c48a9b5b6a4dae71c1d51",
       "version_major": 2,
       "version_minor": 0
      },
      "text/plain": [
       "HBox(children=(Canvas(height=250, width=250), Canvas(height=250, width=250)))"
      ]
     },
     "execution_count": 5,
     "metadata": {},
     "output_type": "execute_result"
    }
   ],
   "source": [
    "sprites = [canvas1, canvas2]\n",
    "HBox(sprites)"
   ]
  },
  {
   "cell_type": "code",
   "execution_count": 3,
   "id": "b3f1c521-7fbb-40a8-8612-60509c63e91e",
   "metadata": {},
   "outputs": [
    {
     "data": {
      "application/vnd.jupyter.widget-view+json": {
       "model_id": "d79771c710274b31b7926bb0ec908020",
       "version_major": 2,
       "version_minor": 0
      },
      "text/plain": [
       "Canvas(height=800, width=1200)"
      ]
     },
     "execution_count": 3,
     "metadata": {},
     "output_type": "execute_result"
    }
   ],
   "source": [
    "from ipycanvas import Canvas\n",
    "canvas = Canvas(height=800, width=1200)\n",
    "canvas.scale(1.0, 1.0)\n",
    "canvas.fill_rect(0,0,1100,1100)\n",
    "canvas.fill_style = RED\n",
    "width = 135\n",
    "height = 150\n",
    "x = 20\n",
    "canvas.fill_rect(x,20,width,height)\n",
    "\n",
    "canvas.fill_style = BLUE\n",
    "canvas.fill_rect(30,30,40,15)\n",
    "canvas.fill_rect(30,50,20,15)\n",
    "canvas.fill_style = RED\n",
    "x += width + 20\n",
    "canvas.fill_rect(x,20,width,height)\n",
    "x += width + 20\n",
    "canvas.fill_rect(x,20,width,height)\n",
    "x += width + 20\n",
    "canvas.fill_rect(x,20,width,height)\n",
    "x += width + 20\n",
    "canvas.fill_rect(x,20,width,height)\n",
    "x += width + 20\n",
    "canvas.fill_rect(x,20,width,height)\n",
    "x += width + 20\n",
    "canvas.fill_rect(x,20,width,height)\n",
    "\n",
    "\n",
    "canvas"
   ]
  },
  {
   "cell_type": "code",
   "execution_count": 9,
   "id": "7a2e899c-fb49-48d6-8c8c-7765ad12b0b8",
   "metadata": {},
   "outputs": [
    {
     "data": {
      "application/vnd.jupyter.widget-view+json": {
       "model_id": "a316343ed45b416da257056cd81676fb",
       "version_major": 2,
       "version_minor": 0
      },
      "text/plain": [
       "Canvas(height=200, width=200)"
      ]
     },
     "execution_count": 9,
     "metadata": {},
     "output_type": "execute_result"
    }
   ],
   "source": [
    "from ipycanvas import Canvas\n",
    "canvas = Canvas(width=200, height=200)\n",
    "line_dashes = [[2, 2], [5, 5], [8, 8], [10, 10]]\n",
    "\n",
    "canvas.fill_style = RED\n",
    "canvas.set_line_dash(line_dashes[1])\n",
    "canvas.begin_path()\n",
    "canvas.move_to(10,10)\n",
    "canvas.line_to(80,10)\n",
    "canvas.stroke()\n",
    "\n",
    "canvas\n"
   ]
  },
  {
   "cell_type": "code",
   "execution_count": 2,
   "id": "0c19b56a-316b-402e-aae4-becf54b6bf7f",
   "metadata": {},
   "outputs": [
    {
     "ename": "NameError",
     "evalue": "name 'ad_list' is not defined",
     "output_type": "error",
     "traceback": [
      "\u001b[1;31m---------------------------------------------------------------------------\u001b[0m",
      "\u001b[1;31mNameError\u001b[0m                                 Traceback (most recent call last)",
      "Cell \u001b[1;32mIn[2], line 38\u001b[0m\n\u001b[0;32m     35\u001b[0m             \u001b[38;5;28;01mawait\u001b[39;00m asyncio\u001b[38;5;241m.\u001b[39msleep(rate_limit)\n\u001b[0;32m     37\u001b[0m tree \u001b[38;5;241m=\u001b[39m Tree()\n\u001b[1;32m---> 38\u001b[0m asyncio\u001b[38;5;241m.\u001b[39mcreate_task(tree\u001b[38;5;241m.\u001b[39mdraw_with_rate_control(\u001b[43mad_list\u001b[49m, tree\u001b[38;5;241m.\u001b[39mcanvas, batch_size\u001b[38;5;241m=\u001b[39m\u001b[38;5;241m1\u001b[39m, rate_limit\u001b[38;5;241m=\u001b[39m\u001b[38;5;241m0.1\u001b[39m))\n\u001b[0;32m     39\u001b[0m tree\u001b[38;5;241m.\u001b[39mcanvas\n",
      "\u001b[1;31mNameError\u001b[0m: name 'ad_list' is not defined"
     ]
    }
   ],
   "source": [
    "import asyncio\n",
    "from ipycanvas import Canvas, hold_canvas\n",
    "\n",
    "class Tree:\n",
    "    def __init__(self):\n",
    "        self.canvas = Canvas(width=400, height=30)\n",
    "        \n",
    "    async def draw_ad(self):\n",
    "        pass\n",
    "    \n",
    "    async def draw_with_rate_control(self, ad_list, canvas, batch_size=10, rate_limit=0.1):\n",
    "        total_trees = len(ad_list)\n",
    "        completed_trees = 0\n",
    "    \n",
    "        for i in range(0, total_trees, batch_size):\n",
    "            batch = ad_list[i:i+batch_size] \n",
    "    \n",
    "            tasks = [self.draw_ad() for _ in range(len(batch))]\n",
    "            await asyncio.gather(*tasks)\n",
    "    \n",
    "            completed_trees += len(batch)\n",
    "    \n",
    "            progress = completed_trees / total_trees\n",
    "    \n",
    "            with hold_canvas(canvas):\n",
    "                canvas.clear_rect(0, 0, canvas.width, canvas.height)\n",
    "                canvas.fill_style = 'lightgray'\n",
    "                canvas.fill_rect(0, 0, 200, 50)\n",
    "                canvas.fill_style = 'blue'\n",
    "                canvas.fill_rect(0, 0, int(progress * 200), 50)\n",
    "                canvas.fill_style = 'black'\n",
    "                canvas.font = '16px Arial'\n",
    "                canvas.fill_text(f'Progress: {int(progress * 100)}%', 10, 20)\n",
    "    \n",
    "            await asyncio.sleep(rate_limit)\n",
    "\n",
    "tree = Tree()\n",
    "asyncio.create_task(tree.draw_with_rate_control(ad_list, tree.canvas, batch_size=1, rate_limit=0.1))\n",
    "tree.canvas\n"
   ]
  },
  {
   "cell_type": "code",
   "execution_count": 5,
   "id": "17aeaf8a-8493-43a2-b6c0-ccd94b1c874a",
   "metadata": {},
   "outputs": [
    {
     "name": "stdout",
     "output_type": "stream",
     "text": [
      "color code: #fd9780\n"
     ]
    },
    {
     "data": {
      "application/vnd.jupyter.widget-view+json": {
       "model_id": "ea9425f633ae4a0f92da97dfec6ec173",
       "version_major": 2,
       "version_minor": 0
      },
      "text/plain": [
       "Canvas(height=50)"
      ]
     },
     "metadata": {},
     "output_type": "display_data"
    }
   ],
   "source": [
    "from ipycanvas import Canvas\n",
    "\n",
    "canvas = Canvas(width=700, height=50)\n",
    "\n",
    "def hex_to_rgb(hex_color):\n",
    "    hex_color = hex_color.lstrip('#')\n",
    "    return tuple(int(hex_color[i:i+2], 16) for i in (0, 2, 4))\n",
    "\n",
    "def rgb_to_hex(rgb_color):\n",
    "    return '#{:02x}{:02x}{:02x}'.format(*rgb_color)\n",
    "\n",
    "def lighten_color(hex_color, amount):\n",
    "    rgb_color = hex_to_rgb(hex_color)\n",
    "    lightened_rgb = tuple(min(255, c + amount) for c in rgb_color)\n",
    "    return rgb_to_hex(lightened_rgb)\n",
    "\n",
    "initial_color_hex = RED\n",
    "\n",
    "lightened_color_hex = lighten_color(initial_color_hex, 10)\n",
    "\n",
    "print(\"color code:\", lightened_color_hex)\n",
    "\n",
    "\n",
    "gradient = canvas.create_linear_gradient(\n",
    "    0,\n",
    "    0, \n",
    "    350,\n",
    "    0, \n",
    "    [\n",
    "        (0,RED),\n",
    "        (0.2,RED),\n",
    "        (0.2, lightened_color_hex),\n",
    "        (0.4, lightened_color_hex),\n",
    "        (0.6, \"white\"),\n",
    "    ],\n",
    ")\n",
    "\n",
    "canvas.fill_style = gradient\n",
    "canvas.fill_rect(0, 0, 350, 50)\n",
    "\n",
    "display(canvas)\n"
   ]
  },
  {
   "cell_type": "code",
   "execution_count": 62,
   "id": "9a24fa9e-646c-48aa-a26a-dc2795a86cae",
   "metadata": {},
   "outputs": [
    {
     "name": "stdout",
     "output_type": "stream",
     "text": [
      "Collecting scikit-learn\n",
      "  Obtaining dependency information for scikit-learn from https://files.pythonhosted.org/packages/7b/0e/25d6b5678ed3c7e12bc94d047d0e9492e89cc78b7ea0034ac0f1cf2ff304/scikit_learn-1.4.1.post1-cp311-cp311-win_amd64.whl.metadata\n",
      "  Downloading scikit_learn-1.4.1.post1-cp311-cp311-win_amd64.whl.metadata (11 kB)\n",
      "Requirement already satisfied: numpy<2.0,>=1.19.5 in c:\\users\\coral\\desktop\\phylo\\venv\\lib\\site-packages (from scikit-learn) (1.26.2)\n",
      "Collecting scipy>=1.6.0 (from scikit-learn)\n",
      "  Obtaining dependency information for scipy>=1.6.0 from https://files.pythonhosted.org/packages/9a/25/5b30cb3efc9566f0ebeaeca1976150316353c17031ad7868ef46de5ab8dc/scipy-1.12.0-cp311-cp311-win_amd64.whl.metadata\n",
      "  Downloading scipy-1.12.0-cp311-cp311-win_amd64.whl.metadata (60 kB)\n",
      "     ---------------------------------------- 0.0/60.4 kB ? eta -:--:--\n",
      "     ------------------- ------------------ 30.7/60.4 kB 660.6 kB/s eta 0:00:01\n",
      "     -------------------------------------- 60.4/60.4 kB 809.7 kB/s eta 0:00:00\n",
      "Collecting joblib>=1.2.0 (from scikit-learn)\n",
      "  Obtaining dependency information for joblib>=1.2.0 from https://files.pythonhosted.org/packages/10/40/d551139c85db202f1f384ba8bcf96aca2f329440a844f924c8a0040b6d02/joblib-1.3.2-py3-none-any.whl.metadata\n",
      "  Downloading joblib-1.3.2-py3-none-any.whl.metadata (5.4 kB)\n",
      "Collecting threadpoolctl>=2.0.0 (from scikit-learn)\n",
      "  Obtaining dependency information for threadpoolctl>=2.0.0 from https://files.pythonhosted.org/packages/1e/84/ccd9b08653022b7785b6e3ee070ffb2825841e0dc119be22f0840b2b35cb/threadpoolctl-3.4.0-py3-none-any.whl.metadata\n",
      "  Downloading threadpoolctl-3.4.0-py3-none-any.whl.metadata (13 kB)\n",
      "Downloading scikit_learn-1.4.1.post1-cp311-cp311-win_amd64.whl (10.6 MB)\n",
      "   ---------------------------------------- 0.0/10.6 MB ? eta -:--:--\n",
      "   ---------------------------------------- 0.1/10.6 MB 1.3 MB/s eta 0:00:08\n",
      "    --------------------------------------- 0.2/10.6 MB 1.8 MB/s eta 0:00:06\n",
      "   - -------------------------------------- 0.3/10.6 MB 2.3 MB/s eta 0:00:05\n",
      "   -- ------------------------------------- 0.5/10.6 MB 3.1 MB/s eta 0:00:04\n",
      "   --- ------------------------------------ 0.9/10.6 MB 3.9 MB/s eta 0:00:03\n",
      "   ---- ----------------------------------- 1.2/10.6 MB 4.4 MB/s eta 0:00:03\n",
      "   ------ --------------------------------- 1.7/10.6 MB 5.1 MB/s eta 0:00:02\n",
      "   ------- -------------------------------- 2.0/10.6 MB 5.3 MB/s eta 0:00:02\n",
      "   --------- ------------------------------ 2.5/10.6 MB 5.8 MB/s eta 0:00:02\n",
      "   ---------- ----------------------------- 2.9/10.6 MB 6.4 MB/s eta 0:00:02\n",
      "   ------------ --------------------------- 3.4/10.6 MB 6.7 MB/s eta 0:00:02\n",
      "   ------------- -------------------------- 3.6/10.6 MB 6.6 MB/s eta 0:00:02\n",
      "   -------------- ------------------------- 3.9/10.6 MB 6.5 MB/s eta 0:00:02\n",
      "   --------------- ------------------------ 4.1/10.6 MB 6.5 MB/s eta 0:00:02\n",
      "   ----------------- ---------------------- 4.7/10.6 MB 6.9 MB/s eta 0:00:01\n",
      "   ------------------- -------------------- 5.1/10.6 MB 6.9 MB/s eta 0:00:01\n",
      "   -------------------- ------------------- 5.4/10.6 MB 6.9 MB/s eta 0:00:01\n",
      "   --------------------- ------------------ 5.8/10.6 MB 7.0 MB/s eta 0:00:01\n",
      "   ---------------------- ----------------- 6.0/10.6 MB 7.0 MB/s eta 0:00:01\n",
      "   ----------------------- ---------------- 6.3/10.6 MB 6.9 MB/s eta 0:00:01\n",
      "   -------------------------- ------------- 7.0/10.6 MB 7.2 MB/s eta 0:00:01\n",
      "   -------------------------- ------------- 7.1/10.6 MB 7.2 MB/s eta 0:00:01\n",
      "   -------------------------- ------------- 7.1/10.6 MB 7.2 MB/s eta 0:00:01\n",
      "   -------------------------- ------------- 7.2/10.6 MB 6.5 MB/s eta 0:00:01\n",
      "   ---------------------------- ----------- 7.6/10.6 MB 6.6 MB/s eta 0:00:01\n",
      "   -------------------------------- ------- 8.7/10.6 MB 7.3 MB/s eta 0:00:01\n",
      "   --------------------------------- ------ 8.8/10.6 MB 7.1 MB/s eta 0:00:01\n",
      "   ---------------------------------- ----- 9.2/10.6 MB 7.1 MB/s eta 0:00:01\n",
      "   ------------------------------------ --- 9.6/10.6 MB 7.2 MB/s eta 0:00:01\n",
      "   ------------------------------------- -- 9.9/10.6 MB 7.1 MB/s eta 0:00:01\n",
      "   -------------------------------------- - 10.4/10.6 MB 7.5 MB/s eta 0:00:01\n",
      "   ---------------------------------------  10.6/10.6 MB 7.8 MB/s eta 0:00:01\n",
      "   ---------------------------------------- 10.6/10.6 MB 7.6 MB/s eta 0:00:00\n",
      "Downloading joblib-1.3.2-py3-none-any.whl (302 kB)\n",
      "   ---------------------------------------- 0.0/302.2 kB ? eta -:--:--\n",
      "   ---------------------------------------- 302.2/302.2 kB 6.2 MB/s eta 0:00:00\n",
      "Downloading scipy-1.12.0-cp311-cp311-win_amd64.whl (46.2 MB)\n",
      "   ---------------------------------------- 0.0/46.2 MB ? eta -:--:--\n",
      "   ---------------------------------------- 0.2/46.2 MB 12.2 MB/s eta 0:00:04\n",
      "    --------------------------------------- 0.7/46.2 MB 8.9 MB/s eta 0:00:06\n",
      "    --------------------------------------- 1.1/46.2 MB 8.7 MB/s eta 0:00:06\n",
      "   - -------------------------------------- 1.4/46.2 MB 8.9 MB/s eta 0:00:06\n",
      "   - -------------------------------------- 1.8/46.2 MB 8.0 MB/s eta 0:00:06\n",
      "   - -------------------------------------- 2.2/46.2 MB 8.4 MB/s eta 0:00:06\n",
      "   -- ------------------------------------- 2.7/46.2 MB 8.5 MB/s eta 0:00:06\n",
      "   -- ------------------------------------- 3.0/46.2 MB 8.8 MB/s eta 0:00:05\n",
      "   --- ------------------------------------ 3.5/46.2 MB 8.9 MB/s eta 0:00:05\n",
      "   --- ------------------------------------ 4.1/46.2 MB 9.2 MB/s eta 0:00:05\n",
      "   --- ------------------------------------ 4.5/46.2 MB 9.2 MB/s eta 0:00:05\n",
      "   ---- ----------------------------------- 4.9/46.2 MB 9.2 MB/s eta 0:00:05\n",
      "   ---- ----------------------------------- 5.2/46.2 MB 9.1 MB/s eta 0:00:05\n",
      "   ---- ----------------------------------- 5.7/46.2 MB 9.0 MB/s eta 0:00:05\n",
      "   ----- ---------------------------------- 5.9/46.2 MB 8.8 MB/s eta 0:00:05\n",
      "   ----- ---------------------------------- 6.2/46.2 MB 8.9 MB/s eta 0:00:05\n",
      "   ----- ---------------------------------- 6.5/46.2 MB 8.5 MB/s eta 0:00:05\n",
      "   ----- ---------------------------------- 6.8/46.2 MB 8.4 MB/s eta 0:00:05\n",
      "   ------ --------------------------------- 7.4/46.2 MB 8.6 MB/s eta 0:00:05\n",
      "   ------ --------------------------------- 7.9/46.2 MB 8.7 MB/s eta 0:00:05\n",
      "   ------- -------------------------------- 8.4/46.2 MB 8.8 MB/s eta 0:00:05\n",
      "   ------- -------------------------------- 9.0/46.2 MB 9.0 MB/s eta 0:00:05\n",
      "   -------- ------------------------------- 9.4/46.2 MB 9.0 MB/s eta 0:00:05\n",
      "   -------- ------------------------------- 9.8/46.2 MB 9.0 MB/s eta 0:00:05\n",
      "   -------- ------------------------------- 10.2/46.2 MB 8.9 MB/s eta 0:00:05\n",
      "   --------- ------------------------------ 10.6/46.2 MB 9.0 MB/s eta 0:00:04\n",
      "   --------- ------------------------------ 11.0/46.2 MB 9.0 MB/s eta 0:00:04\n",
      "   --------- ------------------------------ 11.3/46.2 MB 8.8 MB/s eta 0:00:04\n",
      "   ---------- ----------------------------- 11.7/46.2 MB 8.8 MB/s eta 0:00:04\n",
      "   ---------- ----------------------------- 12.1/46.2 MB 9.0 MB/s eta 0:00:04\n",
      "   ---------- ----------------------------- 12.6/46.2 MB 8.8 MB/s eta 0:00:04\n",
      "   ----------- ---------------------------- 13.1/46.2 MB 9.1 MB/s eta 0:00:04\n",
      "   ----------- ---------------------------- 13.6/46.2 MB 9.2 MB/s eta 0:00:04\n",
      "   ------------ --------------------------- 14.3/46.2 MB 9.4 MB/s eta 0:00:04\n",
      "   ------------ --------------------------- 14.7/46.2 MB 9.4 MB/s eta 0:00:04\n",
      "   ------------- -------------------------- 15.1/46.2 MB 9.2 MB/s eta 0:00:04\n",
      "   ------------- -------------------------- 15.5/46.2 MB 9.4 MB/s eta 0:00:04\n",
      "   ------------- -------------------------- 15.8/46.2 MB 9.2 MB/s eta 0:00:04\n",
      "   -------------- ------------------------- 16.2/46.2 MB 9.6 MB/s eta 0:00:04\n",
      "   -------------- ------------------------- 16.2/46.2 MB 9.6 MB/s eta 0:00:04\n",
      "   -------------- ------------------------- 16.2/46.2 MB 9.6 MB/s eta 0:00:04\n",
      "   -------------- ------------------------- 16.2/46.2 MB 9.6 MB/s eta 0:00:04\n",
      "   -------------- ------------------------- 16.2/46.2 MB 9.6 MB/s eta 0:00:04\n",
      "   -------------- ------------------------- 16.2/46.2 MB 9.6 MB/s eta 0:00:04\n",
      "   -------------- ------------------------- 16.5/46.2 MB 7.8 MB/s eta 0:00:04\n",
      "   -------------- ------------------------- 16.5/46.2 MB 7.4 MB/s eta 0:00:04\n",
      "   --------------- ------------------------ 17.6/46.2 MB 7.9 MB/s eta 0:00:04\n",
      "   --------------- ------------------------ 18.2/46.2 MB 8.0 MB/s eta 0:00:04\n",
      "   ---------------- ----------------------- 18.5/46.2 MB 7.9 MB/s eta 0:00:04\n",
      "   ---------------- ----------------------- 18.9/46.2 MB 7.7 MB/s eta 0:00:04\n",
      "   ---------------- ----------------------- 19.3/46.2 MB 7.7 MB/s eta 0:00:04\n",
      "   ----------------- ---------------------- 19.8/46.2 MB 7.7 MB/s eta 0:00:04\n",
      "   ----------------- ---------------------- 20.2/46.2 MB 7.7 MB/s eta 0:00:04\n",
      "   ----------------- ---------------------- 20.5/46.2 MB 7.7 MB/s eta 0:00:04\n",
      "   ------------------ --------------------- 20.8/46.2 MB 7.5 MB/s eta 0:00:04\n",
      "   ------------------ --------------------- 21.1/46.2 MB 7.5 MB/s eta 0:00:04\n",
      "   ------------------ --------------------- 21.4/46.2 MB 7.4 MB/s eta 0:00:04\n",
      "   ------------------ --------------------- 21.7/46.2 MB 7.5 MB/s eta 0:00:04\n",
      "   ------------------- -------------------- 22.0/46.2 MB 7.5 MB/s eta 0:00:04\n",
      "   ------------------- -------------------- 22.3/46.2 MB 7.4 MB/s eta 0:00:04\n",
      "   ------------------- -------------------- 22.6/46.2 MB 7.4 MB/s eta 0:00:04\n",
      "   ------------------- -------------------- 22.9/46.2 MB 7.3 MB/s eta 0:00:04\n",
      "   -------------------- ------------------- 23.2/46.2 MB 7.1 MB/s eta 0:00:04\n",
      "   -------------------- ------------------- 23.5/46.2 MB 7.0 MB/s eta 0:00:04\n",
      "   -------------------- ------------------- 23.8/46.2 MB 6.9 MB/s eta 0:00:04\n",
      "   -------------------- ------------------- 24.0/46.2 MB 6.8 MB/s eta 0:00:04\n",
      "   --------------------- ------------------ 24.5/46.2 MB 6.6 MB/s eta 0:00:04\n",
      "   --------------------- ------------------ 24.8/46.2 MB 6.5 MB/s eta 0:00:04\n",
      "   --------------------- ------------------ 25.0/46.2 MB 6.5 MB/s eta 0:00:04\n",
      "   --------------------- ------------------ 25.2/46.2 MB 6.5 MB/s eta 0:00:04\n",
      "   ---------------------- ----------------- 25.6/46.2 MB 6.4 MB/s eta 0:00:04\n",
      "   ---------------------- ----------------- 26.0/46.2 MB 6.4 MB/s eta 0:00:04\n",
      "   ---------------------- ----------------- 26.3/46.2 MB 6.3 MB/s eta 0:00:04\n",
      "   ---------------------- ----------------- 26.3/46.2 MB 6.3 MB/s eta 0:00:04\n",
      "   ---------------------- ----------------- 26.5/46.2 MB 7.3 MB/s eta 0:00:03\n",
      "   ----------------------- ---------------- 26.6/46.2 MB 7.0 MB/s eta 0:00:03\n",
      "   ----------------------- ---------------- 26.7/46.2 MB 6.8 MB/s eta 0:00:03\n",
      "   ----------------------- ---------------- 26.9/46.2 MB 7.0 MB/s eta 0:00:03\n",
      "   ----------------------- ---------------- 27.0/46.2 MB 6.8 MB/s eta 0:00:03\n",
      "   ----------------------- ---------------- 27.4/46.2 MB 6.7 MB/s eta 0:00:03\n",
      "   ------------------------ --------------- 27.9/46.2 MB 6.5 MB/s eta 0:00:03\n",
      "   ------------------------ --------------- 28.3/46.2 MB 6.4 MB/s eta 0:00:03\n",
      "   ------------------------ --------------- 28.8/46.2 MB 6.5 MB/s eta 0:00:03\n",
      "   ------------------------- -------------- 29.3/46.2 MB 6.5 MB/s eta 0:00:03\n",
      "   ------------------------- -------------- 29.5/46.2 MB 6.4 MB/s eta 0:00:03\n",
      "   ------------------------- -------------- 29.7/46.2 MB 6.4 MB/s eta 0:00:03\n",
      "   -------------------------- ------------- 30.2/46.2 MB 6.4 MB/s eta 0:00:03\n",
      "   -------------------------- ------------- 30.4/46.2 MB 6.4 MB/s eta 0:00:03\n",
      "   -------------------------- ------------- 30.4/46.2 MB 6.4 MB/s eta 0:00:03\n",
      "   -------------------------- ------------- 30.4/46.2 MB 6.4 MB/s eta 0:00:03\n",
      "   -------------------------- ------------- 30.4/46.2 MB 6.4 MB/s eta 0:00:03\n",
      "   --------------------------- ------------ 31.2/46.2 MB 6.0 MB/s eta 0:00:03\n",
      "   ---------------------------- ----------- 32.8/46.2 MB 6.8 MB/s eta 0:00:02\n",
      "   ---------------------------- ----------- 33.3/46.2 MB 7.0 MB/s eta 0:00:02\n",
      "   ----------------------------- ---------- 33.8/46.2 MB 7.1 MB/s eta 0:00:02\n",
      "   ----------------------------- ---------- 34.2/46.2 MB 7.2 MB/s eta 0:00:02\n",
      "   ----------------------------- ---------- 34.5/46.2 MB 7.3 MB/s eta 0:00:02\n",
      "   ------------------------------ --------- 34.7/46.2 MB 7.0 MB/s eta 0:00:02\n",
      "   ------------------------------ --------- 35.2/46.2 MB 7.2 MB/s eta 0:00:02\n",
      "   ------------------------------ --------- 35.6/46.2 MB 7.4 MB/s eta 0:00:02\n",
      "   ------------------------------ --------- 35.7/46.2 MB 7.3 MB/s eta 0:00:02\n",
      "   ------------------------------- -------- 36.0/46.2 MB 7.4 MB/s eta 0:00:02\n",
      "   ------------------------------- -------- 36.3/46.2 MB 7.2 MB/s eta 0:00:02\n",
      "   ------------------------------- -------- 36.6/46.2 MB 7.2 MB/s eta 0:00:02\n",
      "   -------------------------------- ------- 36.9/46.2 MB 7.8 MB/s eta 0:00:02\n",
      "   -------------------------------- ------- 37.4/46.2 MB 8.2 MB/s eta 0:00:02\n",
      "   -------------------------------- ------- 37.9/46.2 MB 8.2 MB/s eta 0:00:02\n",
      "   --------------------------------- ------ 38.4/46.2 MB 8.3 MB/s eta 0:00:01\n",
      "   --------------------------------- ------ 38.9/46.2 MB 8.3 MB/s eta 0:00:01\n",
      "   ---------------------------------- ----- 39.3/46.2 MB 8.3 MB/s eta 0:00:01\n",
      "   ---------------------------------- ----- 39.9/46.2 MB 8.5 MB/s eta 0:00:01\n",
      "   ---------------------------------- ----- 40.2/46.2 MB 8.6 MB/s eta 0:00:01\n",
      "   ----------------------------------- ---- 40.5/46.2 MB 8.5 MB/s eta 0:00:01\n",
      "   ----------------------------------- ---- 40.9/46.2 MB 9.6 MB/s eta 0:00:01\n",
      "   ----------------------------------- ---- 41.2/46.2 MB 9.6 MB/s eta 0:00:01\n",
      "   ----------------------------------- ---- 41.2/46.2 MB 9.6 MB/s eta 0:00:01\n",
      "   ----------------------------------- ---- 41.5/46.2 MB 9.0 MB/s eta 0:00:01\n",
      "   ------------------------------------ --- 41.9/46.2 MB 8.6 MB/s eta 0:00:01\n",
      "   ------------------------------------ --- 42.4/46.2 MB 8.3 MB/s eta 0:00:01\n",
      "   ------------------------------------- -- 42.9/46.2 MB 8.1 MB/s eta 0:00:01\n",
      "   ------------------------------------- -- 43.5/46.2 MB 8.2 MB/s eta 0:00:01\n",
      "   -------------------------------------- - 44.0/46.2 MB 8.3 MB/s eta 0:00:01\n",
      "   -------------------------------------- - 44.7/46.2 MB 8.4 MB/s eta 0:00:01\n",
      "   ---------------------------------------  45.1/46.2 MB 8.6 MB/s eta 0:00:01\n",
      "   ---------------------------------------  45.4/46.2 MB 8.6 MB/s eta 0:00:01\n",
      "   ---------------------------------------  45.9/46.2 MB 8.6 MB/s eta 0:00:01\n",
      "   ---------------------------------------  46.2/46.2 MB 8.7 MB/s eta 0:00:01\n",
      "   ---------------------------------------  46.2/46.2 MB 8.7 MB/s eta 0:00:01\n",
      "   ---------------------------------------  46.2/46.2 MB 8.7 MB/s eta 0:00:01\n",
      "   ---------------------------------------- 46.2/46.2 MB 7.5 MB/s eta 0:00:00\n",
      "Downloading threadpoolctl-3.4.0-py3-none-any.whl (17 kB)\n",
      "Installing collected packages: threadpoolctl, scipy, joblib, scikit-learn\n",
      "Successfully installed joblib-1.3.2 scikit-learn-1.4.1.post1 scipy-1.12.0 threadpoolctl-3.4.0\n"
     ]
    },
    {
     "name": "stderr",
     "output_type": "stream",
     "text": [
      "\n",
      "[notice] A new release of pip is available: 23.2.1 -> 24.0\n",
      "[notice] To update, run: python.exe -m pip install --upgrade pip\n"
     ]
    }
   ],
   "source": [
    "!pip install scikit-learn"
   ]
  },
  {
   "cell_type": "code",
   "execution_count": 48,
   "id": "0f37997a-6041-4d21-b64b-8887faef1c14",
   "metadata": {},
   "outputs": [
    {
     "name": "stdout",
     "output_type": "stream",
     "text": [
      "[[4.90699100e-01 2.09002478e-01 9.70806869e-01 ... 4.64036983e-01\n",
      "  2.13625803e-01 2.95546518e-01]\n",
      " [7.64638936e-01 9.99588826e-01 1.39479706e-01 ... 7.73323956e-01\n",
      "  2.08420985e-02 8.50556471e-01]\n",
      " [7.17296291e-01 9.89493399e-01 5.45403350e-02 ... 4.49396729e-04\n",
      "  1.76451342e-01 8.98396343e-02]\n",
      " ...\n",
      " [1.68748698e-01 5.68074490e-01 6.16281757e-03 ... 9.51290775e-01\n",
      "  1.53999098e-02 7.03343398e-01]\n",
      " [2.15422103e-01 4.09883660e-03 1.62769826e-01 ... 6.56735886e-02\n",
      "  4.63622277e-01 9.23886176e-01]\n",
      " [7.98178700e-01 8.97950254e-01 4.67696660e-01 ... 6.84487070e-01\n",
      "  2.46128664e-01 1.73153027e-01]]\n",
      "[[0.4906991  0.48682071 0.84405158 ... 0.31639284 0.21452395 0.54686261]\n",
      " [0.48682071 0.99958883 0.56448655 ... 0.67069922 0.01247047 0.87425336]\n",
      " [0.84405158 0.56448655 0.05454033 ... 0.00330611 0.16961058 0.27876815]\n",
      " ...\n",
      " [0.31639284 0.67069922 0.00330611 ... 0.95129078 0.04053675 0.69391523]\n",
      " [0.21452395 0.01247047 0.16961058 ... 0.04053675 0.46362228 0.58500742]\n",
      " [0.54686261 0.87425336 0.27876815 ... 0.69391523 0.58500742 0.17315303]]\n",
      "[[0.         0.48682071 0.84405158 ... 0.31639284 0.21452395 0.54686261]\n",
      " [0.48682071 0.         0.56448655 ... 0.67069922 0.01247047 0.87425336]\n",
      " [0.84405158 0.56448655 0.         ... 0.00330611 0.16961058 0.27876815]\n",
      " ...\n",
      " [0.31639284 0.67069922 0.00330611 ... 0.         0.04053675 0.69391523]\n",
      " [0.21452395 0.01247047 0.16961058 ... 0.04053675 0.         0.58500742]\n",
      " [0.54686261 0.87425336 0.27876815 ... 0.69391523 0.58500742 0.        ]]\n"
     ]
    },
    {
     "data": {
      "application/vnd.plotly.v1+json": {
       "config": {
        "plotlyServerURL": "https://plot.ly"
       },
       "data": [
        {
         "hoverinfo": "text",
         "mode": "markers",
         "name": "Distance",
         "text": [
          "ID: Point 1",
          "ID: Point 2",
          "ID: Point 3",
          "ID: Point 4",
          "ID: Point 5",
          "ID: Point 6",
          "ID: Point 7",
          "ID: Point 8",
          "ID: Point 9",
          "ID: Point 10",
          "ID: Point 11",
          "ID: Point 12",
          "ID: Point 13",
          "ID: Point 14",
          "ID: Point 15",
          "ID: Point 16",
          "ID: Point 17",
          "ID: Point 18",
          "ID: Point 19",
          "ID: Point 20",
          "ID: Point 21",
          "ID: Point 22",
          "ID: Point 23",
          "ID: Point 24",
          "ID: Point 25",
          "ID: Point 26",
          "ID: Point 27",
          "ID: Point 28",
          "ID: Point 29",
          "ID: Point 30",
          "ID: Point 31",
          "ID: Point 32",
          "ID: Point 33",
          "ID: Point 34",
          "ID: Point 35",
          "ID: Point 36",
          "ID: Point 37",
          "ID: Point 38",
          "ID: Point 39",
          "ID: Point 40",
          "ID: Point 41",
          "ID: Point 42",
          "ID: Point 43",
          "ID: Point 44",
          "ID: Point 45",
          "ID: Point 46",
          "ID: Point 47",
          "ID: Point 48",
          "ID: Point 49",
          "ID: Point 50",
          "ID: Point 51",
          "ID: Point 52",
          "ID: Point 53",
          "ID: Point 54",
          "ID: Point 55",
          "ID: Point 56",
          "ID: Point 57",
          "ID: Point 58",
          "ID: Point 59",
          "ID: Point 60"
         ],
         "type": "scatter",
         "x": [
          0.3375580847738118,
          0.7603195634066843,
          0.8341204948681974,
          0.5032580821810168,
          0.7354096149368545,
          0.3159682026801319,
          0.3223955085323438,
          0.21953296702365266,
          0.4848553652635204,
          0.33001087072727464,
          0.08413097964340355,
          0.3670287024001371,
          0.5374519291613469,
          0.7735132459111347,
          0.6721337903324907,
          0.5321387883751338,
          0.18330123043199698,
          0.08603029162629888,
          0.7224214591763464,
          0.6550892847174259,
          0.21400534652779013,
          0.5675895669092299,
          0.6592364209681252,
          0.17994132618283015,
          0.842069536073494,
          0.2086791636475953,
          0.11999579331188148,
          0.7351012178616471,
          0,
          0.8692911996535868,
          0.6088101703207471,
          0.2782316462277876,
          0.15988689078392992,
          0.4709000094537785,
          0.8094618469280104,
          0.6934139605314735,
          0.2954552756524037,
          0.557309349704299,
          0.3696888260787141,
          0.20181399446255227,
          0.44384001272768014,
          0.3730460468037312,
          0.9063181518520242,
          0.3462065224761173,
          0.43574351825235086,
          0.7231668165917395,
          0.6899758980625383,
          0.542597846720417,
          0.13538264823691282,
          0.2391737374283704,
          0.39068671015418593,
          0.47274156347601315,
          0.4102376641727513,
          0.8391574362317713,
          0.7988404504812775,
          0.6357238827655616,
          0.21605014572856912,
          0.5452356249552415,
          0.6390454435350288,
          0.6221296336302655
         ],
         "y": [
          0,
          0.15875152066486076,
          0.507484072643264,
          0.6582708018268056,
          0.15653225238578755,
          0.4176172723626309,
          0.6472715177550356,
          0.771831943378102,
          0.8961790523120922,
          0.8326869655040581,
          0.5209733335754199,
          0.7834356094977087,
          0.02704619447167733,
          0.7032636749204866,
          0.8278241907604715,
          0.5355399939608513,
          0.553133429374119,
          0.6013088655518564,
          0.36371612347112287,
          0.12752981798533752,
          0.37984635156576757,
          0.03724073965652891,
          0.40441858622175086,
          0.2871114666895441,
          0.37941549580978584,
          0.21175437760673063,
          0.23716953552049386,
          0.5737255349512054,
          0.45046039058576776,
          0.5786706240030974,
          0.33222302745697363,
          0.1325050990087117,
          0.3850092159004802,
          0.22371834511234506,
          0.21088582040866372,
          0.5954712755016308,
          0.32278000118439265,
          0.1294293391013135,
          0.2448801948116138,
          0.6630027040931445,
          0.13635282604785665,
          0.6197483113077693,
          0.5318126023481786,
          0.4855779827072828,
          0.7554460973540749,
          0.759906311016191,
          0.7239859489496772,
          0.7393588292175635,
          0.16535126084361473,
          0.6487654456107818,
          0.32980884228858875,
          0.4373717338035905,
          0.8559870034871728,
          0.4592289528175344,
          0.2742257085920805,
          0.07890162032660869,
          0.47608832213950303,
          0.2672173179973568,
          0.2347073109795046,
          0.6918472588818779
         ]
        }
       ],
       "layout": {
        "dragmode": false,
        "height": 600,
        "plot_bgcolor": "#FFF0D5",
        "template": {
         "data": {
          "bar": [
           {
            "error_x": {
             "color": "#2a3f5f"
            },
            "error_y": {
             "color": "#2a3f5f"
            },
            "marker": {
             "line": {
              "color": "#E5ECF6",
              "width": 0.5
             },
             "pattern": {
              "fillmode": "overlay",
              "size": 10,
              "solidity": 0.2
             }
            },
            "type": "bar"
           }
          ],
          "barpolar": [
           {
            "marker": {
             "line": {
              "color": "#E5ECF6",
              "width": 0.5
             },
             "pattern": {
              "fillmode": "overlay",
              "size": 10,
              "solidity": 0.2
             }
            },
            "type": "barpolar"
           }
          ],
          "carpet": [
           {
            "aaxis": {
             "endlinecolor": "#2a3f5f",
             "gridcolor": "white",
             "linecolor": "white",
             "minorgridcolor": "white",
             "startlinecolor": "#2a3f5f"
            },
            "baxis": {
             "endlinecolor": "#2a3f5f",
             "gridcolor": "white",
             "linecolor": "white",
             "minorgridcolor": "white",
             "startlinecolor": "#2a3f5f"
            },
            "type": "carpet"
           }
          ],
          "choropleth": [
           {
            "colorbar": {
             "outlinewidth": 0,
             "ticks": ""
            },
            "type": "choropleth"
           }
          ],
          "contour": [
           {
            "colorbar": {
             "outlinewidth": 0,
             "ticks": ""
            },
            "colorscale": [
             [
              0,
              "#0d0887"
             ],
             [
              0.1111111111111111,
              "#46039f"
             ],
             [
              0.2222222222222222,
              "#7201a8"
             ],
             [
              0.3333333333333333,
              "#9c179e"
             ],
             [
              0.4444444444444444,
              "#bd3786"
             ],
             [
              0.5555555555555556,
              "#d8576b"
             ],
             [
              0.6666666666666666,
              "#ed7953"
             ],
             [
              0.7777777777777778,
              "#fb9f3a"
             ],
             [
              0.8888888888888888,
              "#fdca26"
             ],
             [
              1,
              "#f0f921"
             ]
            ],
            "type": "contour"
           }
          ],
          "contourcarpet": [
           {
            "colorbar": {
             "outlinewidth": 0,
             "ticks": ""
            },
            "type": "contourcarpet"
           }
          ],
          "heatmap": [
           {
            "colorbar": {
             "outlinewidth": 0,
             "ticks": ""
            },
            "colorscale": [
             [
              0,
              "#0d0887"
             ],
             [
              0.1111111111111111,
              "#46039f"
             ],
             [
              0.2222222222222222,
              "#7201a8"
             ],
             [
              0.3333333333333333,
              "#9c179e"
             ],
             [
              0.4444444444444444,
              "#bd3786"
             ],
             [
              0.5555555555555556,
              "#d8576b"
             ],
             [
              0.6666666666666666,
              "#ed7953"
             ],
             [
              0.7777777777777778,
              "#fb9f3a"
             ],
             [
              0.8888888888888888,
              "#fdca26"
             ],
             [
              1,
              "#f0f921"
             ]
            ],
            "type": "heatmap"
           }
          ],
          "heatmapgl": [
           {
            "colorbar": {
             "outlinewidth": 0,
             "ticks": ""
            },
            "colorscale": [
             [
              0,
              "#0d0887"
             ],
             [
              0.1111111111111111,
              "#46039f"
             ],
             [
              0.2222222222222222,
              "#7201a8"
             ],
             [
              0.3333333333333333,
              "#9c179e"
             ],
             [
              0.4444444444444444,
              "#bd3786"
             ],
             [
              0.5555555555555556,
              "#d8576b"
             ],
             [
              0.6666666666666666,
              "#ed7953"
             ],
             [
              0.7777777777777778,
              "#fb9f3a"
             ],
             [
              0.8888888888888888,
              "#fdca26"
             ],
             [
              1,
              "#f0f921"
             ]
            ],
            "type": "heatmapgl"
           }
          ],
          "histogram": [
           {
            "marker": {
             "pattern": {
              "fillmode": "overlay",
              "size": 10,
              "solidity": 0.2
             }
            },
            "type": "histogram"
           }
          ],
          "histogram2d": [
           {
            "colorbar": {
             "outlinewidth": 0,
             "ticks": ""
            },
            "colorscale": [
             [
              0,
              "#0d0887"
             ],
             [
              0.1111111111111111,
              "#46039f"
             ],
             [
              0.2222222222222222,
              "#7201a8"
             ],
             [
              0.3333333333333333,
              "#9c179e"
             ],
             [
              0.4444444444444444,
              "#bd3786"
             ],
             [
              0.5555555555555556,
              "#d8576b"
             ],
             [
              0.6666666666666666,
              "#ed7953"
             ],
             [
              0.7777777777777778,
              "#fb9f3a"
             ],
             [
              0.8888888888888888,
              "#fdca26"
             ],
             [
              1,
              "#f0f921"
             ]
            ],
            "type": "histogram2d"
           }
          ],
          "histogram2dcontour": [
           {
            "colorbar": {
             "outlinewidth": 0,
             "ticks": ""
            },
            "colorscale": [
             [
              0,
              "#0d0887"
             ],
             [
              0.1111111111111111,
              "#46039f"
             ],
             [
              0.2222222222222222,
              "#7201a8"
             ],
             [
              0.3333333333333333,
              "#9c179e"
             ],
             [
              0.4444444444444444,
              "#bd3786"
             ],
             [
              0.5555555555555556,
              "#d8576b"
             ],
             [
              0.6666666666666666,
              "#ed7953"
             ],
             [
              0.7777777777777778,
              "#fb9f3a"
             ],
             [
              0.8888888888888888,
              "#fdca26"
             ],
             [
              1,
              "#f0f921"
             ]
            ],
            "type": "histogram2dcontour"
           }
          ],
          "mesh3d": [
           {
            "colorbar": {
             "outlinewidth": 0,
             "ticks": ""
            },
            "type": "mesh3d"
           }
          ],
          "parcoords": [
           {
            "line": {
             "colorbar": {
              "outlinewidth": 0,
              "ticks": ""
             }
            },
            "type": "parcoords"
           }
          ],
          "pie": [
           {
            "automargin": true,
            "type": "pie"
           }
          ],
          "scatter": [
           {
            "fillpattern": {
             "fillmode": "overlay",
             "size": 10,
             "solidity": 0.2
            },
            "type": "scatter"
           }
          ],
          "scatter3d": [
           {
            "line": {
             "colorbar": {
              "outlinewidth": 0,
              "ticks": ""
             }
            },
            "marker": {
             "colorbar": {
              "outlinewidth": 0,
              "ticks": ""
             }
            },
            "type": "scatter3d"
           }
          ],
          "scattercarpet": [
           {
            "marker": {
             "colorbar": {
              "outlinewidth": 0,
              "ticks": ""
             }
            },
            "type": "scattercarpet"
           }
          ],
          "scattergeo": [
           {
            "marker": {
             "colorbar": {
              "outlinewidth": 0,
              "ticks": ""
             }
            },
            "type": "scattergeo"
           }
          ],
          "scattergl": [
           {
            "marker": {
             "colorbar": {
              "outlinewidth": 0,
              "ticks": ""
             }
            },
            "type": "scattergl"
           }
          ],
          "scattermapbox": [
           {
            "marker": {
             "colorbar": {
              "outlinewidth": 0,
              "ticks": ""
             }
            },
            "type": "scattermapbox"
           }
          ],
          "scatterpolar": [
           {
            "marker": {
             "colorbar": {
              "outlinewidth": 0,
              "ticks": ""
             }
            },
            "type": "scatterpolar"
           }
          ],
          "scatterpolargl": [
           {
            "marker": {
             "colorbar": {
              "outlinewidth": 0,
              "ticks": ""
             }
            },
            "type": "scatterpolargl"
           }
          ],
          "scatterternary": [
           {
            "marker": {
             "colorbar": {
              "outlinewidth": 0,
              "ticks": ""
             }
            },
            "type": "scatterternary"
           }
          ],
          "surface": [
           {
            "colorbar": {
             "outlinewidth": 0,
             "ticks": ""
            },
            "colorscale": [
             [
              0,
              "#0d0887"
             ],
             [
              0.1111111111111111,
              "#46039f"
             ],
             [
              0.2222222222222222,
              "#7201a8"
             ],
             [
              0.3333333333333333,
              "#9c179e"
             ],
             [
              0.4444444444444444,
              "#bd3786"
             ],
             [
              0.5555555555555556,
              "#d8576b"
             ],
             [
              0.6666666666666666,
              "#ed7953"
             ],
             [
              0.7777777777777778,
              "#fb9f3a"
             ],
             [
              0.8888888888888888,
              "#fdca26"
             ],
             [
              1,
              "#f0f921"
             ]
            ],
            "type": "surface"
           }
          ],
          "table": [
           {
            "cells": {
             "fill": {
              "color": "#EBF0F8"
             },
             "line": {
              "color": "white"
             }
            },
            "header": {
             "fill": {
              "color": "#C8D4E3"
             },
             "line": {
              "color": "white"
             }
            },
            "type": "table"
           }
          ]
         },
         "layout": {
          "annotationdefaults": {
           "arrowcolor": "#2a3f5f",
           "arrowhead": 0,
           "arrowwidth": 1
          },
          "autotypenumbers": "strict",
          "coloraxis": {
           "colorbar": {
            "outlinewidth": 0,
            "ticks": ""
           }
          },
          "colorscale": {
           "diverging": [
            [
             0,
             "#8e0152"
            ],
            [
             0.1,
             "#c51b7d"
            ],
            [
             0.2,
             "#de77ae"
            ],
            [
             0.3,
             "#f1b6da"
            ],
            [
             0.4,
             "#fde0ef"
            ],
            [
             0.5,
             "#f7f7f7"
            ],
            [
             0.6,
             "#e6f5d0"
            ],
            [
             0.7,
             "#b8e186"
            ],
            [
             0.8,
             "#7fbc41"
            ],
            [
             0.9,
             "#4d9221"
            ],
            [
             1,
             "#276419"
            ]
           ],
           "sequential": [
            [
             0,
             "#0d0887"
            ],
            [
             0.1111111111111111,
             "#46039f"
            ],
            [
             0.2222222222222222,
             "#7201a8"
            ],
            [
             0.3333333333333333,
             "#9c179e"
            ],
            [
             0.4444444444444444,
             "#bd3786"
            ],
            [
             0.5555555555555556,
             "#d8576b"
            ],
            [
             0.6666666666666666,
             "#ed7953"
            ],
            [
             0.7777777777777778,
             "#fb9f3a"
            ],
            [
             0.8888888888888888,
             "#fdca26"
            ],
            [
             1,
             "#f0f921"
            ]
           ],
           "sequentialminus": [
            [
             0,
             "#0d0887"
            ],
            [
             0.1111111111111111,
             "#46039f"
            ],
            [
             0.2222222222222222,
             "#7201a8"
            ],
            [
             0.3333333333333333,
             "#9c179e"
            ],
            [
             0.4444444444444444,
             "#bd3786"
            ],
            [
             0.5555555555555556,
             "#d8576b"
            ],
            [
             0.6666666666666666,
             "#ed7953"
            ],
            [
             0.7777777777777778,
             "#fb9f3a"
            ],
            [
             0.8888888888888888,
             "#fdca26"
            ],
            [
             1,
             "#f0f921"
            ]
           ]
          },
          "colorway": [
           "#636efa",
           "#EF553B",
           "#00cc96",
           "#ab63fa",
           "#FFA15A",
           "#19d3f3",
           "#FF6692",
           "#B6E880",
           "#FF97FF",
           "#FECB52"
          ],
          "font": {
           "color": "#2a3f5f"
          },
          "geo": {
           "bgcolor": "white",
           "lakecolor": "white",
           "landcolor": "#E5ECF6",
           "showlakes": true,
           "showland": true,
           "subunitcolor": "white"
          },
          "hoverlabel": {
           "align": "left"
          },
          "hovermode": "closest",
          "mapbox": {
           "style": "light"
          },
          "paper_bgcolor": "white",
          "plot_bgcolor": "#E5ECF6",
          "polar": {
           "angularaxis": {
            "gridcolor": "white",
            "linecolor": "white",
            "ticks": ""
           },
           "bgcolor": "#E5ECF6",
           "radialaxis": {
            "gridcolor": "white",
            "linecolor": "white",
            "ticks": ""
           }
          },
          "scene": {
           "xaxis": {
            "backgroundcolor": "#E5ECF6",
            "gridcolor": "white",
            "gridwidth": 2,
            "linecolor": "white",
            "showbackground": true,
            "ticks": "",
            "zerolinecolor": "white"
           },
           "yaxis": {
            "backgroundcolor": "#E5ECF6",
            "gridcolor": "white",
            "gridwidth": 2,
            "linecolor": "white",
            "showbackground": true,
            "ticks": "",
            "zerolinecolor": "white"
           },
           "zaxis": {
            "backgroundcolor": "#E5ECF6",
            "gridcolor": "white",
            "gridwidth": 2,
            "linecolor": "white",
            "showbackground": true,
            "ticks": "",
            "zerolinecolor": "white"
           }
          },
          "shapedefaults": {
           "line": {
            "color": "#2a3f5f"
           }
          },
          "ternary": {
           "aaxis": {
            "gridcolor": "white",
            "linecolor": "white",
            "ticks": ""
           },
           "baxis": {
            "gridcolor": "white",
            "linecolor": "white",
            "ticks": ""
           },
           "bgcolor": "#E5ECF6",
           "caxis": {
            "gridcolor": "white",
            "linecolor": "white",
            "ticks": ""
           }
          },
          "title": {
           "x": 0.05
          },
          "xaxis": {
           "automargin": true,
           "gridcolor": "white",
           "linecolor": "white",
           "ticks": "",
           "title": {
            "standoff": 15
           },
           "zerolinecolor": "white",
           "zerolinewidth": 2
          },
          "yaxis": {
           "automargin": true,
           "gridcolor": "white",
           "linecolor": "white",
           "ticks": "",
           "title": {
            "standoff": 15
           },
           "zerolinecolor": "white",
           "zerolinewidth": 2
          }
         }
        },
        "title": {
         "text": "Distance between trees"
        },
        "width": 800,
        "xaxis": {
         "autorange": true,
         "color": "#FFFFFF",
         "range": [
          -0.05699362168638499,
          0.9633117735384092
         ],
         "type": "linear"
        },
        "yaxis": {
         "autorange": true,
         "color": "#FFFFFF",
         "range": [
          -0.05986621199655677,
          0.9560452643086489
         ],
         "type": "linear"
        }
       }
      },
      "image/png": "[encoded data removed]",
      "text/html": [
       "<div>                            <div id=\"20e7c1ab-2eae-437f-beb6-8d8fd325b3bc\" class=\"plotly-graph-div\" style=\"height:600px; width:800px;\"></div>            <script type=\"text/javascript\">                require([\"plotly\"], function(Plotly) {                    window.PLOTLYENV=window.PLOTLYENV || {};                                    if (document.getElementById(\"20e7c1ab-2eae-437f-beb6-8d8fd325b3bc\")) {                    Plotly.newPlot(                        \"20e7c1ab-2eae-437f-beb6-8d8fd325b3bc\",                        [{\"hoverinfo\":\"text\",\"mode\":\"markers\",\"name\":\"Distance\",\"text\":[\"ID: Point 1\",\"ID: Point 2\",\"ID: Point 3\",\"ID: Point 4\",\"ID: Point 5\",\"ID: Point 6\",\"ID: Point 7\",\"ID: Point 8\",\"ID: Point 9\",\"ID: Point 10\",\"ID: Point 11\",\"ID: Point 12\",\"ID: Point 13\",\"ID: Point 14\",\"ID: Point 15\",\"ID: Point 16\",\"ID: Point 17\",\"ID: Point 18\",\"ID: Point 19\",\"ID: Point 20\",\"ID: Point 21\",\"ID: Point 22\",\"ID: Point 23\",\"ID: Point 24\",\"ID: Point 25\",\"ID: Point 26\",\"ID: Point 27\",\"ID: Point 28\",\"ID: Point 29\",\"ID: Point 30\",\"ID: Point 31\",\"ID: Point 32\",\"ID: Point 33\",\"ID: Point 34\",\"ID: Point 35\",\"ID: Point 36\",\"ID: Point 37\",\"ID: Point 38\",\"ID: Point 39\",\"ID: Point 40\",\"ID: Point 41\",\"ID: Point 42\",\"ID: Point 43\",\"ID: Point 44\",\"ID: Point 45\",\"ID: Point 46\",\"ID: Point 47\",\"ID: Point 48\",\"ID: Point 49\",\"ID: Point 50\",\"ID: Point 51\",\"ID: Point 52\",\"ID: Point 53\",\"ID: Point 54\",\"ID: Point 55\",\"ID: Point 56\",\"ID: Point 57\",\"ID: Point 58\",\"ID: Point 59\",\"ID: Point 60\"],\"x\":[0.3375580847738118,0.7603195634066843,0.8341204948681974,0.5032580821810168,0.7354096149368545,0.3159682026801319,0.3223955085323438,0.21953296702365266,0.4848553652635204,0.33001087072727464,0.08413097964340355,0.3670287024001371,0.5374519291613469,0.7735132459111347,0.6721337903324907,0.5321387883751338,0.18330123043199698,0.08603029162629888,0.7224214591763464,0.6550892847174259,0.21400534652779013,0.5675895669092299,0.6592364209681252,0.17994132618283015,0.842069536073494,0.2086791636475953,0.11999579331188148,0.7351012178616471,0.0,0.8692911996535868,0.6088101703207471,0.2782316462277876,0.15988689078392992,0.4709000094537785,0.8094618469280104,0.6934139605314735,0.2954552756524037,0.557309349704299,0.3696888260787141,0.20181399446255227,0.44384001272768014,0.3730460468037312,0.9063181518520242,0.3462065224761173,0.43574351825235086,0.7231668165917395,0.6899758980625383,0.542597846720417,0.13538264823691282,0.2391737374283704,0.39068671015418593,0.47274156347601315,0.4102376641727513,0.8391574362317713,0.7988404504812775,0.6357238827655616,0.21605014572856912,0.5452356249552415,0.6390454435350288,0.6221296336302655],\"y\":[0.0,0.15875152066486076,0.507484072643264,0.6582708018268056,0.15653225238578755,0.4176172723626309,0.6472715177550356,0.771831943378102,0.8961790523120922,0.8326869655040581,0.5209733335754199,0.7834356094977087,0.02704619447167733,0.7032636749204866,0.8278241907604715,0.5355399939608513,0.553133429374119,0.6013088655518564,0.36371612347112287,0.12752981798533752,0.37984635156576757,0.03724073965652891,0.40441858622175086,0.2871114666895441,0.37941549580978584,0.21175437760673063,0.23716953552049386,0.5737255349512054,0.45046039058576776,0.5786706240030974,0.33222302745697363,0.1325050990087117,0.3850092159004802,0.22371834511234506,0.21088582040866372,0.5954712755016308,0.32278000118439265,0.1294293391013135,0.2448801948116138,0.6630027040931445,0.13635282604785665,0.6197483113077693,0.5318126023481786,0.4855779827072828,0.7554460973540749,0.759906311016191,0.7239859489496772,0.7393588292175635,0.16535126084361473,0.6487654456107818,0.32980884228858875,0.4373717338035905,0.8559870034871728,0.4592289528175344,0.2742257085920805,0.07890162032660869,0.47608832213950303,0.2672173179973568,0.2347073109795046,0.6918472588818779],\"type\":\"scatter\"}],                        {\"template\":{\"data\":{\"histogram2dcontour\":[{\"type\":\"histogram2dcontour\",\"colorbar\":{\"outlinewidth\":0,\"ticks\":\"\"},\"colorscale\":[[0.0,\"#0d0887\"],[0.1111111111111111,\"#46039f\"],[0.2222222222222222,\"#7201a8\"],[0.3333333333333333,\"#9c179e\"],[0.4444444444444444,\"#bd3786\"],[0.5555555555555556,\"#d8576b\"],[0.6666666666666666,\"#ed7953\"],[0.7777777777777778,\"#fb9f3a\"],[0.8888888888888888,\"#fdca26\"],[1.0,\"#f0f921\"]]}],\"choropleth\":[{\"type\":\"choropleth\",\"colorbar\":{\"outlinewidth\":0,\"ticks\":\"\"}}],\"histogram2d\":[{\"type\":\"histogram2d\",\"colorbar\":{\"outlinewidth\":0,\"ticks\":\"\"},\"colorscale\":[[0.0,\"#0d0887\"],[0.1111111111111111,\"#46039f\"],[0.2222222222222222,\"#7201a8\"],[0.3333333333333333,\"#9c179e\"],[0.4444444444444444,\"#bd3786\"],[0.5555555555555556,\"#d8576b\"],[0.6666666666666666,\"#ed7953\"],[0.7777777777777778,\"#fb9f3a\"],[0.8888888888888888,\"#fdca26\"],[1.0,\"#f0f921\"]]}],\"heatmap\":[{\"type\":\"heatmap\",\"colorbar\":{\"outlinewidth\":0,\"ticks\":\"\"},\"colorscale\":[[0.0,\"#0d0887\"],[0.1111111111111111,\"#46039f\"],[0.2222222222222222,\"#7201a8\"],[0.3333333333333333,\"#9c179e\"],[0.4444444444444444,\"#bd3786\"],[0.5555555555555556,\"#d8576b\"],[0.6666666666666666,\"#ed7953\"],[0.7777777777777778,\"#fb9f3a\"],[0.8888888888888888,\"#fdca26\"],[1.0,\"#f0f921\"]]}],\"heatmapgl\":[{\"type\":\"heatmapgl\",\"colorbar\":{\"outlinewidth\":0,\"ticks\":\"\"},\"colorscale\":[[0.0,\"#0d0887\"],[0.1111111111111111,\"#46039f\"],[0.2222222222222222,\"#7201a8\"],[0.3333333333333333,\"#9c179e\"],[0.4444444444444444,\"#bd3786\"],[0.5555555555555556,\"#d8576b\"],[0.6666666666666666,\"#ed7953\"],[0.7777777777777778,\"#fb9f3a\"],[0.8888888888888888,\"#fdca26\"],[1.0,\"#f0f921\"]]}],\"contourcarpet\":[{\"type\":\"contourcarpet\",\"colorbar\":{\"outlinewidth\":0,\"ticks\":\"\"}}],\"contour\":[{\"type\":\"contour\",\"colorbar\":{\"outlinewidth\":0,\"ticks\":\"\"},\"colorscale\":[[0.0,\"#0d0887\"],[0.1111111111111111,\"#46039f\"],[0.2222222222222222,\"#7201a8\"],[0.3333333333333333,\"#9c179e\"],[0.4444444444444444,\"#bd3786\"],[0.5555555555555556,\"#d8576b\"],[0.6666666666666666,\"#ed7953\"],[0.7777777777777778,\"#fb9f3a\"],[0.8888888888888888,\"#fdca26\"],[1.0,\"#f0f921\"]]}],\"surface\":[{\"type\":\"surface\",\"colorbar\":{\"outlinewidth\":0,\"ticks\":\"\"},\"colorscale\":[[0.0,\"#0d0887\"],[0.1111111111111111,\"#46039f\"],[0.2222222222222222,\"#7201a8\"],[0.3333333333333333,\"#9c179e\"],[0.4444444444444444,\"#bd3786\"],[0.5555555555555556,\"#d8576b\"],[0.6666666666666666,\"#ed7953\"],[0.7777777777777778,\"#fb9f3a\"],[0.8888888888888888,\"#fdca26\"],[1.0,\"#f0f921\"]]}],\"mesh3d\":[{\"type\":\"mesh3d\",\"colorbar\":{\"outlinewidth\":0,\"ticks\":\"\"}}],\"scatter\":[{\"fillpattern\":{\"fillmode\":\"overlay\",\"size\":10,\"solidity\":0.2},\"type\":\"scatter\"}],\"parcoords\":[{\"type\":\"parcoords\",\"line\":{\"colorbar\":{\"outlinewidth\":0,\"ticks\":\"\"}}}],\"scatterpolargl\":[{\"type\":\"scatterpolargl\",\"marker\":{\"colorbar\":{\"outlinewidth\":0,\"ticks\":\"\"}}}],\"bar\":[{\"error_x\":{\"color\":\"#2a3f5f\"},\"error_y\":{\"color\":\"#2a3f5f\"},\"marker\":{\"line\":{\"color\":\"#E5ECF6\",\"width\":0.5},\"pattern\":{\"fillmode\":\"overlay\",\"size\":10,\"solidity\":0.2}},\"type\":\"bar\"}],\"scattergeo\":[{\"type\":\"scattergeo\",\"marker\":{\"colorbar\":{\"outlinewidth\":0,\"ticks\":\"\"}}}],\"scatterpolar\":[{\"type\":\"scatterpolar\",\"marker\":{\"colorbar\":{\"outlinewidth\":0,\"ticks\":\"\"}}}],\"histogram\":[{\"marker\":{\"pattern\":{\"fillmode\":\"overlay\",\"size\":10,\"solidity\":0.2}},\"type\":\"histogram\"}],\"scattergl\":[{\"type\":\"scattergl\",\"marker\":{\"colorbar\":{\"outlinewidth\":0,\"ticks\":\"\"}}}],\"scatter3d\":[{\"type\":\"scatter3d\",\"line\":{\"colorbar\":{\"outlinewidth\":0,\"ticks\":\"\"}},\"marker\":{\"colorbar\":{\"outlinewidth\":0,\"ticks\":\"\"}}}],\"scattermapbox\":[{\"type\":\"scattermapbox\",\"marker\":{\"colorbar\":{\"outlinewidth\":0,\"ticks\":\"\"}}}],\"scatterternary\":[{\"type\":\"scatterternary\",\"marker\":{\"colorbar\":{\"outlinewidth\":0,\"ticks\":\"\"}}}],\"scattercarpet\":[{\"type\":\"scattercarpet\",\"marker\":{\"colorbar\":{\"outlinewidth\":0,\"ticks\":\"\"}}}],\"carpet\":[{\"aaxis\":{\"endlinecolor\":\"#2a3f5f\",\"gridcolor\":\"white\",\"linecolor\":\"white\",\"minorgridcolor\":\"white\",\"startlinecolor\":\"#2a3f5f\"},\"baxis\":{\"endlinecolor\":\"#2a3f5f\",\"gridcolor\":\"white\",\"linecolor\":\"white\",\"minorgridcolor\":\"white\",\"startlinecolor\":\"#2a3f5f\"},\"type\":\"carpet\"}],\"table\":[{\"cells\":{\"fill\":{\"color\":\"#EBF0F8\"},\"line\":{\"color\":\"white\"}},\"header\":{\"fill\":{\"color\":\"#C8D4E3\"},\"line\":{\"color\":\"white\"}},\"type\":\"table\"}],\"barpolar\":[{\"marker\":{\"line\":{\"color\":\"#E5ECF6\",\"width\":0.5},\"pattern\":{\"fillmode\":\"overlay\",\"size\":10,\"solidity\":0.2}},\"type\":\"barpolar\"}],\"pie\":[{\"automargin\":true,\"type\":\"pie\"}]},\"layout\":{\"autotypenumbers\":\"strict\",\"colorway\":[\"#636efa\",\"#EF553B\",\"#00cc96\",\"#ab63fa\",\"#FFA15A\",\"#19d3f3\",\"#FF6692\",\"#B6E880\",\"#FF97FF\",\"#FECB52\"],\"font\":{\"color\":\"#2a3f5f\"},\"hovermode\":\"closest\",\"hoverlabel\":{\"align\":\"left\"},\"paper_bgcolor\":\"white\",\"plot_bgcolor\":\"#E5ECF6\",\"polar\":{\"bgcolor\":\"#E5ECF6\",\"angularaxis\":{\"gridcolor\":\"white\",\"linecolor\":\"white\",\"ticks\":\"\"},\"radialaxis\":{\"gridcolor\":\"white\",\"linecolor\":\"white\",\"ticks\":\"\"}},\"ternary\":{\"bgcolor\":\"#E5ECF6\",\"aaxis\":{\"gridcolor\":\"white\",\"linecolor\":\"white\",\"ticks\":\"\"},\"baxis\":{\"gridcolor\":\"white\",\"linecolor\":\"white\",\"ticks\":\"\"},\"caxis\":{\"gridcolor\":\"white\",\"linecolor\":\"white\",\"ticks\":\"\"}},\"coloraxis\":{\"colorbar\":{\"outlinewidth\":0,\"ticks\":\"\"}},\"colorscale\":{\"sequential\":[[0.0,\"#0d0887\"],[0.1111111111111111,\"#46039f\"],[0.2222222222222222,\"#7201a8\"],[0.3333333333333333,\"#9c179e\"],[0.4444444444444444,\"#bd3786\"],[0.5555555555555556,\"#d8576b\"],[0.6666666666666666,\"#ed7953\"],[0.7777777777777778,\"#fb9f3a\"],[0.8888888888888888,\"#fdca26\"],[1.0,\"#f0f921\"]],\"sequentialminus\":[[0.0,\"#0d0887\"],[0.1111111111111111,\"#46039f\"],[0.2222222222222222,\"#7201a8\"],[0.3333333333333333,\"#9c179e\"],[0.4444444444444444,\"#bd3786\"],[0.5555555555555556,\"#d8576b\"],[0.6666666666666666,\"#ed7953\"],[0.7777777777777778,\"#fb9f3a\"],[0.8888888888888888,\"#fdca26\"],[1.0,\"#f0f921\"]],\"diverging\":[[0,\"#8e0152\"],[0.1,\"#c51b7d\"],[0.2,\"#de77ae\"],[0.3,\"#f1b6da\"],[0.4,\"#fde0ef\"],[0.5,\"#f7f7f7\"],[0.6,\"#e6f5d0\"],[0.7,\"#b8e186\"],[0.8,\"#7fbc41\"],[0.9,\"#4d9221\"],[1,\"#276419\"]]},\"xaxis\":{\"gridcolor\":\"white\",\"linecolor\":\"white\",\"ticks\":\"\",\"title\":{\"standoff\":15},\"zerolinecolor\":\"white\",\"automargin\":true,\"zerolinewidth\":2},\"yaxis\":{\"gridcolor\":\"white\",\"linecolor\":\"white\",\"ticks\":\"\",\"title\":{\"standoff\":15},\"zerolinecolor\":\"white\",\"automargin\":true,\"zerolinewidth\":2},\"scene\":{\"xaxis\":{\"backgroundcolor\":\"#E5ECF6\",\"gridcolor\":\"white\",\"linecolor\":\"white\",\"showbackground\":true,\"ticks\":\"\",\"zerolinecolor\":\"white\",\"gridwidth\":2},\"yaxis\":{\"backgroundcolor\":\"#E5ECF6\",\"gridcolor\":\"white\",\"linecolor\":\"white\",\"showbackground\":true,\"ticks\":\"\",\"zerolinecolor\":\"white\",\"gridwidth\":2},\"zaxis\":{\"backgroundcolor\":\"#E5ECF6\",\"gridcolor\":\"white\",\"linecolor\":\"white\",\"showbackground\":true,\"ticks\":\"\",\"zerolinecolor\":\"white\",\"gridwidth\":2}},\"shapedefaults\":{\"line\":{\"color\":\"#2a3f5f\"}},\"annotationdefaults\":{\"arrowcolor\":\"#2a3f5f\",\"arrowhead\":0,\"arrowwidth\":1},\"geo\":{\"bgcolor\":\"white\",\"landcolor\":\"#E5ECF6\",\"subunitcolor\":\"white\",\"showland\":true,\"showlakes\":true,\"lakecolor\":\"white\"},\"title\":{\"x\":0.05},\"mapbox\":{\"style\":\"light\"}}},\"dragmode\":false,\"xaxis\":{\"color\":\"#FFFFFF\"},\"yaxis\":{\"color\":\"#FFFFFF\"},\"title\":{\"text\":\"Distance between trees\"},\"plot_bgcolor\":\"#FFF0D5\",\"width\":800,\"height\":600},                        {\"responsive\": true}                    ).then(function(){\n",
       "                            \n",
       "var gd = document.getElementById('20e7c1ab-2eae-437f-beb6-8d8fd325b3bc');\n",
       "var x = new MutationObserver(function (mutations, observer) {{\n",
       "        var display = window.getComputedStyle(gd).display;\n",
       "        if (!display || display === 'none') {{\n",
       "            console.log([gd, 'removed!']);\n",
       "            Plotly.purge(gd);\n",
       "            observer.disconnect();\n",
       "        }}\n",
       "}});\n",
       "\n",
       "// Listen for the removal of the full notebook cells\n",
       "var notebookContainer = gd.closest('#notebook-container');\n",
       "if (notebookContainer) {{\n",
       "    x.observe(notebookContainer, {childList: true});\n",
       "}}\n",
       "\n",
       "// Listen for the clearing of the current output cell\n",
       "var outputEl = gd.closest('.output');\n",
       "if (outputEl) {{\n",
       "    x.observe(outputEl, {childList: true});\n",
       "}}\n",
       "\n",
       "                        })                };                });            </script>        </div>"
      ]
     },
     "metadata": {},
     "output_type": "display_data"
    }
   ],
   "source": [
    "# Testing code for tree distance\n",
    "\n",
    "import plotly.graph_objects as go\n",
    "from sklearn.manifold import MDS\n",
    "import numpy as np\n",
    "\n",
    "BG = '#FFF0D5'\n",
    "# 1. random distance matrix → rf_distance between tree\n",
    "points_id = ['Point ' + str(i) for i in range(1, 61)]\n",
    "num_points = len(points_id)\n",
    "distances = np.random.rand(num_points, num_points)\n",
    "distances = (distances + distances.T) / 2 \n",
    "np.fill_diagonal(distances, 0)\n",
    "\n",
    "# 2. MDS to calculate coordinates according the distance precomputed\n",
    "mds = MDS(n_components=2, dissimilarity='precomputed')\n",
    "coordinates = mds.fit_transform(distances)\n",
    "\n",
    "coordinates -= coordinates.min(axis=0)\n",
    "\n",
    "# 3. Plot out all point with coordinate\n",
    "fig = go.Figure() \n",
    "\n",
    "# mode : text+markers / lines\n",
    "hover_text = [f'ID: {points_id[i]}' for i in range(num_points)]\n",
    "fig.add_trace(go.Scatter(x=coordinates[:, 0], y=coordinates[:, 1], mode='markers', name='Distance',hoverinfo='text',text=hover_text))\n",
    "fig.update_layout(dragmode=False)\n",
    "fig.update_layout(title='Distance between trees',plot_bgcolor=BG,width=800, height=600,xaxis=dict(color=BLANK),yaxis=dict(color=BLANK))\n",
    "\n",
    "fig.show()\n"
   ]
  },
  {
   "cell_type": "code",
   "execution_count": 50,
   "id": "5a712003-e248-4cc7-ac8c-37b87032a858",
   "metadata": {},
   "outputs": [
    {
     "data": {
      "image/png": "[encoded data removed]",
      "text/plain": [
       "<Figure size 2000x2000 with 1 Axes>"
      ]
     },
     "metadata": {},
     "output_type": "display_data"
    }
   ],
   "source": [
    "import matplotlib.pyplot as plt\n",
    "import numpy as np\n",
    "\n",
    "# 生成随机数据\n",
    "x = np.random.rand(100)\n",
    "y = np.random.rand(100)\n",
    "labels = [f\"Point {i+1}\" for i in range(100)]  # 创建标签\n",
    "\n",
    "# 绘制散点图\n",
    "plt.figure(figsize=(20, 20))\n",
    "scatter = plt.scatter(x, y, label=labels)\n",
    "\n",
    "# 添加悬停文本\n",
    "annot = plt.annotate(\"\", xy=(0,0), xytext=(20,20), textcoords=\"offset points\",\n",
    "                    bbox=dict(boxstyle=\"round\", fc=\"w\"),\n",
    "                    arrowprops=dict(arrowstyle=\"->\"))\n",
    "annot.set_visible(False)\n",
    "\n",
    "def update_annot(ind):\n",
    "    pos = scatter.get_offsets()[ind[\"ind\"][0]]\n",
    "    annot.xy = pos\n",
    "    text = f\"{labels[ind['ind'][0]]}\"\n",
    "    annot.set_text(text)\n",
    "\n",
    "def hover(event):\n",
    "    vis = annot.get_visible()\n",
    "    if event.inaxes == plt.gca():\n",
    "        cont, ind = scatter.contains(event)\n",
    "        if cont:\n",
    "            update_annot(ind)\n",
    "            annot.set_visible(True)\n",
    "            plt.draw()\n",
    "        else:\n",
    "            if vis:\n",
    "                annot.set_visible(False)\n",
    "                plt.draw()\n",
    "\n",
    "plt.gcf().canvas.mpl_connect(\"motion_notify_event\", hover)\n",
    "\n",
    "plt.xlabel('X')\n",
    "plt.ylabel('Y')\n",
    "plt.title('Scatter Plot with Hover Text')\n",
    "plt.legend()\n",
    "plt.show()\n"
   ]
  },
  {
   "cell_type": "code",
   "execution_count": 39,
   "id": "df92a319-8102-4854-b3e9-27ad4857fee7",
   "metadata": {},
   "outputs": [
    {
     "ename": "SyntaxError",
     "evalue": "invalid syntax. Perhaps you forgot a comma? (123620151.py, line 23)",
     "output_type": "error",
     "traceback": [
      "\u001b[1;36m  Cell \u001b[1;32mIn[39], line 23\u001b[1;36m\u001b[0m\n\u001b[1;33m    fig = px.scatter(x=tree_point_coordinates[:, 0], y=tree_point_coordinates[:, 1], hover_data=None\u001b[0m\n\u001b[1;37m                                                                                                ^\u001b[0m\n\u001b[1;31mSyntaxError\u001b[0m\u001b[1;31m:\u001b[0m invalid syntax. Perhaps you forgot a comma?\n"
     ]
    }
   ],
   "source": [
    "import plotly.express as px\n",
    "import numpy as np\n",
    "from sklearn.manifold import MDS\n",
    "\n",
    "# 示例数据\n",
    "tree_distance_matrix = np.random.rand(60, 60)\n",
    "tree_distance_matrix = np.triu(tree_distance_matrix) + np.triu(tree_distance_matrix, k=1).T\n",
    "\n",
    "# 使用 MDS 算法生成坐标\n",
    "mds = MDS(n_components=2, dissimilarity='precomputed')\n",
    "tree_point_coordinates = mds.fit_transform(tree_distance_matrix)\n",
    "# tree_point_coordinates -= tree_point_coordinates.min(axis=0)\n",
    "\n",
    "# 生成点的文本信息\n",
    "hover_text = [f\"0 : Reference Tree\"]\n",
    "for i in range(1, len(tree_point_coordinates)):\n",
    "    hover_text.append(f\"{i} : Tree Collection\")\n",
    "\n",
    "# 生成点的颜色\n",
    "colors = ['blue' if i == 0 else 'red' for i in range(len(tree_point_coordinates))]\n",
    "\n",
    "# 绘制散点图\n",
    "fig = px.scatter(x=tree_point_coordinates[:, 0], y=tree_point_coordinates[:, 1], hover_data=None\n",
    "                 text=hover_text, color=colors,mode='markers',\n",
    "                 title='Tree Distance', width=800, height=600, labels={'color': 'Point Type'})\n",
    "\n",
    "# 设置布局\n",
    "fig.update_layout(dragmode=False)\n",
    "\n",
    "# 显示图形\n",
    "fig.show()\n"
   ]
  },
  {
   "cell_type": "code",
   "execution_count": 40,
   "id": "6540c48f-4931-41e0-9705-ac0edd8a2ef2",
   "metadata": {},
   "outputs": [
    {
     "data": {
      "application/vnd.plotly.v1+json": {
       "config": {
        "plotlyServerURL": "https://plot.ly"
       },
       "data": [
        {
         "hoverinfo": "text",
         "hovertemplate": "ID: %{text}",
         "legendgroup": "",
         "marker": {
          "color": "#636efa",
          "symbol": "circle"
         },
         "mode": "markers",
         "name": "",
         "orientation": "v",
         "showlegend": false,
         "text": [
          1,
          2,
          3,
          4,
          5,
          6,
          7,
          8,
          9,
          10,
          11,
          12,
          13,
          14,
          15,
          16,
          17,
          18,
          19,
          20,
          21,
          22,
          23,
          24,
          25,
          26,
          27,
          28,
          29,
          30
         ],
         "type": "scatter",
         "x": [
          -0.30051768719944966,
          -0.18524855948284988,
          -0.2756263963556094,
          0.3315166576813067,
          0.3007269472265234,
          -0.07287103695089024,
          0.16525369665717504,
          -0.21078820741507356,
          -0.06290407024027811,
          0.11726625650900704,
          0.22001031923792247,
          0.07684372824436629,
          0.05829214809594631,
          -0.3229574392477496,
          0.16197177207196942,
          0.39673641766453,
          0.34008778946041646,
          0.1784123888402323,
          0.14012871978523533,
          0.34675196475508097,
          0.37917004590498427,
          -0.02195248245420768,
          -0.11883151183959627,
          -0.18788389287060395,
          -0.13204127049078238,
          -0.023886766463623973,
          -0.10536372008576395,
          0.3960135029224033,
          -0.19361712380882484,
          -0.3557089901994815,
          0.10223495484365425,
          0.10866970792122364,
          0.01135792737448591,
          0.23450851269686754,
          0.14548326560161315,
          -0.4560129022186671,
          -0.126062426751889,
          -0.104166915498345,
          0.2540728949036748,
          0.28341209531353756,
          -0.2674748562886115,
          -0.3341535819001359,
          0.06555261982730269,
          -0.1457783593917359,
          -0.30855770689235634,
          -0.35634789612448275,
          0.44524489004557666,
          0.463702886141336,
          0.04129707983978493,
          0.10202590032265375,
          0.18719762370379414,
          -0.07770338570516398,
          -0.35782845875124575,
          0.15055572496292108,
          -0.44152421450225376,
          0.13354649939134988,
          -0.3040621059181719,
          -0.17102911706542143,
          -0.36967355071769586,
          0.052529694883907095
         ],
         "xaxis": "x",
         "y": [
          0.13190123146084504,
          -0.24396815478758435,
          -0.29565501964829854,
          0.14862069334782535,
          0.3395198329171985,
          0.19324037980081604,
          -0.31297785549566226,
          -0.3939916113290025,
          0.2512984876051596,
          -0.04967343944110558,
          -0.37906065816847406,
          0.3205092218300977,
          0.0073229669900672,
          0.15599185772369842,
          0.15049078825390133,
          0.22681816068340724,
          -0.01267208038407393,
          0.2682472227492924,
          -0.3542000439351155,
          -0.20438956148201368,
          0.1394714132638946,
          -0.23184737368964128,
          0.03077667532496942,
          -0.2887598871761466,
          0.21596814182899632,
          -0.437710866129302,
          0.08772830942889835,
          -0.08100359065105824,
          -0.02660564685422441,
          -0.12867161926123544,
          0.42043894500209933,
          0.20788825658155008,
          -0.20513390882454732,
          -0.22995655517370128,
          0.0315777341316997,
          0.012972808524874792,
          -0.37496466659430544,
          0.2588136316998704,
          -0.16160562273149315,
          -0.11055929340587806,
          0.025771284856431553,
          -0.2509662192043245,
          0.4065911279438031,
          0.3480126694898318,
          -0.26638687514328047,
          -0.05032569035483683,
          -0.20889621708174794,
          0.19036437160507677,
          -0.4160107279104182,
          -0.15006272320181366,
          0.3534585296660895,
          0.4073060621524726,
          0.1677356344751826,
          -0.2433464301044962,
          0.24979868497018554,
          -0.325721523200831,
          0.30777121971120125,
          0.0741207033955334,
          0.13120846284113716,
          0.17338835110866743
         ],
         "yaxis": "y"
        }
       ],
       "layout": {
        "autosize": true,
        "legend": {
         "tracegroupgap": 0
        },
        "showlegend": false,
        "template": {
         "data": {
          "bar": [
           {
            "error_x": {
             "color": "#2a3f5f"
            },
            "error_y": {
             "color": "#2a3f5f"
            },
            "marker": {
             "line": {
              "color": "#E5ECF6",
              "width": 0.5
             },
             "pattern": {
              "fillmode": "overlay",
              "size": 10,
              "solidity": 0.2
             }
            },
            "type": "bar"
           }
          ],
          "barpolar": [
           {
            "marker": {
             "line": {
              "color": "#E5ECF6",
              "width": 0.5
             },
             "pattern": {
              "fillmode": "overlay",
              "size": 10,
              "solidity": 0.2
             }
            },
            "type": "barpolar"
           }
          ],
          "carpet": [
           {
            "aaxis": {
             "endlinecolor": "#2a3f5f",
             "gridcolor": "white",
             "linecolor": "white",
             "minorgridcolor": "white",
             "startlinecolor": "#2a3f5f"
            },
            "baxis": {
             "endlinecolor": "#2a3f5f",
             "gridcolor": "white",
             "linecolor": "white",
             "minorgridcolor": "white",
             "startlinecolor": "#2a3f5f"
            },
            "type": "carpet"
           }
          ],
          "choropleth": [
           {
            "colorbar": {
             "outlinewidth": 0,
             "ticks": ""
            },
            "type": "choropleth"
           }
          ],
          "contour": [
           {
            "colorbar": {
             "outlinewidth": 0,
             "ticks": ""
            },
            "colorscale": [
             [
              0,
              "#0d0887"
             ],
             [
              0.1111111111111111,
              "#46039f"
             ],
             [
              0.2222222222222222,
              "#7201a8"
             ],
             [
              0.3333333333333333,
              "#9c179e"
             ],
             [
              0.4444444444444444,
              "#bd3786"
             ],
             [
              0.5555555555555556,
              "#d8576b"
             ],
             [
              0.6666666666666666,
              "#ed7953"
             ],
             [
              0.7777777777777778,
              "#fb9f3a"
             ],
             [
              0.8888888888888888,
              "#fdca26"
             ],
             [
              1,
              "#f0f921"
             ]
            ],
            "type": "contour"
           }
          ],
          "contourcarpet": [
           {
            "colorbar": {
             "outlinewidth": 0,
             "ticks": ""
            },
            "type": "contourcarpet"
           }
          ],
          "heatmap": [
           {
            "colorbar": {
             "outlinewidth": 0,
             "ticks": ""
            },
            "colorscale": [
             [
              0,
              "#0d0887"
             ],
             [
              0.1111111111111111,
              "#46039f"
             ],
             [
              0.2222222222222222,
              "#7201a8"
             ],
             [
              0.3333333333333333,
              "#9c179e"
             ],
             [
              0.4444444444444444,
              "#bd3786"
             ],
             [
              0.5555555555555556,
              "#d8576b"
             ],
             [
              0.6666666666666666,
              "#ed7953"
             ],
             [
              0.7777777777777778,
              "#fb9f3a"
             ],
             [
              0.8888888888888888,
              "#fdca26"
             ],
             [
              1,
              "#f0f921"
             ]
            ],
            "type": "heatmap"
           }
          ],
          "heatmapgl": [
           {
            "colorbar": {
             "outlinewidth": 0,
             "ticks": ""
            },
            "colorscale": [
             [
              0,
              "#0d0887"
             ],
             [
              0.1111111111111111,
              "#46039f"
             ],
             [
              0.2222222222222222,
              "#7201a8"
             ],
             [
              0.3333333333333333,
              "#9c179e"
             ],
             [
              0.4444444444444444,
              "#bd3786"
             ],
             [
              0.5555555555555556,
              "#d8576b"
             ],
             [
              0.6666666666666666,
              "#ed7953"
             ],
             [
              0.7777777777777778,
              "#fb9f3a"
             ],
             [
              0.8888888888888888,
              "#fdca26"
             ],
             [
              1,
              "#f0f921"
             ]
            ],
            "type": "heatmapgl"
           }
          ],
          "histogram": [
           {
            "marker": {
             "pattern": {
              "fillmode": "overlay",
              "size": 10,
              "solidity": 0.2
             }
            },
            "type": "histogram"
           }
          ],
          "histogram2d": [
           {
            "colorbar": {
             "outlinewidth": 0,
             "ticks": ""
            },
            "colorscale": [
             [
              0,
              "#0d0887"
             ],
             [
              0.1111111111111111,
              "#46039f"
             ],
             [
              0.2222222222222222,
              "#7201a8"
             ],
             [
              0.3333333333333333,
              "#9c179e"
             ],
             [
              0.4444444444444444,
              "#bd3786"
             ],
             [
              0.5555555555555556,
              "#d8576b"
             ],
             [
              0.6666666666666666,
              "#ed7953"
             ],
             [
              0.7777777777777778,
              "#fb9f3a"
             ],
             [
              0.8888888888888888,
              "#fdca26"
             ],
             [
              1,
              "#f0f921"
             ]
            ],
            "type": "histogram2d"
           }
          ],
          "histogram2dcontour": [
           {
            "colorbar": {
             "outlinewidth": 0,
             "ticks": ""
            },
            "colorscale": [
             [
              0,
              "#0d0887"
             ],
             [
              0.1111111111111111,
              "#46039f"
             ],
             [
              0.2222222222222222,
              "#7201a8"
             ],
             [
              0.3333333333333333,
              "#9c179e"
             ],
             [
              0.4444444444444444,
              "#bd3786"
             ],
             [
              0.5555555555555556,
              "#d8576b"
             ],
             [
              0.6666666666666666,
              "#ed7953"
             ],
             [
              0.7777777777777778,
              "#fb9f3a"
             ],
             [
              0.8888888888888888,
              "#fdca26"
             ],
             [
              1,
              "#f0f921"
             ]
            ],
            "type": "histogram2dcontour"
           }
          ],
          "mesh3d": [
           {
            "colorbar": {
             "outlinewidth": 0,
             "ticks": ""
            },
            "type": "mesh3d"
           }
          ],
          "parcoords": [
           {
            "line": {
             "colorbar": {
              "outlinewidth": 0,
              "ticks": ""
             }
            },
            "type": "parcoords"
           }
          ],
          "pie": [
           {
            "automargin": true,
            "type": "pie"
           }
          ],
          "scatter": [
           {
            "fillpattern": {
             "fillmode": "overlay",
             "size": 10,
             "solidity": 0.2
            },
            "type": "scatter"
           }
          ],
          "scatter3d": [
           {
            "line": {
             "colorbar": {
              "outlinewidth": 0,
              "ticks": ""
             }
            },
            "marker": {
             "colorbar": {
              "outlinewidth": 0,
              "ticks": ""
             }
            },
            "type": "scatter3d"
           }
          ],
          "scattercarpet": [
           {
            "marker": {
             "colorbar": {
              "outlinewidth": 0,
              "ticks": ""
             }
            },
            "type": "scattercarpet"
           }
          ],
          "scattergeo": [
           {
            "marker": {
             "colorbar": {
              "outlinewidth": 0,
              "ticks": ""
             }
            },
            "type": "scattergeo"
           }
          ],
          "scattergl": [
           {
            "marker": {
             "colorbar": {
              "outlinewidth": 0,
              "ticks": ""
             }
            },
            "type": "scattergl"
           }
          ],
          "scattermapbox": [
           {
            "marker": {
             "colorbar": {
              "outlinewidth": 0,
              "ticks": ""
             }
            },
            "type": "scattermapbox"
           }
          ],
          "scatterpolar": [
           {
            "marker": {
             "colorbar": {
              "outlinewidth": 0,
              "ticks": ""
             }
            },
            "type": "scatterpolar"
           }
          ],
          "scatterpolargl": [
           {
            "marker": {
             "colorbar": {
              "outlinewidth": 0,
              "ticks": ""
             }
            },
            "type": "scatterpolargl"
           }
          ],
          "scatterternary": [
           {
            "marker": {
             "colorbar": {
              "outlinewidth": 0,
              "ticks": ""
             }
            },
            "type": "scatterternary"
           }
          ],
          "surface": [
           {
            "colorbar": {
             "outlinewidth": 0,
             "ticks": ""
            },
            "colorscale": [
             [
              0,
              "#0d0887"
             ],
             [
              0.1111111111111111,
              "#46039f"
             ],
             [
              0.2222222222222222,
              "#7201a8"
             ],
             [
              0.3333333333333333,
              "#9c179e"
             ],
             [
              0.4444444444444444,
              "#bd3786"
             ],
             [
              0.5555555555555556,
              "#d8576b"
             ],
             [
              0.6666666666666666,
              "#ed7953"
             ],
             [
              0.7777777777777778,
              "#fb9f3a"
             ],
             [
              0.8888888888888888,
              "#fdca26"
             ],
             [
              1,
              "#f0f921"
             ]
            ],
            "type": "surface"
           }
          ],
          "table": [
           {
            "cells": {
             "fill": {
              "color": "#EBF0F8"
             },
             "line": {
              "color": "white"
             }
            },
            "header": {
             "fill": {
              "color": "#C8D4E3"
             },
             "line": {
              "color": "white"
             }
            },
            "type": "table"
           }
          ]
         },
         "layout": {
          "annotationdefaults": {
           "arrowcolor": "#2a3f5f",
           "arrowhead": 0,
           "arrowwidth": 1
          },
          "autotypenumbers": "strict",
          "coloraxis": {
           "colorbar": {
            "outlinewidth": 0,
            "ticks": ""
           }
          },
          "colorscale": {
           "diverging": [
            [
             0,
             "#8e0152"
            ],
            [
             0.1,
             "#c51b7d"
            ],
            [
             0.2,
             "#de77ae"
            ],
            [
             0.3,
             "#f1b6da"
            ],
            [
             0.4,
             "#fde0ef"
            ],
            [
             0.5,
             "#f7f7f7"
            ],
            [
             0.6,
             "#e6f5d0"
            ],
            [
             0.7,
             "#b8e186"
            ],
            [
             0.8,
             "#7fbc41"
            ],
            [
             0.9,
             "#4d9221"
            ],
            [
             1,
             "#276419"
            ]
           ],
           "sequential": [
            [
             0,
             "#0d0887"
            ],
            [
             0.1111111111111111,
             "#46039f"
            ],
            [
             0.2222222222222222,
             "#7201a8"
            ],
            [
             0.3333333333333333,
             "#9c179e"
            ],
            [
             0.4444444444444444,
             "#bd3786"
            ],
            [
             0.5555555555555556,
             "#d8576b"
            ],
            [
             0.6666666666666666,
             "#ed7953"
            ],
            [
             0.7777777777777778,
             "#fb9f3a"
            ],
            [
             0.8888888888888888,
             "#fdca26"
            ],
            [
             1,
             "#f0f921"
            ]
           ],
           "sequentialminus": [
            [
             0,
             "#0d0887"
            ],
            [
             0.1111111111111111,
             "#46039f"
            ],
            [
             0.2222222222222222,
             "#7201a8"
            ],
            [
             0.3333333333333333,
             "#9c179e"
            ],
            [
             0.4444444444444444,
             "#bd3786"
            ],
            [
             0.5555555555555556,
             "#d8576b"
            ],
            [
             0.6666666666666666,
             "#ed7953"
            ],
            [
             0.7777777777777778,
             "#fb9f3a"
            ],
            [
             0.8888888888888888,
             "#fdca26"
            ],
            [
             1,
             "#f0f921"
            ]
           ]
          },
          "colorway": [
           "#636efa",
           "#EF553B",
           "#00cc96",
           "#ab63fa",
           "#FFA15A",
           "#19d3f3",
           "#FF6692",
           "#B6E880",
           "#FF97FF",
           "#FECB52"
          ],
          "font": {
           "color": "#2a3f5f"
          },
          "geo": {
           "bgcolor": "white",
           "lakecolor": "white",
           "landcolor": "#E5ECF6",
           "showlakes": true,
           "showland": true,
           "subunitcolor": "white"
          },
          "hoverlabel": {
           "align": "left"
          },
          "hovermode": "closest",
          "mapbox": {
           "style": "light"
          },
          "paper_bgcolor": "white",
          "plot_bgcolor": "#E5ECF6",
          "polar": {
           "angularaxis": {
            "gridcolor": "white",
            "linecolor": "white",
            "ticks": ""
           },
           "bgcolor": "#E5ECF6",
           "radialaxis": {
            "gridcolor": "white",
            "linecolor": "white",
            "ticks": ""
           }
          },
          "scene": {
           "xaxis": {
            "backgroundcolor": "#E5ECF6",
            "gridcolor": "white",
            "gridwidth": 2,
            "linecolor": "white",
            "showbackground": true,
            "ticks": "",
            "zerolinecolor": "white"
           },
           "yaxis": {
            "backgroundcolor": "#E5ECF6",
            "gridcolor": "white",
            "gridwidth": 2,
            "linecolor": "white",
            "showbackground": true,
            "ticks": "",
            "zerolinecolor": "white"
           },
           "zaxis": {
            "backgroundcolor": "#E5ECF6",
            "gridcolor": "white",
            "gridwidth": 2,
            "linecolor": "white",
            "showbackground": true,
            "ticks": "",
            "zerolinecolor": "white"
           }
          },
          "shapedefaults": {
           "line": {
            "color": "#2a3f5f"
           }
          },
          "ternary": {
           "aaxis": {
            "gridcolor": "white",
            "linecolor": "white",
            "ticks": ""
           },
           "baxis": {
            "gridcolor": "white",
            "linecolor": "white",
            "ticks": ""
           },
           "bgcolor": "#E5ECF6",
           "caxis": {
            "gridcolor": "white",
            "linecolor": "white",
            "ticks": ""
           }
          },
          "title": {
           "x": 0.05
          },
          "xaxis": {
           "automargin": true,
           "gridcolor": "white",
           "linecolor": "white",
           "ticks": "",
           "title": {
            "standoff": 15
           },
           "zerolinecolor": "white",
           "zerolinewidth": 2
          },
          "yaxis": {
           "automargin": true,
           "gridcolor": "white",
           "linecolor": "white",
           "ticks": "",
           "title": {
            "standoff": 15
           },
           "zerolinecolor": "white",
           "zerolinewidth": 2
          }
         }
        },
        "title": {
         "text": "Scatter Plot with Hover IDs"
        },
        "xaxis": {
         "anchor": "y",
         "autorange": true,
         "domain": [
          0,
          1
         ],
         "range": [
          -0.51166379811444,
          0.5193537820371089
         ],
         "title": {
          "text": "x"
         },
         "type": "linear"
        },
        "yaxis": {
         "anchor": "x",
         "autorange": true,
         "domain": [
          0,
          1
         ],
         "range": [
          -0.5085290544265535,
          0.4912571332993509
         ],
         "title": {
          "text": "y"
         },
         "type": "linear"
        }
       }
      },
      "image/png": "[encoded data removed]",
      "text/html": [
       "<div>                            <div id=\"1119c888-827b-4c32-853b-e0a8776a0ab0\" class=\"plotly-graph-div\" style=\"height:525px; width:100%;\"></div>            <script type=\"text/javascript\">                require([\"plotly\"], function(Plotly) {                    window.PLOTLYENV=window.PLOTLYENV || {};                                    if (document.getElementById(\"1119c888-827b-4c32-853b-e0a8776a0ab0\")) {                    Plotly.newPlot(                        \"1119c888-827b-4c32-853b-e0a8776a0ab0\",                        [{\"hovertemplate\":\"ID: %{text}\",\"legendgroup\":\"\",\"marker\":{\"color\":\"#636efa\",\"symbol\":\"circle\"},\"mode\":\"markers\",\"name\":\"\",\"orientation\":\"v\",\"showlegend\":false,\"x\":[-0.30051768719944966,-0.18524855948284988,-0.2756263963556094,0.3315166576813067,0.3007269472265234,-0.07287103695089024,0.16525369665717504,-0.21078820741507356,-0.06290407024027811,0.11726625650900704,0.22001031923792247,0.07684372824436629,0.05829214809594631,-0.3229574392477496,0.16197177207196942,0.39673641766453,0.34008778946041646,0.1784123888402323,0.14012871978523533,0.34675196475508097,0.37917004590498427,-0.02195248245420768,-0.11883151183959627,-0.18788389287060395,-0.13204127049078238,-0.023886766463623973,-0.10536372008576395,0.3960135029224033,-0.19361712380882484,-0.3557089901994815,0.10223495484365425,0.10866970792122364,0.01135792737448591,0.23450851269686754,0.14548326560161315,-0.4560129022186671,-0.126062426751889,-0.104166915498345,0.2540728949036748,0.28341209531353756,-0.2674748562886115,-0.3341535819001359,0.06555261982730269,-0.1457783593917359,-0.30855770689235634,-0.35634789612448275,0.44524489004557666,0.463702886141336,0.04129707983978493,0.10202590032265375,0.18719762370379414,-0.07770338570516398,-0.35782845875124575,0.15055572496292108,-0.44152421450225376,0.13354649939134988,-0.3040621059181719,-0.17102911706542143,-0.36967355071769586,0.052529694883907095],\"xaxis\":\"x\",\"y\":[0.13190123146084504,-0.24396815478758435,-0.29565501964829854,0.14862069334782535,0.3395198329171985,0.19324037980081604,-0.31297785549566226,-0.3939916113290025,0.2512984876051596,-0.04967343944110558,-0.37906065816847406,0.3205092218300977,0.0073229669900672,0.15599185772369842,0.15049078825390133,0.22681816068340724,-0.01267208038407393,0.2682472227492924,-0.3542000439351155,-0.20438956148201368,0.1394714132638946,-0.23184737368964128,0.03077667532496942,-0.2887598871761466,0.21596814182899632,-0.437710866129302,0.08772830942889835,-0.08100359065105824,-0.02660564685422441,-0.12867161926123544,0.42043894500209933,0.20788825658155008,-0.20513390882454732,-0.22995655517370128,0.0315777341316997,0.012972808524874792,-0.37496466659430544,0.2588136316998704,-0.16160562273149315,-0.11055929340587806,0.025771284856431553,-0.2509662192043245,0.4065911279438031,0.3480126694898318,-0.26638687514328047,-0.05032569035483683,-0.20889621708174794,0.19036437160507677,-0.4160107279104182,-0.15006272320181366,0.3534585296660895,0.4073060621524726,0.1677356344751826,-0.2433464301044962,0.24979868497018554,-0.325721523200831,0.30777121971120125,0.0741207033955334,0.13120846284113716,0.17338835110866743],\"yaxis\":\"y\",\"type\":\"scatter\",\"hoverinfo\":\"text\",\"text\":[1.0,2.0,3.0,4.0,5.0,6.0,7.0,8.0,9.0,10.0,11.0,12.0,13.0,14.0,15.0,16.0,17.0,18.0,19.0,20.0,21.0,22.0,23.0,24.0,25.0,26.0,27.0,28.0,29.0,30.0]}],                        {\"template\":{\"data\":{\"histogram2dcontour\":[{\"type\":\"histogram2dcontour\",\"colorbar\":{\"outlinewidth\":0,\"ticks\":\"\"},\"colorscale\":[[0.0,\"#0d0887\"],[0.1111111111111111,\"#46039f\"],[0.2222222222222222,\"#7201a8\"],[0.3333333333333333,\"#9c179e\"],[0.4444444444444444,\"#bd3786\"],[0.5555555555555556,\"#d8576b\"],[0.6666666666666666,\"#ed7953\"],[0.7777777777777778,\"#fb9f3a\"],[0.8888888888888888,\"#fdca26\"],[1.0,\"#f0f921\"]]}],\"choropleth\":[{\"type\":\"choropleth\",\"colorbar\":{\"outlinewidth\":0,\"ticks\":\"\"}}],\"histogram2d\":[{\"type\":\"histogram2d\",\"colorbar\":{\"outlinewidth\":0,\"ticks\":\"\"},\"colorscale\":[[0.0,\"#0d0887\"],[0.1111111111111111,\"#46039f\"],[0.2222222222222222,\"#7201a8\"],[0.3333333333333333,\"#9c179e\"],[0.4444444444444444,\"#bd3786\"],[0.5555555555555556,\"#d8576b\"],[0.6666666666666666,\"#ed7953\"],[0.7777777777777778,\"#fb9f3a\"],[0.8888888888888888,\"#fdca26\"],[1.0,\"#f0f921\"]]}],\"heatmap\":[{\"type\":\"heatmap\",\"colorbar\":{\"outlinewidth\":0,\"ticks\":\"\"},\"colorscale\":[[0.0,\"#0d0887\"],[0.1111111111111111,\"#46039f\"],[0.2222222222222222,\"#7201a8\"],[0.3333333333333333,\"#9c179e\"],[0.4444444444444444,\"#bd3786\"],[0.5555555555555556,\"#d8576b\"],[0.6666666666666666,\"#ed7953\"],[0.7777777777777778,\"#fb9f3a\"],[0.8888888888888888,\"#fdca26\"],[1.0,\"#f0f921\"]]}],\"heatmapgl\":[{\"type\":\"heatmapgl\",\"colorbar\":{\"outlinewidth\":0,\"ticks\":\"\"},\"colorscale\":[[0.0,\"#0d0887\"],[0.1111111111111111,\"#46039f\"],[0.2222222222222222,\"#7201a8\"],[0.3333333333333333,\"#9c179e\"],[0.4444444444444444,\"#bd3786\"],[0.5555555555555556,\"#d8576b\"],[0.6666666666666666,\"#ed7953\"],[0.7777777777777778,\"#fb9f3a\"],[0.8888888888888888,\"#fdca26\"],[1.0,\"#f0f921\"]]}],\"contourcarpet\":[{\"type\":\"contourcarpet\",\"colorbar\":{\"outlinewidth\":0,\"ticks\":\"\"}}],\"contour\":[{\"type\":\"contour\",\"colorbar\":{\"outlinewidth\":0,\"ticks\":\"\"},\"colorscale\":[[0.0,\"#0d0887\"],[0.1111111111111111,\"#46039f\"],[0.2222222222222222,\"#7201a8\"],[0.3333333333333333,\"#9c179e\"],[0.4444444444444444,\"#bd3786\"],[0.5555555555555556,\"#d8576b\"],[0.6666666666666666,\"#ed7953\"],[0.7777777777777778,\"#fb9f3a\"],[0.8888888888888888,\"#fdca26\"],[1.0,\"#f0f921\"]]}],\"surface\":[{\"type\":\"surface\",\"colorbar\":{\"outlinewidth\":0,\"ticks\":\"\"},\"colorscale\":[[0.0,\"#0d0887\"],[0.1111111111111111,\"#46039f\"],[0.2222222222222222,\"#7201a8\"],[0.3333333333333333,\"#9c179e\"],[0.4444444444444444,\"#bd3786\"],[0.5555555555555556,\"#d8576b\"],[0.6666666666666666,\"#ed7953\"],[0.7777777777777778,\"#fb9f3a\"],[0.8888888888888888,\"#fdca26\"],[1.0,\"#f0f921\"]]}],\"mesh3d\":[{\"type\":\"mesh3d\",\"colorbar\":{\"outlinewidth\":0,\"ticks\":\"\"}}],\"scatter\":[{\"fillpattern\":{\"fillmode\":\"overlay\",\"size\":10,\"solidity\":0.2},\"type\":\"scatter\"}],\"parcoords\":[{\"type\":\"parcoords\",\"line\":{\"colorbar\":{\"outlinewidth\":0,\"ticks\":\"\"}}}],\"scatterpolargl\":[{\"type\":\"scatterpolargl\",\"marker\":{\"colorbar\":{\"outlinewidth\":0,\"ticks\":\"\"}}}],\"bar\":[{\"error_x\":{\"color\":\"#2a3f5f\"},\"error_y\":{\"color\":\"#2a3f5f\"},\"marker\":{\"line\":{\"color\":\"#E5ECF6\",\"width\":0.5},\"pattern\":{\"fillmode\":\"overlay\",\"size\":10,\"solidity\":0.2}},\"type\":\"bar\"}],\"scattergeo\":[{\"type\":\"scattergeo\",\"marker\":{\"colorbar\":{\"outlinewidth\":0,\"ticks\":\"\"}}}],\"scatterpolar\":[{\"type\":\"scatterpolar\",\"marker\":{\"colorbar\":{\"outlinewidth\":0,\"ticks\":\"\"}}}],\"histogram\":[{\"marker\":{\"pattern\":{\"fillmode\":\"overlay\",\"size\":10,\"solidity\":0.2}},\"type\":\"histogram\"}],\"scattergl\":[{\"type\":\"scattergl\",\"marker\":{\"colorbar\":{\"outlinewidth\":0,\"ticks\":\"\"}}}],\"scatter3d\":[{\"type\":\"scatter3d\",\"line\":{\"colorbar\":{\"outlinewidth\":0,\"ticks\":\"\"}},\"marker\":{\"colorbar\":{\"outlinewidth\":0,\"ticks\":\"\"}}}],\"scattermapbox\":[{\"type\":\"scattermapbox\",\"marker\":{\"colorbar\":{\"outlinewidth\":0,\"ticks\":\"\"}}}],\"scatterternary\":[{\"type\":\"scatterternary\",\"marker\":{\"colorbar\":{\"outlinewidth\":0,\"ticks\":\"\"}}}],\"scattercarpet\":[{\"type\":\"scattercarpet\",\"marker\":{\"colorbar\":{\"outlinewidth\":0,\"ticks\":\"\"}}}],\"carpet\":[{\"aaxis\":{\"endlinecolor\":\"#2a3f5f\",\"gridcolor\":\"white\",\"linecolor\":\"white\",\"minorgridcolor\":\"white\",\"startlinecolor\":\"#2a3f5f\"},\"baxis\":{\"endlinecolor\":\"#2a3f5f\",\"gridcolor\":\"white\",\"linecolor\":\"white\",\"minorgridcolor\":\"white\",\"startlinecolor\":\"#2a3f5f\"},\"type\":\"carpet\"}],\"table\":[{\"cells\":{\"fill\":{\"color\":\"#EBF0F8\"},\"line\":{\"color\":\"white\"}},\"header\":{\"fill\":{\"color\":\"#C8D4E3\"},\"line\":{\"color\":\"white\"}},\"type\":\"table\"}],\"barpolar\":[{\"marker\":{\"line\":{\"color\":\"#E5ECF6\",\"width\":0.5},\"pattern\":{\"fillmode\":\"overlay\",\"size\":10,\"solidity\":0.2}},\"type\":\"barpolar\"}],\"pie\":[{\"automargin\":true,\"type\":\"pie\"}]},\"layout\":{\"autotypenumbers\":\"strict\",\"colorway\":[\"#636efa\",\"#EF553B\",\"#00cc96\",\"#ab63fa\",\"#FFA15A\",\"#19d3f3\",\"#FF6692\",\"#B6E880\",\"#FF97FF\",\"#FECB52\"],\"font\":{\"color\":\"#2a3f5f\"},\"hovermode\":\"closest\",\"hoverlabel\":{\"align\":\"left\"},\"paper_bgcolor\":\"white\",\"plot_bgcolor\":\"#E5ECF6\",\"polar\":{\"bgcolor\":\"#E5ECF6\",\"angularaxis\":{\"gridcolor\":\"white\",\"linecolor\":\"white\",\"ticks\":\"\"},\"radialaxis\":{\"gridcolor\":\"white\",\"linecolor\":\"white\",\"ticks\":\"\"}},\"ternary\":{\"bgcolor\":\"#E5ECF6\",\"aaxis\":{\"gridcolor\":\"white\",\"linecolor\":\"white\",\"ticks\":\"\"},\"baxis\":{\"gridcolor\":\"white\",\"linecolor\":\"white\",\"ticks\":\"\"},\"caxis\":{\"gridcolor\":\"white\",\"linecolor\":\"white\",\"ticks\":\"\"}},\"coloraxis\":{\"colorbar\":{\"outlinewidth\":0,\"ticks\":\"\"}},\"colorscale\":{\"sequential\":[[0.0,\"#0d0887\"],[0.1111111111111111,\"#46039f\"],[0.2222222222222222,\"#7201a8\"],[0.3333333333333333,\"#9c179e\"],[0.4444444444444444,\"#bd3786\"],[0.5555555555555556,\"#d8576b\"],[0.6666666666666666,\"#ed7953\"],[0.7777777777777778,\"#fb9f3a\"],[0.8888888888888888,\"#fdca26\"],[1.0,\"#f0f921\"]],\"sequentialminus\":[[0.0,\"#0d0887\"],[0.1111111111111111,\"#46039f\"],[0.2222222222222222,\"#7201a8\"],[0.3333333333333333,\"#9c179e\"],[0.4444444444444444,\"#bd3786\"],[0.5555555555555556,\"#d8576b\"],[0.6666666666666666,\"#ed7953\"],[0.7777777777777778,\"#fb9f3a\"],[0.8888888888888888,\"#fdca26\"],[1.0,\"#f0f921\"]],\"diverging\":[[0,\"#8e0152\"],[0.1,\"#c51b7d\"],[0.2,\"#de77ae\"],[0.3,\"#f1b6da\"],[0.4,\"#fde0ef\"],[0.5,\"#f7f7f7\"],[0.6,\"#e6f5d0\"],[0.7,\"#b8e186\"],[0.8,\"#7fbc41\"],[0.9,\"#4d9221\"],[1,\"#276419\"]]},\"xaxis\":{\"gridcolor\":\"white\",\"linecolor\":\"white\",\"ticks\":\"\",\"title\":{\"standoff\":15},\"zerolinecolor\":\"white\",\"automargin\":true,\"zerolinewidth\":2},\"yaxis\":{\"gridcolor\":\"white\",\"linecolor\":\"white\",\"ticks\":\"\",\"title\":{\"standoff\":15},\"zerolinecolor\":\"white\",\"automargin\":true,\"zerolinewidth\":2},\"scene\":{\"xaxis\":{\"backgroundcolor\":\"#E5ECF6\",\"gridcolor\":\"white\",\"linecolor\":\"white\",\"showbackground\":true,\"ticks\":\"\",\"zerolinecolor\":\"white\",\"gridwidth\":2},\"yaxis\":{\"backgroundcolor\":\"#E5ECF6\",\"gridcolor\":\"white\",\"linecolor\":\"white\",\"showbackground\":true,\"ticks\":\"\",\"zerolinecolor\":\"white\",\"gridwidth\":2},\"zaxis\":{\"backgroundcolor\":\"#E5ECF6\",\"gridcolor\":\"white\",\"linecolor\":\"white\",\"showbackground\":true,\"ticks\":\"\",\"zerolinecolor\":\"white\",\"gridwidth\":2}},\"shapedefaults\":{\"line\":{\"color\":\"#2a3f5f\"}},\"annotationdefaults\":{\"arrowcolor\":\"#2a3f5f\",\"arrowhead\":0,\"arrowwidth\":1},\"geo\":{\"bgcolor\":\"white\",\"landcolor\":\"#E5ECF6\",\"subunitcolor\":\"white\",\"showland\":true,\"showlakes\":true,\"lakecolor\":\"white\"},\"title\":{\"x\":0.05},\"mapbox\":{\"style\":\"light\"}}},\"xaxis\":{\"anchor\":\"y\",\"domain\":[0.0,1.0],\"title\":{\"text\":\"x\"}},\"yaxis\":{\"anchor\":\"x\",\"domain\":[0.0,1.0],\"title\":{\"text\":\"y\"}},\"legend\":{\"tracegroupgap\":0},\"title\":{\"text\":\"Scatter Plot with Hover IDs\"},\"showlegend\":false},                        {\"responsive\": true}                    ).then(function(){\n",
       "                            \n",
       "var gd = document.getElementById('1119c888-827b-4c32-853b-e0a8776a0ab0');\n",
       "var x = new MutationObserver(function (mutations, observer) {{\n",
       "        var display = window.getComputedStyle(gd).display;\n",
       "        if (!display || display === 'none') {{\n",
       "            console.log([gd, 'removed!']);\n",
       "            Plotly.purge(gd);\n",
       "            observer.disconnect();\n",
       "        }}\n",
       "}});\n",
       "\n",
       "// Listen for the removal of the full notebook cells\n",
       "var notebookContainer = gd.closest('#notebook-container');\n",
       "if (notebookContainer) {{\n",
       "    x.observe(notebookContainer, {childList: true});\n",
       "}}\n",
       "\n",
       "// Listen for the clearing of the current output cell\n",
       "var outputEl = gd.closest('.output');\n",
       "if (outputEl) {{\n",
       "    x.observe(outputEl, {childList: true});\n",
       "}}\n",
       "\n",
       "                        })                };                });            </script>        </div>"
      ]
     },
     "metadata": {},
     "output_type": "display_data"
    }
   ],
   "source": [
    "import plotly.express as px\n",
    "import pandas as pd\n",
    "\n",
    "\n",
    "tree_distance_matrix = np.random.rand(60, 60)\n",
    "tree_distance_matrix = np.triu(tree_distance_matrix) + np.triu(tree_distance_matrix, k=1).T\n",
    "\n",
    "# 使用 MDS 算法生成坐标\n",
    "mds = MDS(n_components=2, dissimilarity='precomputed')\n",
    "tree_point_coordinates = mds.fit_transform(tree_distance_matrix)\n",
    "\n",
    "# Sample data\n",
    "data = {\n",
    "    'id': list(range(1, 31)),\n",
    "    'x': [1, 2, 3, 4, 5, 6, 7, 8, 9, 10, 11, 12, 13, 14, 15,\n",
    "          16, 17, 18, 19, 20, 21, 22, 23, 24, 25, 26, 27, 28, 29, 30],\n",
    "    'y': [5, 4, 3, 2, 1, 2, 3, 4, 5, 6, 7, 8, 9, 8, 7,\n",
    "          6, 5, 4, 3, 2, 3, 4, 5, 6, 7, 8, 9, 8, 7, 6],\n",
    "    'color': ['Reference Tree'] * 1 + ['Tree Collection'] * 29\n",
    "}\n",
    "\n",
    "df = pd.DataFrame(data)\n",
    "# Create the scatter plot\n",
    "fig = px.scatter( x=tree_point_coordinates[:, 0], y=tree_point_coordinates[:, 1], labels={'color': 'Points'},\n",
    "                 title='Scatter Plot with Hover IDs',hover_data=None)\n",
    "fig.update_layout(showlegend=False)\n",
    "\n",
    "# Update hover information to show ID\n",
    "fig.update_traces(text=df['id'], hoverinfo='text',hovertemplate='ID: %{text}')\n",
    "\n",
    "# Add labels for colors\n",
    "# fig.add_annotation(x=10, y=8, text=\"Blue: 1-15\", showarrow=False)\n",
    "# fig.add_annotation(x=22, y=8, text=\"Red: 16-30\", showarrow=False)\n",
    "\n",
    "# Show the plot\n",
    "fig.show()\n"
   ]
  },
  {
   "cell_type": "code",
   "execution_count": 43,
   "id": "d4aca117-fc38-4a90-ad02-a498ca135724",
   "metadata": {},
   "outputs": [
    {
     "data": {
      "application/vnd.plotly.v1+json": {
       "config": {
        "plotlyServerURL": "https://plot.ly"
       },
       "data": [
        {
         "hoverinfo": "skip",
         "hovertemplate": "ID: %{text}",
         "legendgroup": "Reference Tree",
         "marker": {
          "color": "#636efa",
          "symbol": "circle"
         },
         "mode": "markers",
         "name": "Reference Tree",
         "orientation": "v",
         "showlegend": true,
         "text": [
          "1",
          "2",
          "3",
          "4",
          "5",
          "6",
          "7",
          "8",
          "9",
          "10",
          "11",
          "12",
          "13",
          "14",
          "15",
          "16",
          "17",
          "18",
          "19",
          "20",
          "21",
          "22",
          "23",
          "24",
          "25",
          "26",
          "27",
          "28",
          "29",
          "30"
         ],
         "type": "scatter",
         "x": [
          -0.0484504027554964
         ],
         "xaxis": "x",
         "y": [
          0.4198412602950101
         ],
         "yaxis": "y"
        },
        {
         "hoverinfo": "skip",
         "hovertemplate": "ID: %{text}",
         "legendgroup": "Tree Collection",
         "marker": {
          "color": "#EF553B",
          "symbol": "circle"
         },
         "mode": "markers",
         "name": "Tree Collection",
         "orientation": "v",
         "showlegend": true,
         "text": [
          "1",
          "2",
          "3",
          "4",
          "5",
          "6",
          "7",
          "8",
          "9",
          "10",
          "11",
          "12",
          "13",
          "14",
          "15",
          "16",
          "17",
          "18",
          "19",
          "20",
          "21",
          "22",
          "23",
          "24",
          "25",
          "26",
          "27",
          "28",
          "29",
          "30"
         ],
         "type": "scatter",
         "x": [
          -0.20550168253068343,
          0.2105567149989941,
          0.01978231078446316,
          -0.3932245271859633,
          -0.21743040303982286,
          -0.014332086625232868,
          -0.0303697077952131,
          0.24125538427131782,
          0.2608987681720939,
          -0.060686812183590365,
          0.09258832981931074,
          -0.3944319805586449,
          0.4187645877449094,
          0.17499554403747214,
          0.20613746468333713,
          0.28429096626068856,
          0.1191862562702482,
          0.0044291569859732675,
          0.25748679699194454,
          0.013956963191427429,
          0.24343902449612317,
          -0.19061104681013843,
          -0.196961371478427,
          -0.1111297314069961,
          -0.1411716979522844,
          -0.4215067137328257,
          0.11554968656332928,
          0.030278582136522344,
          -0.2693443143249001,
          0.09609503830495647,
          -0.1913372183730252,
          -0.18999355135515406,
          0.35257798160232673,
          0.42610963397817,
          0.20525185605602628,
          -0.2393517460463397,
          -0.15630744120270093,
          -0.15335954594592294,
          0.09319735027839435,
          0.33950121897416125,
          -0.025138884756172784,
          -0.2134874158760168,
          -0.25743855522876224,
          -0.14572862494606773,
          -0.2846849520153379,
          -0.3273802790531496,
          0.3479910717568869,
          0.17553818725591622,
          0.3682339144509363,
          -0.06047952364878818,
          0.2168054800509818,
          -0.0397393685323909,
          0.23709514631566567,
          0.3811295325233328,
          0.26259752723116037,
          -0.13403302944286274,
          -0.29410755575359254,
          -0.4141481142181948,
          -0.37385219141254583
         ],
         "xaxis": "x",
         "y": [
          -0.36675158026422755,
          0.3923601123197173,
          0.36908544092537776,
          0.0840040002056489,
          0.05231168952864157,
          0.20433404421926463,
          0.2358926936376339,
          0.1350304207141765,
          -0.38598218175274374,
          0.08042154379572423,
          0.42889699556026933,
          -0.13177100860626542,
          -0.1295308339102843,
          -0.28571804843915904,
          0.43740591440703663,
          0.05856088527807978,
          -0.034556594141144946,
          -0.29923717173723063,
          -0.11336441182228295,
          -0.3508396318132465,
          -0.027042802419367976,
          0.2506428646640941,
          0.41565357362986316,
          -0.2817476961850716,
          -0.22627050817757477,
          0.002646344171764087,
          0.27136927481854745,
          0.09324213146925621,
          -0.3200494514254258,
          -0.3461277281916295,
          -0.34058299794306796,
          0.3706303806515682,
          0.12138707860377629,
          0.02939982801887574,
          0.11633874206512775,
          -0.10419748363966064,
          0.12937231884561123,
          -0.12592691917828314,
          -0.28992531764300017,
          0.26845260784270136,
          -0.11514636999997842,
          0.36061408344040374,
          0.26117261830087435,
          0.285367705024062,
          -0.023638418569198943,
          0.17618480221010677,
          -0.17720401544327616,
          -0.2680314566370829,
          -0.014513513924754286,
          0.0014080482309584215,
          0.2469697814708734,
          -0.43604065300398204,
          -0.2145425939417135,
          -0.011908580621215012,
          -0.2292926495246553,
          -0.4661489653619933,
          -0.2668240917939659,
          0.10457288713616072,
          -0.020656395370021535
         ],
         "yaxis": "y"
        }
       ],
       "layout": {
        "autosize": true,
        "legend": {
         "title": {
          "text": "color"
         },
         "tracegroupgap": 0
        },
        "showlegend": false,
        "template": {
         "data": {
          "bar": [
           {
            "error_x": {
             "color": "#2a3f5f"
            },
            "error_y": {
             "color": "#2a3f5f"
            },
            "marker": {
             "line": {
              "color": "#E5ECF6",
              "width": 0.5
             },
             "pattern": {
              "fillmode": "overlay",
              "size": 10,
              "solidity": 0.2
             }
            },
            "type": "bar"
           }
          ],
          "barpolar": [
           {
            "marker": {
             "line": {
              "color": "#E5ECF6",
              "width": 0.5
             },
             "pattern": {
              "fillmode": "overlay",
              "size": 10,
              "solidity": 0.2
             }
            },
            "type": "barpolar"
           }
          ],
          "carpet": [
           {
            "aaxis": {
             "endlinecolor": "#2a3f5f",
             "gridcolor": "white",
             "linecolor": "white",
             "minorgridcolor": "white",
             "startlinecolor": "#2a3f5f"
            },
            "baxis": {
             "endlinecolor": "#2a3f5f",
             "gridcolor": "white",
             "linecolor": "white",
             "minorgridcolor": "white",
             "startlinecolor": "#2a3f5f"
            },
            "type": "carpet"
           }
          ],
          "choropleth": [
           {
            "colorbar": {
             "outlinewidth": 0,
             "ticks": ""
            },
            "type": "choropleth"
           }
          ],
          "contour": [
           {
            "colorbar": {
             "outlinewidth": 0,
             "ticks": ""
            },
            "colorscale": [
             [
              0,
              "#0d0887"
             ],
             [
              0.1111111111111111,
              "#46039f"
             ],
             [
              0.2222222222222222,
              "#7201a8"
             ],
             [
              0.3333333333333333,
              "#9c179e"
             ],
             [
              0.4444444444444444,
              "#bd3786"
             ],
             [
              0.5555555555555556,
              "#d8576b"
             ],
             [
              0.6666666666666666,
              "#ed7953"
             ],
             [
              0.7777777777777778,
              "#fb9f3a"
             ],
             [
              0.8888888888888888,
              "#fdca26"
             ],
             [
              1,
              "#f0f921"
             ]
            ],
            "type": "contour"
           }
          ],
          "contourcarpet": [
           {
            "colorbar": {
             "outlinewidth": 0,
             "ticks": ""
            },
            "type": "contourcarpet"
           }
          ],
          "heatmap": [
           {
            "colorbar": {
             "outlinewidth": 0,
             "ticks": ""
            },
            "colorscale": [
             [
              0,
              "#0d0887"
             ],
             [
              0.1111111111111111,
              "#46039f"
             ],
             [
              0.2222222222222222,
              "#7201a8"
             ],
             [
              0.3333333333333333,
              "#9c179e"
             ],
             [
              0.4444444444444444,
              "#bd3786"
             ],
             [
              0.5555555555555556,
              "#d8576b"
             ],
             [
              0.6666666666666666,
              "#ed7953"
             ],
             [
              0.7777777777777778,
              "#fb9f3a"
             ],
             [
              0.8888888888888888,
              "#fdca26"
             ],
             [
              1,
              "#f0f921"
             ]
            ],
            "type": "heatmap"
           }
          ],
          "heatmapgl": [
           {
            "colorbar": {
             "outlinewidth": 0,
             "ticks": ""
            },
            "colorscale": [
             [
              0,
              "#0d0887"
             ],
             [
              0.1111111111111111,
              "#46039f"
             ],
             [
              0.2222222222222222,
              "#7201a8"
             ],
             [
              0.3333333333333333,
              "#9c179e"
             ],
             [
              0.4444444444444444,
              "#bd3786"
             ],
             [
              0.5555555555555556,
              "#d8576b"
             ],
             [
              0.6666666666666666,
              "#ed7953"
             ],
             [
              0.7777777777777778,
              "#fb9f3a"
             ],
             [
              0.8888888888888888,
              "#fdca26"
             ],
             [
              1,
              "#f0f921"
             ]
            ],
            "type": "heatmapgl"
           }
          ],
          "histogram": [
           {
            "marker": {
             "pattern": {
              "fillmode": "overlay",
              "size": 10,
              "solidity": 0.2
             }
            },
            "type": "histogram"
           }
          ],
          "histogram2d": [
           {
            "colorbar": {
             "outlinewidth": 0,
             "ticks": ""
            },
            "colorscale": [
             [
              0,
              "#0d0887"
             ],
             [
              0.1111111111111111,
              "#46039f"
             ],
             [
              0.2222222222222222,
              "#7201a8"
             ],
             [
              0.3333333333333333,
              "#9c179e"
             ],
             [
              0.4444444444444444,
              "#bd3786"
             ],
             [
              0.5555555555555556,
              "#d8576b"
             ],
             [
              0.6666666666666666,
              "#ed7953"
             ],
             [
              0.7777777777777778,
              "#fb9f3a"
             ],
             [
              0.8888888888888888,
              "#fdca26"
             ],
             [
              1,
              "#f0f921"
             ]
            ],
            "type": "histogram2d"
           }
          ],
          "histogram2dcontour": [
           {
            "colorbar": {
             "outlinewidth": 0,
             "ticks": ""
            },
            "colorscale": [
             [
              0,
              "#0d0887"
             ],
             [
              0.1111111111111111,
              "#46039f"
             ],
             [
              0.2222222222222222,
              "#7201a8"
             ],
             [
              0.3333333333333333,
              "#9c179e"
             ],
             [
              0.4444444444444444,
              "#bd3786"
             ],
             [
              0.5555555555555556,
              "#d8576b"
             ],
             [
              0.6666666666666666,
              "#ed7953"
             ],
             [
              0.7777777777777778,
              "#fb9f3a"
             ],
             [
              0.8888888888888888,
              "#fdca26"
             ],
             [
              1,
              "#f0f921"
             ]
            ],
            "type": "histogram2dcontour"
           }
          ],
          "mesh3d": [
           {
            "colorbar": {
             "outlinewidth": 0,
             "ticks": ""
            },
            "type": "mesh3d"
           }
          ],
          "parcoords": [
           {
            "line": {
             "colorbar": {
              "outlinewidth": 0,
              "ticks": ""
             }
            },
            "type": "parcoords"
           }
          ],
          "pie": [
           {
            "automargin": true,
            "type": "pie"
           }
          ],
          "scatter": [
           {
            "fillpattern": {
             "fillmode": "overlay",
             "size": 10,
             "solidity": 0.2
            },
            "type": "scatter"
           }
          ],
          "scatter3d": [
           {
            "line": {
             "colorbar": {
              "outlinewidth": 0,
              "ticks": ""
             }
            },
            "marker": {
             "colorbar": {
              "outlinewidth": 0,
              "ticks": ""
             }
            },
            "type": "scatter3d"
           }
          ],
          "scattercarpet": [
           {
            "marker": {
             "colorbar": {
              "outlinewidth": 0,
              "ticks": ""
             }
            },
            "type": "scattercarpet"
           }
          ],
          "scattergeo": [
           {
            "marker": {
             "colorbar": {
              "outlinewidth": 0,
              "ticks": ""
             }
            },
            "type": "scattergeo"
           }
          ],
          "scattergl": [
           {
            "marker": {
             "colorbar": {
              "outlinewidth": 0,
              "ticks": ""
             }
            },
            "type": "scattergl"
           }
          ],
          "scattermapbox": [
           {
            "marker": {
             "colorbar": {
              "outlinewidth": 0,
              "ticks": ""
             }
            },
            "type": "scattermapbox"
           }
          ],
          "scatterpolar": [
           {
            "marker": {
             "colorbar": {
              "outlinewidth": 0,
              "ticks": ""
             }
            },
            "type": "scatterpolar"
           }
          ],
          "scatterpolargl": [
           {
            "marker": {
             "colorbar": {
              "outlinewidth": 0,
              "ticks": ""
             }
            },
            "type": "scatterpolargl"
           }
          ],
          "scatterternary": [
           {
            "marker": {
             "colorbar": {
              "outlinewidth": 0,
              "ticks": ""
             }
            },
            "type": "scatterternary"
           }
          ],
          "surface": [
           {
            "colorbar": {
             "outlinewidth": 0,
             "ticks": ""
            },
            "colorscale": [
             [
              0,
              "#0d0887"
             ],
             [
              0.1111111111111111,
              "#46039f"
             ],
             [
              0.2222222222222222,
              "#7201a8"
             ],
             [
              0.3333333333333333,
              "#9c179e"
             ],
             [
              0.4444444444444444,
              "#bd3786"
             ],
             [
              0.5555555555555556,
              "#d8576b"
             ],
             [
              0.6666666666666666,
              "#ed7953"
             ],
             [
              0.7777777777777778,
              "#fb9f3a"
             ],
             [
              0.8888888888888888,
              "#fdca26"
             ],
             [
              1,
              "#f0f921"
             ]
            ],
            "type": "surface"
           }
          ],
          "table": [
           {
            "cells": {
             "fill": {
              "color": "#EBF0F8"
             },
             "line": {
              "color": "white"
             }
            },
            "header": {
             "fill": {
              "color": "#C8D4E3"
             },
             "line": {
              "color": "white"
             }
            },
            "type": "table"
           }
          ]
         },
         "layout": {
          "annotationdefaults": {
           "arrowcolor": "#2a3f5f",
           "arrowhead": 0,
           "arrowwidth": 1
          },
          "autotypenumbers": "strict",
          "coloraxis": {
           "colorbar": {
            "outlinewidth": 0,
            "ticks": ""
           }
          },
          "colorscale": {
           "diverging": [
            [
             0,
             "#8e0152"
            ],
            [
             0.1,
             "#c51b7d"
            ],
            [
             0.2,
             "#de77ae"
            ],
            [
             0.3,
             "#f1b6da"
            ],
            [
             0.4,
             "#fde0ef"
            ],
            [
             0.5,
             "#f7f7f7"
            ],
            [
             0.6,
             "#e6f5d0"
            ],
            [
             0.7,
             "#b8e186"
            ],
            [
             0.8,
             "#7fbc41"
            ],
            [
             0.9,
             "#4d9221"
            ],
            [
             1,
             "#276419"
            ]
           ],
           "sequential": [
            [
             0,
             "#0d0887"
            ],
            [
             0.1111111111111111,
             "#46039f"
            ],
            [
             0.2222222222222222,
             "#7201a8"
            ],
            [
             0.3333333333333333,
             "#9c179e"
            ],
            [
             0.4444444444444444,
             "#bd3786"
            ],
            [
             0.5555555555555556,
             "#d8576b"
            ],
            [
             0.6666666666666666,
             "#ed7953"
            ],
            [
             0.7777777777777778,
             "#fb9f3a"
            ],
            [
             0.8888888888888888,
             "#fdca26"
            ],
            [
             1,
             "#f0f921"
            ]
           ],
           "sequentialminus": [
            [
             0,
             "#0d0887"
            ],
            [
             0.1111111111111111,
             "#46039f"
            ],
            [
             0.2222222222222222,
             "#7201a8"
            ],
            [
             0.3333333333333333,
             "#9c179e"
            ],
            [
             0.4444444444444444,
             "#bd3786"
            ],
            [
             0.5555555555555556,
             "#d8576b"
            ],
            [
             0.6666666666666666,
             "#ed7953"
            ],
            [
             0.7777777777777778,
             "#fb9f3a"
            ],
            [
             0.8888888888888888,
             "#fdca26"
            ],
            [
             1,
             "#f0f921"
            ]
           ]
          },
          "colorway": [
           "#636efa",
           "#EF553B",
           "#00cc96",
           "#ab63fa",
           "#FFA15A",
           "#19d3f3",
           "#FF6692",
           "#B6E880",
           "#FF97FF",
           "#FECB52"
          ],
          "font": {
           "color": "#2a3f5f"
          },
          "geo": {
           "bgcolor": "white",
           "lakecolor": "white",
           "landcolor": "#E5ECF6",
           "showlakes": true,
           "showland": true,
           "subunitcolor": "white"
          },
          "hoverlabel": {
           "align": "left"
          },
          "hovermode": "closest",
          "mapbox": {
           "style": "light"
          },
          "paper_bgcolor": "white",
          "plot_bgcolor": "#E5ECF6",
          "polar": {
           "angularaxis": {
            "gridcolor": "white",
            "linecolor": "white",
            "ticks": ""
           },
           "bgcolor": "#E5ECF6",
           "radialaxis": {
            "gridcolor": "white",
            "linecolor": "white",
            "ticks": ""
           }
          },
          "scene": {
           "xaxis": {
            "backgroundcolor": "#E5ECF6",
            "gridcolor": "white",
            "gridwidth": 2,
            "linecolor": "white",
            "showbackground": true,
            "ticks": "",
            "zerolinecolor": "white"
           },
           "yaxis": {
            "backgroundcolor": "#E5ECF6",
            "gridcolor": "white",
            "gridwidth": 2,
            "linecolor": "white",
            "showbackground": true,
            "ticks": "",
            "zerolinecolor": "white"
           },
           "zaxis": {
            "backgroundcolor": "#E5ECF6",
            "gridcolor": "white",
            "gridwidth": 2,
            "linecolor": "white",
            "showbackground": true,
            "ticks": "",
            "zerolinecolor": "white"
           }
          },
          "shapedefaults": {
           "line": {
            "color": "#2a3f5f"
           }
          },
          "ternary": {
           "aaxis": {
            "gridcolor": "white",
            "linecolor": "white",
            "ticks": ""
           },
           "baxis": {
            "gridcolor": "white",
            "linecolor": "white",
            "ticks": ""
           },
           "bgcolor": "#E5ECF6",
           "caxis": {
            "gridcolor": "white",
            "linecolor": "white",
            "ticks": ""
           }
          },
          "title": {
           "x": 0.05
          },
          "xaxis": {
           "automargin": true,
           "gridcolor": "white",
           "linecolor": "white",
           "ticks": "",
           "title": {
            "standoff": 15
           },
           "zerolinecolor": "white",
           "zerolinewidth": 2
          },
          "yaxis": {
           "automargin": true,
           "gridcolor": "white",
           "linecolor": "white",
           "ticks": "",
           "title": {
            "standoff": 15
           },
           "zerolinecolor": "white",
           "zerolinewidth": 2
          }
         }
        },
        "title": {
         "text": "Scatter Plot with Hover IDs"
        },
        "xaxis": {
         "anchor": "y",
         "autorange": true,
         "domain": [
          0,
          1
         ],
         "range": [
          -0.47279495921367415,
          0.4773978794590184
         ],
         "title": {
          "text": "x"
         },
         "type": "linear"
        },
        "yaxis": {
         "anchor": "x",
         "autorange": true,
         "domain": [
          0,
          1
         ],
         "range": [
          -0.540714173886622,
          0.5119711229316654
         ],
         "title": {
          "text": "y"
         },
         "type": "linear"
        }
       }
      },
      "image/png": "[encoded data removed]",
      "text/html": [
       "<div>                            <div id=\"a83fc747-e305-463a-adb3-c5ea96d667f0\" class=\"plotly-graph-div\" style=\"height:525px; width:100%;\"></div>            <script type=\"text/javascript\">                require([\"plotly\"], function(Plotly) {                    window.PLOTLYENV=window.PLOTLYENV || {};                                    if (document.getElementById(\"a83fc747-e305-463a-adb3-c5ea96d667f0\")) {                    Plotly.newPlot(                        \"a83fc747-e305-463a-adb3-c5ea96d667f0\",                        [{\"hovertemplate\":\"ID: %{text}\",\"legendgroup\":\"Reference Tree\",\"marker\":{\"color\":\"#636efa\",\"symbol\":\"circle\"},\"mode\":\"markers\",\"name\":\"Reference Tree\",\"orientation\":\"v\",\"showlegend\":true,\"x\":[-0.0484504027554964],\"xaxis\":\"x\",\"y\":[0.4198412602950101],\"yaxis\":\"y\",\"type\":\"scatter\",\"hoverinfo\":\"skip\",\"text\":[\"1\",\"2\",\"3\",\"4\",\"5\",\"6\",\"7\",\"8\",\"9\",\"10\",\"11\",\"12\",\"13\",\"14\",\"15\",\"16\",\"17\",\"18\",\"19\",\"20\",\"21\",\"22\",\"23\",\"24\",\"25\",\"26\",\"27\",\"28\",\"29\",\"30\"]},{\"hovertemplate\":\"ID: %{text}\",\"legendgroup\":\"Tree Collection\",\"marker\":{\"color\":\"#EF553B\",\"symbol\":\"circle\"},\"mode\":\"markers\",\"name\":\"Tree Collection\",\"orientation\":\"v\",\"showlegend\":true,\"x\":[-0.20550168253068343,0.2105567149989941,0.01978231078446316,-0.3932245271859633,-0.21743040303982286,-0.014332086625232868,-0.0303697077952131,0.24125538427131782,0.2608987681720939,-0.060686812183590365,0.09258832981931074,-0.3944319805586449,0.4187645877449094,0.17499554403747214,0.20613746468333713,0.28429096626068856,0.1191862562702482,0.0044291569859732675,0.25748679699194454,0.013956963191427429,0.24343902449612317,-0.19061104681013843,-0.196961371478427,-0.1111297314069961,-0.1411716979522844,-0.4215067137328257,0.11554968656332928,0.030278582136522344,-0.2693443143249001,0.09609503830495647,-0.1913372183730252,-0.18999355135515406,0.35257798160232673,0.42610963397817,0.20525185605602628,-0.2393517460463397,-0.15630744120270093,-0.15335954594592294,0.09319735027839435,0.33950121897416125,-0.025138884756172784,-0.2134874158760168,-0.25743855522876224,-0.14572862494606773,-0.2846849520153379,-0.3273802790531496,0.3479910717568869,0.17553818725591622,0.3682339144509363,-0.06047952364878818,0.2168054800509818,-0.0397393685323909,0.23709514631566567,0.3811295325233328,0.26259752723116037,-0.13403302944286274,-0.29410755575359254,-0.4141481142181948,-0.37385219141254583],\"xaxis\":\"x\",\"y\":[-0.36675158026422755,0.3923601123197173,0.36908544092537776,0.0840040002056489,0.05231168952864157,0.20433404421926463,0.2358926936376339,0.1350304207141765,-0.38598218175274374,0.08042154379572423,0.42889699556026933,-0.13177100860626542,-0.1295308339102843,-0.28571804843915904,0.43740591440703663,0.05856088527807978,-0.034556594141144946,-0.29923717173723063,-0.11336441182228295,-0.3508396318132465,-0.027042802419367976,0.2506428646640941,0.41565357362986316,-0.2817476961850716,-0.22627050817757477,0.002646344171764087,0.27136927481854745,0.09324213146925621,-0.3200494514254258,-0.3461277281916295,-0.34058299794306796,0.3706303806515682,0.12138707860377629,0.02939982801887574,0.11633874206512775,-0.10419748363966064,0.12937231884561123,-0.12592691917828314,-0.28992531764300017,0.26845260784270136,-0.11514636999997842,0.36061408344040374,0.26117261830087435,0.285367705024062,-0.023638418569198943,0.17618480221010677,-0.17720401544327616,-0.2680314566370829,-0.014513513924754286,0.0014080482309584215,0.2469697814708734,-0.43604065300398204,-0.2145425939417135,-0.011908580621215012,-0.2292926495246553,-0.4661489653619933,-0.2668240917939659,0.10457288713616072,-0.020656395370021535],\"yaxis\":\"y\",\"type\":\"scatter\",\"hoverinfo\":\"skip\",\"text\":[\"1\",\"2\",\"3\",\"4\",\"5\",\"6\",\"7\",\"8\",\"9\",\"10\",\"11\",\"12\",\"13\",\"14\",\"15\",\"16\",\"17\",\"18\",\"19\",\"20\",\"21\",\"22\",\"23\",\"24\",\"25\",\"26\",\"27\",\"28\",\"29\",\"30\"]}],                        {\"template\":{\"data\":{\"histogram2dcontour\":[{\"type\":\"histogram2dcontour\",\"colorbar\":{\"outlinewidth\":0,\"ticks\":\"\"},\"colorscale\":[[0.0,\"#0d0887\"],[0.1111111111111111,\"#46039f\"],[0.2222222222222222,\"#7201a8\"],[0.3333333333333333,\"#9c179e\"],[0.4444444444444444,\"#bd3786\"],[0.5555555555555556,\"#d8576b\"],[0.6666666666666666,\"#ed7953\"],[0.7777777777777778,\"#fb9f3a\"],[0.8888888888888888,\"#fdca26\"],[1.0,\"#f0f921\"]]}],\"choropleth\":[{\"type\":\"choropleth\",\"colorbar\":{\"outlinewidth\":0,\"ticks\":\"\"}}],\"histogram2d\":[{\"type\":\"histogram2d\",\"colorbar\":{\"outlinewidth\":0,\"ticks\":\"\"},\"colorscale\":[[0.0,\"#0d0887\"],[0.1111111111111111,\"#46039f\"],[0.2222222222222222,\"#7201a8\"],[0.3333333333333333,\"#9c179e\"],[0.4444444444444444,\"#bd3786\"],[0.5555555555555556,\"#d8576b\"],[0.6666666666666666,\"#ed7953\"],[0.7777777777777778,\"#fb9f3a\"],[0.8888888888888888,\"#fdca26\"],[1.0,\"#f0f921\"]]}],\"heatmap\":[{\"type\":\"heatmap\",\"colorbar\":{\"outlinewidth\":0,\"ticks\":\"\"},\"colorscale\":[[0.0,\"#0d0887\"],[0.1111111111111111,\"#46039f\"],[0.2222222222222222,\"#7201a8\"],[0.3333333333333333,\"#9c179e\"],[0.4444444444444444,\"#bd3786\"],[0.5555555555555556,\"#d8576b\"],[0.6666666666666666,\"#ed7953\"],[0.7777777777777778,\"#fb9f3a\"],[0.8888888888888888,\"#fdca26\"],[1.0,\"#f0f921\"]]}],\"heatmapgl\":[{\"type\":\"heatmapgl\",\"colorbar\":{\"outlinewidth\":0,\"ticks\":\"\"},\"colorscale\":[[0.0,\"#0d0887\"],[0.1111111111111111,\"#46039f\"],[0.2222222222222222,\"#7201a8\"],[0.3333333333333333,\"#9c179e\"],[0.4444444444444444,\"#bd3786\"],[0.5555555555555556,\"#d8576b\"],[0.6666666666666666,\"#ed7953\"],[0.7777777777777778,\"#fb9f3a\"],[0.8888888888888888,\"#fdca26\"],[1.0,\"#f0f921\"]]}],\"contourcarpet\":[{\"type\":\"contourcarpet\",\"colorbar\":{\"outlinewidth\":0,\"ticks\":\"\"}}],\"contour\":[{\"type\":\"contour\",\"colorbar\":{\"outlinewidth\":0,\"ticks\":\"\"},\"colorscale\":[[0.0,\"#0d0887\"],[0.1111111111111111,\"#46039f\"],[0.2222222222222222,\"#7201a8\"],[0.3333333333333333,\"#9c179e\"],[0.4444444444444444,\"#bd3786\"],[0.5555555555555556,\"#d8576b\"],[0.6666666666666666,\"#ed7953\"],[0.7777777777777778,\"#fb9f3a\"],[0.8888888888888888,\"#fdca26\"],[1.0,\"#f0f921\"]]}],\"surface\":[{\"type\":\"surface\",\"colorbar\":{\"outlinewidth\":0,\"ticks\":\"\"},\"colorscale\":[[0.0,\"#0d0887\"],[0.1111111111111111,\"#46039f\"],[0.2222222222222222,\"#7201a8\"],[0.3333333333333333,\"#9c179e\"],[0.4444444444444444,\"#bd3786\"],[0.5555555555555556,\"#d8576b\"],[0.6666666666666666,\"#ed7953\"],[0.7777777777777778,\"#fb9f3a\"],[0.8888888888888888,\"#fdca26\"],[1.0,\"#f0f921\"]]}],\"mesh3d\":[{\"type\":\"mesh3d\",\"colorbar\":{\"outlinewidth\":0,\"ticks\":\"\"}}],\"scatter\":[{\"fillpattern\":{\"fillmode\":\"overlay\",\"size\":10,\"solidity\":0.2},\"type\":\"scatter\"}],\"parcoords\":[{\"type\":\"parcoords\",\"line\":{\"colorbar\":{\"outlinewidth\":0,\"ticks\":\"\"}}}],\"scatterpolargl\":[{\"type\":\"scatterpolargl\",\"marker\":{\"colorbar\":{\"outlinewidth\":0,\"ticks\":\"\"}}}],\"bar\":[{\"error_x\":{\"color\":\"#2a3f5f\"},\"error_y\":{\"color\":\"#2a3f5f\"},\"marker\":{\"line\":{\"color\":\"#E5ECF6\",\"width\":0.5},\"pattern\":{\"fillmode\":\"overlay\",\"size\":10,\"solidity\":0.2}},\"type\":\"bar\"}],\"scattergeo\":[{\"type\":\"scattergeo\",\"marker\":{\"colorbar\":{\"outlinewidth\":0,\"ticks\":\"\"}}}],\"scatterpolar\":[{\"type\":\"scatterpolar\",\"marker\":{\"colorbar\":{\"outlinewidth\":0,\"ticks\":\"\"}}}],\"histogram\":[{\"marker\":{\"pattern\":{\"fillmode\":\"overlay\",\"size\":10,\"solidity\":0.2}},\"type\":\"histogram\"}],\"scattergl\":[{\"type\":\"scattergl\",\"marker\":{\"colorbar\":{\"outlinewidth\":0,\"ticks\":\"\"}}}],\"scatter3d\":[{\"type\":\"scatter3d\",\"line\":{\"colorbar\":{\"outlinewidth\":0,\"ticks\":\"\"}},\"marker\":{\"colorbar\":{\"outlinewidth\":0,\"ticks\":\"\"}}}],\"scattermapbox\":[{\"type\":\"scattermapbox\",\"marker\":{\"colorbar\":{\"outlinewidth\":0,\"ticks\":\"\"}}}],\"scatterternary\":[{\"type\":\"scatterternary\",\"marker\":{\"colorbar\":{\"outlinewidth\":0,\"ticks\":\"\"}}}],\"scattercarpet\":[{\"type\":\"scattercarpet\",\"marker\":{\"colorbar\":{\"outlinewidth\":0,\"ticks\":\"\"}}}],\"carpet\":[{\"aaxis\":{\"endlinecolor\":\"#2a3f5f\",\"gridcolor\":\"white\",\"linecolor\":\"white\",\"minorgridcolor\":\"white\",\"startlinecolor\":\"#2a3f5f\"},\"baxis\":{\"endlinecolor\":\"#2a3f5f\",\"gridcolor\":\"white\",\"linecolor\":\"white\",\"minorgridcolor\":\"white\",\"startlinecolor\":\"#2a3f5f\"},\"type\":\"carpet\"}],\"table\":[{\"cells\":{\"fill\":{\"color\":\"#EBF0F8\"},\"line\":{\"color\":\"white\"}},\"header\":{\"fill\":{\"color\":\"#C8D4E3\"},\"line\":{\"color\":\"white\"}},\"type\":\"table\"}],\"barpolar\":[{\"marker\":{\"line\":{\"color\":\"#E5ECF6\",\"width\":0.5},\"pattern\":{\"fillmode\":\"overlay\",\"size\":10,\"solidity\":0.2}},\"type\":\"barpolar\"}],\"pie\":[{\"automargin\":true,\"type\":\"pie\"}]},\"layout\":{\"autotypenumbers\":\"strict\",\"colorway\":[\"#636efa\",\"#EF553B\",\"#00cc96\",\"#ab63fa\",\"#FFA15A\",\"#19d3f3\",\"#FF6692\",\"#B6E880\",\"#FF97FF\",\"#FECB52\"],\"font\":{\"color\":\"#2a3f5f\"},\"hovermode\":\"closest\",\"hoverlabel\":{\"align\":\"left\"},\"paper_bgcolor\":\"white\",\"plot_bgcolor\":\"#E5ECF6\",\"polar\":{\"bgcolor\":\"#E5ECF6\",\"angularaxis\":{\"gridcolor\":\"white\",\"linecolor\":\"white\",\"ticks\":\"\"},\"radialaxis\":{\"gridcolor\":\"white\",\"linecolor\":\"white\",\"ticks\":\"\"}},\"ternary\":{\"bgcolor\":\"#E5ECF6\",\"aaxis\":{\"gridcolor\":\"white\",\"linecolor\":\"white\",\"ticks\":\"\"},\"baxis\":{\"gridcolor\":\"white\",\"linecolor\":\"white\",\"ticks\":\"\"},\"caxis\":{\"gridcolor\":\"white\",\"linecolor\":\"white\",\"ticks\":\"\"}},\"coloraxis\":{\"colorbar\":{\"outlinewidth\":0,\"ticks\":\"\"}},\"colorscale\":{\"sequential\":[[0.0,\"#0d0887\"],[0.1111111111111111,\"#46039f\"],[0.2222222222222222,\"#7201a8\"],[0.3333333333333333,\"#9c179e\"],[0.4444444444444444,\"#bd3786\"],[0.5555555555555556,\"#d8576b\"],[0.6666666666666666,\"#ed7953\"],[0.7777777777777778,\"#fb9f3a\"],[0.8888888888888888,\"#fdca26\"],[1.0,\"#f0f921\"]],\"sequentialminus\":[[0.0,\"#0d0887\"],[0.1111111111111111,\"#46039f\"],[0.2222222222222222,\"#7201a8\"],[0.3333333333333333,\"#9c179e\"],[0.4444444444444444,\"#bd3786\"],[0.5555555555555556,\"#d8576b\"],[0.6666666666666666,\"#ed7953\"],[0.7777777777777778,\"#fb9f3a\"],[0.8888888888888888,\"#fdca26\"],[1.0,\"#f0f921\"]],\"diverging\":[[0,\"#8e0152\"],[0.1,\"#c51b7d\"],[0.2,\"#de77ae\"],[0.3,\"#f1b6da\"],[0.4,\"#fde0ef\"],[0.5,\"#f7f7f7\"],[0.6,\"#e6f5d0\"],[0.7,\"#b8e186\"],[0.8,\"#7fbc41\"],[0.9,\"#4d9221\"],[1,\"#276419\"]]},\"xaxis\":{\"gridcolor\":\"white\",\"linecolor\":\"white\",\"ticks\":\"\",\"title\":{\"standoff\":15},\"zerolinecolor\":\"white\",\"automargin\":true,\"zerolinewidth\":2},\"yaxis\":{\"gridcolor\":\"white\",\"linecolor\":\"white\",\"ticks\":\"\",\"title\":{\"standoff\":15},\"zerolinecolor\":\"white\",\"automargin\":true,\"zerolinewidth\":2},\"scene\":{\"xaxis\":{\"backgroundcolor\":\"#E5ECF6\",\"gridcolor\":\"white\",\"linecolor\":\"white\",\"showbackground\":true,\"ticks\":\"\",\"zerolinecolor\":\"white\",\"gridwidth\":2},\"yaxis\":{\"backgroundcolor\":\"#E5ECF6\",\"gridcolor\":\"white\",\"linecolor\":\"white\",\"showbackground\":true,\"ticks\":\"\",\"zerolinecolor\":\"white\",\"gridwidth\":2},\"zaxis\":{\"backgroundcolor\":\"#E5ECF6\",\"gridcolor\":\"white\",\"linecolor\":\"white\",\"showbackground\":true,\"ticks\":\"\",\"zerolinecolor\":\"white\",\"gridwidth\":2}},\"shapedefaults\":{\"line\":{\"color\":\"#2a3f5f\"}},\"annotationdefaults\":{\"arrowcolor\":\"#2a3f5f\",\"arrowhead\":0,\"arrowwidth\":1},\"geo\":{\"bgcolor\":\"white\",\"landcolor\":\"#E5ECF6\",\"subunitcolor\":\"white\",\"showland\":true,\"showlakes\":true,\"lakecolor\":\"white\"},\"title\":{\"x\":0.05},\"mapbox\":{\"style\":\"light\"}}},\"xaxis\":{\"anchor\":\"y\",\"domain\":[0.0,1.0],\"title\":{\"text\":\"x\"}},\"yaxis\":{\"anchor\":\"x\",\"domain\":[0.0,1.0],\"title\":{\"text\":\"y\"}},\"legend\":{\"title\":{\"text\":\"color\"},\"tracegroupgap\":0},\"title\":{\"text\":\"Scatter Plot with Hover IDs\"},\"showlegend\":false},                        {\"responsive\": true}                    ).then(function(){\n",
       "                            \n",
       "var gd = document.getElementById('a83fc747-e305-463a-adb3-c5ea96d667f0');\n",
       "var x = new MutationObserver(function (mutations, observer) {{\n",
       "        var display = window.getComputedStyle(gd).display;\n",
       "        if (!display || display === 'none') {{\n",
       "            console.log([gd, 'removed!']);\n",
       "            Plotly.purge(gd);\n",
       "            observer.disconnect();\n",
       "        }}\n",
       "}});\n",
       "\n",
       "// Listen for the removal of the full notebook cells\n",
       "var notebookContainer = gd.closest('#notebook-container');\n",
       "if (notebookContainer) {{\n",
       "    x.observe(notebookContainer, {childList: true});\n",
       "}}\n",
       "\n",
       "// Listen for the clearing of the current output cell\n",
       "var outputEl = gd.closest('.output');\n",
       "if (outputEl) {{\n",
       "    x.observe(outputEl, {childList: true});\n",
       "}}\n",
       "\n",
       "                        })                };                });            </script>        </div>"
      ]
     },
     "metadata": {},
     "output_type": "display_data"
    }
   ],
   "source": [
    "import plotly.express as px\n",
    "import pandas as pd\n",
    "tree_distance_matrix = np.random.rand(60, 60)\n",
    "tree_distance_matrix = np.triu(tree_distance_matrix) + np.triu(tree_distance_matrix, k=1).T\n",
    "\n",
    "# 使用 MDS 算法生成坐标\n",
    "mds = MDS(n_components=2, dissimilarity='precomputed')\n",
    "tree_point_coordinates = mds.fit_transform(tree_distance_matrix)\n",
    "\n",
    "# Sample data\n",
    "data = {\n",
    "    \n",
    "    'x': [1, 2, 3, 4, 5, 6, 7, 8, 9, 10, 11, 12, 13, 14, 15,\n",
    "          16, 17, 18, 19, 20, 21, 22, 23, 24, 25, 26, 27, 28, 29, 30],\n",
    "    'y': [5, 4, 3, 2, 1, 2, 3, 4, 5, 6, 7, 8, 9, 8, 7,\n",
    "          6, 5, 4, 3, 2, 3, 4, 5, 6, 7, 8, 9, 8, 7, 6]\n",
    "}\n",
    "id = list(range(1, 31))\n",
    "color = ['Reference Tree']\n",
    "for i in range(59):\n",
    "    color.append('Tree Collection')\n",
    "                 \n",
    "df = pd.DataFrame(data)\n",
    "\n",
    "# Create the scatter plot\n",
    "fig = px.scatter(x=tree_point_coordinates[:, 0], y=tree_point_coordinates[:, 1], color=color,\n",
    "                 title='Scatter Plot with Hover IDs')\n",
    "\n",
    "# Customize hover template\n",
    "fig.update_traces(hovertemplate='ID: %{text}')\n",
    "\n",
    "# Update hover information to show ID only\n",
    "fig.update_traces(text=id, hoverinfo='text')\n",
    "\n",
    "# Remove default hover information for color\n",
    "fig.update_traces(hoverinfo='skip')\n",
    "\n",
    "# Remove legend labels\n",
    "fig.update_layout(showlegend=False)\n",
    "\n",
    "# Show the plot\n",
    "fig.show()\n"
   ]
  },
  {
   "cell_type": "code",
   "execution_count": 11,
   "id": "92218d71-3c4c-4814-bb99-54a51acff463",
   "metadata": {},
   "outputs": [
    {
     "data": {
      "application/vnd.plotly.v1+json": {
       "config": {
        "plotlyServerURL": "https://plot.ly"
       },
       "data": [
        {
         "hoverinfo": "text",
         "marker": {
          "color": "blue",
          "size": 10
         },
         "mode": "markers",
         "text": [
          "Point 0",
          "Point 1",
          "Point 2"
         ],
         "type": "scatter",
         "x": [
          0.08122567447675011,
          0,
          0.6677027383853514
         ],
         "y": [
          2.2584234403361587,
          2.5817187108920354,
          0
         ]
        }
       ],
       "layout": {
        "autosize": true,
        "hovermode": "closest",
        "template": {
         "data": {
          "bar": [
           {
            "error_x": {
             "color": "#2a3f5f"
            },
            "error_y": {
             "color": "#2a3f5f"
            },
            "marker": {
             "line": {
              "color": "#E5ECF6",
              "width": 0.5
             },
             "pattern": {
              "fillmode": "overlay",
              "size": 10,
              "solidity": 0.2
             }
            },
            "type": "bar"
           }
          ],
          "barpolar": [
           {
            "marker": {
             "line": {
              "color": "#E5ECF6",
              "width": 0.5
             },
             "pattern": {
              "fillmode": "overlay",
              "size": 10,
              "solidity": 0.2
             }
            },
            "type": "barpolar"
           }
          ],
          "carpet": [
           {
            "aaxis": {
             "endlinecolor": "#2a3f5f",
             "gridcolor": "white",
             "linecolor": "white",
             "minorgridcolor": "white",
             "startlinecolor": "#2a3f5f"
            },
            "baxis": {
             "endlinecolor": "#2a3f5f",
             "gridcolor": "white",
             "linecolor": "white",
             "minorgridcolor": "white",
             "startlinecolor": "#2a3f5f"
            },
            "type": "carpet"
           }
          ],
          "choropleth": [
           {
            "colorbar": {
             "outlinewidth": 0,
             "ticks": ""
            },
            "type": "choropleth"
           }
          ],
          "contour": [
           {
            "colorbar": {
             "outlinewidth": 0,
             "ticks": ""
            },
            "colorscale": [
             [
              0,
              "#0d0887"
             ],
             [
              0.1111111111111111,
              "#46039f"
             ],
             [
              0.2222222222222222,
              "#7201a8"
             ],
             [
              0.3333333333333333,
              "#9c179e"
             ],
             [
              0.4444444444444444,
              "#bd3786"
             ],
             [
              0.5555555555555556,
              "#d8576b"
             ],
             [
              0.6666666666666666,
              "#ed7953"
             ],
             [
              0.7777777777777778,
              "#fb9f3a"
             ],
             [
              0.8888888888888888,
              "#fdca26"
             ],
             [
              1,
              "#f0f921"
             ]
            ],
            "type": "contour"
           }
          ],
          "contourcarpet": [
           {
            "colorbar": {
             "outlinewidth": 0,
             "ticks": ""
            },
            "type": "contourcarpet"
           }
          ],
          "heatmap": [
           {
            "colorbar": {
             "outlinewidth": 0,
             "ticks": ""
            },
            "colorscale": [
             [
              0,
              "#0d0887"
             ],
             [
              0.1111111111111111,
              "#46039f"
             ],
             [
              0.2222222222222222,
              "#7201a8"
             ],
             [
              0.3333333333333333,
              "#9c179e"
             ],
             [
              0.4444444444444444,
              "#bd3786"
             ],
             [
              0.5555555555555556,
              "#d8576b"
             ],
             [
              0.6666666666666666,
              "#ed7953"
             ],
             [
              0.7777777777777778,
              "#fb9f3a"
             ],
             [
              0.8888888888888888,
              "#fdca26"
             ],
             [
              1,
              "#f0f921"
             ]
            ],
            "type": "heatmap"
           }
          ],
          "heatmapgl": [
           {
            "colorbar": {
             "outlinewidth": 0,
             "ticks": ""
            },
            "colorscale": [
             [
              0,
              "#0d0887"
             ],
             [
              0.1111111111111111,
              "#46039f"
             ],
             [
              0.2222222222222222,
              "#7201a8"
             ],
             [
              0.3333333333333333,
              "#9c179e"
             ],
             [
              0.4444444444444444,
              "#bd3786"
             ],
             [
              0.5555555555555556,
              "#d8576b"
             ],
             [
              0.6666666666666666,
              "#ed7953"
             ],
             [
              0.7777777777777778,
              "#fb9f3a"
             ],
             [
              0.8888888888888888,
              "#fdca26"
             ],
             [
              1,
              "#f0f921"
             ]
            ],
            "type": "heatmapgl"
           }
          ],
          "histogram": [
           {
            "marker": {
             "pattern": {
              "fillmode": "overlay",
              "size": 10,
              "solidity": 0.2
             }
            },
            "type": "histogram"
           }
          ],
          "histogram2d": [
           {
            "colorbar": {
             "outlinewidth": 0,
             "ticks": ""
            },
            "colorscale": [
             [
              0,
              "#0d0887"
             ],
             [
              0.1111111111111111,
              "#46039f"
             ],
             [
              0.2222222222222222,
              "#7201a8"
             ],
             [
              0.3333333333333333,
              "#9c179e"
             ],
             [
              0.4444444444444444,
              "#bd3786"
             ],
             [
              0.5555555555555556,
              "#d8576b"
             ],
             [
              0.6666666666666666,
              "#ed7953"
             ],
             [
              0.7777777777777778,
              "#fb9f3a"
             ],
             [
              0.8888888888888888,
              "#fdca26"
             ],
             [
              1,
              "#f0f921"
             ]
            ],
            "type": "histogram2d"
           }
          ],
          "histogram2dcontour": [
           {
            "colorbar": {
             "outlinewidth": 0,
             "ticks": ""
            },
            "colorscale": [
             [
              0,
              "#0d0887"
             ],
             [
              0.1111111111111111,
              "#46039f"
             ],
             [
              0.2222222222222222,
              "#7201a8"
             ],
             [
              0.3333333333333333,
              "#9c179e"
             ],
             [
              0.4444444444444444,
              "#bd3786"
             ],
             [
              0.5555555555555556,
              "#d8576b"
             ],
             [
              0.6666666666666666,
              "#ed7953"
             ],
             [
              0.7777777777777778,
              "#fb9f3a"
             ],
             [
              0.8888888888888888,
              "#fdca26"
             ],
             [
              1,
              "#f0f921"
             ]
            ],
            "type": "histogram2dcontour"
           }
          ],
          "mesh3d": [
           {
            "colorbar": {
             "outlinewidth": 0,
             "ticks": ""
            },
            "type": "mesh3d"
           }
          ],
          "parcoords": [
           {
            "line": {
             "colorbar": {
              "outlinewidth": 0,
              "ticks": ""
             }
            },
            "type": "parcoords"
           }
          ],
          "pie": [
           {
            "automargin": true,
            "type": "pie"
           }
          ],
          "scatter": [
           {
            "fillpattern": {
             "fillmode": "overlay",
             "size": 10,
             "solidity": 0.2
            },
            "type": "scatter"
           }
          ],
          "scatter3d": [
           {
            "line": {
             "colorbar": {
              "outlinewidth": 0,
              "ticks": ""
             }
            },
            "marker": {
             "colorbar": {
              "outlinewidth": 0,
              "ticks": ""
             }
            },
            "type": "scatter3d"
           }
          ],
          "scattercarpet": [
           {
            "marker": {
             "colorbar": {
              "outlinewidth": 0,
              "ticks": ""
             }
            },
            "type": "scattercarpet"
           }
          ],
          "scattergeo": [
           {
            "marker": {
             "colorbar": {
              "outlinewidth": 0,
              "ticks": ""
             }
            },
            "type": "scattergeo"
           }
          ],
          "scattergl": [
           {
            "marker": {
             "colorbar": {
              "outlinewidth": 0,
              "ticks": ""
             }
            },
            "type": "scattergl"
           }
          ],
          "scattermapbox": [
           {
            "marker": {
             "colorbar": {
              "outlinewidth": 0,
              "ticks": ""
             }
            },
            "type": "scattermapbox"
           }
          ],
          "scatterpolar": [
           {
            "marker": {
             "colorbar": {
              "outlinewidth": 0,
              "ticks": ""
             }
            },
            "type": "scatterpolar"
           }
          ],
          "scatterpolargl": [
           {
            "marker": {
             "colorbar": {
              "outlinewidth": 0,
              "ticks": ""
             }
            },
            "type": "scatterpolargl"
           }
          ],
          "scatterternary": [
           {
            "marker": {
             "colorbar": {
              "outlinewidth": 0,
              "ticks": ""
             }
            },
            "type": "scatterternary"
           }
          ],
          "surface": [
           {
            "colorbar": {
             "outlinewidth": 0,
             "ticks": ""
            },
            "colorscale": [
             [
              0,
              "#0d0887"
             ],
             [
              0.1111111111111111,
              "#46039f"
             ],
             [
              0.2222222222222222,
              "#7201a8"
             ],
             [
              0.3333333333333333,
              "#9c179e"
             ],
             [
              0.4444444444444444,
              "#bd3786"
             ],
             [
              0.5555555555555556,
              "#d8576b"
             ],
             [
              0.6666666666666666,
              "#ed7953"
             ],
             [
              0.7777777777777778,
              "#fb9f3a"
             ],
             [
              0.8888888888888888,
              "#fdca26"
             ],
             [
              1,
              "#f0f921"
             ]
            ],
            "type": "surface"
           }
          ],
          "table": [
           {
            "cells": {
             "fill": {
              "color": "#EBF0F8"
             },
             "line": {
              "color": "white"
             }
            },
            "header": {
             "fill": {
              "color": "#C8D4E3"
             },
             "line": {
              "color": "white"
             }
            },
            "type": "table"
           }
          ]
         },
         "layout": {
          "annotationdefaults": {
           "arrowcolor": "#2a3f5f",
           "arrowhead": 0,
           "arrowwidth": 1
          },
          "autotypenumbers": "strict",
          "coloraxis": {
           "colorbar": {
            "outlinewidth": 0,
            "ticks": ""
           }
          },
          "colorscale": {
           "diverging": [
            [
             0,
             "#8e0152"
            ],
            [
             0.1,
             "#c51b7d"
            ],
            [
             0.2,
             "#de77ae"
            ],
            [
             0.3,
             "#f1b6da"
            ],
            [
             0.4,
             "#fde0ef"
            ],
            [
             0.5,
             "#f7f7f7"
            ],
            [
             0.6,
             "#e6f5d0"
            ],
            [
             0.7,
             "#b8e186"
            ],
            [
             0.8,
             "#7fbc41"
            ],
            [
             0.9,
             "#4d9221"
            ],
            [
             1,
             "#276419"
            ]
           ],
           "sequential": [
            [
             0,
             "#0d0887"
            ],
            [
             0.1111111111111111,
             "#46039f"
            ],
            [
             0.2222222222222222,
             "#7201a8"
            ],
            [
             0.3333333333333333,
             "#9c179e"
            ],
            [
             0.4444444444444444,
             "#bd3786"
            ],
            [
             0.5555555555555556,
             "#d8576b"
            ],
            [
             0.6666666666666666,
             "#ed7953"
            ],
            [
             0.7777777777777778,
             "#fb9f3a"
            ],
            [
             0.8888888888888888,
             "#fdca26"
            ],
            [
             1,
             "#f0f921"
            ]
           ],
           "sequentialminus": [
            [
             0,
             "#0d0887"
            ],
            [
             0.1111111111111111,
             "#46039f"
            ],
            [
             0.2222222222222222,
             "#7201a8"
            ],
            [
             0.3333333333333333,
             "#9c179e"
            ],
            [
             0.4444444444444444,
             "#bd3786"
            ],
            [
             0.5555555555555556,
             "#d8576b"
            ],
            [
             0.6666666666666666,
             "#ed7953"
            ],
            [
             0.7777777777777778,
             "#fb9f3a"
            ],
            [
             0.8888888888888888,
             "#fdca26"
            ],
            [
             1,
             "#f0f921"
            ]
           ]
          },
          "colorway": [
           "#636efa",
           "#EF553B",
           "#00cc96",
           "#ab63fa",
           "#FFA15A",
           "#19d3f3",
           "#FF6692",
           "#B6E880",
           "#FF97FF",
           "#FECB52"
          ],
          "font": {
           "color": "#2a3f5f"
          },
          "geo": {
           "bgcolor": "white",
           "lakecolor": "white",
           "landcolor": "#E5ECF6",
           "showlakes": true,
           "showland": true,
           "subunitcolor": "white"
          },
          "hoverlabel": {
           "align": "left"
          },
          "hovermode": "closest",
          "mapbox": {
           "style": "light"
          },
          "paper_bgcolor": "white",
          "plot_bgcolor": "#E5ECF6",
          "polar": {
           "angularaxis": {
            "gridcolor": "white",
            "linecolor": "white",
            "ticks": ""
           },
           "bgcolor": "#E5ECF6",
           "radialaxis": {
            "gridcolor": "white",
            "linecolor": "white",
            "ticks": ""
           }
          },
          "scene": {
           "xaxis": {
            "backgroundcolor": "#E5ECF6",
            "gridcolor": "white",
            "gridwidth": 2,
            "linecolor": "white",
            "showbackground": true,
            "ticks": "",
            "zerolinecolor": "white"
           },
           "yaxis": {
            "backgroundcolor": "#E5ECF6",
            "gridcolor": "white",
            "gridwidth": 2,
            "linecolor": "white",
            "showbackground": true,
            "ticks": "",
            "zerolinecolor": "white"
           },
           "zaxis": {
            "backgroundcolor": "#E5ECF6",
            "gridcolor": "white",
            "gridwidth": 2,
            "linecolor": "white",
            "showbackground": true,
            "ticks": "",
            "zerolinecolor": "white"
           }
          },
          "shapedefaults": {
           "line": {
            "color": "#2a3f5f"
           }
          },
          "ternary": {
           "aaxis": {
            "gridcolor": "white",
            "linecolor": "white",
            "ticks": ""
           },
           "baxis": {
            "gridcolor": "white",
            "linecolor": "white",
            "ticks": ""
           },
           "bgcolor": "#E5ECF6",
           "caxis": {
            "gridcolor": "white",
            "linecolor": "white",
            "ticks": ""
           }
          },
          "title": {
           "x": 0.05
          },
          "xaxis": {
           "automargin": true,
           "gridcolor": "white",
           "linecolor": "white",
           "ticks": "",
           "title": {
            "standoff": 15
           },
           "zerolinecolor": "white",
           "zerolinewidth": 2
          },
          "yaxis": {
           "automargin": true,
           "gridcolor": "white",
           "linecolor": "white",
           "ticks": "",
           "title": {
            "standoff": 15
           },
           "zerolinecolor": "white",
           "zerolinewidth": 2
          }
         }
        },
        "title": {
         "text": "Scatter Plot of Points based on Distance"
        },
        "xaxis": {
         "autorange": true,
         "range": [
          -0.042651673005679805,
          0.7103544113910313
         ],
         "ticktext": [
          1,
          2,
          3
         ],
         "tickvals": [
          0,
          0.5,
          1
         ],
         "title": {
          "text": "X"
         },
         "type": "linear"
        },
        "yaxis": {
         "autorange": true,
         "range": [
          -0.26335257753246516,
          2.8450712884245006
         ],
         "title": {
          "text": "Y"
         },
         "type": "linear"
        }
       }
      },
      "image/png": "[encoded data removed]",
      "text/html": [
       "<div>                            <div id=\"968144be-156e-4ab0-bb28-374ef11ddb7c\" class=\"plotly-graph-div\" style=\"height:525px; width:100%;\"></div>            <script type=\"text/javascript\">                require([\"plotly\"], function(Plotly) {                    window.PLOTLYENV=window.PLOTLYENV || {};                                    if (document.getElementById(\"968144be-156e-4ab0-bb28-374ef11ddb7c\")) {                    Plotly.newPlot(                        \"968144be-156e-4ab0-bb28-374ef11ddb7c\",                        [{\"hoverinfo\":\"text\",\"marker\":{\"color\":\"blue\",\"size\":10},\"mode\":\"markers\",\"text\":[\"Point 0\",\"Point 1\",\"Point 2\"],\"x\":[0.08122567447675011,0.0,0.6677027383853514],\"y\":[2.2584234403361587,2.5817187108920354,0.0],\"type\":\"scatter\"}],                        {\"template\":{\"data\":{\"histogram2dcontour\":[{\"type\":\"histogram2dcontour\",\"colorbar\":{\"outlinewidth\":0,\"ticks\":\"\"},\"colorscale\":[[0.0,\"#0d0887\"],[0.1111111111111111,\"#46039f\"],[0.2222222222222222,\"#7201a8\"],[0.3333333333333333,\"#9c179e\"],[0.4444444444444444,\"#bd3786\"],[0.5555555555555556,\"#d8576b\"],[0.6666666666666666,\"#ed7953\"],[0.7777777777777778,\"#fb9f3a\"],[0.8888888888888888,\"#fdca26\"],[1.0,\"#f0f921\"]]}],\"choropleth\":[{\"type\":\"choropleth\",\"colorbar\":{\"outlinewidth\":0,\"ticks\":\"\"}}],\"histogram2d\":[{\"type\":\"histogram2d\",\"colorbar\":{\"outlinewidth\":0,\"ticks\":\"\"},\"colorscale\":[[0.0,\"#0d0887\"],[0.1111111111111111,\"#46039f\"],[0.2222222222222222,\"#7201a8\"],[0.3333333333333333,\"#9c179e\"],[0.4444444444444444,\"#bd3786\"],[0.5555555555555556,\"#d8576b\"],[0.6666666666666666,\"#ed7953\"],[0.7777777777777778,\"#fb9f3a\"],[0.8888888888888888,\"#fdca26\"],[1.0,\"#f0f921\"]]}],\"heatmap\":[{\"type\":\"heatmap\",\"colorbar\":{\"outlinewidth\":0,\"ticks\":\"\"},\"colorscale\":[[0.0,\"#0d0887\"],[0.1111111111111111,\"#46039f\"],[0.2222222222222222,\"#7201a8\"],[0.3333333333333333,\"#9c179e\"],[0.4444444444444444,\"#bd3786\"],[0.5555555555555556,\"#d8576b\"],[0.6666666666666666,\"#ed7953\"],[0.7777777777777778,\"#fb9f3a\"],[0.8888888888888888,\"#fdca26\"],[1.0,\"#f0f921\"]]}],\"heatmapgl\":[{\"type\":\"heatmapgl\",\"colorbar\":{\"outlinewidth\":0,\"ticks\":\"\"},\"colorscale\":[[0.0,\"#0d0887\"],[0.1111111111111111,\"#46039f\"],[0.2222222222222222,\"#7201a8\"],[0.3333333333333333,\"#9c179e\"],[0.4444444444444444,\"#bd3786\"],[0.5555555555555556,\"#d8576b\"],[0.6666666666666666,\"#ed7953\"],[0.7777777777777778,\"#fb9f3a\"],[0.8888888888888888,\"#fdca26\"],[1.0,\"#f0f921\"]]}],\"contourcarpet\":[{\"type\":\"contourcarpet\",\"colorbar\":{\"outlinewidth\":0,\"ticks\":\"\"}}],\"contour\":[{\"type\":\"contour\",\"colorbar\":{\"outlinewidth\":0,\"ticks\":\"\"},\"colorscale\":[[0.0,\"#0d0887\"],[0.1111111111111111,\"#46039f\"],[0.2222222222222222,\"#7201a8\"],[0.3333333333333333,\"#9c179e\"],[0.4444444444444444,\"#bd3786\"],[0.5555555555555556,\"#d8576b\"],[0.6666666666666666,\"#ed7953\"],[0.7777777777777778,\"#fb9f3a\"],[0.8888888888888888,\"#fdca26\"],[1.0,\"#f0f921\"]]}],\"surface\":[{\"type\":\"surface\",\"colorbar\":{\"outlinewidth\":0,\"ticks\":\"\"},\"colorscale\":[[0.0,\"#0d0887\"],[0.1111111111111111,\"#46039f\"],[0.2222222222222222,\"#7201a8\"],[0.3333333333333333,\"#9c179e\"],[0.4444444444444444,\"#bd3786\"],[0.5555555555555556,\"#d8576b\"],[0.6666666666666666,\"#ed7953\"],[0.7777777777777778,\"#fb9f3a\"],[0.8888888888888888,\"#fdca26\"],[1.0,\"#f0f921\"]]}],\"mesh3d\":[{\"type\":\"mesh3d\",\"colorbar\":{\"outlinewidth\":0,\"ticks\":\"\"}}],\"scatter\":[{\"fillpattern\":{\"fillmode\":\"overlay\",\"size\":10,\"solidity\":0.2},\"type\":\"scatter\"}],\"parcoords\":[{\"type\":\"parcoords\",\"line\":{\"colorbar\":{\"outlinewidth\":0,\"ticks\":\"\"}}}],\"scatterpolargl\":[{\"type\":\"scatterpolargl\",\"marker\":{\"colorbar\":{\"outlinewidth\":0,\"ticks\":\"\"}}}],\"bar\":[{\"error_x\":{\"color\":\"#2a3f5f\"},\"error_y\":{\"color\":\"#2a3f5f\"},\"marker\":{\"line\":{\"color\":\"#E5ECF6\",\"width\":0.5},\"pattern\":{\"fillmode\":\"overlay\",\"size\":10,\"solidity\":0.2}},\"type\":\"bar\"}],\"scattergeo\":[{\"type\":\"scattergeo\",\"marker\":{\"colorbar\":{\"outlinewidth\":0,\"ticks\":\"\"}}}],\"scatterpolar\":[{\"type\":\"scatterpolar\",\"marker\":{\"colorbar\":{\"outlinewidth\":0,\"ticks\":\"\"}}}],\"histogram\":[{\"marker\":{\"pattern\":{\"fillmode\":\"overlay\",\"size\":10,\"solidity\":0.2}},\"type\":\"histogram\"}],\"scattergl\":[{\"type\":\"scattergl\",\"marker\":{\"colorbar\":{\"outlinewidth\":0,\"ticks\":\"\"}}}],\"scatter3d\":[{\"type\":\"scatter3d\",\"line\":{\"colorbar\":{\"outlinewidth\":0,\"ticks\":\"\"}},\"marker\":{\"colorbar\":{\"outlinewidth\":0,\"ticks\":\"\"}}}],\"scattermapbox\":[{\"type\":\"scattermapbox\",\"marker\":{\"colorbar\":{\"outlinewidth\":0,\"ticks\":\"\"}}}],\"scatterternary\":[{\"type\":\"scatterternary\",\"marker\":{\"colorbar\":{\"outlinewidth\":0,\"ticks\":\"\"}}}],\"scattercarpet\":[{\"type\":\"scattercarpet\",\"marker\":{\"colorbar\":{\"outlinewidth\":0,\"ticks\":\"\"}}}],\"carpet\":[{\"aaxis\":{\"endlinecolor\":\"#2a3f5f\",\"gridcolor\":\"white\",\"linecolor\":\"white\",\"minorgridcolor\":\"white\",\"startlinecolor\":\"#2a3f5f\"},\"baxis\":{\"endlinecolor\":\"#2a3f5f\",\"gridcolor\":\"white\",\"linecolor\":\"white\",\"minorgridcolor\":\"white\",\"startlinecolor\":\"#2a3f5f\"},\"type\":\"carpet\"}],\"table\":[{\"cells\":{\"fill\":{\"color\":\"#EBF0F8\"},\"line\":{\"color\":\"white\"}},\"header\":{\"fill\":{\"color\":\"#C8D4E3\"},\"line\":{\"color\":\"white\"}},\"type\":\"table\"}],\"barpolar\":[{\"marker\":{\"line\":{\"color\":\"#E5ECF6\",\"width\":0.5},\"pattern\":{\"fillmode\":\"overlay\",\"size\":10,\"solidity\":0.2}},\"type\":\"barpolar\"}],\"pie\":[{\"automargin\":true,\"type\":\"pie\"}]},\"layout\":{\"autotypenumbers\":\"strict\",\"colorway\":[\"#636efa\",\"#EF553B\",\"#00cc96\",\"#ab63fa\",\"#FFA15A\",\"#19d3f3\",\"#FF6692\",\"#B6E880\",\"#FF97FF\",\"#FECB52\"],\"font\":{\"color\":\"#2a3f5f\"},\"hovermode\":\"closest\",\"hoverlabel\":{\"align\":\"left\"},\"paper_bgcolor\":\"white\",\"plot_bgcolor\":\"#E5ECF6\",\"polar\":{\"bgcolor\":\"#E5ECF6\",\"angularaxis\":{\"gridcolor\":\"white\",\"linecolor\":\"white\",\"ticks\":\"\"},\"radialaxis\":{\"gridcolor\":\"white\",\"linecolor\":\"white\",\"ticks\":\"\"}},\"ternary\":{\"bgcolor\":\"#E5ECF6\",\"aaxis\":{\"gridcolor\":\"white\",\"linecolor\":\"white\",\"ticks\":\"\"},\"baxis\":{\"gridcolor\":\"white\",\"linecolor\":\"white\",\"ticks\":\"\"},\"caxis\":{\"gridcolor\":\"white\",\"linecolor\":\"white\",\"ticks\":\"\"}},\"coloraxis\":{\"colorbar\":{\"outlinewidth\":0,\"ticks\":\"\"}},\"colorscale\":{\"sequential\":[[0.0,\"#0d0887\"],[0.1111111111111111,\"#46039f\"],[0.2222222222222222,\"#7201a8\"],[0.3333333333333333,\"#9c179e\"],[0.4444444444444444,\"#bd3786\"],[0.5555555555555556,\"#d8576b\"],[0.6666666666666666,\"#ed7953\"],[0.7777777777777778,\"#fb9f3a\"],[0.8888888888888888,\"#fdca26\"],[1.0,\"#f0f921\"]],\"sequentialminus\":[[0.0,\"#0d0887\"],[0.1111111111111111,\"#46039f\"],[0.2222222222222222,\"#7201a8\"],[0.3333333333333333,\"#9c179e\"],[0.4444444444444444,\"#bd3786\"],[0.5555555555555556,\"#d8576b\"],[0.6666666666666666,\"#ed7953\"],[0.7777777777777778,\"#fb9f3a\"],[0.8888888888888888,\"#fdca26\"],[1.0,\"#f0f921\"]],\"diverging\":[[0,\"#8e0152\"],[0.1,\"#c51b7d\"],[0.2,\"#de77ae\"],[0.3,\"#f1b6da\"],[0.4,\"#fde0ef\"],[0.5,\"#f7f7f7\"],[0.6,\"#e6f5d0\"],[0.7,\"#b8e186\"],[0.8,\"#7fbc41\"],[0.9,\"#4d9221\"],[1,\"#276419\"]]},\"xaxis\":{\"gridcolor\":\"white\",\"linecolor\":\"white\",\"ticks\":\"\",\"title\":{\"standoff\":15},\"zerolinecolor\":\"white\",\"automargin\":true,\"zerolinewidth\":2},\"yaxis\":{\"gridcolor\":\"white\",\"linecolor\":\"white\",\"ticks\":\"\",\"title\":{\"standoff\":15},\"zerolinecolor\":\"white\",\"automargin\":true,\"zerolinewidth\":2},\"scene\":{\"xaxis\":{\"backgroundcolor\":\"#E5ECF6\",\"gridcolor\":\"white\",\"linecolor\":\"white\",\"showbackground\":true,\"ticks\":\"\",\"zerolinecolor\":\"white\",\"gridwidth\":2},\"yaxis\":{\"backgroundcolor\":\"#E5ECF6\",\"gridcolor\":\"white\",\"linecolor\":\"white\",\"showbackground\":true,\"ticks\":\"\",\"zerolinecolor\":\"white\",\"gridwidth\":2},\"zaxis\":{\"backgroundcolor\":\"#E5ECF6\",\"gridcolor\":\"white\",\"linecolor\":\"white\",\"showbackground\":true,\"ticks\":\"\",\"zerolinecolor\":\"white\",\"gridwidth\":2}},\"shapedefaults\":{\"line\":{\"color\":\"#2a3f5f\"}},\"annotationdefaults\":{\"arrowcolor\":\"#2a3f5f\",\"arrowhead\":0,\"arrowwidth\":1},\"geo\":{\"bgcolor\":\"white\",\"landcolor\":\"#E5ECF6\",\"subunitcolor\":\"white\",\"showland\":true,\"showlakes\":true,\"lakecolor\":\"white\"},\"title\":{\"x\":0.05},\"mapbox\":{\"style\":\"light\"}}},\"title\":{\"text\":\"Scatter Plot of Points based on Distance\"},\"xaxis\":{\"title\":{\"text\":\"X\"},\"tickvals\":[0,0.5,1.0],\"ticktext\":[1,2,3]},\"yaxis\":{\"title\":{\"text\":\"Y\"}},\"hovermode\":\"closest\"},                        {\"responsive\": true}                    ).then(function(){\n",
       "                            \n",
       "var gd = document.getElementById('968144be-156e-4ab0-bb28-374ef11ddb7c');\n",
       "var x = new MutationObserver(function (mutations, observer) {{\n",
       "        var display = window.getComputedStyle(gd).display;\n",
       "        if (!display || display === 'none') {{\n",
       "            console.log([gd, 'removed!']);\n",
       "            Plotly.purge(gd);\n",
       "            observer.disconnect();\n",
       "        }}\n",
       "}});\n",
       "\n",
       "// Listen for the removal of the full notebook cells\n",
       "var notebookContainer = gd.closest('#notebook-container');\n",
       "if (notebookContainer) {{\n",
       "    x.observe(notebookContainer, {childList: true});\n",
       "}}\n",
       "\n",
       "// Listen for the clearing of the current output cell\n",
       "var outputEl = gd.closest('.output');\n",
       "if (outputEl) {{\n",
       "    x.observe(outputEl, {childList: true});\n",
       "}}\n",
       "\n",
       "                        })                };                });            </script>        </div>"
      ]
     },
     "metadata": {},
     "output_type": "display_data"
    }
   ],
   "source": [
    "import numpy as np\n",
    "import plotly.graph_objs as go\n",
    "\n",
    "# Example: Generating random distances for 60 points\n",
    "num_points = 3\n",
    "# Generate random distances between 0 and 100 for demonstration\n",
    "distance_matrix = np.zeros((3,3))\n",
    "distance_matrix[0,2] = 2\n",
    "distance_matrix[1,2] = 3\n",
    "distance_matrix[2,0] = 2\n",
    "distance_matrix[2,1] = 3\n",
    "np.fill_diagonal(distance_matrix, 0)  # Set diagonal elements to 0\n",
    "distance_matrix= (distance_matrix + distance_matrix.T) / 2\n",
    "\n",
    "# Apply Multidimensional Scaling (MDS) to embed points in 2D space\n",
    "mds = MDS(n_components=2, dissimilarity='precomputed')\n",
    "coordinates = mds.fit_transform(distance_matrix)\n",
    "coordinates -= coordinates.min(axis=0)\n",
    "\n",
    "# Generate IDs for each point (assuming you have IDs for the points)\n",
    "point_ids = [f\"Point {i}\" for i in range(num_points)]\n",
    "\n",
    "# Create a Plotly scatter plot\n",
    "fig = go.Figure()\n",
    "\n",
    "# Add scatter trace\n",
    "fig.add_trace(go.Scatter(\n",
    "    x=coordinates[:, 0],\n",
    "    y=coordinates[:, 1],\n",
    "    mode='markers',\n",
    "    marker=dict(\n",
    "        size=10,\n",
    "        color='blue'\n",
    "    ),\n",
    "    text=point_ids,  # IDs for hover\n",
    "    hoverinfo='text'  # Show text on hover\n",
    "))\n",
    "\n",
    "# Update layout\n",
    "fig.update_layout(\n",
    "    title='Scatter Plot of Points based on Distance',\n",
    "    xaxis_title='X',\n",
    "    yaxis_title='Y',\n",
    "    hovermode='closest'\n",
    ")\n",
    "fig.update_xaxes(tickvals=[1,2,3], ticktext=[1, 2, 3])\n",
    "# Show plot\n",
    "fig.show()\n"
   ]
  },
  {
   "cell_type": "code",
   "execution_count": null,
   "id": "d0f4675f-819c-43bb-82e2-39594d04980c",
   "metadata": {},
   "outputs": [],
   "source": []
  }
 ],
 "metadata": {
  "kernelspec": {
   "display_name": "Python 3 (ipykernel)",
   "language": "python",
   "name": "python3"
  },
  "language_info": {
   "codemirror_mode": {
    "name": "ipython",
    "version": 3
   },
   "file_extension": ".py",
   "mimetype": "text/x-python",
   "name": "python",
   "nbconvert_exporter": "python",
   "pygments_lexer": "ipython3",
   "version": "3.11.4"
  }
 },
 "nbformat": 4,
 "nbformat_minor": 5
}
