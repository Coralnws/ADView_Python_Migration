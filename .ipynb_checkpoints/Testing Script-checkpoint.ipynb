{
 "cells": [
  {
   "cell_type": "code",
   "execution_count": null,
   "id": "04b86733",
   "metadata": {},
   "outputs": [],
   "source": [
    "!pip install -r requirements.txt"
   ]
  },
  {
   "cell_type": "code",
   "execution_count": 1,
   "id": "b60808f5-8e58-46c7-a055-ac2a8608787c",
   "metadata": {},
   "outputs": [],
   "source": [
    "import ADViewpy\n",
    "\n",
    "adpy = ADViewpy.init(treefile = \"Data/69species/astral.FAA.trim50genes.final.tre\")\n",
    "\n",
    "# adpy = ADViewpy.init(treefile = \"Data/astral2/astral.FAA.trim50genes33taxa.final.tre\")\n",
    "# adpy = ADViewpy.init(treefile = \"tre_test.tre\")"
   ]
  },
  {
   "cell_type": "code",
   "execution_count": 2,
   "id": "08d50fd9-5b73-41cf-a9fd-ac29e78625f0",
   "metadata": {
    "scrolled": true
   },
   "outputs": [],
   "source": [
    "outgroup = [\"Uronema sp\", \"Monomastix opisthostigma\", \"Pyramimonas parkeae\", \"Nephroselmis pyriformis\"]\n",
    "adpy.set_outgroup(outgroup)\n",
    "\n",
    "# %load_ext snakeviz\n",
    "# %snakeviz adpy.set_outgroup(outgroup)"
   ]
  },
  {
   "cell_type": "code",
   "execution_count": 3,
   "id": "16419580-c7e1-4fb1-a94b-f12d5728ca73",
   "metadata": {
    "scrolled": true
   },
   "outputs": [],
   "source": [
    "# # adpy.add_tree_collection(treefile = \"Data/69species/tc_test_missing.tre\",namefile=\"Data/69species/names.txt\")\n",
    "# # adpy.add_tree_collection(treefile = \"Data/astral2/tc.tre\")\n",
    "\n",
    "treefile = \"Data/69species/tc.tre\"\n",
    "namefile = \"Data/69species/names.txt\"\n",
    "adpy.add_tree_collection(treefile = treefile,namefile=namefile)\n",
    "\n",
    "# %load_ext snakeviz\n",
    "# %snakeviz adpy.add_tree_collection(treefile = treefile,namefile=namefile)"
   ]
  },
  {
   "cell_type": "code",
   "execution_count": 4,
   "id": "54d1af3b-c322-4ea1-b2ad-e18192c2e3d7",
   "metadata": {
    "scrolled": true
   },
   "outputs": [
    {
     "data": {
      "application/vnd.jupyter.widget-view+json": {
       "model_id": "a77c125c03a1439b9569798586aa7d35",
       "version_major": 2,
       "version_minor": 0
      },
      "text/plain": [
       "rtCanvas(height=2160, sync_image_data=True, width=1100)"
      ]
     },
     "execution_count": 4,
     "metadata": {},
     "output_type": "execute_result"
    }
   ],
   "source": [
    "exact_match_range = [100,100]\n",
    "support_value_range = [0,100]\n",
    "\n",
    "adpy.reference_tree(exact_match_range=[50,100])\n",
    "# # \n",
    "# %load_ext snakeviz\n",
    "# %snakeviz adpy.reference_tree()"
   ]
  },
  {
   "cell_type": "code",
   "execution_count": 9,
   "id": "14ca6967-cc60-4ed7-8ec9-ef9b508a05bf",
   "metadata": {},
   "outputs": [],
   "source": [
    "taxa_list = [\"mesostigma\",\"minuta\"]\n",
    "adpy.select_subtree(taxa_list)\n",
    "\n",
    "taxa_list = [\"spirogyra\",\"mougeotia\"]\n",
    "adpy.select_subtree(taxa_list)\n",
    "\n",
    "taxa_list = [\"mesotaenium\",\"mougeotia\"]\n",
    "adpy.select_subtree(taxa_list)\n",
    "\n",
    "taxa_list = [\"bryum\",\"capillare\"]\n",
    "adpy.select_subtree(taxa_list)\n",
    "\n",
    "adpy.select_taxa(\"marchantia\")"
   ]
  },
  {
   "cell_type": "code",
   "execution_count": null,
   "id": "5c790886-b92c-4c44-bc24-5e9ca1ef9116",
   "metadata": {},
   "outputs": [],
   "source": [
    "taxa_list = [\"nothoceros aenigmaticus\",\"polymorpha\"]\n",
    "adpy.select_subtree(taxa_list)\n",
    "\n",
    "\n",
    "taxa_list = [\"lescurii\",\"polymorpha\"]\n",
    "adpy.select_subtree(taxa_list)\n",
    "\n",
    "taxa_list = [\"scutata\",\"globosum\"]\n",
    "adpy.select_subtree(taxa_list)\n",
    "\n",
    "taxa_list = [\"mesostigma\",\"minuta\"]\n",
    "adpy.select_subtree(taxa_list)\n",
    "\n",
    "taxa_list = [\"fimbriata\",\"subtile\"]\n",
    "adpy.select_subtree(taxa_list)"
   ]
  },
  {
   "cell_type": "code",
   "execution_count": null,
   "id": "1c1e487b-69ed-4dc7-9fab-392db36632fe",
   "metadata": {},
   "outputs": [],
   "source": [
    "adpy.subtree_list"
   ]
  },
  {
   "cell_type": "code",
   "execution_count": 8,
   "id": "aa0153c6-03d5-49e9-b32e-81b6687f6f2b",
   "metadata": {
    "scrolled": true
   },
   "outputs": [
    {
     "data": {
      "application/vnd.jupyter.widget-view+json": {
       "model_id": "8b8f4f8759274463abb4ad8bbfed7d5c",
       "version_major": 2,
       "version_minor": 0
      },
      "text/plain": [
       "pairwiseCanvas(height=2160, image_data=b'\\x89PNG\\r\\n\\x1a\\n\\x00\\x00\\x00\\rIHDR\\x00\\x00\\x04L\\x00\\x00\\x08p\\x08\\x06…"
      ]
     },
     "metadata": {},
     "output_type": "display_data"
    },
    {
     "ename": "AttributeError",
     "evalue": "'list' object has no attribute 'pairwise_block'",
     "output_type": "error",
     "traceback": [
      "\u001b[1;31m---------------------------------------------------------------------------\u001b[0m",
      "\u001b[1;31mAttributeError\u001b[0m                            Traceback (most recent call last)",
      "Cell \u001b[1;32mIn[8], line 1\u001b[0m\n\u001b[1;32m----> 1\u001b[0m \u001b[43madpy\u001b[49m\u001b[38;5;241;43m.\u001b[39;49m\u001b[43mpairwise_comparison\u001b[49m\u001b[43m(\u001b[49m\u001b[43mcompare_tree\u001b[49m\u001b[38;5;241;43m=\u001b[39;49m\u001b[38;5;241;43m56\u001b[39;49m\u001b[43m)\u001b[49m\n\u001b[0;32m      3\u001b[0m \u001b[38;5;66;03m# %load_ext snakeviz\u001b[39;00m\n\u001b[0;32m      4\u001b[0m \u001b[38;5;66;03m# %snakeviz adpy.pairwise_comparison(compare_tree=2)\u001b[39;00m\n",
      "File \u001b[1;32m~\\Desktop\\Phylo\\Ipy-AD\\ADView_Python_Migration\\ADViewpy.py:457\u001b[0m, in \u001b[0;36mADViewpy.pairwise_comparison\u001b[1;34m(self, compare_tree)\u001b[0m\n\u001b[0;32m    453\u001b[0m     compare_tree \u001b[38;5;241m=\u001b[39m \u001b[38;5;28mself\u001b[39m\u001b[38;5;241m.\u001b[39mad_individual_canvas\u001b[38;5;241m.\u001b[39mtree_selected\u001b[38;5;241m.\u001b[39mtc_tree\n\u001b[0;32m    456\u001b[0m display(\u001b[38;5;28mself\u001b[39m\u001b[38;5;241m.\u001b[39mpairwise_canvas)\n\u001b[1;32m--> 457\u001b[0m \u001b[38;5;28;43mself\u001b[39;49m\u001b[38;5;241;43m.\u001b[39;49m\u001b[43mpairwise_canvas\u001b[49m\u001b[38;5;241;43m.\u001b[39;49m\u001b[43mcompare_tc_tree\u001b[49m\u001b[43m(\u001b[49m\u001b[43mcompare_tree\u001b[49m\u001b[43m,\u001b[49m\u001b[43mcompare_between_tc\u001b[49m\u001b[38;5;241;43m=\u001b[39;49m\u001b[43mcompare_between_tc\u001b[49m\u001b[43m)\u001b[49m\n",
      "File \u001b[1;32m~\\Desktop\\Phylo\\Ipy-AD\\ADView_Python_Migration\\pairwiseCanvas.py:1192\u001b[0m, in \u001b[0;36mpairwiseCanvas.compare_tc_tree\u001b[1;34m(self, compare_tree, compare_between_tc)\u001b[0m\n\u001b[0;32m   1189\u001b[0m         \u001b[38;5;66;03m# self.draw_frame(self.right_tree_width, y, width, height, BLACK, layer_index=self.TC_RIGHT_LAYER)\u001b[39;00m\n\u001b[0;32m   1191\u001b[0m \u001b[38;5;28;01mif\u001b[39;00m \u001b[38;5;28mlen\u001b[39m(\u001b[38;5;28mself\u001b[39m\u001b[38;5;241m.\u001b[39madPy\u001b[38;5;241m.\u001b[39msubtree_list) \u001b[38;5;241m>\u001b[39m \u001b[38;5;241m0\u001b[39m:\n\u001b[1;32m-> 1192\u001b[0m     \u001b[38;5;28;43mself\u001b[39;49m\u001b[38;5;241;43m.\u001b[39;49m\u001b[43msetup_tc_subtree_list\u001b[49m\u001b[43m(\u001b[49m\u001b[38;5;28;43mself\u001b[39;49m\u001b[38;5;241;43m.\u001b[39;49m\u001b[43mtc_tree\u001b[49m\u001b[43m,\u001b[49m\u001b[43mRIGHT\u001b[49m\u001b[43m)\u001b[49m\n",
      "File \u001b[1;32m~\\Desktop\\Phylo\\Ipy-AD\\ADView_Python_Migration\\pairwiseCanvas.py:934\u001b[0m, in \u001b[0;36mpairwiseCanvas.setup_tc_subtree_list\u001b[1;34m(self, tree, align)\u001b[0m\n\u001b[0;32m    931\u001b[0m     subtree\u001b[38;5;241m.\u001b[39mroot\u001b[38;5;241m.\u001b[39mduplicate_subtree \u001b[38;5;241m=\u001b[39m \u001b[38;5;28;01mFalse\u001b[39;00m\n\u001b[0;32m    932\u001b[0m     subtree\u001b[38;5;241m.\u001b[39mcorresponding_tc_subtree \u001b[38;5;241m=\u001b[39m \u001b[38;5;28;01mNone\u001b[39;00m\n\u001b[1;32m--> 934\u001b[0m     \u001b[38;5;28;43mself\u001b[39;49m\u001b[38;5;241;43m.\u001b[39;49m\u001b[43mdraw_tc_subtree_block\u001b[49m\u001b[43m(\u001b[49m\u001b[43msubtree\u001b[49m\u001b[43m,\u001b[49m\u001b[43malign\u001b[49m\u001b[43m)\u001b[49m\n\u001b[0;32m    936\u001b[0m \u001b[38;5;28mself\u001b[39m\u001b[38;5;241m.\u001b[39mdraw_escape_taxa(align)\n",
      "File \u001b[1;32m~\\Desktop\\Phylo\\Ipy-AD\\ADView_Python_Migration\\pairwiseCanvas.py:1004\u001b[0m, in \u001b[0;36mpairwiseCanvas.draw_tc_subtree_block\u001b[1;34m(self, subtree, align)\u001b[0m\n\u001b[0;32m   1001\u001b[0m             \u001b[38;5;66;03m# tc_corr = leaf_node.corr[tree.id]\u001b[39;00m\n\u001b[0;32m   1002\u001b[0m             \u001b[38;5;66;03m# tc_corr.exact_match_percentage = new_subtree.root.exact_match_percentage\u001b[39;00m\n\u001b[0;32m   1003\u001b[0m         \u001b[38;5;28;01mfor\u001b[39;00m taxa \u001b[38;5;129;01min\u001b[39;00m escape_taxa_list:\n\u001b[1;32m-> 1004\u001b[0m             \u001b[38;5;28;43mself\u001b[39;49m\u001b[38;5;241;43m.\u001b[39;49m\u001b[43mrecord_escape_taxa\u001b[49m\u001b[43m(\u001b[49m\u001b[43mtaxa\u001b[49m\u001b[43m,\u001b[49m\u001b[43m \u001b[49m\u001b[43mnew_subtree\u001b[49m\u001b[43m,\u001b[49m\u001b[43malign\u001b[49m\u001b[43m)\u001b[49m\n\u001b[0;32m   1006\u001b[0m \u001b[38;5;28mself\u001b[39m\u001b[38;5;241m.\u001b[39mcheck_duplicate_subtree(corresponding_subtree, subtree, new_subtree)\n\u001b[0;32m   1007\u001b[0m \u001b[38;5;28;01mfor\u001b[39;00m leaf_node \u001b[38;5;129;01min\u001b[39;00m corresponding_subtree\u001b[38;5;241m.\u001b[39mleaf_nodes():\n",
      "File \u001b[1;32m~\\Desktop\\Phylo\\Ipy-AD\\ADView_Python_Migration\\pairwiseCanvas.py:701\u001b[0m, in \u001b[0;36mpairwiseCanvas.record_escape_taxa\u001b[1;34m(self, node_selected, subtree, align)\u001b[0m\n\u001b[0;32m    698\u001b[0m         \u001b[38;5;28;01mreturn\u001b[39;00m\n\u001b[0;32m    700\u001b[0m new_escape_taxa \u001b[38;5;241m=\u001b[39m Escape_Taxa(node_selected)\n\u001b[1;32m--> 701\u001b[0m new_escape_taxa\u001b[38;5;241m.\u001b[39mescape_taxa_block \u001b[38;5;241m=\u001b[39m \u001b[38;5;28;43mself\u001b[39;49m\u001b[38;5;241;43m.\u001b[39;49m\u001b[43mgenerate_subtree_block\u001b[49m\u001b[43m(\u001b[49m\u001b[43mnode_selected\u001b[49m\u001b[43m,\u001b[49m\u001b[43m \u001b[49m\u001b[43malign\u001b[49m\u001b[38;5;241;43m=\u001b[39;49m\u001b[43malign\u001b[49m\u001b[43m)\u001b[49m\n\u001b[0;32m    702\u001b[0m new_escape_taxa\u001b[38;5;241m.\u001b[39msubtree_list\u001b[38;5;241m.\u001b[39mappend(subtree)\n\u001b[0;32m    703\u001b[0m taxa_list\u001b[38;5;241m.\u001b[39mappend(new_escape_taxa)\n",
      "File \u001b[1;32m~\\Desktop\\Phylo\\Ipy-AD\\ADView_Python_Migration\\pairwiseCanvas.py:626\u001b[0m, in \u001b[0;36mpairwiseCanvas.generate_subtree_block\u001b[1;34m(self, node_selected, align)\u001b[0m\n\u001b[0;32m    624\u001b[0m \u001b[38;5;28;01melif\u001b[39;00m align \u001b[38;5;241m==\u001b[39m RIGHT:\n\u001b[0;32m    625\u001b[0m     rec_x \u001b[38;5;241m=\u001b[39m \u001b[38;5;28mself\u001b[39m\u001b[38;5;241m.\u001b[39mleft_tree_width \u001b[38;5;241m+\u001b[39m TREE_PADDING\n\u001b[1;32m--> 626\u001b[0m     rec_y \u001b[38;5;241m=\u001b[39m \u001b[43mnode_selected\u001b[49m\u001b[38;5;241;43m.\u001b[39;49m\u001b[43mpairwise_block\u001b[49m\u001b[38;5;241m.\u001b[39mtopL\u001b[38;5;241m.\u001b[39my\n\u001b[0;32m    628\u001b[0m     \u001b[38;5;28;01mif\u001b[39;00m node_selected\u001b[38;5;241m.\u001b[39mis_missing:\n\u001b[0;32m    629\u001b[0m         rec_x \u001b[38;5;241m=\u001b[39m node_selected\u001b[38;5;241m.\u001b[39mpairwise_block\u001b[38;5;241m.\u001b[39mtopL\u001b[38;5;241m.\u001b[39mx \u001b[38;5;241m-\u001b[39m \u001b[38;5;241m5\u001b[39m\n",
      "\u001b[1;31mAttributeError\u001b[0m: 'list' object has no attribute 'pairwise_block'"
     ]
    }
   ],
   "source": [
    "adpy.pairwise_comparison(compare_tree=56)\n",
    "\n",
    "# %load_ext snakeviz\n",
    "# %snakeviz adpy.pairwise_comparison(compare_tree=2)\n"
   ]
  },
  {
   "cell_type": "code",
   "execution_count": null,
   "id": "bfec3278-cb16-4d47-8e2b-c79885139b5b",
   "metadata": {},
   "outputs": [],
   "source": [
    "adpy.pairwise_canvas.output"
   ]
  },
  {
   "cell_type": "code",
   "execution_count": null,
   "id": "0df31d7b-0330-4617-b62d-be234f58b71a",
   "metadata": {},
   "outputs": [],
   "source": [
    "print(adpy.pairwise_canvas.rt_layer_block_list)\n",
    "print(adpy.pairwise_canvas.rt_sorted_layer_list)\n",
    "print(adpy.pairwise_canvas.right_escape_taxa_subtree)\n"
   ]
  },
  {
   "cell_type": "code",
   "execution_count": null,
   "id": "e5200e0b-9f08-42c2-b2cc-a37975fe8c57",
   "metadata": {},
   "outputs": [],
   "source": []
  },
  {
   "cell_type": "code",
   "execution_count": null,
   "id": "31f8f6c8-e364-458b-99ea-4432aa0827c5",
   "metadata": {},
   "outputs": [],
   "source": [
    "print(adpy.pairwise_canvas.tc_right_layer_block_list)\n",
    "print(adpy.pairwise_canvas.tc_right_sorted_layer_list)\n",
    "print(adpy.pairwise_canvas.tc_right_layer_occupied)"
   ]
  },
  {
   "cell_type": "code",
   "execution_count": null,
   "id": "b57ee99a-9ed7-47a3-8382-2fe6ee91065a",
   "metadata": {},
   "outputs": [],
   "source": [
    "adpy.pairwise_canvas[8]"
   ]
  },
  {
   "cell_type": "code",
   "execution_count": 7,
   "id": "5adb5fc0-7c9a-4c94-84ae-fcf9701a7184",
   "metadata": {
    "scrolled": true
   },
   "outputs": [
    {
     "data": {
      "application/vnd.jupyter.widget-view+json": {
       "model_id": "ab40b5a0193d48529a7910a06058f5a9",
       "version_major": 2,
       "version_minor": 0
      },
      "text/plain": [
       "tcCanvas(height=2735, sync_image_data=True, width=1100)"
      ]
     },
     "metadata": {},
     "output_type": "display_data"
    }
   ],
   "source": [
    "adpy.AD(view='AD Individual',scale=1.2,context_level = 2,show_tree_name=True,escape_taxa_as_context_block=False)\n",
    "#,escape_taxa_as_context_block=False\n",
    "\n",
    "# %load_ext snakeviz\n",
    "# %snakeviz adpy.AD(view='AD Individual',scale=1.0,sort='id',context_level = 2,show_tree_name=True)"
   ]
  },
  {
   "cell_type": "code",
   "execution_count": 6,
   "id": "1551f362-af7a-47c8-a7c3-6d198a7a87f4",
   "metadata": {
    "scrolled": true
   },
   "outputs": [
    {
     "data": {
      "application/vnd.jupyter.widget-view+json": {
       "model_id": "dbfaec0d8b81482cb81c14c065abc42b",
       "version_major": 2,
       "version_minor": 0
      },
      "text/plain": [
       "VBox(children=(HBox(children=(VBox(children=(Label(value='Tree Distribution by Reference Partition', style=Lab…"
      ]
     },
     "metadata": {},
     "output_type": "display_data"
    }
   ],
   "source": [
    "adpy.tree_distribution()\n",
    "\n",
    "# %load_ext snakeviz\n",
    "# %snakeviz adpy.tree_distribution()"
   ]
  },
  {
   "cell_type": "code",
   "execution_count": null,
   "id": "92d16c59-0150-49d8-a8a5-7d90b41c4fad",
   "metadata": {},
   "outputs": [],
   "source": [
    "adpy.tree_distance()"
   ]
  },
  {
   "cell_type": "code",
   "execution_count": null,
   "id": "67ed5047-f2e6-4702-a13d-49948553b318",
   "metadata": {
    "scrolled": true
   },
   "outputs": [],
   "source": [
    "adpy.export_image(view='Tree Distribution',filename='tree_distribution_export')"
   ]
  },
  {
   "cell_type": "code",
   "execution_count": null,
   "id": "5fa1b7f2-900e-48ab-86b1-94d024c40497",
   "metadata": {
    "scrolled": true
   },
   "outputs": [],
   "source": [
    "adpy.AD(view='AD Cluster',scale=1.0)\n",
    "\n",
    "# %load_ext snakeviz\n",
    "# %snakeviz adpy.AD(view='AD Cluster',scale=1.0)"
   ]
  },
  {
   "cell_type": "code",
   "execution_count": null,
   "id": "6bcb3310-f02b-4b02-84a9-55e5f0880b8a",
   "metadata": {},
   "outputs": [],
   "source": [
    "taxa_list = [\"spirogyra\",\"mougeotia\"]\n",
    "adpy.select_subtree(taxa_list)\n",
    "\n",
    "# %load_ext snakeviz\n",
    "# %snakeviz adpy.select_subtree(taxa_list)"
   ]
  },
  {
   "cell_type": "code",
   "execution_count": null,
   "id": "940cba8f-b592-4e20-929e-d810b3b02357",
   "metadata": {},
   "outputs": [],
   "source": []
  }
 ],
 "metadata": {
  "kernelspec": {
   "display_name": "Python 3 (ipykernel)",
   "language": "python",
   "name": "python3"
  },
  "language_info": {
   "codemirror_mode": {
    "name": "ipython",
    "version": 3
   },
   "file_extension": ".py",
   "mimetype": "text/x-python",
   "name": "python",
   "nbconvert_exporter": "python",
   "pygments_lexer": "ipython3",
   "version": "3.11.4"
  }
 },
 "nbformat": 4,
 "nbformat_minor": 5
}
