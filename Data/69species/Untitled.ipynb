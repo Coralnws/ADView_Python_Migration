{
 "cells": [
  {
   "cell_type": "code",
   "execution_count": 1,
   "metadata": {
    "collapsed": true
   },
   "outputs": [],
   "source": [
    "from dendropy import Tree"
   ]
  },
  {
   "cell_type": "code",
   "execution_count": 18,
   "metadata": {
    "collapsed": true
   },
   "outputs": [],
   "source": [
    "t = Tree.get(path=\"astral.FAA.trim50genes.final.tre\", schema='newick')"
   ]
  },
  {
   "cell_type": "code",
   "execution_count": 19,
   "metadata": {
    "collapsed": false
   },
   "outputs": [
    {
     "name": "stdout",
     "output_type": "stream",
     "text": [
      "None <Node object at 0x104a8ab50: 'None' (None)> 3\n"
     ]
    }
   ],
   "source": [
    "print t.is_rooted, t.seed_node, t.seed_node.num_child_nodes()"
   ]
  },
  {
   "cell_type": "code",
   "execution_count": 10,
   "metadata": {
    "collapsed": false
   },
   "outputs": [
    {
     "name": "stdout",
     "output_type": "stream",
     "text": [
      "None <Node object at 0x1049be590: 'None' (None)> 2\n"
     ]
    }
   ],
   "source": [
    "t.resolve_polytomies()\n",
    "print t.is_rooted, t.seed_node, t.seed_node.num_child_nodes()"
   ]
  },
  {
   "cell_type": "code",
   "execution_count": 20,
   "metadata": {
    "collapsed": true
   },
   "outputs": [],
   "source": [
    "mrca = t.mrca(taxon_labels=['Pyramimonas parkeae', 'Monomastix opisthostigma', 'Nephroselmis pyriformis', 'Uronema sp'])"
   ]
  },
  {
   "cell_type": "code",
   "execution_count": 21,
   "metadata": {
    "collapsed": false
   },
   "outputs": [
    {
     "data": {
      "text/plain": [
       "<Node object at 0x104aef1d0: 'None' (None)>"
      ]
     },
     "execution_count": 21,
     "metadata": {},
     "output_type": "execute_result"
    }
   ],
   "source": [
    "t.reroot_at_edge(mrca.edge)"
   ]
  },
  {
   "cell_type": "code",
   "execution_count": 22,
   "metadata": {
    "collapsed": false
   },
   "outputs": [
    {
     "name": "stdout",
     "output_type": "stream",
     "text": [
      "True <Node object at 0x104aef1d0: 'None' (None)> 3\n"
     ]
    }
   ],
   "source": [
    "print t.is_rooted, t.seed_node, t.seed_node.num_child_nodes()"
   ]
  },
  {
   "cell_type": "code",
   "execution_count": 23,
   "metadata": {
    "collapsed": false
   },
   "outputs": [
    {
     "name": "stdout",
     "output_type": "stream",
     "text": [
      "True <Node object at 0x104aef1d0: 'None' (None)> 2\n"
     ]
    }
   ],
   "source": [
    "t.resolve_polytomies(update_bipartitions=True)\n",
    "t.ladderize()\n",
    "print t.is_rooted, t.seed_node, t.seed_node.num_child_nodes()"
   ]
  },
  {
   "cell_type": "code",
   "execution_count": null,
   "metadata": {
    "collapsed": true
   },
   "outputs": [],
   "source": []
  }
 ],
 "metadata": {
  "anaconda-cloud": {},
  "kernelspec": {
   "display_name": "Python [default]",
   "language": "python",
   "name": "python2"
  },
  "language_info": {
   "codemirror_mode": {
    "name": "ipython",
    "version": 2
   },
   "file_extension": ".py",
   "mimetype": "text/x-python",
   "name": "python",
   "nbconvert_exporter": "python",
   "pygments_lexer": "ipython2",
   "version": "2.7.12"
  }
 },
 "nbformat": 4,
 "nbformat_minor": 2
}
