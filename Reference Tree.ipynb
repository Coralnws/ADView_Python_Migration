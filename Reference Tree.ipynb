{
 "cells": [
  {
   "cell_type": "code",
   "execution_count": 1,
   "id": "04b86733",
   "metadata": {},
   "outputs": [
    {
     "name": "stdout",
     "output_type": "stream",
     "text": [
      "Requirement already satisfied: dendropy in c:\\users\\coral\\desktop\\phylo\\venv\\lib\\site-packages (from -r requirements.txt (line 1)) (4.6.1)\n",
      "Requirement already satisfied: ipycanvas in c:\\users\\coral\\desktop\\phylo\\venv\\lib\\site-packages (from -r requirements.txt (line 2)) (0.13.1)\n",
      "Requirement already satisfied: ipywidgets in c:\\users\\coral\\desktop\\phylo\\venv\\lib\\site-packages (from -r requirements.txt (line 3)) (8.1.1)\n",
      "Requirement already satisfied: quads in c:\\users\\coral\\desktop\\phylo\\venv\\lib\\site-packages (from -r requirements.txt (line 4)) (1.1.0)\n",
      "Requirement already satisfied: scikit-learn in c:\\users\\coral\\desktop\\phylo\\venv\\lib\\site-packages (from -r requirements.txt (line 5)) (1.4.1.post1)\n",
      "Requirement already satisfied: numpy in c:\\users\\coral\\desktop\\phylo\\venv\\lib\\site-packages (from -r requirements.txt (line 6)) (1.26.2)\n",
      "Requirement already satisfied: setuptools in c:\\users\\coral\\desktop\\phylo\\venv\\lib\\site-packages (from dendropy->-r requirements.txt (line 1)) (68.2.2)\n",
      "Requirement already satisfied: pillow>=6.0 in c:\\users\\coral\\desktop\\phylo\\venv\\lib\\site-packages (from ipycanvas->-r requirements.txt (line 2)) (10.1.0)\n",
      "Requirement already satisfied: comm>=0.1.3 in c:\\users\\coral\\desktop\\phylo\\venv\\lib\\site-packages (from ipywidgets->-r requirements.txt (line 3)) (0.2.0)\n",
      "Requirement already satisfied: ipython>=6.1.0 in c:\\users\\coral\\desktop\\phylo\\venv\\lib\\site-packages (from ipywidgets->-r requirements.txt (line 3)) (8.17.2)\n",
      "Requirement already satisfied: traitlets>=4.3.1 in c:\\users\\coral\\desktop\\phylo\\venv\\lib\\site-packages (from ipywidgets->-r requirements.txt (line 3)) (5.14.0)\n",
      "Requirement already satisfied: widgetsnbextension~=4.0.9 in c:\\users\\coral\\desktop\\phylo\\venv\\lib\\site-packages (from ipywidgets->-r requirements.txt (line 3)) (4.0.9)\n",
      "Requirement already satisfied: jupyterlab-widgets~=3.0.9 in c:\\users\\coral\\desktop\\phylo\\venv\\lib\\site-packages (from ipywidgets->-r requirements.txt (line 3)) (3.0.9)\n",
      "Requirement already satisfied: scipy>=1.6.0 in c:\\users\\coral\\desktop\\phylo\\venv\\lib\\site-packages (from scikit-learn->-r requirements.txt (line 5)) (1.12.0)\n",
      "Requirement already satisfied: joblib>=1.2.0 in c:\\users\\coral\\desktop\\phylo\\venv\\lib\\site-packages (from scikit-learn->-r requirements.txt (line 5)) (1.3.2)\n",
      "Requirement already satisfied: threadpoolctl>=2.0.0 in c:\\users\\coral\\desktop\\phylo\\venv\\lib\\site-packages (from scikit-learn->-r requirements.txt (line 5)) (3.4.0)\n",
      "Requirement already satisfied: decorator in c:\\users\\coral\\desktop\\phylo\\venv\\lib\\site-packages (from ipython>=6.1.0->ipywidgets->-r requirements.txt (line 3)) (5.1.1)\n",
      "Requirement already satisfied: jedi>=0.16 in c:\\users\\coral\\desktop\\phylo\\venv\\lib\\site-packages (from ipython>=6.1.0->ipywidgets->-r requirements.txt (line 3)) (0.19.1)\n",
      "Requirement already satisfied: matplotlib-inline in c:\\users\\coral\\desktop\\phylo\\venv\\lib\\site-packages (from ipython>=6.1.0->ipywidgets->-r requirements.txt (line 3)) (0.1.6)\n",
      "Requirement already satisfied: prompt-toolkit!=3.0.37,<3.1.0,>=3.0.30 in c:\\users\\coral\\desktop\\phylo\\venv\\lib\\site-packages (from ipython>=6.1.0->ipywidgets->-r requirements.txt (line 3)) (3.0.41)\n",
      "Requirement already satisfied: pygments>=2.4.0 in c:\\users\\coral\\desktop\\phylo\\venv\\lib\\site-packages (from ipython>=6.1.0->ipywidgets->-r requirements.txt (line 3)) (2.16.1)\n",
      "Requirement already satisfied: stack-data in c:\\users\\coral\\desktop\\phylo\\venv\\lib\\site-packages (from ipython>=6.1.0->ipywidgets->-r requirements.txt (line 3)) (0.6.3)\n",
      "Requirement already satisfied: colorama in c:\\users\\coral\\desktop\\phylo\\venv\\lib\\site-packages (from ipython>=6.1.0->ipywidgets->-r requirements.txt (line 3)) (0.4.6)\n",
      "Requirement already satisfied: parso<0.9.0,>=0.8.3 in c:\\users\\coral\\desktop\\phylo\\venv\\lib\\site-packages (from jedi>=0.16->ipython>=6.1.0->ipywidgets->-r requirements.txt (line 3)) (0.8.3)\n",
      "Requirement already satisfied: wcwidth in c:\\users\\coral\\desktop\\phylo\\venv\\lib\\site-packages (from prompt-toolkit!=3.0.37,<3.1.0,>=3.0.30->ipython>=6.1.0->ipywidgets->-r requirements.txt (line 3)) (0.2.10)\n",
      "Requirement already satisfied: executing>=1.2.0 in c:\\users\\coral\\desktop\\phylo\\venv\\lib\\site-packages (from stack-data->ipython>=6.1.0->ipywidgets->-r requirements.txt (line 3)) (2.0.1)\n",
      "Requirement already satisfied: asttokens>=2.1.0 in c:\\users\\coral\\desktop\\phylo\\venv\\lib\\site-packages (from stack-data->ipython>=6.1.0->ipywidgets->-r requirements.txt (line 3)) (2.4.1)\n",
      "Requirement already satisfied: pure-eval in c:\\users\\coral\\desktop\\phylo\\venv\\lib\\site-packages (from stack-data->ipython>=6.1.0->ipywidgets->-r requirements.txt (line 3)) (0.2.2)\n",
      "Requirement already satisfied: six>=1.12.0 in c:\\users\\coral\\desktop\\phylo\\venv\\lib\\site-packages (from asttokens>=2.1.0->stack-data->ipython>=6.1.0->ipywidgets->-r requirements.txt (line 3)) (1.16.0)\n"
     ]
    },
    {
     "name": "stderr",
     "output_type": "stream",
     "text": [
      "\n",
      "[notice] A new release of pip is available: 23.2.1 -> 24.0\n",
      "[notice] To update, run: python.exe -m pip install --upgrade pip\n"
     ]
    }
   ],
   "source": [
    "!pip install -r requirements.txt"
   ]
  },
  {
   "cell_type": "code",
   "execution_count": null,
   "id": "b60808f5-8e58-46c7-a055-ac2a8608787c",
   "metadata": {},
   "outputs": [],
   "source": [
    "import ADViewpy\n",
    "\n",
    "adpy = ADViewpy.init(treefile = \"Data/69species/astral.FAA.trim50genes.final.tre\")\n",
    "# adpy = ADViewpy.init(treefile = \"Data/astral2/astral.FAA.trim50genes33taxa.final.tre\")\n",
    "\n",
    "# adpy = ADViewpy.init(treefile = \"tre_test.tre\")"
   ]
  },
  {
   "cell_type": "code",
   "execution_count": null,
   "id": "08d50fd9-5b73-41cf-a9fd-ac29e78625f0",
   "metadata": {},
   "outputs": [],
   "source": [
    "outgroup = [\"Uronema sp\", \"Monomastix opisthostigma\", \"Pyramimonas parkeae\", \"Nephroselmis pyriformis\"]\n",
    "adpy.set_outgroup(outgroup)"
   ]
  },
  {
   "cell_type": "code",
   "execution_count": null,
   "id": "16419580-c7e1-4fb1-a94b-f12d5728ca73",
   "metadata": {},
   "outputs": [],
   "source": [
    "# adpy.add_tree_collection(treefile = \"Data/69species/tc_test_missing.tre\",namefile=\"Data/69species/names.txt\")\n",
    "adpy.add_tree_collection(treefile = \"Data/69species/tc.tre\",namefile=\"Data/69species/names.txt\")\n",
    "# adpy.add_tree_collection(treefile = \"Data/astral2/tc.tre\")"
   ]
  },
  {
   "cell_type": "code",
   "execution_count": null,
   "id": "54d1af3b-c322-4ea1-b2ad-e18192c2e3d7",
   "metadata": {},
   "outputs": [],
   "source": [
    "adpy.reference_tree()"
   ]
  },
  {
   "cell_type": "code",
   "execution_count": null,
   "id": "aa0153c6-03d5-49e9-b32e-81b6687f6f2b",
   "metadata": {
    "scrolled": true
   },
   "outputs": [],
   "source": [
    "adpy.pairwise_comparison(compare_tree=2)"
   ]
  },
  {
   "cell_type": "code",
   "execution_count": 8,
   "id": "1551f362-af7a-47c8-a7c3-6d198a7a87f4",
   "metadata": {
    "scrolled": true
   },
   "outputs": [
    {
     "data": {
      "application/vnd.jupyter.widget-view+json": {
       "model_id": "8553816bbbbe4134b85f4a1974948e38",
       "version_major": 2,
       "version_minor": 0
      },
      "text/plain": [
       "VBox(children=(HBox(children=(VBox(children=(Label(value='Tree Distribution by Reference Partition', style=Lab…"
      ]
     },
     "metadata": {},
     "output_type": "display_data"
    }
   ],
   "source": [
    "adpy.tree_distribution()"
   ]
  },
  {
   "cell_type": "code",
   "execution_count": null,
   "id": "49d6b724-b949-44db-a8b8-253dfdfca5a1",
   "metadata": {},
   "outputs": [],
   "source": [
    "adpy.export_image(view='Tree Distribution')"
   ]
  },
  {
   "cell_type": "code",
   "execution_count": 6,
   "id": "5fa1b7f2-900e-48ab-86b1-94d024c40497",
   "metadata": {
    "scrolled": true
   },
   "outputs": [
    {
     "data": {
      "application/vnd.jupyter.widget-view+json": {
       "model_id": "fa936938693d4323a91b45da79c2889e",
       "version_major": 2,
       "version_minor": 0
      },
      "text/plain": [
       "tcCanvas(height=210, sync_image_data=True, width=1100)"
      ]
     },
     "execution_count": 6,
     "metadata": {},
     "output_type": "execute_result"
    }
   ],
   "source": [
    "adpy.AD(view='AD Cluster',scale=1.0)"
   ]
  },
  {
   "cell_type": "code",
   "execution_count": 5,
   "id": "6bcb3310-f02b-4b02-84a9-55e5f0880b8a",
   "metadata": {},
   "outputs": [],
   "source": [
    "adpy.select_subtree([\"spirogyra\",\"mougeotia\"])"
   ]
  },
  {
   "cell_type": "code",
   "execution_count": 10,
   "id": "940cba8f-b592-4e20-929e-d810b3b02357",
   "metadata": {},
   "outputs": [
    {
     "data": {
      "application/vnd.jupyter.widget-view+json": {
       "model_id": "38dfa146b80b48ad8b1f5e467c36d0f1",
       "version_major": 2,
       "version_minor": 0
      },
      "text/plain": [
       "tcCanvas(height=210, sync_image_data=True, width=1100)"
      ]
     },
     "metadata": {},
     "output_type": "display_data"
    }
   ],
   "source": [
    "adpy.AD(view='AD Individual',scale=1.0,sort='id',context_level = 2,show_tree_name=True,tree_id=1)"
   ]
  },
  {
   "cell_type": "code",
   "execution_count": 11,
   "id": "69336e98-51d2-460d-b92a-349deeb19e29",
   "metadata": {},
   "outputs": [
    {
     "data": {
      "text/plain": [
       "[[4, <myCanvas.Subtree at 0x276fb582a10>],\n",
       " [3, <myCanvas.Subtree at 0x276fb582a10>],\n",
       " [4, <myCanvas.Subtree at 0x276fb582a10>],\n",
       " [3, <myCanvas.Subtree at 0x276fb582a10>],\n",
       " [4, <myCanvas.Subtree at 0x276fb582a10>],\n",
       " [3, <myCanvas.Subtree at 0x276fb582a10>],\n",
       " [4, <myCanvas.Subtree at 0x276fb582a10>],\n",
       " [3, <myCanvas.Subtree at 0x276fb582a10>],\n",
       " [4, <myCanvas.Subtree at 0x276fb582a10>],\n",
       " [3, <myCanvas.Subtree at 0x276fb582a10>],\n",
       " [3, <myCanvas.Subtree at 0x276fb582a10>],\n",
       " [4, <myCanvas.Subtree at 0x276fb582a10>],\n",
       " [4, <myCanvas.Subtree at 0x276fb582a10>],\n",
       " [0, <myCanvas.Subtree at 0x276fb582a10>]]"
      ]
     },
     "execution_count": 11,
     "metadata": {},
     "output_type": "execute_result"
    }
   ],
   "source": [
    "adpy.ad_individual_canvas.check_result_list"
   ]
  },
  {
   "cell_type": "code",
   "execution_count": null,
   "id": "15c1c508-515d-4bc3-ac9a-2eec9338e6ba",
   "metadata": {},
   "outputs": [],
   "source": [
    "adpy.AD(view='AD Individual',scale=1.0,sort='rf_distance',context_level = 2,show_tree_name=True,\n",
    "          espace_taxa_as_context_block=True,tree_id=[1,2,3,4,5])"
   ]
  },
  {
   "cell_type": "code",
   "execution_count": null,
   "id": "a0e2d04f-7d45-4ed3-88d5-01197e9471a0",
   "metadata": {},
   "outputs": [],
   "source": [
    "adpy.AD(view='AD Cluster',scale=1.0)"
   ]
  },
  {
   "cell_type": "code",
   "execution_count": null,
   "id": "fd5ff36c-6f96-43b6-9805-fc6cba61224b",
   "metadata": {
    "scrolled": true
   },
   "outputs": [],
   "source": [
    "adpy.pairwise_comparison(compare_tree=[1,17])"
   ]
  }
 ],
 "metadata": {
  "kernelspec": {
   "display_name": "Python 3 (ipykernel)",
   "language": "python",
   "name": "python3"
  },
  "language_info": {
   "codemirror_mode": {
    "name": "ipython",
    "version": 3
   },
   "file_extension": ".py",
   "mimetype": "text/x-python",
   "name": "python",
   "nbconvert_exporter": "python",
   "pygments_lexer": "ipython3",
   "version": "3.11.4"
  }
 },
 "nbformat": 4,
 "nbformat_minor": 5
}
