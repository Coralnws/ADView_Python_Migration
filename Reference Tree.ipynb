{
 "cells": [
  {
   "cell_type": "code",
   "execution_count": 1,
   "id": "04b86733",
   "metadata": {},
   "outputs": [
    {
     "name": "stdout",
     "output_type": "stream",
     "text": [
      "Requirement already satisfied: dendropy in c:\\users\\coral\\desktop\\phylo\\venv\\lib\\site-packages (from -r requirements.txt (line 1)) (4.6.1)\n",
      "Requirement already satisfied: ipycanvas in c:\\users\\coral\\desktop\\phylo\\venv\\lib\\site-packages (from -r requirements.txt (line 2)) (0.13.1)\n",
      "Requirement already satisfied: setuptools in c:\\users\\coral\\desktop\\phylo\\venv\\lib\\site-packages (from dendropy->-r requirements.txt (line 1)) (68.2.2)\n",
      "Requirement already satisfied: ipywidgets<9,>=7.6.0 in c:\\users\\coral\\desktop\\phylo\\venv\\lib\\site-packages (from ipycanvas->-r requirements.txt (line 2)) (8.1.1)\n",
      "Requirement already satisfied: pillow>=6.0 in c:\\users\\coral\\desktop\\phylo\\venv\\lib\\site-packages (from ipycanvas->-r requirements.txt (line 2)) (10.1.0)\n",
      "Requirement already satisfied: numpy in c:\\users\\coral\\desktop\\phylo\\venv\\lib\\site-packages (from ipycanvas->-r requirements.txt (line 2)) (1.26.2)\n",
      "Requirement already satisfied: comm>=0.1.3 in c:\\users\\coral\\desktop\\phylo\\venv\\lib\\site-packages (from ipywidgets<9,>=7.6.0->ipycanvas->-r requirements.txt (line 2)) (0.2.0)\n",
      "Requirement already satisfied: ipython>=6.1.0 in c:\\users\\coral\\desktop\\phylo\\venv\\lib\\site-packages (from ipywidgets<9,>=7.6.0->ipycanvas->-r requirements.txt (line 2)) (8.17.2)\n",
      "Requirement already satisfied: traitlets>=4.3.1 in c:\\users\\coral\\desktop\\phylo\\venv\\lib\\site-packages (from ipywidgets<9,>=7.6.0->ipycanvas->-r requirements.txt (line 2)) (5.14.0)\n",
      "Requirement already satisfied: widgetsnbextension~=4.0.9 in c:\\users\\coral\\desktop\\phylo\\venv\\lib\\site-packages (from ipywidgets<9,>=7.6.0->ipycanvas->-r requirements.txt (line 2)) (4.0.9)\n",
      "Requirement already satisfied: jupyterlab-widgets~=3.0.9 in c:\\users\\coral\\desktop\\phylo\\venv\\lib\\site-packages (from ipywidgets<9,>=7.6.0->ipycanvas->-r requirements.txt (line 2)) (3.0.9)\n",
      "Requirement already satisfied: decorator in c:\\users\\coral\\desktop\\phylo\\venv\\lib\\site-packages (from ipython>=6.1.0->ipywidgets<9,>=7.6.0->ipycanvas->-r requirements.txt (line 2)) (5.1.1)\n",
      "Requirement already satisfied: jedi>=0.16 in c:\\users\\coral\\desktop\\phylo\\venv\\lib\\site-packages (from ipython>=6.1.0->ipywidgets<9,>=7.6.0->ipycanvas->-r requirements.txt (line 2)) (0.19.1)\n",
      "Requirement already satisfied: matplotlib-inline in c:\\users\\coral\\desktop\\phylo\\venv\\lib\\site-packages (from ipython>=6.1.0->ipywidgets<9,>=7.6.0->ipycanvas->-r requirements.txt (line 2)) (0.1.6)\n",
      "Requirement already satisfied: prompt-toolkit!=3.0.37,<3.1.0,>=3.0.30 in c:\\users\\coral\\desktop\\phylo\\venv\\lib\\site-packages (from ipython>=6.1.0->ipywidgets<9,>=7.6.0->ipycanvas->-r requirements.txt (line 2)) (3.0.41)\n",
      "Requirement already satisfied: pygments>=2.4.0 in c:\\users\\coral\\desktop\\phylo\\venv\\lib\\site-packages (from ipython>=6.1.0->ipywidgets<9,>=7.6.0->ipycanvas->-r requirements.txt (line 2)) (2.16.1)\n",
      "Requirement already satisfied: stack-data in c:\\users\\coral\\desktop\\phylo\\venv\\lib\\site-packages (from ipython>=6.1.0->ipywidgets<9,>=7.6.0->ipycanvas->-r requirements.txt (line 2)) (0.6.3)\n",
      "Requirement already satisfied: colorama in c:\\users\\coral\\desktop\\phylo\\venv\\lib\\site-packages (from ipython>=6.1.0->ipywidgets<9,>=7.6.0->ipycanvas->-r requirements.txt (line 2)) (0.4.6)\n",
      "Requirement already satisfied: parso<0.9.0,>=0.8.3 in c:\\users\\coral\\desktop\\phylo\\venv\\lib\\site-packages (from jedi>=0.16->ipython>=6.1.0->ipywidgets<9,>=7.6.0->ipycanvas->-r requirements.txt (line 2)) (0.8.3)\n",
      "Requirement already satisfied: wcwidth in c:\\users\\coral\\desktop\\phylo\\venv\\lib\\site-packages (from prompt-toolkit!=3.0.37,<3.1.0,>=3.0.30->ipython>=6.1.0->ipywidgets<9,>=7.6.0->ipycanvas->-r requirements.txt (line 2)) (0.2.10)\n",
      "Requirement already satisfied: executing>=1.2.0 in c:\\users\\coral\\desktop\\phylo\\venv\\lib\\site-packages (from stack-data->ipython>=6.1.0->ipywidgets<9,>=7.6.0->ipycanvas->-r requirements.txt (line 2)) (2.0.1)\n",
      "Requirement already satisfied: asttokens>=2.1.0 in c:\\users\\coral\\desktop\\phylo\\venv\\lib\\site-packages (from stack-data->ipython>=6.1.0->ipywidgets<9,>=7.6.0->ipycanvas->-r requirements.txt (line 2)) (2.4.1)\n",
      "Requirement already satisfied: pure-eval in c:\\users\\coral\\desktop\\phylo\\venv\\lib\\site-packages (from stack-data->ipython>=6.1.0->ipywidgets<9,>=7.6.0->ipycanvas->-r requirements.txt (line 2)) (0.2.2)\n",
      "Requirement already satisfied: six>=1.12.0 in c:\\users\\coral\\desktop\\phylo\\venv\\lib\\site-packages (from asttokens>=2.1.0->stack-data->ipython>=6.1.0->ipywidgets<9,>=7.6.0->ipycanvas->-r requirements.txt (line 2)) (1.16.0)\n"
     ]
    },
    {
     "name": "stderr",
     "output_type": "stream",
     "text": [
      "\n",
      "[notice] A new release of pip is available: 23.2.1 -> 24.0\n",
      "[notice] To update, run: python.exe -m pip install --upgrade pip\n"
     ]
    }
   ],
   "source": [
    "!pip install -r requirements.txt"
   ]
  },
  {
   "cell_type": "code",
   "execution_count": 115,
   "id": "b60808f5-8e58-46c7-a055-ac2a8608787c",
   "metadata": {},
   "outputs": [],
   "source": [
    "import myTree as myTree\n",
    "import importlib\n",
    "importlib.reload(myTree)\n",
    "# mytree = myTree.myTree(treefile = \"Data/69species/test.tre\")\n",
    "mytree = myTree.myTree(treefile = \"Data/69species/astral.FAA.trim50genes.final.tre\")"
   ]
  },
  {
   "cell_type": "code",
   "execution_count": 116,
   "id": "08d50fd9-5b73-41cf-a9fd-ac29e78625f0",
   "metadata": {},
   "outputs": [],
   "source": [
    "outgroup = [\"Uronema sp\", \"Monomastix opisthostigma\", \"Pyramimonas parkeae\", \"Nephroselmis pyriformis\"]\n",
    "mytree.set_outgroup(outgroup)"
   ]
  },
  {
   "cell_type": "code",
   "execution_count": 117,
   "id": "16419580-c7e1-4fb1-a94b-f12d5728ca73",
   "metadata": {},
   "outputs": [],
   "source": [
    "mytree.add_tree_collection(treefile = \"Data/69species/tc.tre\",namefile=\"Data/69species/names.txt\")"
   ]
  },
  {
   "cell_type": "code",
   "execution_count": 118,
   "id": "6c798ff9-74c3-433b-8d97-13970de6d6d6",
   "metadata": {
    "scrolled": true
   },
   "outputs": [
    {
     "data": {
      "application/vnd.jupyter.widget-view+json": {
       "model_id": "f645349173f644c189cced4f0dab36bc",
       "version_major": 2,
       "version_minor": 0
      },
      "text/plain": [
       "rtCanvas(height=2080, width=1100)"
      ]
     },
     "execution_count": 118,
     "metadata": {},
     "output_type": "execute_result"
    }
   ],
   "source": [
    "import importlib\n",
    "importlib.reload(myTree)\n",
    "\n",
    "rt_canvas = mytree.reference_tree()\n",
    "rt_canvas"
   ]
  },
  {
   "cell_type": "code",
   "execution_count": 119,
   "id": "0c592e27-1e33-41f5-833c-46b56e4741b2",
   "metadata": {
    "scrolled": true
   },
   "outputs": [
    {
     "ename": "AttributeError",
     "evalue": "'NoneType' object has no attribute 'y'",
     "output_type": "error",
     "traceback": [
      "\u001b[1;31m---------------------------------------------------------------------------\u001b[0m",
      "\u001b[1;31mAttributeError\u001b[0m                            Traceback (most recent call last)",
      "Cell \u001b[1;32mIn[119], line 3\u001b[0m\n\u001b[0;32m      1\u001b[0m \u001b[38;5;28;01mimport\u001b[39;00m \u001b[38;5;21;01mimportlib\u001b[39;00m\n\u001b[0;32m      2\u001b[0m importlib\u001b[38;5;241m.\u001b[39mreload(myTree)\n\u001b[1;32m----> 3\u001b[0m tc_canvas\u001b[38;5;241m=\u001b[39m\u001b[43mmytree\u001b[49m\u001b[38;5;241;43m.\u001b[39;49m\u001b[43mAD\u001b[49m\u001b[43m(\u001b[49m\u001b[43mview\u001b[49m\u001b[38;5;241;43m=\u001b[39;49m\u001b[38;5;124;43m'\u001b[39;49m\u001b[38;5;124;43mIndividual\u001b[39;49m\u001b[38;5;124;43m'\u001b[39;49m\u001b[43m,\u001b[49m\u001b[43mscale\u001b[49m\u001b[38;5;241;43m=\u001b[39;49m\u001b[38;5;241;43m1.0\u001b[39;49m\u001b[43m,\u001b[49m\u001b[43mcontext_level\u001b[49m\u001b[43m \u001b[49m\u001b[38;5;241;43m=\u001b[39;49m\u001b[43m \u001b[49m\u001b[38;5;241;43m2\u001b[39;49m\u001b[43m,\u001b[49m\u001b[43mtree_name\u001b[49m\u001b[38;5;241;43m=\u001b[39;49m\u001b[38;5;124;43m\"\u001b[39;49m\u001b[38;5;124;43mFAA.604genes.trimExtensively.phylobayes.CAT.final.tre\u001b[39;49m\u001b[38;5;124;43m\"\u001b[39;49m\u001b[43m)\u001b[49m\n\u001b[0;32m      4\u001b[0m tc_canvas\n",
      "File \u001b[1;32m~\\Desktop\\Phylo\\Ipy-AD\\ADView_Python_Migration\\myTree.py:167\u001b[0m, in \u001b[0;36mmyTree.AD\u001b[1;34m(self, view, scale, max_ad, context_level, first_ad, last_ad, tree_index, tree_name)\u001b[0m\n\u001b[0;32m    164\u001b[0m             ad_row \u001b[38;5;241m=\u001b[39m math\u001b[38;5;241m.\u001b[39mceil(\u001b[38;5;28mlen\u001b[39m(\u001b[38;5;28mself\u001b[39m\u001b[38;5;241m.\u001b[39mtc) \u001b[38;5;241m/\u001b[39m ad_per_row)\n\u001b[0;32m    166\u001b[0m         canvas_height \u001b[38;5;241m=\u001b[39m (ad_row \u001b[38;5;241m*\u001b[39m DEFAULT_AD_HEIGHT \u001b[38;5;241m*\u001b[39m scale) \u001b[38;5;241m+\u001b[39m (\u001b[38;5;241m2\u001b[39m \u001b[38;5;241m*\u001b[39m DEFAULT_AD_PADDING) \u001b[38;5;241m+\u001b[39m ((ad_row\u001b[38;5;241m-\u001b[39m\u001b[38;5;241m1\u001b[39m) \u001b[38;5;241m*\u001b[39m DEFAULT_AD_PADDING)\n\u001b[1;32m--> 167\u001b[0m         \u001b[38;5;28mself\u001b[39m\u001b[38;5;241m.\u001b[39mtc_canvas \u001b[38;5;241m=\u001b[39m \u001b[43mmyCanvas\u001b[49m\u001b[38;5;241;43m.\u001b[39;49m\u001b[43mtcCanvas\u001b[49m\u001b[43m(\u001b[49m\u001b[43mtree\u001b[49m\u001b[38;5;241;43m=\u001b[39;49m\u001b[38;5;28;43mself\u001b[39;49m\u001b[43m,\u001b[49m\u001b[43mwidth\u001b[49m\u001b[38;5;241;43m=\u001b[39;49m\u001b[43mCANVAS_MAX_WIDTH\u001b[49m\u001b[43m,\u001b[49m\u001b[43mheight\u001b[49m\u001b[38;5;241;43m=\u001b[39;49m\u001b[43mcanvas_height\u001b[49m\u001b[43m,\u001b[49m\u001b[43mscale\u001b[49m\u001b[38;5;241;43m=\u001b[39;49m\u001b[43mscale\u001b[49m\u001b[43m,\u001b[49m\u001b[43mmax_ad\u001b[49m\u001b[38;5;241;43m=\u001b[39;49m\u001b[43mmax_ad\u001b[49m\u001b[43m,\u001b[49m\u001b[43m\\\u001b[49m\n\u001b[0;32m    168\u001b[0m \u001b[43m                                           \u001b[49m\u001b[43mad_per_row\u001b[49m\u001b[38;5;241;43m=\u001b[39;49m\u001b[43mad_per_row\u001b[49m\u001b[43m,\u001b[49m\u001b[43mcontext_level\u001b[49m\u001b[38;5;241;43m=\u001b[39;49m\u001b[43mcontext_level\u001b[49m\u001b[43m,\u001b[49m\u001b[43mfirst_ad\u001b[49m\u001b[38;5;241;43m=\u001b[39;49m\u001b[43mfirst_ad\u001b[49m\u001b[43m,\u001b[49m\u001b[43mlast_ad\u001b[49m\u001b[38;5;241;43m=\u001b[39;49m\u001b[43mlast_ad\u001b[49m\u001b[43m,\u001b[49m\u001b[43m\\\u001b[49m\n\u001b[0;32m    169\u001b[0m \u001b[43m                                           \u001b[49m\u001b[43mtree_index\u001b[49m\u001b[38;5;241;43m=\u001b[39;49m\u001b[43mtree_index\u001b[49m\u001b[43m,\u001b[49m\u001b[43mtree_name\u001b[49m\u001b[38;5;241;43m=\u001b[39;49m\u001b[43mtree_name\u001b[49m\u001b[43m)\u001b[49m\n\u001b[0;32m    171\u001b[0m         \u001b[38;5;28;01mreturn\u001b[39;00m \u001b[38;5;28mself\u001b[39m\u001b[38;5;241m.\u001b[39mtc_canvas\n\u001b[0;32m    173\u001b[0m \u001b[38;5;66;03m# Parameter: differentiate inexact match, differentiate sister-group relationships\u001b[39;00m\n",
      "File \u001b[1;32m~\\Desktop\\Phylo\\Ipy-AD\\ADView_Python_Migration\\myCanvas.py:530\u001b[0m, in \u001b[0;36mtcCanvas.__init__\u001b[1;34m(self, tree, ad_per_row, width, height, scale, max_ad, context_level, first_ad, last_ad, tree_index, tree_name)\u001b[0m\n\u001b[0;32m    526\u001b[0m     \u001b[38;5;28mself\u001b[39m\u001b[38;5;241m.\u001b[39mconstruct_ad(tc_tree\u001b[38;5;241m=\u001b[39mtc_tree, level\u001b[38;5;241m=\u001b[39m\u001b[38;5;241m1\u001b[39m, check_elided\u001b[38;5;241m=\u001b[39mcheck_elided)\n\u001b[0;32m    528\u001b[0m     \u001b[38;5;28mself\u001b[39m\u001b[38;5;241m.\u001b[39mad_drawn \u001b[38;5;241m+\u001b[39m\u001b[38;5;241m=\u001b[39m \u001b[38;5;241m1\u001b[39m\n\u001b[1;32m--> 530\u001b[0m \u001b[38;5;28;43mself\u001b[39;49m\u001b[38;5;241;43m.\u001b[39;49m\u001b[43mcheck_canvas_height\u001b[49m\u001b[43m(\u001b[49m\u001b[43m)\u001b[49m\n\u001b[0;32m    531\u001b[0m \u001b[38;5;28mself\u001b[39m\u001b[38;5;241m.\u001b[39mconstruct_tc_canvas()\n",
      "File \u001b[1;32m~\\Desktop\\Phylo\\Ipy-AD\\ADView_Python_Migration\\myCanvas.py:579\u001b[0m, in \u001b[0;36mtcCanvas.check_canvas_height\u001b[1;34m(self)\u001b[0m\n\u001b[0;32m    577\u001b[0m \u001b[38;5;28;01mdef\u001b[39;00m \u001b[38;5;21mcheck_canvas_height\u001b[39m(\u001b[38;5;28mself\u001b[39m):\n\u001b[0;32m    578\u001b[0m     \u001b[38;5;28;01mif\u001b[39;00m \u001b[38;5;28mlen\u001b[39m(\u001b[38;5;28mself\u001b[39m\u001b[38;5;241m.\u001b[39mad_list) \u001b[38;5;241m>\u001b[39m \u001b[38;5;241m0\u001b[39m:\n\u001b[1;32m--> 579\u001b[0m         \u001b[38;5;28mself\u001b[39m\u001b[38;5;241m.\u001b[39mheight \u001b[38;5;241m=\u001b[39m \u001b[38;5;28;43mself\u001b[39;49m\u001b[38;5;241;43m.\u001b[39;49m\u001b[43mad_list\u001b[49m\u001b[43m[\u001b[49m\u001b[38;5;241;43m-\u001b[39;49m\u001b[38;5;241;43m1\u001b[39;49m\u001b[43m]\u001b[49m\u001b[38;5;241;43m.\u001b[39;49m\u001b[43mbotR\u001b[49m\u001b[38;5;241;43m.\u001b[39;49m\u001b[43my\u001b[49m \u001b[38;5;241m+\u001b[39m \u001b[38;5;241m20\u001b[39m\n\u001b[0;32m    580\u001b[0m     \u001b[38;5;28;01melse\u001b[39;00m:\n\u001b[0;32m    581\u001b[0m         \u001b[38;5;28mself\u001b[39m\u001b[38;5;241m.\u001b[39mheight \u001b[38;5;241m=\u001b[39m \u001b[38;5;241m10\u001b[39m\n",
      "\u001b[1;31mAttributeError\u001b[0m: 'NoneType' object has no attribute 'y'"
     ]
    }
   ],
   "source": [
    "import importlib\n",
    "importlib.reload(myTree)\n",
    "tc_canvas=mytree.AD(view='Individual',scale=1.0,context_level = 2,tree_name=\"FAA.604genes.trimExtensively.phylobayes.CAT.final.tre\")\n",
    "tc_canvas"
   ]
  },
  {
   "cell_type": "code",
   "execution_count": 40,
   "id": "8c189a14-085c-4e13-8403-c16a8e8d4095",
   "metadata": {},
   "outputs": [
    {
     "name": "stdout",
     "output_type": "stream",
     "text": [
      "<Node object at 0x26182f4d050: '1' (None)>\n"
     ]
    }
   ],
   "source": [
    "for subtree in rt_canvas.subtree_list:\n",
    "    if subtree.label == 'B':\n",
    "        print(subtree.root.corr[0])"
   ]
  },
  {
   "cell_type": "code",
   "execution_count": 55,
   "id": "ddda35a3-7803-4d67-86ed-6d84bbd6c27e",
   "metadata": {},
   "outputs": [
    {
     "name": "stdout",
     "output_type": "stream",
     "text": [
      "Root <Node object at 0x2d8f0e64d50: 'None' (None)>\n",
      "    INDV BLANK BLOCK\n",
      "    A:4\n",
      "Root <Node object at 0x2d8f0e702d0: 'None' (None)>\n",
      "    INDV BLANK BLOCK\n",
      "    A:4\n",
      "Root <Node object at 0x2d8f0e73810: 'None' (None)>\n",
      "    INDV BLANK BLOCK\n",
      "    A:4\n"
     ]
    }
   ],
   "source": [
    "for index,ad_tree in enumerate(tc_canvas.ad_list):\n",
    "    if index == 3:\n",
    "        break\n",
    "    ad_tree.plot_tree()\n",
    "    # for node in ad_tree.traverse_postorder():\n",
    "    #     if node.nested_tree is not None:\n",
    "    #         node.nested_tree.plot_tree()\n",
    "            # for node in node.nested_tree.traverse_postorder():\n",
    "            #     print(node.node_or_block)\n",
    "    # print(ad_tree)"
   ]
  },
  {
   "cell_type": "code",
   "execution_count": 16,
   "id": "3244a17a-39ed-43b7-a7b7-7d2bec113c42",
   "metadata": {},
   "outputs": [
    {
     "name": "stdout",
     "output_type": "stream",
     "text": [
      "<Error> : Reference Tree not exist.\n",
      "Please ensure that you have called the reference_tree() function before calling this function.\n"
     ]
    }
   ],
   "source": [
    "# mytree.select_subtree([\"mesostigma\",\"spirotaenia\"])\n",
    "mytree.select_leaf_node(\"uronema\")"
   ]
  },
  {
   "cell_type": "code",
   "execution_count": 21,
   "id": "1c9aa213-2ebf-4718-bd1c-ae3158e9f9d6",
   "metadata": {},
   "outputs": [
    {
     "name": "stdout",
     "output_type": "stream",
     "text": [
      "[]\n"
     ]
    }
   ],
   "source": [
    "print(canvas.output)"
   ]
  },
  {
   "cell_type": "code",
   "execution_count": null,
   "id": "ea244723-4226-498e-8664-2833dcea4dff",
   "metadata": {},
   "outputs": [],
   "source": []
  },
  {
   "cell_type": "code",
   "execution_count": null,
   "id": "0e6f1e22-f6a4-4671-adfb-d8b729be1cd0",
   "metadata": {},
   "outputs": [],
   "source": []
  }
 ],
 "metadata": {
  "kernelspec": {
   "display_name": "Python 3 (ipykernel)",
   "language": "python",
   "name": "python3"
  },
  "language_info": {
   "codemirror_mode": {
    "name": "ipython",
    "version": 3
   },
   "file_extension": ".py",
   "mimetype": "text/x-python",
   "name": "python",
   "nbconvert_exporter": "python",
   "pygments_lexer": "ipython3",
   "version": "3.11.4"
  }
 },
 "nbformat": 4,
 "nbformat_minor": 5
}
