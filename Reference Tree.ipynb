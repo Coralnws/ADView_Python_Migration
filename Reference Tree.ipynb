{
 "cells": [
  {
   "cell_type": "code",
   "execution_count": 1,
   "id": "04b86733",
   "metadata": {},
   "outputs": [
    {
     "name": "stdout",
     "output_type": "stream",
     "text": [
      "Requirement already satisfied: dendropy in c:\\users\\coral\\desktop\\phylo\\venv\\lib\\site-packages (from -r requirements.txt (line 1)) (4.6.1)\n",
      "Requirement already satisfied: ipycanvas in c:\\users\\coral\\desktop\\phylo\\venv\\lib\\site-packages (from -r requirements.txt (line 2)) (0.13.1)\n",
      "Requirement already satisfied: ipywidgets in c:\\users\\coral\\desktop\\phylo\\venv\\lib\\site-packages (from -r requirements.txt (line 3)) (8.1.1)\n",
      "Requirement already satisfied: quads in c:\\users\\coral\\desktop\\phylo\\venv\\lib\\site-packages (from -r requirements.txt (line 4)) (1.1.0)\n",
      "Requirement already satisfied: scikit-learn in c:\\users\\coral\\desktop\\phylo\\venv\\lib\\site-packages (from -r requirements.txt (line 5)) (1.4.1.post1)\n",
      "Requirement already satisfied: numpy in c:\\users\\coral\\desktop\\phylo\\venv\\lib\\site-packages (from -r requirements.txt (line 6)) (1.26.2)\n",
      "Requirement already satisfied: setuptools in c:\\users\\coral\\desktop\\phylo\\venv\\lib\\site-packages (from dendropy->-r requirements.txt (line 1)) (68.2.2)\n",
      "Requirement already satisfied: pillow>=6.0 in c:\\users\\coral\\desktop\\phylo\\venv\\lib\\site-packages (from ipycanvas->-r requirements.txt (line 2)) (10.1.0)\n",
      "Requirement already satisfied: comm>=0.1.3 in c:\\users\\coral\\desktop\\phylo\\venv\\lib\\site-packages (from ipywidgets->-r requirements.txt (line 3)) (0.2.0)\n",
      "Requirement already satisfied: ipython>=6.1.0 in c:\\users\\coral\\desktop\\phylo\\venv\\lib\\site-packages (from ipywidgets->-r requirements.txt (line 3)) (8.17.2)\n",
      "Requirement already satisfied: traitlets>=4.3.1 in c:\\users\\coral\\desktop\\phylo\\venv\\lib\\site-packages (from ipywidgets->-r requirements.txt (line 3)) (5.14.0)\n",
      "Requirement already satisfied: widgetsnbextension~=4.0.9 in c:\\users\\coral\\desktop\\phylo\\venv\\lib\\site-packages (from ipywidgets->-r requirements.txt (line 3)) (4.0.9)\n",
      "Requirement already satisfied: jupyterlab-widgets~=3.0.9 in c:\\users\\coral\\desktop\\phylo\\venv\\lib\\site-packages (from ipywidgets->-r requirements.txt (line 3)) (3.0.9)\n",
      "Requirement already satisfied: scipy>=1.6.0 in c:\\users\\coral\\desktop\\phylo\\venv\\lib\\site-packages (from scikit-learn->-r requirements.txt (line 5)) (1.12.0)\n",
      "Requirement already satisfied: joblib>=1.2.0 in c:\\users\\coral\\desktop\\phylo\\venv\\lib\\site-packages (from scikit-learn->-r requirements.txt (line 5)) (1.3.2)\n",
      "Requirement already satisfied: threadpoolctl>=2.0.0 in c:\\users\\coral\\desktop\\phylo\\venv\\lib\\site-packages (from scikit-learn->-r requirements.txt (line 5)) (3.4.0)\n",
      "Requirement already satisfied: decorator in c:\\users\\coral\\desktop\\phylo\\venv\\lib\\site-packages (from ipython>=6.1.0->ipywidgets->-r requirements.txt (line 3)) (5.1.1)\n",
      "Requirement already satisfied: jedi>=0.16 in c:\\users\\coral\\desktop\\phylo\\venv\\lib\\site-packages (from ipython>=6.1.0->ipywidgets->-r requirements.txt (line 3)) (0.19.1)\n",
      "Requirement already satisfied: matplotlib-inline in c:\\users\\coral\\desktop\\phylo\\venv\\lib\\site-packages (from ipython>=6.1.0->ipywidgets->-r requirements.txt (line 3)) (0.1.6)\n",
      "Requirement already satisfied: prompt-toolkit!=3.0.37,<3.1.0,>=3.0.30 in c:\\users\\coral\\desktop\\phylo\\venv\\lib\\site-packages (from ipython>=6.1.0->ipywidgets->-r requirements.txt (line 3)) (3.0.41)\n",
      "Requirement already satisfied: pygments>=2.4.0 in c:\\users\\coral\\desktop\\phylo\\venv\\lib\\site-packages (from ipython>=6.1.0->ipywidgets->-r requirements.txt (line 3)) (2.16.1)\n",
      "Requirement already satisfied: stack-data in c:\\users\\coral\\desktop\\phylo\\venv\\lib\\site-packages (from ipython>=6.1.0->ipywidgets->-r requirements.txt (line 3)) (0.6.3)\n",
      "Requirement already satisfied: colorama in c:\\users\\coral\\desktop\\phylo\\venv\\lib\\site-packages (from ipython>=6.1.0->ipywidgets->-r requirements.txt (line 3)) (0.4.6)\n",
      "Requirement already satisfied: parso<0.9.0,>=0.8.3 in c:\\users\\coral\\desktop\\phylo\\venv\\lib\\site-packages (from jedi>=0.16->ipython>=6.1.0->ipywidgets->-r requirements.txt (line 3)) (0.8.3)\n",
      "Requirement already satisfied: wcwidth in c:\\users\\coral\\desktop\\phylo\\venv\\lib\\site-packages (from prompt-toolkit!=3.0.37,<3.1.0,>=3.0.30->ipython>=6.1.0->ipywidgets->-r requirements.txt (line 3)) (0.2.10)\n",
      "Requirement already satisfied: executing>=1.2.0 in c:\\users\\coral\\desktop\\phylo\\venv\\lib\\site-packages (from stack-data->ipython>=6.1.0->ipywidgets->-r requirements.txt (line 3)) (2.0.1)\n",
      "Requirement already satisfied: asttokens>=2.1.0 in c:\\users\\coral\\desktop\\phylo\\venv\\lib\\site-packages (from stack-data->ipython>=6.1.0->ipywidgets->-r requirements.txt (line 3)) (2.4.1)\n",
      "Requirement already satisfied: pure-eval in c:\\users\\coral\\desktop\\phylo\\venv\\lib\\site-packages (from stack-data->ipython>=6.1.0->ipywidgets->-r requirements.txt (line 3)) (0.2.2)\n",
      "Requirement already satisfied: six>=1.12.0 in c:\\users\\coral\\desktop\\phylo\\venv\\lib\\site-packages (from asttokens>=2.1.0->stack-data->ipython>=6.1.0->ipywidgets->-r requirements.txt (line 3)) (1.16.0)\n"
     ]
    },
    {
     "name": "stderr",
     "output_type": "stream",
     "text": [
      "\n",
      "[notice] A new release of pip is available: 23.2.1 -> 24.0\n",
      "[notice] To update, run: python.exe -m pip install --upgrade pip\n"
     ]
    }
   ],
   "source": [
    "!pip install -r requirements.txt"
   ]
  },
  {
   "cell_type": "code",
   "execution_count": 1,
   "id": "b60808f5-8e58-46c7-a055-ac2a8608787c",
   "metadata": {},
   "outputs": [],
   "source": [
    "import ADpy as ADpy\n",
    "import importlib\n",
    "importlib.reload(ADpy)\n",
    "\n",
    "# adpy = ADpy.ADpy(treefile = \"Data/69species/astral.FAA.trim50genes.final.tre\")\n",
    "adpy = ADpy.ADpy(treefile = \"Data/astral2/astral.FAA.trim50genes33taxa.final.tre\")\n",
    "\n",
    "# adpy = ADpy.ADpy(treefile = \"tre_test.tre\")"
   ]
  },
  {
   "cell_type": "code",
   "execution_count": 2,
   "id": "08d50fd9-5b73-41cf-a9fd-ac29e78625f0",
   "metadata": {},
   "outputs": [],
   "source": [
    "outgroup = [\"Uronema sp\", \"Monomastix opisthostigma\", \"Pyramimonas parkeae\", \"Nephroselmis pyriformis\"]\n",
    "adpy.set_outgroup(outgroup)"
   ]
  },
  {
   "cell_type": "code",
   "execution_count": 2,
   "id": "16419580-c7e1-4fb1-a94b-f12d5728ca73",
   "metadata": {},
   "outputs": [],
   "source": [
    "# adpy.add_tree_collection(treefile = \"Data/69species/tc_test_missing.tre\",namefile=\"Data/69species/names.txt\")\n",
    "adpy.add_tree_collection(treefile = \"Data/astral2/tc.tre\")"
   ]
  },
  {
   "cell_type": "code",
   "execution_count": 3,
   "id": "54d1af3b-c322-4ea1-b2ad-e18192c2e3d7",
   "metadata": {
    "scrolled": true
   },
   "outputs": [
    {
     "data": {
      "application/vnd.jupyter.widget-view+json": {
       "model_id": "c4ba934ddcef4508a960023c255cb82f",
       "version_major": 2,
       "version_minor": 0
      },
      "text/plain": [
       "rtCanvas(height=2140, sync_image_data=True, width=1100)"
      ]
     },
     "execution_count": 3,
     "metadata": {},
     "output_type": "execute_result"
    }
   ],
   "source": [
    "adpy.reference_tree()"
   ]
  },
  {
   "cell_type": "code",
   "execution_count": 4,
   "id": "aa0153c6-03d5-49e9-b32e-81b6687f6f2b",
   "metadata": {
    "scrolled": true
   },
   "outputs": [
    {
     "data": {
      "application/vnd.jupyter.widget-view+json": {
       "model_id": "3e260cfcece44a388b4317248b525840",
       "version_major": 2,
       "version_minor": 0
      },
      "text/plain": [
       "pairwiseCanvas(height=2140, sync_image_data=True, width=1100)"
      ]
     },
     "metadata": {},
     "output_type": "display_data"
    }
   ],
   "source": [
    "adpy.pairwise_comparison(compare_tree=1)"
   ]
  },
  {
   "cell_type": "markdown",
   "id": "6a4603ab-bf3c-4977-937a-b7e2b8ab9b52",
   "metadata": {},
   "source": [
    "## adpy.select_subtree([\"digitus\",\"roya\"])\n",
    "adpy.select_subtree([\"spirogyra\",\"mougeotia\"])"
   ]
  },
  {
   "cell_type": "code",
   "execution_count": null,
   "id": "95467b85-54bf-4c55-a58a-a999f3be77b9",
   "metadata": {},
   "outputs": [],
   "source": [
    "adpy.ad_individual_canvas.tc"
   ]
  },
  {
   "cell_type": "code",
   "execution_count": 6,
   "id": "119ba8da-b7ba-4a9e-98a9-8d27fb5e5358",
   "metadata": {
    "scrolled": true
   },
   "outputs": [
    {
     "data": {
      "text/plain": [
       "['check block start x : 96',\n",
       " 'check block end x : 513',\n",
       " 'check block width : 417',\n",
       " 'check block start x : 587.0',\n",
       " 'check block end x : 967.0',\n",
       " 'check block width : 380.0',\n",
       " 'check block start x : 42',\n",
       " 'check block end x : 513',\n",
       " 'check block width : 471']"
      ]
     },
     "execution_count": 6,
     "metadata": {},
     "output_type": "execute_result"
    }
   ],
   "source": [
    "adpy.output"
   ]
  },
  {
   "cell_type": "code",
   "execution_count": 8,
   "id": "1551f362-af7a-47c8-a7c3-6d198a7a87f4",
   "metadata": {
    "scrolled": true
   },
   "outputs": [
    {
     "ename": "UnboundLocalError",
     "evalue": "cannot access local variable 'subtree' where it is not associated with a value",
     "output_type": "error",
     "traceback": [
      "\u001b[1;31m---------------------------------------------------------------------------\u001b[0m",
      "\u001b[1;31mUnboundLocalError\u001b[0m                         Traceback (most recent call last)",
      "Cell \u001b[1;32mIn[8], line 1\u001b[0m\n\u001b[1;32m----> 1\u001b[0m \u001b[43madpy\u001b[49m\u001b[38;5;241;43m.\u001b[39;49m\u001b[43mtree_distribution\u001b[49m\u001b[43m(\u001b[49m\u001b[43m)\u001b[49m\n",
      "File \u001b[1;32m~\\Desktop\\Phylo\\Ipy-AD\\ADView_Python_Migration\\ADpy.py:402\u001b[0m, in \u001b[0;36mADpy.tree_distribution\u001b[1;34m(self, test)\u001b[0m\n\u001b[0;32m    400\u001b[0m \u001b[38;5;28;01mdef\u001b[39;00m \u001b[38;5;21mtree_distribution\u001b[39m(\u001b[38;5;28mself\u001b[39m,test\u001b[38;5;241m=\u001b[39m\u001b[38;5;28;01mFalse\u001b[39;00m):\n\u001b[0;32m    401\u001b[0m     \u001b[38;5;28mself\u001b[39m\u001b[38;5;241m.\u001b[39mrt_canvas\u001b[38;5;241m.\u001b[39mclear_subtree_compare_canvas()\n\u001b[1;32m--> 402\u001b[0m     \u001b[38;5;28mself\u001b[39m\u001b[38;5;241m.\u001b[39mtc_canvas_tmp \u001b[38;5;241m=\u001b[39m \u001b[43mtcCanvas\u001b[49m\u001b[38;5;241;43m.\u001b[39;49m\u001b[43mtcCanvas\u001b[49m\u001b[43m(\u001b[49m\u001b[43madPy\u001b[49m\u001b[38;5;241;43m=\u001b[39;49m\u001b[38;5;28;43mself\u001b[39;49m\u001b[43m,\u001b[49m\u001b[43m \u001b[49m\u001b[43mview\u001b[49m\u001b[38;5;241;43m=\u001b[39;49m\u001b[43mTREE_DISTRIBUTION\u001b[49m\u001b[43m,\u001b[49m\u001b[43m \u001b[49m\u001b[43msubtree_independent\u001b[49m\u001b[38;5;241;43m=\u001b[39;49m\u001b[38;5;28;43;01mFalse\u001b[39;49;00m\u001b[43m)\u001b[49m\n\u001b[0;32m    404\u001b[0m     \u001b[38;5;28mself\u001b[39m\u001b[38;5;241m.\u001b[39mtree_distribution_view \u001b[38;5;241m=\u001b[39m treeDistributionView\u001b[38;5;241m.\u001b[39mTreeDistributionView(adPy\u001b[38;5;241m=\u001b[39m\u001b[38;5;28mself\u001b[39m,\n\u001b[0;32m    405\u001b[0m                                                                             tc_canvas_tmp\u001b[38;5;241m=\u001b[39m\u001b[38;5;28mself\u001b[39m\u001b[38;5;241m.\u001b[39mtc_canvas_tmp,\n\u001b[0;32m    406\u001b[0m                                                                             test\u001b[38;5;241m=\u001b[39mtest)\n",
      "File \u001b[1;32m~\\Desktop\\Phylo\\Ipy-AD\\ADView_Python_Migration\\tcCanvas.py:76\u001b[0m, in \u001b[0;36mtcCanvas.__init__\u001b[1;34m(self, adPy, view, ad_per_row, width, height, scale, max_ad, context_level, first_ad, last_ad, tree_id, tree_name, sort_by, escape_taxa_as_context_block, show_block_proportional, parameter_from_individual_ad, subtree_independent, differentiate_inexact_match, layer, show_tree_name)\u001b[0m\n\u001b[0;32m     74\u001b[0m check_elided[\u001b[38;5;124m'\u001b[39m\u001b[38;5;124mnode\u001b[39m\u001b[38;5;124m'\u001b[39m] \u001b[38;5;241m=\u001b[39m \u001b[38;5;28;01mNone\u001b[39;00m\n\u001b[0;32m     75\u001b[0m check_elided[\u001b[38;5;124m'\u001b[39m\u001b[38;5;124mcontext_level\u001b[39m\u001b[38;5;124m'\u001b[39m] \u001b[38;5;241m=\u001b[39m \u001b[38;5;241m0\u001b[39m\n\u001b[1;32m---> 76\u001b[0m \u001b[38;5;28;43mself\u001b[39;49m\u001b[38;5;241;43m.\u001b[39;49m\u001b[43mconstruct_ad\u001b[49m\u001b[43m(\u001b[49m\u001b[43mtc_tree\u001b[49m\u001b[38;5;241;43m=\u001b[39;49m\u001b[38;5;28;43mself\u001b[39;49m\u001b[38;5;241;43m.\u001b[39;49m\u001b[43madPy\u001b[49m\u001b[38;5;241;43m.\u001b[39;49m\u001b[43mrt\u001b[49m\u001b[43m,\u001b[49m\u001b[43m \u001b[49m\u001b[43mlevel\u001b[49m\u001b[38;5;241;43m=\u001b[39;49m\u001b[38;5;241;43m1\u001b[39;49m\u001b[43m,\u001b[49m\u001b[43m \u001b[49m\u001b[43mcheck_elided\u001b[49m\u001b[38;5;241;43m=\u001b[39;49m\u001b[43mcheck_elided\u001b[49m\u001b[43m)\u001b[49m\n\u001b[0;32m     77\u001b[0m \u001b[38;5;28mself\u001b[39m\u001b[38;5;241m.\u001b[39madPy\u001b[38;5;241m.\u001b[39mrt\u001b[38;5;241m.\u001b[39mad_tree \u001b[38;5;241m=\u001b[39m \u001b[38;5;28mself\u001b[39m\u001b[38;5;241m.\u001b[39mad_list[\u001b[38;5;241m0\u001b[39m]\n\u001b[0;32m     78\u001b[0m \u001b[38;5;28mself\u001b[39m\u001b[38;5;241m.\u001b[39madPy\u001b[38;5;241m.\u001b[39mrt\u001b[38;5;241m.\u001b[39mtopology_string \u001b[38;5;241m=\u001b[39m \u001b[38;5;28mself\u001b[39m\u001b[38;5;241m.\u001b[39madPy\u001b[38;5;241m.\u001b[39mrt\u001b[38;5;241m.\u001b[39mad_tree\u001b[38;5;241m.\u001b[39mad_to_string(\u001b[38;5;28mself\u001b[39m,differentiate_inexact_match\u001b[38;5;241m=\u001b[39m\u001b[38;5;28;01mFalse\u001b[39;00m)\n",
      "File \u001b[1;32m~\\Desktop\\Phylo\\Ipy-AD\\ADView_Python_Migration\\tcCanvas.py:273\u001b[0m, in \u001b[0;36mtcCanvas.construct_ad\u001b[1;34m(self, tc_tree, construct_rt, tc_node, current_ad_node, level, nested_subtree, nested_ad, check_elided, nested_subtree_duplicate)\u001b[0m\n\u001b[0;32m    266\u001b[0m         \u001b[38;5;28;01mif\u001b[39;00m result \u001b[38;5;241m==\u001b[39m SUBTREE_ROOT \u001b[38;5;129;01mor\u001b[39;00m result \u001b[38;5;241m==\u001b[39m INDEPENDENT_LEAF:\n\u001b[0;32m    267\u001b[0m             \u001b[38;5;66;03m# subtree_prior = 5 - SUBTREE_LABEL_LIST.index(subtree.label)\u001b[39;00m\n\u001b[0;32m    268\u001b[0m             \u001b[38;5;66;03m# print(f\"subtree_prior = {subtree_prior}\")\u001b[39;00m\n\u001b[0;32m    269\u001b[0m             \u001b[38;5;66;03m# result -= subtree_prior\u001b[39;00m\n\u001b[0;32m    270\u001b[0m             \u001b[38;5;66;03m# print(f\"result = {result}\")\u001b[39;00m\n\u001b[0;32m    271\u001b[0m             \u001b[38;5;28;01mbreak\u001b[39;00m\n\u001b[1;32m--> 273\u001b[0m     result_list[child] \u001b[38;5;241m=\u001b[39m [result,\u001b[43msubtree\u001b[49m]\n\u001b[0;32m    275\u001b[0m \u001b[38;5;66;03m# Sort by result\u001b[39;00m\n\u001b[0;32m    276\u001b[0m sorted_list \u001b[38;5;241m=\u001b[39m \u001b[38;5;28mdict\u001b[39m(\u001b[38;5;28msorted\u001b[39m(result_list\u001b[38;5;241m.\u001b[39mitems(), key\u001b[38;5;241m=\u001b[39m\u001b[38;5;28;01mlambda\u001b[39;00m item: item[\u001b[38;5;241m1\u001b[39m][\u001b[38;5;241m0\u001b[39m]))\n",
      "\u001b[1;31mUnboundLocalError\u001b[0m: cannot access local variable 'subtree' where it is not associated with a value"
     ]
    }
   ],
   "source": [
    "adpy.tree_distribution()"
   ]
  },
  {
   "cell_type": "code",
   "execution_count": null,
   "id": "fce027d1-c603-482d-9f3f-0e514cf28858",
   "metadata": {},
   "outputs": [],
   "source": [
    "adpy.tree_distribution_view.output"
   ]
  },
  {
   "cell_type": "code",
   "execution_count": null,
   "id": "49d6b724-b949-44db-a8b8-253dfdfca5a1",
   "metadata": {},
   "outputs": [],
   "source": [
    "adpy.export_image(view='Tree Distribution')"
   ]
  },
  {
   "cell_type": "code",
   "execution_count": null,
   "id": "5fa1b7f2-900e-48ab-86b1-94d024c40497",
   "metadata": {
    "scrolled": true
   },
   "outputs": [],
   "source": [
    "adpy.AD(view='AD Cluster',scale=1.0)"
   ]
  },
  {
   "cell_type": "code",
   "execution_count": 5,
   "id": "b36fa32d-2faf-4cc7-9718-efe797e93966",
   "metadata": {
    "scrolled": true
   },
   "outputs": [
    {
     "data": {
      "application/vnd.jupyter.widget-view+json": {
       "model_id": "e49bb16661414bdeaaf535a2770f5206",
       "version_major": 2,
       "version_minor": 0
      },
      "text/plain": [
       "pairwiseCanvas(height=2140, sync_image_data=True, width=1100)"
      ]
     },
     "metadata": {},
     "output_type": "display_data"
    }
   ],
   "source": []
  },
  {
   "cell_type": "code",
   "execution_count": null,
   "id": "6bcb3310-f02b-4b02-84a9-55e5f0880b8a",
   "metadata": {},
   "outputs": [],
   "source": [
    "adpy.select_subtree([\"spirogyra\",\"mougeotia\"])"
   ]
  },
  {
   "cell_type": "code",
   "execution_count": 14,
   "id": "a8090c57-80d9-4a8f-8a58-e78a19194aed",
   "metadata": {},
   "outputs": [],
   "source": [
    "adpy.output[-1]"
   ]
  },
  {
   "cell_type": "code",
   "execution_count": 12,
   "id": "3f6898e6-7e1b-4344-850d-4cc52cdb3036",
   "metadata": {},
   "outputs": [
    {
     "data": {
      "text/plain": [
       "<Tree object at 0x19195306950>"
      ]
     },
     "execution_count": 12,
     "metadata": {},
     "output_type": "execute_result"
    }
   ],
   "source": [
    "adpy.rt"
   ]
  },
  {
   "cell_type": "code",
   "execution_count": 6,
   "id": "3d7fbe62-6bf4-47e0-907a-e08f0ce66771",
   "metadata": {
    "scrolled": true
   },
   "outputs": [
    {
     "data": {
      "text/plain": [
       "['section_index : 2',\n",
       " 'write label1',\n",
       " 'section_index : 2',\n",
       " 'write label1',\n",
       " 'section_index : 3',\n",
       " 'node_selected : ',\n",
       " <Node object at 0x20d5a6d0ed0: 'None' (<Taxon 0x20d5a6b4790 'Mesostigma viride'>)>,\n",
       " 'write label1',\n",
       " 'section_index : 4',\n",
       " 'node_selected : ',\n",
       " None,\n",
       " 'section_index : 3',\n",
       " 'node_selected : ',\n",
       " <Node object at 0x20d5a6d1150: 'None' (<Taxon 0x20d5a6b4ad0 'Chlorokybus atmophyticus'>)>,\n",
       " 'write label1',\n",
       " 'section_index : 4',\n",
       " 'node_selected : ',\n",
       " None,\n",
       " 'section_index : 5',\n",
       " 'node_selected : ',\n",
       " <Node object at 0x20d5a6d16d0: 'None' (<Taxon 0x20d5a6b50d0 'Entransia fimbriata'>)>,\n",
       " 'write label1',\n",
       " 'section_index : 6',\n",
       " 'node_selected : ',\n",
       " None,\n",
       " 'section_index : 7',\n",
       " 'node_selected : ',\n",
       " <Node object at 0x20d5a6d1b10: 'None' (<Taxon 0x20d5a6af450 'Chara vulgaris'>)>,\n",
       " 'write label1',\n",
       " 'section_index : 7',\n",
       " 'node_selected : ',\n",
       " <Node object at 0x20d5a6d1e90: 'None' (<Taxon 0x20d5a6aeb10 'Chaetosphaeridium globosum'>)>,\n",
       " 'write label1',\n",
       " 'section_index : 7',\n",
       " 'node_selected : ',\n",
       " <Node object at 0x20d5a6d1e90: 'None' (<Taxon 0x20d5a6aeb10 'Chaetosphaeridium globosum'>)>,\n",
       " 'section_index : 6',\n",
       " 'node_selected : ',\n",
       " <Node object at 0x20d5a6d1810: 'None' (<Taxon 0x20d5a6b52d0 'Klebsormidium subtile'>)>,\n",
       " 'write label1',\n",
       " 'section_index : 5',\n",
       " 'node_selected : ',\n",
       " None,\n",
       " 'section_index : 5',\n",
       " 'node_selected : ',\n",
       " <Node object at 0x20d5a6d16d0: 'None' (<Taxon 0x20d5a6b50d0 'Entransia fimbriata'>)>,\n",
       " 'write label1',\n",
       " 'section_index : 5',\n",
       " 'node_selected : ',\n",
       " <Node object at 0x20d5a6d1550: '100' (None)>,\n",
       " 'write label1',\n",
       " 'section_index : 5',\n",
       " 'node_selected : ',\n",
       " <Node object at 0x20d5a6d1550: '100' (None)>,\n",
       " 'section_index : 5',\n",
       " 'node_selected : ',\n",
       " <Node object at 0x20d5a6d1550: '100' (None)>,\n",
       " 'section_index : 10',\n",
       " 'node_selected : ',\n",
       " <Node object at 0x20d5a6d2a90: 'None' (<Taxon 0x20d5a6b5c50 'Roya obtusa'>)>,\n",
       " 'write label1',\n",
       " 'section_index : 17',\n",
       " 'node_selected : ',\n",
       " <Node object at 0x20d5adcde50: 'Alsophila spinulosa' (<Taxon 0x20d5adcddd0 'Alsophila spinulosa'>)>,\n",
       " 'section_index : 16',\n",
       " 'node_selected : ',\n",
       " <Node object at 0x20d5a6c0450: 'Acorus americanus' (<Taxon 0x20d5a687510 'Acorus americanus'>)>,\n",
       " 'section_index : 17',\n",
       " 'node_selected : ',\n",
       " <Node object at 0x20d5adcee10: 'Allamanda cathartica' (<Taxon 0x20d5adced90 'Allamanda cathartica'>)>,\n",
       " 'section_index : 17',\n",
       " 'node_selected : ',\n",
       " <Node object at 0x20d5adcde50: 'Alsophila spinulosa' (<Taxon 0x20d5adcddd0 'Alsophila spinulosa'>)>,\n",
       " 'section_index : 19',\n",
       " 'node_selected : ',\n",
       " <Node object at 0x20d5a6c1710: 'Anomodon attenuatus' (<Taxon 0x20d5a6c1690 'Anomodon attenuatus'>)>,\n",
       " 'section_index : 18',\n",
       " 'node_selected : ',\n",
       " <Node object at 0x20d5adcd750: 'Angiopteris evecta' (<Taxon 0x20d5adcd6d0 'Angiopteris evecta'>)>,\n",
       " 'section_index : 11',\n",
       " 'node_selected : ',\n",
       " <Node object at 0x20d5a6d2e10: 'None' (<Taxon 0x20d5a6b61d0 'Penium margaritaceum'>)>,\n",
       " 'write label1',\n",
       " 'section_index : 13',\n",
       " 'node_selected : ',\n",
       " <Node object at 0x20d5a6d3650: 'None' (<Taxon 0x20d5a6b6cd0 'Cylindrocystis brebissonii'>)>,\n",
       " 'write label1',\n",
       " 'section_index : 14',\n",
       " 'node_selected : ',\n",
       " <Node object at 0x20d5a6d38d0: 'None' (<Taxon 0x20d5a6b7010 'Cylindrocystis cushleckae'>)>,\n",
       " 'write label1',\n",
       " 'section_index : 14',\n",
       " 'node_selected : ',\n",
       " <Node object at 0x20d5a6d38d0: 'None' (<Taxon 0x20d5a6b7010 'Cylindrocystis cushleckae'>)>,\n",
       " 'section_index : 13',\n",
       " 'section_index : 11',\n",
       " 'write label1',\n",
       " 'section_index : 10',\n",
       " 'write label1',\n",
       " 'section_index : 12',\n",
       " 'write label1',\n",
       " 'section_index : 16',\n",
       " 'section_index : 12',\n",
       " 'section_index : 11']"
      ]
     },
     "execution_count": 6,
     "metadata": {},
     "output_type": "execute_result"
    }
   ],
   "source": [
    "adpy.output"
   ]
  },
  {
   "cell_type": "code",
   "execution_count": 6,
   "id": "940cba8f-b592-4e20-929e-d810b3b02357",
   "metadata": {},
   "outputs": [
    {
     "name": "stdout",
     "output_type": "stream",
     "text": [
      "IS_DESCENDANT\n",
      "IS_DESCENDANT\n",
      "IS_DESCENDANT\n",
      "IS_DESCENDANT\n",
      "IS_DESCENDANT\n",
      "IS_DESCENDANT\n",
      "IS_DESCENDANT\n",
      "IS_DESCENDANT\n",
      "IS_DESCENDANT\n",
      "IS_DESCENDANT\n",
      "IS_DESCENDANT\n",
      "IS_DESCENDANT\n",
      "NON_DESCENDANT\n",
      "IS_DESCENDANT\n",
      "IS_DESCENDANT\n",
      "NON_DESCENDANT\n",
      "NON_DESCENDANT\n",
      "NON_DESCENDANT\n",
      "NON_DESCENDANT\n",
      "NON_DESCENDANT\n",
      "NON_DESCENDANT\n",
      "NON_DESCENDANT\n",
      "NON_DESCENDANT\n",
      "NON_DESCENDANT\n",
      "NON_DESCENDANT\n",
      "NON_DESCENDANT\n",
      "NON_DESCENDANT\n",
      "NON_DESCENDANT\n",
      "NON_DESCENDANT\n",
      "IS_DESCENDANT\n",
      "IS_DESCENDANT\n",
      "IS_DESCENDANT\n",
      "IS_DESCENDANT\n",
      "IS_DESCENDANT\n",
      "IS_DESCENDANT\n",
      "IS_DESCENDANT\n",
      "IS_DESCENDANT\n",
      "IS_DESCENDANT\n",
      "IS_DESCENDANT\n",
      "IS_DESCENDANT\n",
      "IS_DESCENDANT\n",
      "IS_DESCENDANT\n",
      "IS_DESCENDANT\n",
      "NON_DESCENDANT\n",
      "IS_DESCENDANT\n",
      "NON_DESCENDANT\n",
      "NON_DESCENDANT\n",
      "NON_DESCENDANT\n",
      "NON_DESCENDANT\n",
      "NON_DESCENDANT\n",
      "NON_DESCENDANT\n",
      "NON_DESCENDANT\n",
      "NON_DESCENDANT\n",
      "NON_DESCENDANT\n",
      "NON_DESCENDANT\n",
      "NON_DESCENDANT\n",
      "NON_DESCENDANT\n",
      "NON_DESCENDANT\n",
      "NON_DESCENDANT\n",
      "NON_DESCENDANT\n",
      "IS_DESCENDANT\n",
      "IS_DESCENDANT\n",
      "IS_DESCENDANT\n",
      "IS_DESCENDANT\n",
      "IS_DESCENDANT\n",
      "IS_DESCENDANT\n",
      "IS_DESCENDANT\n",
      "IS_DESCENDANT\n",
      "IS_DESCENDANT\n",
      "IS_DESCENDANT\n",
      "IS_DESCENDANT\n",
      "NON_DESCENDANT\n",
      "IS_DESCENDANT\n",
      "IS_DESCENDANT\n",
      "NON_DESCENDANT\n",
      "NON_DESCENDANT\n",
      "NON_DESCENDANT\n",
      "NON_DESCENDANT\n",
      "NON_DESCENDANT\n",
      "NON_DESCENDANT\n",
      "NON_DESCENDANT\n",
      "NON_DESCENDANT\n",
      "NON_DESCENDANT\n",
      "NON_DESCENDANT\n",
      "NON_DESCENDANT\n",
      "NON_DESCENDANT\n",
      "NON_DESCENDANT\n",
      "IS_DESCENDANT\n",
      "IS_DESCENDANT\n",
      "IS_DESCENDANT\n",
      "IS_DESCENDANT\n",
      "IS_DESCENDANT\n",
      "IS_DESCENDANT\n",
      "IS_DESCENDANT\n",
      "IS_DESCENDANT\n",
      "IS_DESCENDANT\n",
      "IS_DESCENDANT\n",
      "IS_DESCENDANT\n",
      "IS_DESCENDANT\n",
      "IS_DESCENDANT\n",
      "IS_DESCENDANT\n",
      "NON_DESCENDANT\n",
      "NON_DESCENDANT\n",
      "IS_DESCENDANT\n",
      "IS_DESCENDANT\n",
      "NON_DESCENDANT\n",
      "NON_DESCENDANT\n",
      "NON_DESCENDANT\n",
      "NON_DESCENDANT\n",
      "NON_DESCENDANT\n",
      "NON_DESCENDANT\n",
      "NON_DESCENDANT\n",
      "NON_DESCENDANT\n",
      "NON_DESCENDANT\n",
      "NON_DESCENDANT\n",
      "NON_DESCENDANT\n",
      "NON_DESCENDANT\n",
      "NON_DESCENDANT\n",
      "NON_DESCENDANT\n",
      "NON_DESCENDANT\n",
      "IS_DESCENDANT\n",
      "IS_DESCENDANT\n",
      "IS_DESCENDANT\n",
      "IS_DESCENDANT\n",
      "IS_DESCENDANT\n",
      "IS_DESCENDANT\n",
      "IS_DESCENDANT\n",
      "IS_DESCENDANT\n",
      "IS_DESCENDANT\n",
      "IS_DESCENDANT\n",
      "IS_DESCENDANT\n",
      "IS_DESCENDANT\n",
      "IS_DESCENDANT\n",
      "IS_DESCENDANT\n",
      "IS_DESCENDANT\n",
      "IS_DESCENDANT\n",
      "NON_DESCENDANT\n",
      "NON_DESCENDANT\n",
      "NON_DESCENDANT\n",
      "NON_DESCENDANT\n",
      "NON_DESCENDANT\n",
      "NON_DESCENDANT\n",
      "NON_DESCENDANT\n",
      "NON_DESCENDANT\n",
      "NON_DESCENDANT\n",
      "NON_DESCENDANT\n",
      "NON_DESCENDANT\n",
      "NON_DESCENDANT\n",
      "NON_DESCENDANT\n",
      "NON_DESCENDANT\n",
      "NON_DESCENDANT\n",
      "NON_DESCENDANT\n",
      "NON_DESCENDANT\n",
      "IS_DESCENDANT\n",
      "IS_DESCENDANT\n",
      "IS_DESCENDANT\n",
      "IS_DESCENDANT\n",
      "IS_DESCENDANT\n",
      "IS_DESCENDANT\n",
      "IS_DESCENDANT\n",
      "IS_DESCENDANT\n",
      "IS_DESCENDANT\n",
      "IS_DESCENDANT\n",
      "IS_DESCENDANT\n",
      "IS_DESCENDANT\n",
      "IS_DESCENDANT\n",
      "IS_DESCENDANT\n",
      "IS_DESCENDANT\n",
      "IS_DESCENDANT\n",
      "NON_DESCENDANT\n",
      "NON_DESCENDANT\n",
      "NON_DESCENDANT\n",
      "IS_DESCENDANT\n",
      "IS_DESCENDANT\n",
      "NON_DESCENDANT\n",
      "NON_DESCENDANT\n",
      "NON_DESCENDANT\n",
      "NON_DESCENDANT\n",
      "NON_DESCENDANT\n",
      "NON_DESCENDANT\n",
      "NON_DESCENDANT\n",
      "NON_DESCENDANT\n",
      "NON_DESCENDANT\n",
      "NON_DESCENDANT\n",
      "NON_DESCENDANT\n",
      "NON_DESCENDANT\n",
      "NON_DESCENDANT\n",
      "NON_DESCENDANT\n",
      "NON_DESCENDANT\n",
      "NON_DESCENDANT\n",
      "IS_DESCENDANT\n",
      "IS_DESCENDANT\n",
      "IS_DESCENDANT\n",
      "IS_DESCENDANT\n",
      "IS_DESCENDANT\n",
      "IS_DESCENDANT\n",
      "IS_DESCENDANT\n",
      "IS_DESCENDANT\n",
      "IS_DESCENDANT\n",
      "IS_DESCENDANT\n",
      "IS_DESCENDANT\n",
      "IS_DESCENDANT\n",
      "IS_DESCENDANT\n",
      "IS_DESCENDANT\n",
      "NON_DESCENDANT\n",
      "IS_DESCENDANT\n",
      "NON_DESCENDANT\n",
      "NON_DESCENDANT\n",
      "NON_DESCENDANT\n",
      "NON_DESCENDANT\n",
      "NON_DESCENDANT\n",
      "NON_DESCENDANT\n",
      "NON_DESCENDANT\n",
      "NON_DESCENDANT\n",
      "NON_DESCENDANT\n",
      "NON_DESCENDANT\n",
      "NON_DESCENDANT\n",
      "NON_DESCENDANT\n",
      "NON_DESCENDANT\n",
      "NON_DESCENDANT\n",
      "NON_DESCENDANT\n",
      "IS_DESCENDANT\n",
      "IS_DESCENDANT\n",
      "IS_DESCENDANT\n",
      "IS_DESCENDANT\n",
      "IS_DESCENDANT\n",
      "IS_DESCENDANT\n",
      "NON_DESCENDANT\n",
      "NON_DESCENDANT\n",
      "NON_DESCENDANT\n",
      "IS_DESCENDANT\n",
      "NON_DESCENDANT\n",
      "NON_DESCENDANT\n",
      "NON_DESCENDANT\n",
      "NON_DESCENDANT\n",
      "NON_DESCENDANT\n",
      "IS_DESCENDANT\n",
      "IS_DESCENDANT\n",
      "IS_DESCENDANT\n",
      "IS_DESCENDANT\n",
      "IS_DESCENDANT\n",
      "IS_DESCENDANT\n",
      "IS_DESCENDANT\n",
      "IS_DESCENDANT\n",
      "IS_DESCENDANT\n",
      "IS_DESCENDANT\n",
      "IS_DESCENDANT\n",
      "IS_DESCENDANT\n",
      "IS_DESCENDANT\n",
      "IS_DESCENDANT\n",
      "IS_DESCENDANT\n",
      "IS_DESCENDANT\n",
      "NON_DESCENDANT\n",
      "NON_DESCENDANT\n",
      "NON_DESCENDANT\n",
      "NON_DESCENDANT\n",
      "IS_DESCENDANT\n",
      "IS_DESCENDANT\n",
      "NON_DESCENDANT\n",
      "NON_DESCENDANT\n",
      "NON_DESCENDANT\n",
      "NON_DESCENDANT\n",
      "NON_DESCENDANT\n",
      "NON_DESCENDANT\n",
      "NON_DESCENDANT\n",
      "NON_DESCENDANT\n",
      "NON_DESCENDANT\n",
      "NON_DESCENDANT\n",
      "NON_DESCENDANT\n",
      "NON_DESCENDANT\n",
      "NON_DESCENDANT\n",
      "NON_DESCENDANT\n",
      "IS_DESCENDANT\n",
      "IS_DESCENDANT\n",
      "IS_DESCENDANT\n",
      "IS_DESCENDANT\n",
      "IS_DESCENDANT\n",
      "IS_DESCENDANT\n",
      "IS_DESCENDANT\n",
      "IS_DESCENDANT\n",
      "IS_DESCENDANT\n",
      "IS_DESCENDANT\n",
      "IS_DESCENDANT\n",
      "NON_DESCENDANT\n",
      "NON_DESCENDANT\n",
      "IS_DESCENDANT\n",
      "IS_DESCENDANT\n",
      "NON_DESCENDANT\n",
      "NON_DESCENDANT\n",
      "NON_DESCENDANT\n",
      "NON_DESCENDANT\n",
      "NON_DESCENDANT\n",
      "NON_DESCENDANT\n",
      "NON_DESCENDANT\n",
      "NON_DESCENDANT\n",
      "NON_DESCENDANT\n",
      "NON_DESCENDANT\n",
      "NON_DESCENDANT\n",
      "NON_DESCENDANT\n",
      "IS_DESCENDANT\n",
      "IS_DESCENDANT\n",
      "IS_DESCENDANT\n",
      "IS_DESCENDANT\n",
      "IS_DESCENDANT\n",
      "IS_DESCENDANT\n",
      "IS_DESCENDANT\n",
      "IS_DESCENDANT\n",
      "IS_DESCENDANT\n",
      "IS_DESCENDANT\n",
      "IS_DESCENDANT\n",
      "IS_DESCENDANT\n",
      "IS_DESCENDANT\n",
      "IS_DESCENDANT\n",
      "IS_DESCENDANT\n",
      "NON_DESCENDANT\n",
      "IS_DESCENDANT\n",
      "IS_DESCENDANT\n",
      "IS_DESCENDANT\n",
      "NON_DESCENDANT\n",
      "NON_DESCENDANT\n",
      "NON_DESCENDANT\n",
      "NON_DESCENDANT\n",
      "NON_DESCENDANT\n",
      "NON_DESCENDANT\n",
      "NON_DESCENDANT\n",
      "NON_DESCENDANT\n",
      "NON_DESCENDANT\n",
      "NON_DESCENDANT\n",
      "NON_DESCENDANT\n",
      "NON_DESCENDANT\n",
      "NON_DESCENDANT\n",
      "NON_DESCENDANT\n",
      "NON_DESCENDANT\n",
      "NON_DESCENDANT\n",
      "NON_DESCENDANT\n"
     ]
    },
    {
     "data": {
      "application/vnd.jupyter.widget-view+json": {
       "model_id": "fa54964f215d4f2b82cc4ff2a5accfa3",
       "version_major": 2,
       "version_minor": 0
      },
      "text/plain": [
       "tcCanvas(height=403, sync_image_data=True, width=1100)"
      ]
     },
     "metadata": {},
     "output_type": "display_data"
    }
   ],
   "source": [
    "adpy.AD(view='AD Individual',scale=1.0,sort='id',context_level = 2,show_tree_name=True,max_ad=10)"
   ]
  },
  {
   "cell_type": "code",
   "execution_count": 7,
   "id": "69336e98-51d2-460d-b92a-349deeb19e29",
   "metadata": {},
   "outputs": [
    {
     "data": {
      "text/plain": [
       "[<ADpy.Subtree at 0x208950a5b50>, <ADpy.Subtree at 0x2089632e950>]"
      ]
     },
     "execution_count": 7,
     "metadata": {},
     "output_type": "execute_result"
    }
   ],
   "source": [
    "adpy.pairwise_canvas.tc_left_subtree_list"
   ]
  },
  {
   "cell_type": "code",
   "execution_count": 11,
   "id": "d539dd53-571b-497e-a6bc-287804e03c62",
   "metadata": {},
   "outputs": [
    {
     "data": {
      "text/plain": [
       "[[<Node object at 0x255ea0336d0: 'Zea mays' (<Taxon 0x255ea032f90 'Zea mays'>)>],\n",
       " [<Node object at 0x255ea032ed0: 'Zamia vazquezii' (<Taxon 0x255ea032e50 'Zamia vazquezii'>)>],\n",
       " []]"
      ]
     },
     "execution_count": 11,
     "metadata": {},
     "output_type": "execute_result"
    }
   ],
   "source": [
    "adpy.pairwise_canvas.left_tree_section_list[69]"
   ]
  },
  {
   "cell_type": "code",
   "execution_count": null,
   "id": "bb5e6ff4-4d46-4aa2-a9f5-4a4a553834aa",
   "metadata": {},
   "outputs": [],
   "source": [
    "adpy.ad_individual_canvas.ad_list[0].plot_tree()"
   ]
  },
  {
   "cell_type": "code",
   "execution_count": null,
   "id": "79bae5e2-8ec8-4078-9a4a-193a91aac098",
   "metadata": {},
   "outputs": [],
   "source": []
  },
  {
   "cell_type": "code",
   "execution_count": null,
   "id": "5fcaf421-04be-4277-8e3e-b76b9336fad0",
   "metadata": {},
   "outputs": [],
   "source": [
    "adpy.rt_canvas.output"
   ]
  },
  {
   "cell_type": "code",
   "execution_count": null,
   "id": "7a4e31af-02d1-4bb8-9a77-371f7b195f53",
   "metadata": {},
   "outputs": [],
   "source": [
    "# AD_INDIVIDUAL = \"AD Individual\"\n",
    "# AD_CLUSTER = \"AD Cluster\"\n",
    "# \"Reference Tree\"\n",
    "adpy.export_image(view=\"Tree Distribution\")"
   ]
  },
  {
   "cell_type": "code",
   "execution_count": null,
   "id": "b17fa92d-5975-4400-8e8d-d9ac5f4835f3",
   "metadata": {},
   "outputs": [],
   "source": []
  },
  {
   "cell_type": "code",
   "execution_count": null,
   "id": "69725f90-1b60-45df-bee6-93e49ec055da",
   "metadata": {},
   "outputs": [],
   "source": [
    "adpy.export_canvas"
   ]
  },
  {
   "cell_type": "code",
   "execution_count": null,
   "id": "15c1c508-515d-4bc3-ac9a-2eec9338e6ba",
   "metadata": {},
   "outputs": [],
   "source": [
    "adpy.AD(view='AD Individual',scale=1.0,sort='rf_distance',context_level = 2,show_tree_name=True,\n",
    "          espace_taxa_as_context_block=True,tree_id=[1,2,3,4,5])"
   ]
  },
  {
   "cell_type": "code",
   "execution_count": null,
   "id": "a0e2d04f-7d45-4ed3-88d5-01197e9471a0",
   "metadata": {},
   "outputs": [],
   "source": [
    "adpy.AD(view='AD Cluster',scale=1.0)"
   ]
  },
  {
   "cell_type": "code",
   "execution_count": null,
   "id": "fd5ff36c-6f96-43b6-9805-fc6cba61224b",
   "metadata": {
    "scrolled": true
   },
   "outputs": [],
   "source": [
    "adpy.pairwise_comparison(compare_tree=[1,17])"
   ]
  },
  {
   "cell_type": "code",
   "execution_count": null,
   "id": "f02aaee9-f5b6-4230-aaa2-0644065da4c9",
   "metadata": {},
   "outputs": [],
   "source": [
    "adpy.tree_distribution()"
   ]
  },
  {
   "cell_type": "code",
   "execution_count": null,
   "id": "89c91f34-de14-45a3-a293-0d947796d830",
   "metadata": {},
   "outputs": [],
   "source": [
    "adpy.select_subtree([\"mesostigma\",\"spirotaenia\"])"
   ]
  },
  {
   "cell_type": "code",
   "execution_count": null,
   "id": "6c798ff9-74c3-433b-8d97-13970de6d6d6",
   "metadata": {
    "scrolled": true
   },
   "outputs": [],
   "source": [
    "adpy.reference_tree()"
   ]
  },
  {
   "cell_type": "code",
   "execution_count": null,
   "id": "cad702e7-3095-435c-b2d4-6f025568ca9b",
   "metadata": {
    "scrolled": true
   },
   "outputs": [],
   "source": [
    "adpy.pairwise_comparison()"
   ]
  },
  {
   "cell_type": "code",
   "execution_count": null,
   "id": "0c592e27-1e33-41f5-833c-46b56e4741b2",
   "metadata": {
    "scrolled": true
   },
   "outputs": [],
   "source": [
    "adpy.AD(view='Individual',scale=1.0,sort='rf_distance',context_level = 2,max_ad=20,show_tree_name=True,\n",
    "          espace_taxa_as_context_block=True)"
   ]
  },
  {
   "cell_type": "code",
   "execution_count": null,
   "id": "f590da2a-ec24-49d7-8b15-d4438bada8c0",
   "metadata": {},
   "outputs": [],
   "source": [
    "adpy.tree_distribution_view()"
   ]
  },
  {
   "cell_type": "code",
   "execution_count": null,
   "id": "9cef31c1-9eba-4b1c-9fda-cdfad6ff26ed",
   "metadata": {},
   "outputs": [],
   "source": [
    "adpy.AD(view='Cluster',scale=1.0,differentiate_inexact_match=True)"
   ]
  }
 ],
 "metadata": {
  "kernelspec": {
   "display_name": "Python 3 (ipykernel)",
   "language": "python",
   "name": "python3"
  },
  "language_info": {
   "codemirror_mode": {
    "name": "ipython",
    "version": 3
   },
   "file_extension": ".py",
   "mimetype": "text/x-python",
   "name": "python",
   "nbconvert_exporter": "python",
   "pygments_lexer": "ipython3",
   "version": "3.11.4"
  }
 },
 "nbformat": 4,
 "nbformat_minor": 5
}
