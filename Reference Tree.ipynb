{
 "cells": [
  {
   "cell_type": "code",
   "execution_count": 61,
   "id": "04b86733",
   "metadata": {},
   "outputs": [
    {
     "name": "stdout",
     "output_type": "stream",
     "text": [
      "Requirement already satisfied: dendropy in c:\\users\\coral\\desktop\\phylo\\venv\\lib\\site-packages (from -r requirements.txt (line 1)) (4.6.1)\n",
      "Requirement already satisfied: ipycanvas in c:\\users\\coral\\desktop\\phylo\\venv\\lib\\site-packages (from -r requirements.txt (line 2)) (0.13.1)\n",
      "Requirement already satisfied: ipywidgets in c:\\users\\coral\\desktop\\phylo\\venv\\lib\\site-packages (from -r requirements.txt (line 3)) (8.1.1)\n",
      "Requirement already satisfied: quads in c:\\users\\coral\\desktop\\phylo\\venv\\lib\\site-packages (from -r requirements.txt (line 4)) (1.1.0)\n",
      "Requirement already satisfied: scikit-learn in c:\\users\\coral\\desktop\\phylo\\venv\\lib\\site-packages (from -r requirements.txt (line 5)) (1.4.1.post1)\n",
      "Requirement already satisfied: numpy in c:\\users\\coral\\desktop\\phylo\\venv\\lib\\site-packages (from -r requirements.txt (line 6)) (1.26.2)\n",
      "Requirement already satisfied: setuptools in c:\\users\\coral\\desktop\\phylo\\venv\\lib\\site-packages (from dendropy->-r requirements.txt (line 1)) (68.2.2)\n",
      "Requirement already satisfied: pillow>=6.0 in c:\\users\\coral\\desktop\\phylo\\venv\\lib\\site-packages (from ipycanvas->-r requirements.txt (line 2)) (10.1.0)\n",
      "Requirement already satisfied: comm>=0.1.3 in c:\\users\\coral\\desktop\\phylo\\venv\\lib\\site-packages (from ipywidgets->-r requirements.txt (line 3)) (0.2.0)\n",
      "Requirement already satisfied: ipython>=6.1.0 in c:\\users\\coral\\desktop\\phylo\\venv\\lib\\site-packages (from ipywidgets->-r requirements.txt (line 3)) (8.17.2)\n",
      "Requirement already satisfied: traitlets>=4.3.1 in c:\\users\\coral\\desktop\\phylo\\venv\\lib\\site-packages (from ipywidgets->-r requirements.txt (line 3)) (5.14.0)\n",
      "Requirement already satisfied: widgetsnbextension~=4.0.9 in c:\\users\\coral\\desktop\\phylo\\venv\\lib\\site-packages (from ipywidgets->-r requirements.txt (line 3)) (4.0.9)\n",
      "Requirement already satisfied: jupyterlab-widgets~=3.0.9 in c:\\users\\coral\\desktop\\phylo\\venv\\lib\\site-packages (from ipywidgets->-r requirements.txt (line 3)) (3.0.9)\n",
      "Requirement already satisfied: scipy>=1.6.0 in c:\\users\\coral\\desktop\\phylo\\venv\\lib\\site-packages (from scikit-learn->-r requirements.txt (line 5)) (1.12.0)\n",
      "Requirement already satisfied: joblib>=1.2.0 in c:\\users\\coral\\desktop\\phylo\\venv\\lib\\site-packages (from scikit-learn->-r requirements.txt (line 5)) (1.3.2)\n",
      "Requirement already satisfied: threadpoolctl>=2.0.0 in c:\\users\\coral\\desktop\\phylo\\venv\\lib\\site-packages (from scikit-learn->-r requirements.txt (line 5)) (3.4.0)\n",
      "Requirement already satisfied: decorator in c:\\users\\coral\\desktop\\phylo\\venv\\lib\\site-packages (from ipython>=6.1.0->ipywidgets->-r requirements.txt (line 3)) (5.1.1)\n",
      "Requirement already satisfied: jedi>=0.16 in c:\\users\\coral\\desktop\\phylo\\venv\\lib\\site-packages (from ipython>=6.1.0->ipywidgets->-r requirements.txt (line 3)) (0.19.1)\n",
      "Requirement already satisfied: matplotlib-inline in c:\\users\\coral\\desktop\\phylo\\venv\\lib\\site-packages (from ipython>=6.1.0->ipywidgets->-r requirements.txt (line 3)) (0.1.6)\n",
      "Requirement already satisfied: prompt-toolkit!=3.0.37,<3.1.0,>=3.0.30 in c:\\users\\coral\\desktop\\phylo\\venv\\lib\\site-packages (from ipython>=6.1.0->ipywidgets->-r requirements.txt (line 3)) (3.0.41)\n",
      "Requirement already satisfied: pygments>=2.4.0 in c:\\users\\coral\\desktop\\phylo\\venv\\lib\\site-packages (from ipython>=6.1.0->ipywidgets->-r requirements.txt (line 3)) (2.16.1)\n",
      "Requirement already satisfied: stack-data in c:\\users\\coral\\desktop\\phylo\\venv\\lib\\site-packages (from ipython>=6.1.0->ipywidgets->-r requirements.txt (line 3)) (0.6.3)\n",
      "Requirement already satisfied: colorama in c:\\users\\coral\\desktop\\phylo\\venv\\lib\\site-packages (from ipython>=6.1.0->ipywidgets->-r requirements.txt (line 3)) (0.4.6)\n",
      "Requirement already satisfied: parso<0.9.0,>=0.8.3 in c:\\users\\coral\\desktop\\phylo\\venv\\lib\\site-packages (from jedi>=0.16->ipython>=6.1.0->ipywidgets->-r requirements.txt (line 3)) (0.8.3)\n",
      "Requirement already satisfied: wcwidth in c:\\users\\coral\\desktop\\phylo\\venv\\lib\\site-packages (from prompt-toolkit!=3.0.37,<3.1.0,>=3.0.30->ipython>=6.1.0->ipywidgets->-r requirements.txt (line 3)) (0.2.10)\n",
      "Requirement already satisfied: executing>=1.2.0 in c:\\users\\coral\\desktop\\phylo\\venv\\lib\\site-packages (from stack-data->ipython>=6.1.0->ipywidgets->-r requirements.txt (line 3)) (2.0.1)\n",
      "Requirement already satisfied: asttokens>=2.1.0 in c:\\users\\coral\\desktop\\phylo\\venv\\lib\\site-packages (from stack-data->ipython>=6.1.0->ipywidgets->-r requirements.txt (line 3)) (2.4.1)\n",
      "Requirement already satisfied: pure-eval in c:\\users\\coral\\desktop\\phylo\\venv\\lib\\site-packages (from stack-data->ipython>=6.1.0->ipywidgets->-r requirements.txt (line 3)) (0.2.2)\n",
      "Requirement already satisfied: six>=1.12.0 in c:\\users\\coral\\desktop\\phylo\\venv\\lib\\site-packages (from asttokens>=2.1.0->stack-data->ipython>=6.1.0->ipywidgets->-r requirements.txt (line 3)) (1.16.0)\n",
      "Could not fetch URL https://pypi.org/simple/pip/: There was a problem confirming the ssl certificate: HTTPSConnectionPool(host='pypi.org', port=443): Max retries exceeded with url: /simple/pip/ (Caused by SSLError(SSLEOFError(8, 'EOF occurred in violation of protocol (_ssl.c:1002)'))) - skipping\n"
     ]
    }
   ],
   "source": [
    "!pip install -r requirements.txt"
   ]
  },
  {
   "cell_type": "code",
   "execution_count": 1,
   "id": "b60808f5-8e58-46c7-a055-ac2a8608787c",
   "metadata": {},
   "outputs": [],
   "source": [
    "import ADpy as ADpy\n",
    "import importlib\n",
    "importlib.reload(ADpy)\n",
    "\n",
    "adpy = ADpy.ADpy(treefile = \"Data/69species/astral.FAA.trim50genes.final.tre\")"
   ]
  },
  {
   "cell_type": "code",
   "execution_count": 2,
   "id": "08d50fd9-5b73-41cf-a9fd-ac29e78625f0",
   "metadata": {},
   "outputs": [],
   "source": [
    "outgroup = [\"Uronema sp\", \"Monomastix opisthostigma\", \"Pyramimonas parkeae\", \"Nephroselmis pyriformis\"]\n",
    "adpy.set_outgroup(outgroup)"
   ]
  },
  {
   "cell_type": "code",
   "execution_count": 3,
   "id": "16419580-c7e1-4fb1-a94b-f12d5728ca73",
   "metadata": {},
   "outputs": [],
   "source": [
    "adpy.add_tree_collection(treefile = \"Data/69species/tc.tre\",namefile=\"Data/69species/names.txt\")"
   ]
  },
  {
   "cell_type": "code",
   "execution_count": 4,
   "id": "54d1af3b-c322-4ea1-b2ad-e18192c2e3d7",
   "metadata": {
    "scrolled": true
   },
   "outputs": [
    {
     "data": {
      "application/vnd.jupyter.widget-view+json": {
       "model_id": "10ab571893df4a0ebe2c84ee9d07853e",
       "version_major": 2,
       "version_minor": 0
      },
      "text/plain": [
       "rtCanvas(height=2100, sync_image_data=True, width=1100)"
      ]
     },
     "execution_count": 4,
     "metadata": {},
     "output_type": "execute_result"
    }
   ],
   "source": [
    "adpy.reference_tree()"
   ]
  },
  {
   "cell_type": "code",
   "execution_count": 5,
   "id": "fea56010-d94f-4aef-9e0c-77efacb78315",
   "metadata": {},
   "outputs": [],
   "source": [
    "adpy.select_subtree([\"digitus\",\"roya\"])\n",
    "# adpy.select_subtree([\"spirogyra\",\"mougeotia\"])"
   ]
  },
  {
   "cell_type": "code",
   "execution_count": 6,
   "id": "119ba8da-b7ba-4a9e-98a9-8d27fb5e5358",
   "metadata": {},
   "outputs": [
    {
     "name": "stdout",
     "output_type": "stream",
     "text": [
      "<Node object at 0x1dd364c59d0: 'None' (None)>\n",
      "<Node object at 0x1dd364c59d0: 'None' (None)>\n"
     ]
    }
   ],
   "source": [
    "print(adpy.rt.seed_node)\n",
    "print(adpy.rt.seed_node.corr[0])"
   ]
  },
  {
   "cell_type": "code",
   "execution_count": null,
   "id": "1551f362-af7a-47c8-a7c3-6d198a7a87f4",
   "metadata": {
    "scrolled": true
   },
   "outputs": [],
   "source": [
    "adpy.tree_distribution()"
   ]
  },
  {
   "cell_type": "code",
   "execution_count": null,
   "id": "2c829242-43a2-4b6f-928e-acd113d9ec94",
   "metadata": {},
   "outputs": [],
   "source": []
  },
  {
   "cell_type": "code",
   "execution_count": null,
   "id": "6117ee81-ab49-47f9-bec7-69c42415110b",
   "metadata": {},
   "outputs": [],
   "source": []
  },
  {
   "cell_type": "code",
   "execution_count": 7,
   "id": "fce027d1-c603-482d-9f3f-0e514cf28858",
   "metadata": {},
   "outputs": [
    {
     "data": {
      "text/plain": [
       "['before nodes list',\n",
       " 'after nodes list',\n",
       " 'after tc tree',\n",
       " 'agree_rt',\n",
       " 'after cluster',\n",
       " 'after generate_canvas_vgridbox',\n",
       " 'after lear_subtree_compare_canvas',\n",
       " [<Node object at 0x1b73027ee50: 'None' (<Taxon 0x1b730259910 'Roya obtusa'>)>,\n",
       "  <Node object at 0x1b73027f090: 'None' (<Taxon 0x1b730259c90 'Cosmarium ochthodes'>)>,\n",
       "  <Node object at 0x1b73027f250: 'None' (<Taxon 0x1b730259e90 'Penium margaritaceum'>)>,\n",
       "  <Node object at 0x1b73027f310: 'None' (<Taxon 0x1b730259550 'Netrium digitus'>)>],\n",
       " 'after draw_subtree_compare_nodes',\n",
       " 'draw_rt_subtree_block_canvas']"
      ]
     },
     "execution_count": 7,
     "metadata": {},
     "output_type": "execute_result"
    }
   ],
   "source": [
    "adpy.tree_distribution_view.output"
   ]
  },
  {
   "cell_type": "code",
   "execution_count": 8,
   "id": "49d6b724-b949-44db-a8b8-253dfdfca5a1",
   "metadata": {},
   "outputs": [
    {
     "name": "stdout",
     "output_type": "stream",
     "text": [
      "540\n"
     ]
    }
   ],
   "source": [
    "adpy.export_image(view='Tree Distribution')"
   ]
  },
  {
   "cell_type": "code",
   "execution_count": 5,
   "id": "5fa1b7f2-900e-48ab-86b1-94d024c40497",
   "metadata": {
    "scrolled": true
   },
   "outputs": [
    {
     "data": {
      "application/vnd.jupyter.widget-view+json": {
       "model_id": "2257394c677c4d77b8d1e673b8de4fc9",
       "version_major": 2,
       "version_minor": 0
      },
      "text/plain": [
       "tcCanvas(height=210, sync_image_data=True, width=1100)"
      ]
     },
     "execution_count": 5,
     "metadata": {},
     "output_type": "execute_result"
    }
   ],
   "source": [
    "adpy.AD(view='AD Cluster',scale=1.0)"
   ]
  },
  {
   "cell_type": "code",
   "execution_count": 5,
   "id": "79de80a5-77e6-424d-8df4-566c0441b4e4",
   "metadata": {},
   "outputs": [
    {
     "ename": "AttributeError",
     "evalue": "'NoneType' object has no attribute 'scale'",
     "output_type": "error",
     "traceback": [
      "\u001b[1;31m---------------------------------------------------------------------------\u001b[0m",
      "\u001b[1;31mAttributeError\u001b[0m                            Traceback (most recent call last)",
      "Cell \u001b[1;32mIn[5], line 1\u001b[0m\n\u001b[1;32m----> 1\u001b[0m \u001b[43madpy\u001b[49m\u001b[38;5;241;43m.\u001b[39;49m\u001b[43mad_cluster_canvas\u001b[49m\u001b[38;5;241;43m.\u001b[39;49m\u001b[43mscale\u001b[49m\n",
      "\u001b[1;31mAttributeError\u001b[0m: 'NoneType' object has no attribute 'scale'"
     ]
    }
   ],
   "source": [
    "adpy.ad_cluster_canvas.scale"
   ]
  },
  {
   "cell_type": "code",
   "execution_count": 15,
   "id": "b36fa32d-2faf-4cc7-9718-efe797e93966",
   "metadata": {
    "scrolled": true
   },
   "outputs": [
    {
     "data": {
      "application/vnd.jupyter.widget-view+json": {
       "model_id": "cd4cc626d427481b987bf3ad33329b5c",
       "version_major": 2,
       "version_minor": 0
      },
      "text/plain": [
       "pairwiseCanvas(height=2100, image_data=b'\\x89PNG\\r\\n\\x1a\\n\\x00\\x00\\x00\\rIHDR\\x00\\x00\\x04L\\x00\\x00\\x084\\x08\\x06…"
      ]
     },
     "metadata": {},
     "output_type": "display_data"
    }
   ],
   "source": [
    "adpy.pairwise_comparison(compare_tree=47)"
   ]
  },
  {
   "cell_type": "code",
   "execution_count": 20,
   "id": "3d7fbe62-6bf4-47e0-907a-e08f0ce66771",
   "metadata": {
    "scrolled": true
   },
   "outputs": [
    {
     "data": {
      "text/plain": [
       "{<Node object at 0x25ab44b2610: 'None' (<Taxon 0x25ab432e650 'Spirogyra sp'>)>: [<ADpy.Subtree at 0x25ab445b110>],\n",
       " <Node object at 0x25ab44b2490: 'None' (<Taxon 0x25ab432d8d0 'Netrium digitus'>)>: [<ADpy.Subtree at 0x25ab57f3650>],\n",
       " <Node object at 0x25ab44b1dd0: 'None' (<Taxon 0x25ab432dc90 'Roya obtusa'>)>: [<ADpy.Subtree at 0x25ab57f3650>],\n",
       " <Node object at 0x25ab44b2150: 'None' (<Taxon 0x25ab432e010 'Cosmarium ochthodes'>)>: [<ADpy.Subtree at 0x25ab57f3650>],\n",
       " <Node object at 0x25ab44b2010: 'None' (<Taxon 0x25ab432e210 'Penium margaritaceum'>)>: [<ADpy.Subtree at 0x25ab57f3650>]}"
      ]
     },
     "execution_count": 20,
     "metadata": {},
     "output_type": "execute_result"
    }
   ],
   "source": [
    "adpy.pairwise_canvas.right_escape_taxa_list"
   ]
  },
  {
   "cell_type": "code",
   "execution_count": 7,
   "id": "940cba8f-b592-4e20-929e-d810b3b02357",
   "metadata": {},
   "outputs": [
    {
     "data": {
      "application/vnd.jupyter.widget-view+json": {
       "model_id": "6893fb84962d4e8fb27edbbd206c7b3b",
       "version_major": 2,
       "version_minor": 0
      },
      "text/plain": [
       "tcCanvas(height=1947, sync_image_data=True, width=1100)"
      ]
     },
     "metadata": {},
     "output_type": "display_data"
    }
   ],
   "source": [
    "adpy.AD(view='AD Individual',scale=1.0,sort='rf_distance',context_level = 2,show_tree_name=True,\n",
    "          escape_taxa_as_context_block=False)"
   ]
  },
  {
   "cell_type": "code",
   "execution_count": 11,
   "id": "d539dd53-571b-497e-a6bc-287804e03c62",
   "metadata": {},
   "outputs": [
    {
     "data": {
      "text/plain": [
       "[]"
      ]
     },
     "execution_count": 11,
     "metadata": {},
     "output_type": "execute_result"
    }
   ],
   "source": [
    "adpy.ad_individual_canvas.subtree_output"
   ]
  },
  {
   "cell_type": "code",
   "execution_count": 14,
   "id": "bb5e6ff4-4d46-4aa2-a9f5-4a4a553834aa",
   "metadata": {},
   "outputs": [
    {
     "name": "stdout",
     "output_type": "stream",
     "text": [
      "Root <Node object at 0x1cfaf605750: 'None' (None)>\n",
      "    C:99\n"
     ]
    }
   ],
   "source": [
    "adpy.ad_individual_canvas.ad_list[0].plot_tree()"
   ]
  },
  {
   "cell_type": "code",
   "execution_count": null,
   "id": "79bae5e2-8ec8-4078-9a4a-193a91aac098",
   "metadata": {},
   "outputs": [],
   "source": []
  },
  {
   "cell_type": "code",
   "execution_count": 6,
   "id": "5fcaf421-04be-4277-8e3e-b76b9336fad0",
   "metadata": {},
   "outputs": [
    {
     "data": {
      "text/plain": [
       "[]"
      ]
     },
     "execution_count": 6,
     "metadata": {},
     "output_type": "execute_result"
    }
   ],
   "source": [
    "adpy.rt_canvas.output"
   ]
  },
  {
   "cell_type": "code",
   "execution_count": 23,
   "id": "7a4e31af-02d1-4bb8-9a77-371f7b195f53",
   "metadata": {},
   "outputs": [],
   "source": [
    "# AD_INDIVIDUAL = \"AD Individual\"\n",
    "# AD_CLUSTER = \"AD Cluster\"\n",
    "adpy.export_image(view=\"reference tree\",filename='reference#tree1')"
   ]
  },
  {
   "cell_type": "code",
   "execution_count": 21,
   "id": "69725f90-1b60-45df-bee6-93e49ec055da",
   "metadata": {},
   "outputs": [
    {
     "data": {
      "application/vnd.jupyter.widget-view+json": {
       "model_id": "4744df7c9f444e4ea8a810fabe2a804c",
       "version_major": 2,
       "version_minor": 0
      },
      "text/plain": [
       "Canvas(height=2100, image_data=b'\\x89PNG\\r\\n\\x1a\\n\\x00\\x00\\x00\\rIHDR\\x00\\x00\\x04L\\x00\\x00\\x084\\x08\\x06\\x00\\x00…"
      ]
     },
     "execution_count": 21,
     "metadata": {},
     "output_type": "execute_result"
    }
   ],
   "source": [
    "adpy.export_canvas"
   ]
  },
  {
   "cell_type": "code",
   "execution_count": 15,
   "id": "15c1c508-515d-4bc3-ac9a-2eec9338e6ba",
   "metadata": {},
   "outputs": [
    {
     "data": {
      "application/vnd.jupyter.widget-view+json": {
       "model_id": "5dbfdf661663495e8d2a037270f95456",
       "version_major": 2,
       "version_minor": 0
      },
      "text/plain": [
       "tcCanvas(height=210, sync_image_data=True, width=1100)"
      ]
     },
     "metadata": {},
     "output_type": "display_data"
    }
   ],
   "source": [
    "adpy.AD(view='AD Individual',scale=1.0,sort='rf_distance',context_level = 2,show_tree_name=True,\n",
    "          espace_taxa_as_context_block=True,tree_id=[1,2,3,4,5])"
   ]
  },
  {
   "cell_type": "code",
   "execution_count": 7,
   "id": "a0e2d04f-7d45-4ed3-88d5-01197e9471a0",
   "metadata": {},
   "outputs": [
    {
     "data": {
      "application/vnd.jupyter.widget-view+json": {
       "model_id": "01369e103f1741b78a681fd884429e71",
       "version_major": 2,
       "version_minor": 0
      },
      "text/plain": [
       "tcCanvas(height=210, sync_image_data=True, width=1100)"
      ]
     },
     "execution_count": 7,
     "metadata": {},
     "output_type": "execute_result"
    }
   ],
   "source": [
    "adpy.AD(view='AD Cluster',scale=1.0)"
   ]
  },
  {
   "cell_type": "code",
   "execution_count": 6,
   "id": "fd5ff36c-6f96-43b6-9805-fc6cba61224b",
   "metadata": {
    "scrolled": true
   },
   "outputs": [
    {
     "data": {
      "application/vnd.jupyter.widget-view+json": {
       "model_id": "1847f4ba0f624f18ac3206a1900acc24",
       "version_major": 2,
       "version_minor": 0
      },
      "text/plain": [
       "pairwiseCanvas(height=2100, image_data=b'\\x89PNG\\r\\n\\x1a\\n\\x00\\x00\\x00\\rIHDR\\x00\\x00\\x04L\\x00\\x00\\x084\\x08\\x06…"
      ]
     },
     "metadata": {},
     "output_type": "display_data"
    },
    {
     "ename": "AttributeError",
     "evalue": "'list' object has no attribute 'seed_node'",
     "output_type": "error",
     "traceback": [
      "\u001b[1;31m---------------------------------------------------------------------------\u001b[0m",
      "\u001b[1;31mAttributeError\u001b[0m                            Traceback (most recent call last)",
      "Cell \u001b[1;32mIn[6], line 1\u001b[0m\n\u001b[1;32m----> 1\u001b[0m \u001b[43madpy\u001b[49m\u001b[38;5;241;43m.\u001b[39;49m\u001b[43mpairwise_comparison\u001b[49m\u001b[43m(\u001b[49m\u001b[43mcompare_tree\u001b[49m\u001b[38;5;241;43m=\u001b[39;49m\u001b[43m[\u001b[49m\u001b[38;5;241;43m1\u001b[39;49m\u001b[43m,\u001b[49m\u001b[38;5;241;43m17\u001b[39;49m\u001b[43m]\u001b[49m\u001b[43m)\u001b[49m\n",
      "File \u001b[1;32m~\\Desktop\\Phylo\\Ipy-AD\\ADView_Python_Migration\\ADpy.py:403\u001b[0m, in \u001b[0;36mADpy.pairwise_comparison\u001b[1;34m(self, compare_tree)\u001b[0m\n\u001b[0;32m    400\u001b[0m \u001b[38;5;66;03m# 36\u001b[39;00m\n\u001b[0;32m    402\u001b[0m display(\u001b[38;5;28mself\u001b[39m\u001b[38;5;241m.\u001b[39mpairwise_canvas)\n\u001b[1;32m--> 403\u001b[0m \u001b[38;5;28;43mself\u001b[39;49m\u001b[38;5;241;43m.\u001b[39;49m\u001b[43mpairwise_canvas\u001b[49m\u001b[38;5;241;43m.\u001b[39;49m\u001b[43mcompare_tc_tree\u001b[49m\u001b[43m(\u001b[49m\u001b[43mcompare_tree\u001b[49m\u001b[43m)\u001b[49m\n",
      "File \u001b[1;32m~\\Desktop\\Phylo\\Ipy-AD\\ADView_Python_Migration\\pairwiseCanvas.py:892\u001b[0m, in \u001b[0;36mpairwiseCanvas.compare_tc_tree\u001b[1;34m(self, compare_tree)\u001b[0m\n\u001b[0;32m    889\u001b[0m \u001b[38;5;28mself\u001b[39m\u001b[38;5;241m.\u001b[39mdefault_value(align\u001b[38;5;241m=\u001b[39mRIGHT)\n\u001b[0;32m    891\u001b[0m \u001b[38;5;28;01mwith\u001b[39;00m hold_canvas(\u001b[38;5;28mself\u001b[39m):\n\u001b[1;32m--> 892\u001b[0m     \u001b[38;5;28mself\u001b[39m\u001b[38;5;241m.\u001b[39mdraw_tree(\u001b[38;5;28mself\u001b[39m[\u001b[38;5;28mself\u001b[39m\u001b[38;5;241m.\u001b[39mTC_LAYER],align\u001b[38;5;241m=\u001b[39mRIGHT,node\u001b[38;5;241m=\u001b[39m\u001b[38;5;28;43mself\u001b[39;49m\u001b[38;5;241;43m.\u001b[39;49m\u001b[43mtc_tree\u001b[49m\u001b[38;5;241;43m.\u001b[39;49m\u001b[43mseed_node\u001b[49m, level\u001b[38;5;241m=\u001b[39m\u001b[38;5;241m0\u001b[39m)\n\u001b[0;32m    894\u001b[0m \u001b[38;5;28;01mif\u001b[39;00m \u001b[38;5;28mlen\u001b[39m(\u001b[38;5;28mself\u001b[39m\u001b[38;5;241m.\u001b[39madPy\u001b[38;5;241m.\u001b[39msubtree_list) \u001b[38;5;241m>\u001b[39m \u001b[38;5;241m0\u001b[39m:\n\u001b[0;32m    895\u001b[0m     \u001b[38;5;28mself\u001b[39m\u001b[38;5;241m.\u001b[39msetup_tc_subtree_list()\n",
      "\u001b[1;31mAttributeError\u001b[0m: 'list' object has no attribute 'seed_node'"
     ]
    }
   ],
   "source": [
    "adpy.pairwise_comparison(compare_tree=[1,17])"
   ]
  },
  {
   "cell_type": "code",
   "execution_count": 9,
   "id": "f02aaee9-f5b6-4230-aaa2-0644065da4c9",
   "metadata": {
    "scrolled": true
   },
   "outputs": [
    {
     "data": {
      "application/vnd.jupyter.widget-view+json": {
       "model_id": "5a41556c324e48699377322dd4710367",
       "version_major": 2,
       "version_minor": 0
      },
      "text/plain": [
       "VBox(children=(HBox(children=(VBox(children=(Label(value='Tree Distribution by Reference Partition', style=Lab…"
      ]
     },
     "metadata": {},
     "output_type": "display_data"
    }
   ],
   "source": [
    "adpy.tree_distribution()"
   ]
  },
  {
   "cell_type": "code",
   "execution_count": 4,
   "id": "89c91f34-de14-45a3-a293-0d947796d830",
   "metadata": {},
   "outputs": [],
   "source": [
    "adpy.select_subtree([\"mesostigma\",\"spirotaenia\"])"
   ]
  },
  {
   "cell_type": "code",
   "execution_count": 4,
   "id": "6c798ff9-74c3-433b-8d97-13970de6d6d6",
   "metadata": {
    "scrolled": true
   },
   "outputs": [
    {
     "data": {
      "application/vnd.jupyter.widget-view+json": {
       "model_id": "6197da9ae8f84812bcb283ed0c47a4aa",
       "version_major": 2,
       "version_minor": 0
      },
      "text/plain": [
       "rtCanvas(height=2100, width=1100)"
      ]
     },
     "execution_count": 4,
     "metadata": {},
     "output_type": "execute_result"
    }
   ],
   "source": [
    "adpy.reference_tree()"
   ]
  },
  {
   "cell_type": "code",
   "execution_count": 8,
   "id": "cad702e7-3095-435c-b2d4-6f025568ca9b",
   "metadata": {
    "scrolled": true
   },
   "outputs": [
    {
     "ename": "AttributeError",
     "evalue": "'NoneType' object has no attribute 'tree_selected'",
     "output_type": "error",
     "traceback": [
      "\u001b[1;31m---------------------------------------------------------------------------\u001b[0m",
      "\u001b[1;31mAttributeError\u001b[0m                            Traceback (most recent call last)",
      "Cell \u001b[1;32mIn[8], line 1\u001b[0m\n\u001b[1;32m----> 1\u001b[0m \u001b[43madpy\u001b[49m\u001b[38;5;241;43m.\u001b[39;49m\u001b[43mpairwise_comparison\u001b[49m\u001b[43m(\u001b[49m\u001b[43m)\u001b[49m\n",
      "File \u001b[1;32m~\\Desktop\\Phylo\\Ipy-AD\\ADView_Python_Migration\\ADpy.py:346\u001b[0m, in \u001b[0;36mADpy.pairwise_comparison\u001b[1;34m(self, compare_tree)\u001b[0m\n\u001b[0;32m    344\u001b[0m \u001b[38;5;28;01mif\u001b[39;00m compare_tree:\n\u001b[0;32m    345\u001b[0m     compare_tree \u001b[38;5;241m=\u001b[39m \u001b[38;5;28mself\u001b[39m\u001b[38;5;241m.\u001b[39mtc[compare_tree]\n\u001b[1;32m--> 346\u001b[0m \u001b[38;5;28;01melif\u001b[39;00m \u001b[38;5;28;43mself\u001b[39;49m\u001b[38;5;241;43m.\u001b[39;49m\u001b[43mad_individual_canvas\u001b[49m\u001b[38;5;241;43m.\u001b[39;49m\u001b[43mtree_selected\u001b[49m:\n\u001b[0;32m    347\u001b[0m     compare_tree \u001b[38;5;241m=\u001b[39m \u001b[38;5;28mself\u001b[39m\u001b[38;5;241m.\u001b[39mad_individual_canvas\u001b[38;5;241m.\u001b[39mtree_selected\u001b[38;5;241m.\u001b[39mtc_tree\n\u001b[0;32m    348\u001b[0m \u001b[38;5;28;01melif\u001b[39;00m \u001b[38;5;28mself\u001b[39m\u001b[38;5;241m.\u001b[39mtc:\n",
      "\u001b[1;31mAttributeError\u001b[0m: 'NoneType' object has no attribute 'tree_selected'"
     ]
    }
   ],
   "source": [
    "adpy.pairwise_comparison()"
   ]
  },
  {
   "cell_type": "code",
   "execution_count": 7,
   "id": "0c592e27-1e33-41f5-833c-46b56e4741b2",
   "metadata": {
    "scrolled": true
   },
   "outputs": [],
   "source": [
    "adpy.AD(view='Individual',scale=1.0,sort='rf_distance',context_level = 2,max_ad=20,show_tree_name=True,\n",
    "          espace_taxa_as_context_block=True)"
   ]
  },
  {
   "cell_type": "code",
   "execution_count": 8,
   "id": "f590da2a-ec24-49d7-8b15-d4438bada8c0",
   "metadata": {},
   "outputs": [
    {
     "ename": "AttributeError",
     "evalue": "'ADpy' object has no attribute 'tree_distribution_view'",
     "output_type": "error",
     "traceback": [
      "\u001b[1;31m---------------------------------------------------------------------------\u001b[0m",
      "\u001b[1;31mAttributeError\u001b[0m                            Traceback (most recent call last)",
      "Cell \u001b[1;32mIn[8], line 1\u001b[0m\n\u001b[1;32m----> 1\u001b[0m \u001b[43madpy\u001b[49m\u001b[38;5;241;43m.\u001b[39;49m\u001b[43mtree_distribution_view\u001b[49m()\n",
      "\u001b[1;31mAttributeError\u001b[0m: 'ADpy' object has no attribute 'tree_distribution_view'"
     ]
    }
   ],
   "source": [
    "adpy.tree_distribution_view()"
   ]
  },
  {
   "cell_type": "code",
   "execution_count": 67,
   "id": "9cef31c1-9eba-4b1c-9fda-cdfad6ff26ed",
   "metadata": {},
   "outputs": [
    {
     "data": {
      "application/vnd.jupyter.widget-view+json": {
       "model_id": "1c0bfe753e034bba80f78fb4de5e2ec1",
       "version_major": 2,
       "version_minor": 0
      },
      "text/plain": [
       "tcCanvas(height=210, width=1100)"
      ]
     },
     "execution_count": 67,
     "metadata": {},
     "output_type": "execute_result"
    }
   ],
   "source": [
    "adpy.AD(view='Cluster',scale=1.0,differentiate_inexact_match=True)"
   ]
  }
 ],
 "metadata": {
  "kernelspec": {
   "display_name": "Python 3 (ipykernel)",
   "language": "python",
   "name": "python3"
  },
  "language_info": {
   "codemirror_mode": {
    "name": "ipython",
    "version": 3
   },
   "file_extension": ".py",
   "mimetype": "text/x-python",
   "name": "python",
   "nbconvert_exporter": "python",
   "pygments_lexer": "ipython3",
   "version": "3.11.4"
  }
 },
 "nbformat": 4,
 "nbformat_minor": 5
}
