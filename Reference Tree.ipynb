{
 "cells": [
  {
   "cell_type": "code",
   "execution_count": 1,
   "id": "04b86733",
   "metadata": {},
   "outputs": [
    {
     "name": "stdout",
     "output_type": "stream",
     "text": [
      "Requirement already satisfied: dendropy in c:\\users\\coral\\desktop\\phylo\\venv\\lib\\site-packages (4.6.1)\n",
      "Requirement already satisfied: setuptools in c:\\users\\coral\\desktop\\phylo\\venv\\lib\\site-packages (from dendropy) (68.2.2)\n"
     ]
    },
    {
     "name": "stderr",
     "output_type": "stream",
     "text": [
      "\n",
      "[notice] A new release of pip is available: 23.2.1 -> 23.3.2\n",
      "[notice] To update, run: python.exe -m pip install --upgrade pip\n"
     ]
    }
   ],
   "source": [
    "!pip install dendropy"
   ]
  },
  {
   "cell_type": "code",
   "execution_count": 23,
   "id": "992548f1",
   "metadata": {},
   "outputs": [
    {
     "name": "stdout",
     "output_type": "stream",
     "text": [
      "Requirement already satisfied: ipycanvas in c:\\users\\coral\\desktop\\phylo\\venv\\lib\\site-packages (0.13.1)\n",
      "Requirement already satisfied: ipywidgets<9,>=7.6.0 in c:\\users\\coral\\desktop\\phylo\\venv\\lib\\site-packages (from ipycanvas) (8.1.1)\n",
      "Requirement already satisfied: pillow>=6.0 in c:\\users\\coral\\desktop\\phylo\\venv\\lib\\site-packages (from ipycanvas) (10.1.0)\n",
      "Requirement already satisfied: numpy in c:\\users\\coral\\desktop\\phylo\\venv\\lib\\site-packages (from ipycanvas) (1.26.2)\n",
      "Requirement already satisfied: comm>=0.1.3 in c:\\users\\coral\\desktop\\phylo\\venv\\lib\\site-packages (from ipywidgets<9,>=7.6.0->ipycanvas) (0.2.0)\n",
      "Requirement already satisfied: ipython>=6.1.0 in c:\\users\\coral\\desktop\\phylo\\venv\\lib\\site-packages (from ipywidgets<9,>=7.6.0->ipycanvas) (8.17.2)\n",
      "Requirement already satisfied: traitlets>=4.3.1 in c:\\users\\coral\\desktop\\phylo\\venv\\lib\\site-packages (from ipywidgets<9,>=7.6.0->ipycanvas) (5.14.0)\n",
      "Requirement already satisfied: widgetsnbextension~=4.0.9 in c:\\users\\coral\\desktop\\phylo\\venv\\lib\\site-packages (from ipywidgets<9,>=7.6.0->ipycanvas) (4.0.9)\n",
      "Requirement already satisfied: jupyterlab-widgets~=3.0.9 in c:\\users\\coral\\desktop\\phylo\\venv\\lib\\site-packages (from ipywidgets<9,>=7.6.0->ipycanvas) (3.0.9)\n",
      "Requirement already satisfied: decorator in c:\\users\\coral\\desktop\\phylo\\venv\\lib\\site-packages (from ipython>=6.1.0->ipywidgets<9,>=7.6.0->ipycanvas) (5.1.1)\n",
      "Requirement already satisfied: jedi>=0.16 in c:\\users\\coral\\desktop\\phylo\\venv\\lib\\site-packages (from ipython>=6.1.0->ipywidgets<9,>=7.6.0->ipycanvas) (0.19.1)\n",
      "Requirement already satisfied: matplotlib-inline in c:\\users\\coral\\desktop\\phylo\\venv\\lib\\site-packages (from ipython>=6.1.0->ipywidgets<9,>=7.6.0->ipycanvas) (0.1.6)\n",
      "Requirement already satisfied: prompt-toolkit!=3.0.37,<3.1.0,>=3.0.30 in c:\\users\\coral\\desktop\\phylo\\venv\\lib\\site-packages (from ipython>=6.1.0->ipywidgets<9,>=7.6.0->ipycanvas) (3.0.41)\n",
      "Requirement already satisfied: pygments>=2.4.0 in c:\\users\\coral\\desktop\\phylo\\venv\\lib\\site-packages (from ipython>=6.1.0->ipywidgets<9,>=7.6.0->ipycanvas) (2.16.1)\n",
      "Requirement already satisfied: stack-data in c:\\users\\coral\\desktop\\phylo\\venv\\lib\\site-packages (from ipython>=6.1.0->ipywidgets<9,>=7.6.0->ipycanvas) (0.6.3)\n",
      "Requirement already satisfied: colorama in c:\\users\\coral\\desktop\\phylo\\venv\\lib\\site-packages (from ipython>=6.1.0->ipywidgets<9,>=7.6.0->ipycanvas) (0.4.6)\n",
      "Requirement already satisfied: parso<0.9.0,>=0.8.3 in c:\\users\\coral\\desktop\\phylo\\venv\\lib\\site-packages (from jedi>=0.16->ipython>=6.1.0->ipywidgets<9,>=7.6.0->ipycanvas) (0.8.3)\n",
      "Requirement already satisfied: wcwidth in c:\\users\\coral\\desktop\\phylo\\venv\\lib\\site-packages (from prompt-toolkit!=3.0.37,<3.1.0,>=3.0.30->ipython>=6.1.0->ipywidgets<9,>=7.6.0->ipycanvas) (0.2.10)\n",
      "Requirement already satisfied: executing>=1.2.0 in c:\\users\\coral\\desktop\\phylo\\venv\\lib\\site-packages (from stack-data->ipython>=6.1.0->ipywidgets<9,>=7.6.0->ipycanvas) (2.0.1)\n",
      "Requirement already satisfied: asttokens>=2.1.0 in c:\\users\\coral\\desktop\\phylo\\venv\\lib\\site-packages (from stack-data->ipython>=6.1.0->ipywidgets<9,>=7.6.0->ipycanvas) (2.4.1)\n",
      "Requirement already satisfied: pure-eval in c:\\users\\coral\\desktop\\phylo\\venv\\lib\\site-packages (from stack-data->ipython>=6.1.0->ipywidgets<9,>=7.6.0->ipycanvas) (0.2.2)\n",
      "Requirement already satisfied: six>=1.12.0 in c:\\users\\coral\\desktop\\phylo\\venv\\lib\\site-packages (from asttokens>=2.1.0->stack-data->ipython>=6.1.0->ipywidgets<9,>=7.6.0->ipycanvas) (1.16.0)\n"
     ]
    },
    {
     "name": "stderr",
     "output_type": "stream",
     "text": [
      "\n",
      "[notice] A new release of pip is available: 23.2.1 -> 23.3.2\n",
      "[notice] To update, run: python.exe -m pip install --upgrade pip\n"
     ]
    }
   ],
   "source": [
    "!pip install ipycanvas"
   ]
  },
  {
   "cell_type": "code",
   "execution_count": 47,
   "id": "b60808f5-8e58-46c7-a055-ac2a8608787c",
   "metadata": {},
   "outputs": [],
   "source": [
    "import myTree as myTree\n",
    "import importlib\n",
    "importlib.reload(myTree)\n",
    "\n",
    "mytree = myTree.myTree(treefile = \"Data/69species/astral.FAA.trim50genes.final.tre\")\n",
    "mytree.add_tree_collection(treefile = \"Data/69species/tc.tre\")\n",
    "\n",
    "outgroup = [\"Uronema sp\", \"Monomastix opisthostigma\", \"Pyramimonas parkeae\", \"Nephroselmis pyriformis\"]\n",
    "mytree.set_outgroup(outgroup)"
   ]
  },
  {
   "cell_type": "code",
   "execution_count": 48,
   "id": "877e301e-0696-4350-a738-0b32b3b7ac31",
   "metadata": {
    "scrolled": true
   },
   "outputs": [
    {
     "data": {
      "application/vnd.jupyter.widget-view+json": {
       "model_id": "3f44ebb32a4447ddab09741deb216871",
       "version_major": 2,
       "version_minor": 0
      },
      "text/plain": [
       "rtCanvas(height=2080, width=1000)"
      ]
     },
     "execution_count": 48,
     "metadata": {},
     "output_type": "execute_result"
    }
   ],
   "source": [
    "mytree.reference_tree()"
   ]
  },
  {
   "cell_type": "code",
   "execution_count": 20,
   "id": "1c9aa213-2ebf-4718-bd1c-ae3158e9f9d6",
   "metadata": {},
   "outputs": [
    {
     "data": {
      "application/vnd.jupyter.widget-view+json": {
       "model_id": "03c319c66a7f401d8a65ac0dfba8300f",
       "version_major": 2,
       "version_minor": 0
      },
      "text/plain": [
       "Canvas(height=300, width=400)"
      ]
     },
     "metadata": {},
     "output_type": "display_data"
    },
    {
     "data": {
      "application/vnd.jupyter.widget-view+json": {
       "model_id": "e4b8957fe02a49c9ab8eaf84eb54c9ee",
       "version_major": 2,
       "version_minor": 0
      },
      "text/plain": [
       "FloatSlider(value=0.0, description='Scroll', max=300.0, step=1.0)"
      ]
     },
     "metadata": {},
     "output_type": "display_data"
    }
   ],
   "source": [
    "# test slider \n",
    "# testing code\n",
    "\n",
    "from ipycanvas import Canvas, hold_canvas\n",
    "import ipywidgets as widgets\n",
    "from IPython.display import display\n",
    "\n",
    "canvas_width = 400\n",
    "canvas_height = 300\n",
    "canvas = Canvas(width=canvas_width, height=canvas_height)\n",
    "\n",
    "slider = widgets.FloatSlider(min=0, max=canvas_height, step=1, description='Scroll')\n",
    "\n",
    "def on_value_change(change):\n",
    "    with hold_canvas(canvas):\n",
    "        canvas.clear_rect(0, 0, canvas_width, canvas_height)\n",
    "        draw_content(canvas, int(change['new']))\n",
    "\n",
    "slider.observe(on_value_change, 'value')\n",
    "\n",
    "def draw_content(canvas, scroll_value):\n",
    "    canvas.fill_rect(200, 200 - scroll_value, 100, 100) \n",
    "\n",
    "draw_content(canvas, 0)\n",
    "\n",
    "display(canvas)\n",
    "display(slider)\n"
   ]
  }
 ],
 "metadata": {
  "kernelspec": {
   "display_name": "Python 3 (ipykernel)",
   "language": "python",
   "name": "python3"
  },
  "language_info": {
   "codemirror_mode": {
    "name": "ipython",
    "version": 3
   },
   "file_extension": ".py",
   "mimetype": "text/x-python",
   "name": "python",
   "nbconvert_exporter": "python",
   "pygments_lexer": "ipython3",
   "version": "3.11.4"
  }
 },
 "nbformat": 4,
 "nbformat_minor": 5
}
