{
 "cells": [
  {
   "cell_type": "code",
   "execution_count": 4,
   "id": "78872fa3-dacb-41ff-a82c-35b67f2f4075",
   "metadata": {},
   "outputs": [],
   "source": [
    "from ipycanvas import Canvas\n",
    "from ipywidgets import HBox\n",
    "BLANK = '#FFFFFF'\n",
    "RED = '#F38D76'\n",
    "BLUE = '#33D5FF'\n",
    "PURPLE = '#DFABF8'\n",
    "GREEN = '#C9F8AB'\n",
    "BEIGE = '#F8DAAB'\n",
    "BLACK = '#000000'\n",
    "\n",
    "root_x = 20\n",
    "root_y = 50\n",
    "branch_length = 15\n",
    "branch_height = 15\n",
    "blank_block_width = 40\n",
    "blank_block_height = 10\n",
    "AD_width = 200\n",
    "\n",
    "# rectangle_width = 30\n",
    "# rectangle_height = 15\n",
    "\n",
    "def add_branch(canvas,start_x,start_y,des_x,des_y):\n",
    "    path_x = start_x\n",
    "    path_y = start_y\n",
    "    canvas.set_line_dash([])\n",
    "    canvas.begin_path()\n",
    "    canvas.move_to(path_x, path_y)\n",
    "    canvas.line_to(path_x, des_y)\n",
    "    canvas.line_to(des_x, des_y)\n",
    "    canvas.stroke()\n",
    "\n",
    "    return des_x,des_y\n",
    "\n",
    "def add_block(canvas,loc_x,loc_y,width,height,color):\n",
    "    loc_y = loc_y - (height/2)\n",
    "    canvas.fill_style = color\n",
    "    canvas.stroke_style = BLACK\n",
    "    \n",
    "    # fill_rect(x, y, width, height=None):\n",
    "    # stroke_rect(x, y, width, height=None):\n",
    "    canvas.fill_rect(loc_x,loc_y,width,height)\n",
    "    canvas.stroke_rect(loc_x,loc_y,width,height)\n",
    "\n",
    "    return loc_x,(loc_y + height/2)\n",
    "\n",
    "def elided_branch(canvas,start_x,start_y,des_x,des_y):\n",
    "    line_dashes = [[2, 2], [10, 5], [5, 10, 20], [10, 20], [20, 10], [20, 20]]\n",
    "\n",
    "    path_x = start_x\n",
    "    path_y = start_y\n",
    "    canvas.set_line_dash([])\n",
    "    canvas.begin_path()\n",
    "    canvas.move_to(path_x, path_y)\n",
    "    canvas.line_to(path_x, des_y)\n",
    "    canvas.stroke()\n",
    "    \n",
    "    canvas.set_line_dash(line_dashes[0])\n",
    "    canvas.begin_path()\n",
    "    canvas.move_to(path_x, des_y)\n",
    "    canvas.line_to(des_x, des_y)\n",
    "    canvas.stroke()\n",
    "    \n",
    "    path_x += (des_x - start_x)/2\n",
    "    path_y = des_y - 5\n",
    "    canvas.set_line_dash([])\n",
    "    canvas.begin_path()\n",
    "    canvas.move_to(path_x+1,path_y)\n",
    "    canvas.line_to(path_x-2, path_y + 10)\n",
    "    canvas.stroke()\n",
    "\n",
    "    return des_x,des_y\n",
    "\n"
   ]
  },
  {
   "cell_type": "code",
   "execution_count": 23,
   "id": "9f6d1517-1486-4ebf-8126-c66394d576ef",
   "metadata": {},
   "outputs": [],
   "source": [
    "# Testing Code #\n",
    "import dendropy\n",
    "newick_str =\"((Uronema_sp:1.0,(Monomastix_opisthostigma:1.0,(Pyramimonas_parkeae:1.0,Nephroselmis_pyriformis:1.0)14:1.0)33:1.0)100:0.5,(Mesostigma_viride:1.0,((Chlorokybus_atmophyticus:1.0,Spirotaenia_minuta:1.0)100:1.0,((Entransia_fimbriata:1.0,Klebsormidium_subtile:1.0)100:1.0,((Chaetosphaeridium_globosum:1.0,(Coleochaete_scutata:1.0,Coleochaete_irregularis:1.0)100:1.0)100:1.0,((Chara_vulgaris:1.0,((Nothoceros_aenigmaticus:1.0,Nothoceros_vincentianus:1.0)100:1.0,((((Metzgeria_crassipilis:1.0,Bazzania_trilobata:1.0)100:1.0,(Sphaerocarpos_texanus:1.0,(Ricciocarpos_natans:1.0,(Marchantia_emarginata:1.0,Marchantia_polymorpha:1.0)100:1.0)100:1.0)100:1.0)100:1.0,(Sphagnum_lescurii:1.0,(Polytrichum_commune:1.0,(Physcomitrella_patens:1.0,(Ceratodon_purpureus:1.0,(Hedwigia_ciliata:1.0,((Rosulabryum_cf_capillare:1.0,Bryum_argenteum:1.0)100:1.0,(Leucodon_brachypus:1.0,(Anomodon_attenuatus:1.0,(Rhynchostegium_serrulatum:1.0,Thuidium_delicatulum:1.0)99:1.0)100:1.0)100:1.0)98:1.0)100:1.0)100:1.0)100:1.0)100:1.0)100:1.0)100:1.0,(((Selaginella_moellendorffii_genome:1.0,Selaginella_moellendorffii_1kp:1.0)100:1.0,(Huperzia_squarrosa:1.0,(Pseudolycopodiella_caroliniana:1.0,Dendrolycopodium_obscurum:1.0)97:1.0)100:1.0)30:1.0,(((Pteridium_aquilinum:1.0,Alsophila_spinulosa:1.0)100:1.0,(Equisetum_diffusum:1.0,(Angiopteris_evecta:1.0,(Ophioglossum_petiolatum:1.0,Psilotum_nudum:1.0)100:1.0)100:1.0)60:1.0)100:1.0,(((Ginkgo_biloba:1.0,(Zamia_vazquezii:1.0,(Cycas_rumphii:1.0,Cycas_micholitzii:1.0)100:1.0)100:1.0)100:1.0,((Ephedra_sinica:1.0,(Gnetum_montanum:1.0,Welwitschia_mirabilis:1.0)100:1.0)100:1.0,((Pinus_taeda:1.0,Cedrus_libani:1.0)100:1.0,(Prumnopitys_andina:1.0,(Sciadopitys_verticillata:1.0,(Taxus_baccata:1.0,(Juniperus_scopulorum:1.0,Cunninghamia_lanceolata:1.0)100:1.0)100:1.0)100:1.0)100:1.0)100:1.0)14:1.0)100:1.0,(Amborella_trichopoda:1.0,(Nuphar_advena:1.0,(Kadsura_heteroclita:1.0,((Acorus_americanus:1.0,(Dioscorea_villosa:1.0,((Smilax_bona-nox:1.0,Colchicum_autumnale:1.0)100:1.0,(Yucca_filamentosa:1.0,(Sabal_bermudana:1.0,((Oryza_sativa:1.0,Brachypodium_distachyon:1.0)100:1.0,(Zea_mays:1.0,Sorghum_bicolor:1.0)100:1.0)100:1.0)100:1.0)24:1.0)93:1.0)100:1.0)100:1.0,((Sarcandra_glabra:1.0,((Houttuynia_cordata:1.0,Saruma_henryi:1.0)100:1.0,(Liriodendron_tulipifera:1.0,Persea_americana:1.0)100:1.0)84:1.0)100:1.0,((Eschscholzia_californica:1.0,(Podophyllum_peltatum:1.0,Aquilegia_formosa:1.0)100:1.0)100:1.0,(Vitis_vinifera:1.0,((Diospyros_malabarica:1.0,((Inula_helenium:1.0,Tanacetum_parthenium:1.0)100:1.0,(Rosmarinus_officinalis:1.0,(Ipomoea_purpurea:1.0,(Catharanthus_roseus:1.0,Allamanda_cathartica:1.0)100:1.0)95:1.0)100:1.0)100:1.0)100:1.0,(Kochia_scoparia:1.0,((Boehmeria_nivea:1.0,Medicago_truncatula:1.0)92:1.0,(Larrea_tridentata:1.0,(Populus_trichocarpa:1.0,(Hibiscus_cannabinus:1.0,(Arabidopsis_thaliana:1.0,Carica_papaya:1.0)100:1.0)52:1.0)100:1.0)78:1.0)100:1.0)55:1.0)82:1.0)100:1.0)100:1.0)73:1.0)100:1.0)100:1.0)100:1.0)100:1.0)100:1.0)100:1.0)88:1.0)79:1.0)100:1.0)14:1.0,(Spirogyra_sp:1.0,((Mesotaenium_endlicherianum:1.0,(Cylindrocystis_brebissonii:1.0,(Cylindrocystis_cushleckae:1.0,Mougeotia_sp:1.0)79:1.0)100:1.0)98:1.0,(Netrium_digitus:1.0,((Cosmarium_ochthodes:1.0,Penium_margaritaceum:1.0)100:1.0,Roya_obtusa:1.0)100:1.0)97:1.0)100:1.0)1:1.0)88:1.0)100:1.0)100:1.0)39:1.0)100:0.5);\"\n",
    "\n",
    "tree = dendropy.Tree.get(data=newick_str,schema='newick')\n"
   ]
  },
  {
   "cell_type": "code",
   "execution_count": 31,
   "id": "93b9ffc3-06b8-4101-b8c4-da9bc503de30",
   "metadata": {},
   "outputs": [
    {
     "name": "stdout",
     "output_type": "stream",
     "text": [
      "Root\n",
      "    A:4\n",
      "    Internal Node\n",
      "        B:3\n",
      "        C:96\n"
     ]
    }
   ],
   "source": [
    "# Testing Code #\n",
    "import myTree as myTree\n",
    "import myCanvas as myCanvas\n",
    "from Utils import *\n",
    "import importlib\n",
    "importlib.reload(myCanvas)\n",
    "importlib.reload(myTree)\n",
    "\n",
    "tc_canvas = Canvas(height=800, width=1200)\n",
    "tc_canvas.scale = 1.0\n",
    "\n",
    "subtree_a = myTree.Subtree(label='A',rt=None,root=None,color=BLUE,block=None)\n",
    "subtree_b = myTree.Subtree(label='B',rt=None,root=None,color=ORANGE,block=None)\n",
    "subtree_c = myTree.Subtree(label='C',rt=None,root=None,color=GREEN,block=None)\n",
    "ad_tree = myTree.AD_Tree(id=1,tc_tree=tree,tc_canvas=tc_canvas)\n",
    "ad_tree.root =  myTree.AD_Node(node_or_block=tree.seed_node,x_level=0,type=ROOT)\n",
    "ad_block_a = myCanvas.AD_Block(width=None,height=None,subtree=subtree_a,ad_tree=ad_tree,type=SUBTREE_BLOCK)\n",
    "ad_block_a.taxa_count = 4\n",
    "\n",
    "ad_tree.insert_node(ad_tree.root,myTree.AD_Node(node_or_block=ad_block_a, x_level=1, type=LEAF))\n",
    "\n",
    "child = tree.seed_node.child_nodes()[0]\n",
    "new_ad_node = myTree.AD_Node(node_or_block=child, x_level=1, type=INTERNAL)\n",
    "ad_tree.insert_node(ad_tree.root,new_ad_node)\n",
    "\n",
    "current_ad_node = new_ad_node\n",
    "ad_block_b = myCanvas.AD_Block(width=None,height=None,subtree=subtree_b,ad_tree=ad_tree,type=SUBTREE_BLOCK)\n",
    "ad_block_b.taxa_count = 3\n",
    "ad_tree.insert_node(current_ad_node,myTree.AD_Node(node_or_block=ad_block_b, x_level=2, type=LEAF))\n",
    "ad_block_c = myCanvas.AD_Block(width=None,height=None,subtree=subtree_c,ad_tree=ad_tree,type=SUBTREE_BLOCK)\n",
    "ad_block_c.taxa_count = 96\n",
    "ad_tree.insert_node(current_ad_node,myTree.AD_Node(node_or_block=ad_block_c, x_level=2, type=LEAF))\n",
    "\n",
    "\n",
    "ad_tree.plot_tree()\n",
    "# Root\n",
    "#     A:4\n",
    "#     Internal Node\n",
    "#         B:3\n",
    "#         C:96"
   ]
  },
  {
   "cell_type": "code",
   "execution_count": 32,
   "id": "0b661c58-4363-4249-b7f4-5ea214b2a9cd",
   "metadata": {},
   "outputs": [
    {
     "name": "stdout",
     "output_type": "stream",
     "text": [
      "A 4\n",
      "B 3\n",
      "C 96\n",
      "Internal Node\n",
      "Root\n"
     ]
    }
   ],
   "source": [
    "for node in ad_tree.traverse_postorder():\n",
    "    if node.type == LEAF:\n",
    "        print(node.node_or_block.belong_subtree.label + \" \" +  str(node.node_or_block.taxa_count))\n",
    "    else:\n",
    "        print(node.type)"
   ]
  },
  {
   "cell_type": "code",
   "execution_count": 33,
   "id": "81d7a9f1-5b25-4e15-9915-9ea92711cbde",
   "metadata": {},
   "outputs": [
    {
     "name": "stdout",
     "output_type": "stream",
     "text": [
      "130.0\n"
     ]
    }
   ],
   "source": [
    "allocatable_space = ad_tree.allocatable_ad_space()\n",
    "print(allocatable_space)"
   ]
  },
  {
   "cell_type": "code",
   "execution_count": 34,
   "id": "15d28888-43a0-49da-b93b-3916ee7529ec",
   "metadata": {},
   "outputs": [
    {
     "ename": "IndentationError",
     "evalue": "unexpected indent (2993750378.py, line 7)",
     "output_type": "error",
     "traceback": [
      "\u001b[1;36m  Cell \u001b[1;32mIn[34], line 7\u001b[1;36m\u001b[0m\n\u001b[1;33m    taxa_cnt = ad_tree.ad_taxa_total()\u001b[0m\n\u001b[1;37m    ^\u001b[0m\n\u001b[1;31mIndentationError\u001b[0m\u001b[1;31m:\u001b[0m unexpected indent\n"
     ]
    }
   ],
   "source": [
    "# 1. 计算除去blank block高度和间隔之后subtree block的空间\n",
    "# 2. 根据每个subtree block的taxa_count计算高度\n",
    "# 3. 跟draw_rt一样流程，先给一个ad_tree一开始的 x,y，然后每个ad_tree都会从那个x,y开始画\n",
    "#    用postorder顺序画，每个block的branch都是从middle point横出来，记录这个middle point, parent node就可以直接用来连接vertical line\n",
    "# 4. \n",
    "allocatable_space = ad_tree.allocatable_ad_space()\n",
    "    taxa_cnt = ad_tree.ad_taxa_total()\n",
    "\n",
    "    for node in ad_tree.traverse_postorder():\n",
    "        if node.type == LEAF:\n",
    "            block = node.node_or_block\n",
    "\n",
    "            if block.type == SUBTREE_BLOCK:\n",
    "                # Calculate block position and size\n",
    "                x = ad_tree.padding * node.level + ad_tree.padding\n",
    "                y = ad_tree.y\n",
    "\n",
    "                block.topL = Point(x,y)\n",
    "                block_height = block.taxa_count/taxa_cnt * allocatable_space\n",
    "                block.botR = Point(ad_tree.botR.x - ad_tree.padding, y + block_height)\n",
    "                block.width = block.botR.x - block.topL.x\n",
    "\n",
    "                # Draw subtree block\n",
    "                self.draw_rec(block.topL.x, block.topL.y, block.width, block.height,\n",
    "                              block.color,\n",
    "                              layer_index=self.AD_LAYER)\n",
    "\n",
    "                ad_tree.y += block_height + ad_tree.padding"
   ]
  },
  {
   "cell_type": "code",
   "execution_count": null,
   "id": "24b380bf-ffb0-4284-9d8a-29bb2a93f906",
   "metadata": {},
   "outputs": [],
   "source": [
    "\n",
    "\n"
   ]
  },
  {
   "cell_type": "code",
   "execution_count": 5,
   "id": "4d87c071-9050-4d7f-9c8b-5a21f58ebfe1",
   "metadata": {},
   "outputs": [],
   "source": [
    "#### Testing Draw AD ####\n",
    "## Canvaas 1 ##\n",
    "\n",
    "canvas1 = Canvas(width=250, height=250)\n",
    "coord_x = root_x\n",
    "coord_y = root_y\n",
    "\n",
    "# Level1 - Branch 1\n",
    "coord_x,coord_y = add_branch(canvas1,root_x,root_y,coord_x + 10,coord_y)\n",
    "block_x,block_y = add_branch(canvas1,coord_x,coord_y,coord_x + branch_length, coord_y - branch_height)\n",
    "block_x,block_y = add_block(canvas1,block_x,block_y,blank_block_width,blank_block_height,BLANK)\n",
    "\n",
    "# Level1 - Branch 2\n",
    "coord_x,coord_y = add_branch(canvas1,coord_x,coord_y,coord_x + branch_length, coord_y + branch_height)\n",
    "\n",
    "# Level2 - Branch 1\n",
    "block_x,block_y = add_branch(canvas1,coord_x,coord_y,coord_x + branch_length, coord_y - branch_height)\n",
    "block_x,block_y = add_block(canvas1,block_x,block_y,blank_block_width,blank_block_height,BLANK)\n",
    "\n",
    "# Level2 - Branch 2\n",
    "coord_x,coord_y = add_branch(canvas1,coord_x,coord_y,coord_x + branch_length, coord_y + branch_height)\n",
    "\n",
    "# Level3 - Branch 1\n",
    "block_x,block_y = add_branch(canvas1,coord_x,coord_y,coord_x + branch_length, coord_y - branch_height)\n",
    "block_x,block_y = add_block(canvas1,block_x,block_y,blank_block_width,blank_block_height,BLANK)\n",
    "\n",
    "# Level3 - Branch2\n",
    "# Additional Height = 20\n",
    "coord_x,coord_y = add_branch(canvas1,coord_x,coord_y,coord_x + branch_length, coord_y + branch_height + 20)\n",
    "\n",
    "#Level4 - Branch1\n",
    "block_x,block_y = add_branch(canvas1,coord_x,coord_y,coord_x + branch_length, coord_y - branch_height - 10)\n",
    "block_x,block_y = add_block(canvas1,block_x,block_y,AD_width - block_x,blank_block_height + 20,RED)\n",
    "\n",
    "# Level4 - Branch2\n",
    "coord_x,coord_y = add_branch(canvas1,coord_x,coord_y,coord_x + branch_length, coord_y + branch_height + 20)\n",
    "\n",
    "# Level5 - Branch2\n",
    "lev5_x,lev5_y = add_branch(canvas1,coord_x,coord_y,coord_x + branch_length, coord_y + branch_height + 20)\n",
    "\n",
    "# Level5 - Branch1\n",
    "coord_x,coord_y = add_branch(canvas1,coord_x,coord_y,coord_x + branch_length, coord_y - branch_height- 5)\n",
    "block_x,block_y = add_branch(canvas1,coord_x,coord_y,coord_x + branch_length, coord_y - branch_height)\n",
    "\n",
    "# Level6 - Branch1\n",
    "block_x,block_y = add_block(canvas1,block_x,block_y,blank_block_width,blank_block_height,BLANK)\n",
    "\n",
    "# Level6 - Branch2\n",
    "block_x,block_y = add_branch(canvas1,coord_x,coord_y,coord_x + branch_length, coord_y + branch_height)\n",
    "block_x,block_y = add_block(canvas1,block_x,block_y,AD_width - block_x,blank_block_height + 20,BLUE)\n",
    "\n",
    "# Level6 - Branch3\n",
    "block_x,block_y = add_block(canvas1,lev5_x,lev5_y,AD_width - lev5_x,blank_block_height + 20,PURPLE)\n"
   ]
  },
  {
   "cell_type": "code",
   "execution_count": 6,
   "id": "02286476-2744-4b72-8fce-896135d1d3cd",
   "metadata": {},
   "outputs": [],
   "source": [
    "#### Testing Draw AD ####\n",
    "## Canvaas 2 ##\n",
    "\n",
    "canvas2 = Canvas(width=250, height=250)\n",
    "\n",
    "coord_x = root_x\n",
    "coord_y = root_y\n",
    "\n",
    "# Level1 - Branch 1\n",
    "coord_x,coord_y = add_branch(canvas2,root_x,root_y,coord_x + 10,coord_y)\n",
    "block_x,block_y = add_branch(canvas2,coord_x,coord_y,coord_x + branch_length, coord_y - branch_height)\n",
    "block_x,block_y = add_block(canvas2,block_x,block_y,blank_block_width,blank_block_height,BLANK)\n",
    "\n",
    "# Level1 - Branch 2\n",
    "coord_x,coord_y = elided_branch(canvas2,coord_x,coord_y,coord_x + branch_length, coord_y + branch_height + 10)\n",
    "\n",
    "# Level2 - Branch 1\n",
    "block_x,block_y = add_branch(canvas2,coord_x,coord_y,coord_x + branch_length, coord_y - branch_height)\n",
    "block_x,block_y = add_block(canvas2,block_x,block_y,AD_width - block_x,blank_block_height + 10,RED)\n",
    "\n",
    "# Level2 - Branch2\n",
    "# Additional Height = 20\n",
    "coord_x,coord_y = add_branch(canvas2,coord_x,coord_y,coord_x + branch_length, coord_y + branch_height + 20)\n",
    "\n",
    "# Level3 - Branch 1\n",
    "block_x,block_y = add_branch(canvas2,coord_x,coord_y,coord_x + branch_length, coord_y - branch_height - 10)\n",
    "block_x,block_y = add_block(canvas2,block_x,block_y,AD_width - block_x,blank_block_height + 10,GREEN)\n",
    "\n",
    "# Level3 - Branch2\n",
    "# Additional Height = 20\n",
    "block_x,block_y = add_branch(canvas2,coord_x,coord_y,coord_x + branch_length, coord_y + branch_height + 20)\n",
    "block_x,block_y = add_block(canvas2,block_x,block_y,AD_width - block_x,blank_block_height + 70,BEIGE)\n",
    "\n",
    "#level3 - Branch2 - nesting clade\n",
    "block_x,block_y = elided_branch(canvas2,block_x,block_y,block_x + branch_length, block_y + 2)\n",
    "block_x,block_y = add_block(canvas2,block_x,block_y,AD_width - block_x - 10,blank_block_height + 20,PURPLE)\n"
   ]
  },
  {
   "cell_type": "code",
   "execution_count": 7,
   "id": "ed9b858f-cda4-499b-85ad-e5e7bf95aef7",
   "metadata": {},
   "outputs": [
    {
     "data": {
      "application/vnd.jupyter.widget-view+json": {
       "model_id": "b0b6b98bb35e43f99765ddbb95275ee3",
       "version_major": 2,
       "version_minor": 0
      },
      "text/plain": [
       "HBox(children=(Canvas(height=250, width=250), Canvas(height=250, width=250)))"
      ]
     },
     "execution_count": 7,
     "metadata": {},
     "output_type": "execute_result"
    }
   ],
   "source": [
    "sprites = [canvas1, canvas2]\n",
    "HBox(sprites)"
   ]
  },
  {
   "cell_type": "code",
   "execution_count": 3,
   "id": "b3f1c521-7fbb-40a8-8612-60509c63e91e",
   "metadata": {},
   "outputs": [
    {
     "data": {
      "application/vnd.jupyter.widget-view+json": {
       "model_id": "5356239930e548d29ed51b0316abf2f4",
       "version_major": 2,
       "version_minor": 0
      },
      "text/plain": [
       "Canvas(height=800, width=1200)"
      ]
     },
     "execution_count": 3,
     "metadata": {},
     "output_type": "execute_result"
    }
   ],
   "source": [
    "from ipycanvas import Canvas\n",
    "canvas = Canvas(height=800, width=1200)\n",
    "canvas.scale(1.0, 1.0)\n",
    "canvas.fill_rect(0,0,1100,1100)\n",
    "canvas.fill_style = RED\n",
    "width = 135\n",
    "height = 150\n",
    "x = 20\n",
    "canvas.fill_rect(x,20,width,height)\n",
    "\n",
    "canvas.fill_style = BLUE\n",
    "canvas.fill_rect(30,30,30,7)\n",
    "canvas.fill_rect(42,42,30,7)\n",
    "canvas.fill_style = RED\n",
    "x += width + 20\n",
    "canvas.fill_rect(x,20,width,height)\n",
    "x += width + 20\n",
    "canvas.fill_rect(x,20,width,height)\n",
    "x += width + 20\n",
    "canvas.fill_rect(x,20,width,height)\n",
    "x += width + 20\n",
    "canvas.fill_rect(x,20,width,height)\n",
    "x += width + 20\n",
    "canvas.fill_rect(x,20,width,height)\n",
    "x += width + 20\n",
    "canvas.fill_rect(x,20,width,height)\n",
    "\n",
    "\n",
    "canvas"
   ]
  },
  {
   "cell_type": "code",
   "execution_count": 13,
   "id": "38516765-d651-4e8b-984c-54a555bfde90",
   "metadata": {},
   "outputs": [
    {
     "data": {
      "application/vnd.jupyter.widget-view+json": {
       "model_id": "85af7167633f465a894596bec5fbb4f4",
       "version_major": 2,
       "version_minor": 0
      },
      "text/plain": [
       "Canvas(height=200, width=200)"
      ]
     },
     "execution_count": 13,
     "metadata": {},
     "output_type": "execute_result"
    }
   ],
   "source": [
    "from ipycanvas import Canvas\n",
    "\n",
    "# 创建一个 Canvas 对象\n",
    "canvas = Canvas(width=200, height=200)\n",
    "\n",
    "# 绘制一个矩形\n",
    "canvas.fill_rect(50, 50, 100, 100)\n",
    "\n",
    "# 在 x 和 y 方向分别缩放 1.5 倍\n",
    "canvas.scale(1.1, 1.1)\n",
    "\n",
    "# 绘制另一个矩形，经过缩放后会更大\n",
    "canvas.fill_rect(50, 50, 100, 100)\n",
    "\n",
    "# 显示画布\n",
    "canvas"
   ]
  },
  {
   "cell_type": "code",
   "execution_count": 21,
   "id": "7a2e899c-fb49-48d6-8c8c-7765ad12b0b8",
   "metadata": {},
   "outputs": [
    {
     "data": {
      "application/vnd.jupyter.widget-view+json": {
       "model_id": "c130949670494df5b5bdfe6ba1168b08",
       "version_major": 2,
       "version_minor": 0
      },
      "text/plain": [
       "Canvas(height=200, width=200)"
      ]
     },
     "execution_count": 21,
     "metadata": {},
     "output_type": "execute_result"
    }
   ],
   "source": [
    "from ipycanvas import Canvas\n",
    "canvas = Canvas(width=200, height=200)\n",
    "line_dashes = [[2, 2], [5, 5], [8, 8], [10, 10]]\n",
    "\n",
    "canvas.fill_style = RED\n",
    "canvas.set_line_dash(line_dashes[2])\n",
    "canvas.begin_path()\n",
    "canvas.move_to(10,10)\n",
    "canvas.line_to(80,10)\n",
    "canvas.stroke()\n",
    "\n",
    "canvas\n"
   ]
  },
  {
   "cell_type": "code",
   "execution_count": 37,
   "id": "0c19b56a-316b-402e-aae4-becf54b6bf7f",
   "metadata": {},
   "outputs": [
    {
     "data": {
      "application/vnd.jupyter.widget-view+json": {
       "model_id": "cbfc820e8bbf41bca434b67456616296",
       "version_major": 2,
       "version_minor": 0
      },
      "text/plain": [
       "Canvas(height=30, width=400)"
      ]
     },
     "execution_count": 37,
     "metadata": {},
     "output_type": "execute_result"
    }
   ],
   "source": [
    "import asyncio\n",
    "from ipycanvas import Canvas, hold_canvas\n",
    "\n",
    "class Tree:\n",
    "    def __init__(self):\n",
    "        # 使用示例\n",
    "        self.canvas = Canvas(width=400, height=30)\n",
    "        \n",
    "    async def draw_ad(self):\n",
    "        pass\n",
    "        # 这里是你绘制广告树的代码\n",
    "        # 你可以在这里添加绘制逻辑\n",
    "    \n",
    "    async def draw_with_rate_control(self, ad_list, canvas, batch_size=10, rate_limit=0.1):\n",
    "        total_trees = len(ad_list)\n",
    "        completed_trees = 0\n",
    "    \n",
    "        for i in range(0, total_trees, batch_size):\n",
    "            batch = ad_list[i:i+batch_size]  # 获取当前批次的广告树列表\n",
    "    \n",
    "            # 使用异步输出方式绘制当前批次的广告树\n",
    "            tasks = [self.draw_ad() for _ in range(len(batch))]\n",
    "            await asyncio.gather(*tasks)\n",
    "    \n",
    "            completed_trees += len(batch)\n",
    "    \n",
    "            # 计算进度\n",
    "            progress = completed_trees / total_trees\n",
    "    \n",
    "            # 绘制进度条\n",
    "            with hold_canvas(canvas):\n",
    "                canvas.clear_rect(0, 0, canvas.width, canvas.height)\n",
    "                canvas.fill_style = 'lightgray'\n",
    "                canvas.fill_rect(0, 0, 200, 50)\n",
    "                canvas.fill_style = 'blue'\n",
    "                canvas.fill_rect(0, 0, int(progress * 200), 50)\n",
    "                canvas.fill_style = 'black'\n",
    "                canvas.font = '16px Arial'\n",
    "                canvas.fill_text(f'Progress: {int(progress * 100)}%', 10, 20)\n",
    "    \n",
    "            # 添加延迟以控制输出速率\n",
    "            await asyncio.sleep(rate_limit)\n",
    "\n",
    "# 使用示例\n",
    "tree = Tree()\n",
    "asyncio.create_task(tree.draw_with_rate_control(ad_list, tree.canvas, batch_size=1, rate_limit=0.1))\n",
    "tree.canvas\n"
   ]
  },
  {
   "cell_type": "code",
   "execution_count": null,
   "id": "af4c8390-ca72-4d9f-bb32-52c76f8064ec",
   "metadata": {},
   "outputs": [],
   "source": []
  },
  {
   "cell_type": "code",
   "execution_count": null,
   "id": "a349ad82-e54d-462a-8c13-f84361c0c11b",
   "metadata": {},
   "outputs": [],
   "source": []
  }
 ],
 "metadata": {
  "kernelspec": {
   "display_name": "Python 3 (ipykernel)",
   "language": "python",
   "name": "python3"
  },
  "language_info": {
   "codemirror_mode": {
    "name": "ipython",
    "version": 3
   },
   "file_extension": ".py",
   "mimetype": "text/x-python",
   "name": "python",
   "nbconvert_exporter": "python",
   "pygments_lexer": "ipython3",
   "version": "3.11.4"
  }
 },
 "nbformat": 4,
 "nbformat_minor": 5
}
