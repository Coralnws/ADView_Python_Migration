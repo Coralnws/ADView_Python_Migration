{
 "cells": [
  {
   "cell_type": "code",
   "execution_count": 1,
   "id": "78872fa3-dacb-41ff-a82c-35b67f2f4075",
   "metadata": {},
   "outputs": [],
   "source": [
    "from ipycanvas import Canvas\n",
    "from ipywidgets import HBox\n",
    "BLANK = '#FFFFFF'\n",
    "RED = '#F38D76'\n",
    "BLUE = '#33D5FF'\n",
    "PURPLE = '#DFABF8'\n",
    "GREEN = '#C9F8AB'\n",
    "BEIGE = '#F8DAAB'\n",
    "BLACK = '#000000'\n",
    "\n",
    "root_x = 20\n",
    "root_y = 50\n",
    "branch_length = 15\n",
    "branch_height = 15\n",
    "blank_block_width = 40\n",
    "blank_block_height = 10\n",
    "AD_width = 200\n",
    "\n",
    "# rectangle_width = 30\n",
    "# rectangle_height = 15\n",
    "\n",
    "def add_branch(canvas,start_x,start_y,des_x,des_y):\n",
    "    path_x = start_x\n",
    "    path_y = start_y\n",
    "    canvas.set_line_dash([])\n",
    "    canvas.begin_path()\n",
    "    canvas.move_to(path_x, path_y)\n",
    "    canvas.line_to(path_x, des_y)\n",
    "    canvas.line_to(des_x, des_y)\n",
    "    canvas.stroke()\n",
    "\n",
    "    return des_x,des_y\n",
    "\n",
    "def add_block(canvas,loc_x,loc_y,width,height,color):\n",
    "    loc_y = loc_y - (height/2)\n",
    "    canvas.fill_style = color\n",
    "    canvas.stroke_style = BLACK\n",
    "    \n",
    "    # fill_rect(x, y, width, height=None):\n",
    "    # stroke_rect(x, y, width, height=None):\n",
    "    canvas.fill_rect(loc_x,loc_y,width,height)\n",
    "    canvas.stroke_rect(loc_x,loc_y,width,height)\n",
    "\n",
    "    return loc_x,(loc_y + height/2)\n",
    "\n",
    "def elided_branch(canvas,start_x,start_y,des_x,des_y):\n",
    "    line_dashes = [[2, 2], [10, 5], [5, 10, 20], [10, 20], [20, 10], [20, 20]]\n",
    "\n",
    "    path_x = start_x\n",
    "    path_y = start_y\n",
    "    canvas.set_line_dash([])\n",
    "    canvas.begin_path()\n",
    "    canvas.move_to(path_x, path_y)\n",
    "    canvas.line_to(path_x, des_y)\n",
    "    canvas.stroke()\n",
    "    \n",
    "    canvas.set_line_dash(line_dashes[0])\n",
    "    canvas.begin_path()\n",
    "    canvas.move_to(path_x, des_y)\n",
    "    canvas.line_to(des_x, des_y)\n",
    "    canvas.stroke()\n",
    "    \n",
    "    path_x += (des_x - start_x)/2\n",
    "    path_y = des_y - 5\n",
    "    canvas.set_line_dash([])\n",
    "    canvas.begin_path()\n",
    "    canvas.move_to(path_x+1,path_y)\n",
    "    canvas.line_to(path_x-2, path_y + 10)\n",
    "    canvas.stroke()\n",
    "\n",
    "    return des_x,des_y\n",
    "\n"
   ]
  },
  {
   "cell_type": "code",
   "execution_count": 2,
   "id": "4d87c071-9050-4d7f-9c8b-5a21f58ebfe1",
   "metadata": {},
   "outputs": [],
   "source": [
    "#### Testing Draw AD ####\n",
    "## Canvaas 1 ##\n",
    "\n",
    "canvas1 = Canvas(width=250, height=250)\n",
    "coord_x = root_x\n",
    "coord_y = root_y\n",
    "\n",
    "# Level1 - Branch 1\n",
    "coord_x,coord_y = add_branch(canvas1,root_x,root_y,coord_x + 10,coord_y)\n",
    "block_x,block_y = add_branch(canvas1,coord_x,coord_y,coord_x + branch_length, coord_y - branch_height)\n",
    "block_x,block_y = add_block(canvas1,block_x,block_y,blank_block_width,blank_block_height,BLANK)\n",
    "\n",
    "# Level1 - Branch 2\n",
    "coord_x,coord_y = add_branch(canvas1,coord_x,coord_y,coord_x + branch_length, coord_y + branch_height)\n",
    "\n",
    "# Level2 - Branch 1\n",
    "block_x,block_y = add_branch(canvas1,coord_x,coord_y,coord_x + branch_length, coord_y - branch_height)\n",
    "block_x,block_y = add_block(canvas1,block_x,block_y,blank_block_width,blank_block_height,BLANK)\n",
    "\n",
    "# Level2 - Branch 2\n",
    "coord_x,coord_y = add_branch(canvas1,coord_x,coord_y,coord_x + branch_length, coord_y + branch_height)\n",
    "\n",
    "# Level3 - Branch 1\n",
    "block_x,block_y = add_branch(canvas1,coord_x,coord_y,coord_x + branch_length, coord_y - branch_height)\n",
    "block_x,block_y = add_block(canvas1,block_x,block_y,blank_block_width,blank_block_height,BLANK)\n",
    "\n",
    "# Level3 - Branch2\n",
    "# Additional Height = 20\n",
    "coord_x,coord_y = add_branch(canvas1,coord_x,coord_y,coord_x + branch_length, coord_y + branch_height + 20)\n",
    "\n",
    "#Level4 - Branch1\n",
    "block_x,block_y = add_branch(canvas1,coord_x,coord_y,coord_x + branch_length, coord_y - branch_height - 10)\n",
    "block_x,block_y = add_block(canvas1,block_x,block_y,AD_width - block_x,blank_block_height + 20,RED)\n",
    "\n",
    "# Level4 - Branch2\n",
    "coord_x,coord_y = add_branch(canvas1,coord_x,coord_y,coord_x + branch_length, coord_y + branch_height + 20)\n",
    "\n",
    "# Level5 - Branch2\n",
    "lev5_x,lev5_y = add_branch(canvas1,coord_x,coord_y,coord_x + branch_length, coord_y + branch_height + 20)\n",
    "\n",
    "# Level5 - Branch1\n",
    "coord_x,coord_y = add_branch(canvas1,coord_x,coord_y,coord_x + branch_length, coord_y - branch_height- 5)\n",
    "block_x,block_y = add_branch(canvas1,coord_x,coord_y,coord_x + branch_length, coord_y - branch_height)\n",
    "\n",
    "# Level6 - Branch1\n",
    "block_x,block_y = add_block(canvas1,block_x,block_y,blank_block_width,blank_block_height,BLANK)\n",
    "\n",
    "# Level6 - Branch2\n",
    "block_x,block_y = add_branch(canvas1,coord_x,coord_y,coord_x + branch_length, coord_y + branch_height)\n",
    "block_x,block_y = add_block(canvas1,block_x,block_y,AD_width - block_x,blank_block_height + 20,BLUE)\n",
    "\n",
    "# Level6 - Branch3\n",
    "block_x,block_y = add_block(canvas1,lev5_x,lev5_y,AD_width - lev5_x,blank_block_height + 20,PURPLE)\n"
   ]
  },
  {
   "cell_type": "code",
   "execution_count": 4,
   "id": "02286476-2744-4b72-8fce-896135d1d3cd",
   "metadata": {},
   "outputs": [],
   "source": [
    "#### Testing Draw AD ####\n",
    "## Canvaas 2 ##\n",
    "\n",
    "canvas2 = Canvas(width=250, height=250)\n",
    "\n",
    "coord_x = root_x\n",
    "coord_y = root_y\n",
    "\n",
    "# Level1 - Branch 1\n",
    "coord_x,coord_y = add_branch(canvas2,root_x,root_y,coord_x + 10,coord_y)\n",
    "block_x,block_y = add_branch(canvas2,coord_x,coord_y,coord_x + branch_length, coord_y - branch_height)\n",
    "block_x,block_y = add_block(canvas2,block_x,block_y,blank_block_width,blank_block_height,BLANK)\n",
    "\n",
    "# Level1 - Branch 2\n",
    "coord_x,coord_y = elided_branch(canvas2,coord_x,coord_y,coord_x + branch_length, coord_y + branch_height + 10)\n",
    "\n",
    "# Level2 - Branch 1\n",
    "block_x,block_y = add_branch(canvas2,coord_x,coord_y,coord_x + branch_length, coord_y - branch_height)\n",
    "block_x,block_y = add_block(canvas2,block_x,block_y,AD_width - block_x,blank_block_height + 10,RED)\n",
    "\n",
    "# Level2 - Branch2\n",
    "# Additional Height = 20\n",
    "coord_x,coord_y = add_branch(canvas2,coord_x,coord_y,coord_x + branch_length, coord_y + branch_height + 20)\n",
    "\n",
    "# Level3 - Branch 1\n",
    "block_x,block_y = add_branch(canvas2,coord_x,coord_y,coord_x + branch_length, coord_y - branch_height - 10)\n",
    "block_x,block_y = add_block(canvas2,block_x,block_y,AD_width - block_x,blank_block_height + 10,GREEN)\n",
    "\n",
    "# Level3 - Branch2\n",
    "# Additional Height = 20\n",
    "block_x,block_y = add_branch(canvas2,coord_x,coord_y,coord_x + branch_length, coord_y + branch_height + 20)\n",
    "block_x,block_y = add_block(canvas2,block_x,block_y,AD_width - block_x,blank_block_height + 70,BEIGE)\n",
    "\n",
    "#level3 - Branch2 - nesting clade\n",
    "block_x,block_y = elided_branch(canvas2,block_x,block_y,block_x + branch_length, block_y + 2)\n",
    "block_x,block_y = add_block(canvas2,block_x,block_y,AD_width - block_x - 10,blank_block_height + 20,PURPLE)\n"
   ]
  },
  {
   "cell_type": "code",
   "execution_count": 5,
   "id": "ed9b858f-cda4-499b-85ad-e5e7bf95aef7",
   "metadata": {},
   "outputs": [
    {
     "data": {
      "application/vnd.jupyter.widget-view+json": {
       "model_id": "50670c25b73c48a9b5b6a4dae71c1d51",
       "version_major": 2,
       "version_minor": 0
      },
      "text/plain": [
       "HBox(children=(Canvas(height=250, width=250), Canvas(height=250, width=250)))"
      ]
     },
     "execution_count": 5,
     "metadata": {},
     "output_type": "execute_result"
    }
   ],
   "source": [
    "sprites = [canvas1, canvas2]\n",
    "HBox(sprites)"
   ]
  },
  {
   "cell_type": "code",
   "execution_count": 3,
   "id": "b3f1c521-7fbb-40a8-8612-60509c63e91e",
   "metadata": {},
   "outputs": [
    {
     "data": {
      "application/vnd.jupyter.widget-view+json": {
       "model_id": "d79771c710274b31b7926bb0ec908020",
       "version_major": 2,
       "version_minor": 0
      },
      "text/plain": [
       "Canvas(height=800, width=1200)"
      ]
     },
     "execution_count": 3,
     "metadata": {},
     "output_type": "execute_result"
    }
   ],
   "source": [
    "from ipycanvas import Canvas\n",
    "canvas = Canvas(height=800, width=1200)\n",
    "canvas.scale(1.0, 1.0)\n",
    "canvas.fill_rect(0,0,1100,1100)\n",
    "canvas.fill_style = RED\n",
    "width = 135\n",
    "height = 150\n",
    "x = 20\n",
    "canvas.fill_rect(x,20,width,height)\n",
    "\n",
    "canvas.fill_style = BLUE\n",
    "canvas.fill_rect(30,30,40,15)\n",
    "canvas.fill_rect(30,50,20,15)\n",
    "canvas.fill_style = RED\n",
    "x += width + 20\n",
    "canvas.fill_rect(x,20,width,height)\n",
    "x += width + 20\n",
    "canvas.fill_rect(x,20,width,height)\n",
    "x += width + 20\n",
    "canvas.fill_rect(x,20,width,height)\n",
    "x += width + 20\n",
    "canvas.fill_rect(x,20,width,height)\n",
    "x += width + 20\n",
    "canvas.fill_rect(x,20,width,height)\n",
    "x += width + 20\n",
    "canvas.fill_rect(x,20,width,height)\n",
    "\n",
    "\n",
    "canvas"
   ]
  },
  {
   "cell_type": "code",
   "execution_count": 9,
   "id": "7a2e899c-fb49-48d6-8c8c-7765ad12b0b8",
   "metadata": {},
   "outputs": [
    {
     "data": {
      "application/vnd.jupyter.widget-view+json": {
       "model_id": "a316343ed45b416da257056cd81676fb",
       "version_major": 2,
       "version_minor": 0
      },
      "text/plain": [
       "Canvas(height=200, width=200)"
      ]
     },
     "execution_count": 9,
     "metadata": {},
     "output_type": "execute_result"
    }
   ],
   "source": [
    "from ipycanvas import Canvas\n",
    "canvas = Canvas(width=200, height=200)\n",
    "line_dashes = [[2, 2], [5, 5], [8, 8], [10, 10]]\n",
    "\n",
    "canvas.fill_style = RED\n",
    "canvas.set_line_dash(line_dashes[1])\n",
    "canvas.begin_path()\n",
    "canvas.move_to(10,10)\n",
    "canvas.line_to(80,10)\n",
    "canvas.stroke()\n",
    "\n",
    "canvas\n"
   ]
  },
  {
   "cell_type": "code",
   "execution_count": 37,
   "id": "0c19b56a-316b-402e-aae4-becf54b6bf7f",
   "metadata": {},
   "outputs": [
    {
     "data": {
      "application/vnd.jupyter.widget-view+json": {
       "model_id": "cbfc820e8bbf41bca434b67456616296",
       "version_major": 2,
       "version_minor": 0
      },
      "text/plain": [
       "Canvas(height=30, width=400)"
      ]
     },
     "execution_count": 37,
     "metadata": {},
     "output_type": "execute_result"
    }
   ],
   "source": [
    "import asyncio\n",
    "from ipycanvas import Canvas, hold_canvas\n",
    "\n",
    "class Tree:\n",
    "    def __init__(self):\n",
    "        self.canvas = Canvas(width=400, height=30)\n",
    "        \n",
    "    async def draw_ad(self):\n",
    "        pass\n",
    "    \n",
    "    async def draw_with_rate_control(self, ad_list, canvas, batch_size=10, rate_limit=0.1):\n",
    "        total_trees = len(ad_list)\n",
    "        completed_trees = 0\n",
    "    \n",
    "        for i in range(0, total_trees, batch_size):\n",
    "            batch = ad_list[i:i+batch_size] \n",
    "    \n",
    "            tasks = [self.draw_ad() for _ in range(len(batch))]\n",
    "            await asyncio.gather(*tasks)\n",
    "    \n",
    "            completed_trees += len(batch)\n",
    "    \n",
    "            progress = completed_trees / total_trees\n",
    "    \n",
    "            with hold_canvas(canvas):\n",
    "                canvas.clear_rect(0, 0, canvas.width, canvas.height)\n",
    "                canvas.fill_style = 'lightgray'\n",
    "                canvas.fill_rect(0, 0, 200, 50)\n",
    "                canvas.fill_style = 'blue'\n",
    "                canvas.fill_rect(0, 0, int(progress * 200), 50)\n",
    "                canvas.fill_style = 'black'\n",
    "                canvas.font = '16px Arial'\n",
    "                canvas.fill_text(f'Progress: {int(progress * 100)}%', 10, 20)\n",
    "    \n",
    "            await asyncio.sleep(rate_limit)\n",
    "\n",
    "tree = Tree()\n",
    "asyncio.create_task(tree.draw_with_rate_control(ad_list, tree.canvas, batch_size=1, rate_limit=0.1))\n",
    "tree.canvas\n"
   ]
  },
  {
   "cell_type": "code",
   "execution_count": 5,
   "id": "a349ad82-e54d-462a-8c13-f84361c0c11b",
   "metadata": {},
   "outputs": [
    {
     "data": {
      "application/vnd.jupyter.widget-view+json": {
       "model_id": "5761d4207a854d988f4499cab35f4637",
       "version_major": 2,
       "version_minor": 0
      },
      "text/plain": [
       "Canvas(height=50)"
      ]
     },
     "execution_count": 5,
     "metadata": {},
     "output_type": "execute_result"
    }
   ],
   "source": [
    "from ipycanvas import Canvas\n",
    "\n",
    "canvas = Canvas(width=700, height=50)\n",
    "\n",
    "gradient = canvas.create_linear_gradient(\n",
    "    0,\n",
    "    0,  # Start position (x0, y0)\n",
    "    700,\n",
    "    0,  # End position (x1, y1)\n",
    "    # List of color stops\n",
    "    [\n",
    "        (0, \"red\"),\n",
    "        (0.2, \"orange\"),\n",
    "        (0.5, \"white\"),\n",
    "    ],\n",
    ")\n",
    "\n",
    "canvas.fill_style = gradient\n",
    "canvas.fill_rect(0, 0, 700, 50)\n",
    "\n",
    "canvas"
   ]
  },
  {
   "cell_type": "code",
   "execution_count": 10,
   "id": "17aeaf8a-8493-43a2-b6c0-ccd94b1c874a",
   "metadata": {},
   "outputs": [
    {
     "name": "stdout",
     "output_type": "stream",
     "text": [
      "color code: #d38681\n"
     ]
    },
    {
     "data": {
      "application/vnd.jupyter.widget-view+json": {
       "model_id": "1eaabb92772f427aa664817774e74953",
       "version_major": 2,
       "version_minor": 0
      },
      "text/plain": [
       "Canvas(height=50)"
      ]
     },
     "execution_count": 10,
     "metadata": {},
     "output_type": "execute_result"
    }
   ],
   "source": [
    "from ipycanvas import Canvas\n",
    "\n",
    "canvas = Canvas(width=700, height=50)\n",
    "\n",
    "def hex_to_rgb(hex_color):\n",
    "    hex_color = hex_color.lstrip('#')\n",
    "    return tuple(int(hex_color[i:i+2], 16) for i in (0, 2, 4))\n",
    "\n",
    "def rgb_to_hex(rgb_color):\n",
    "    return '#{:02x}{:02x}{:02x}'.format(*rgb_color)\n",
    "\n",
    "def lighten_color(hex_color, amount):\n",
    "    rgb_color = hex_to_rgb(hex_color)\n",
    "    lightened_rgb = tuple(min(255, c + amount) for c in rgb_color)\n",
    "    return rgb_to_hex(lightened_rgb)\n",
    "\n",
    "initial_color_hex = '#BF726D'\n",
    "\n",
    "# Lighten the color by decrease 20 from each rgb\n",
    "lightened_color_hex = lighten_color(initial_color_hex, 20)\n",
    "\n",
    "print(\"color code:\", lightened_color_hex)\n",
    "\n",
    "canvas.fill_style = lightened_color_hex\n",
    "canvas.fill_rect(0, 0, 700, 50)\n",
    "\n",
    "canvas\n"
   ]
  },
  {
   "cell_type": "code",
   "execution_count": null,
   "id": "034b6f9e-1ea3-4e16-a05b-95d35208471f",
   "metadata": {},
   "outputs": [],
   "source": []
  }
 ],
 "metadata": {
  "kernelspec": {
   "display_name": "Python 3 (ipykernel)",
   "language": "python",
   "name": "python3"
  },
  "language_info": {
   "codemirror_mode": {
    "name": "ipython",
    "version": 3
   },
   "file_extension": ".py",
   "mimetype": "text/x-python",
   "name": "python",
   "nbconvert_exporter": "python",
   "pygments_lexer": "ipython3",
   "version": "3.11.4"
  }
 },
 "nbformat": 4,
 "nbformat_minor": 5
}
