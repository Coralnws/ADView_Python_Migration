{
 "cells": [
  {
   "cell_type": "code",
   "execution_count": 9,
   "id": "78872fa3-dacb-41ff-a82c-35b67f2f4075",
   "metadata": {},
   "outputs": [],
   "source": [
    "from ipycanvas import Canvas\n",
    "from ipywidgets import HBox\n",
    "BLANK = '#FFFFFF'\n",
    "RED = '#F38D76'\n",
    "BLUE = '#33D5FF'\n",
    "PURPLE = '#DFABF8'\n",
    "GREEN = '#C9F8AB'\n",
    "BEIGE = '#F8DAAB'\n",
    "BLACK = '#000000'\n",
    "\n",
    "root_x = 20\n",
    "root_y = 50\n",
    "branch_length = 15\n",
    "branch_height = 15\n",
    "blank_block_width = 40\n",
    "blank_block_height = 10\n",
    "AD_width = 200\n",
    "\n",
    "# rectangle_width = 30\n",
    "# rectangle_height = 15\n",
    "\n",
    "def add_branch(canvas,start_x,start_y,des_x,des_y):\n",
    "    path_x = start_x\n",
    "    path_y = start_y\n",
    "    canvas.set_line_dash([])\n",
    "    canvas.begin_path()\n",
    "    canvas.move_to(path_x, path_y)\n",
    "    canvas.line_to(path_x, des_y)\n",
    "    canvas.line_to(des_x, des_y)\n",
    "    canvas.stroke()\n",
    "\n",
    "    return des_x,des_y\n",
    "\n",
    "def add_block(canvas,loc_x,loc_y,width,height,color):\n",
    "    loc_y = loc_y - (height/2)\n",
    "    canvas.fill_style = color\n",
    "    canvas.stroke_style = BLACK\n",
    "    \n",
    "    # fill_rect(x, y, width, height=None):\n",
    "    # stroke_rect(x, y, width, height=None):\n",
    "    canvas.fill_rect(loc_x,loc_y,width,height)\n",
    "    canvas.stroke_rect(loc_x,loc_y,width,height)\n",
    "\n",
    "    return loc_x,(loc_y + height/2)\n",
    "\n",
    "def elided_branch(canvas,start_x,start_y,des_x,des_y):\n",
    "    line_dashes = [[2, 2], [10, 5], [5, 10, 20], [10, 20], [20, 10], [20, 20]]\n",
    "\n",
    "    path_x = start_x\n",
    "    path_y = start_y\n",
    "    canvas.set_line_dash([])\n",
    "    canvas.begin_path()\n",
    "    canvas.move_to(path_x, path_y)\n",
    "    canvas.line_to(path_x, des_y)\n",
    "    canvas.stroke()\n",
    "    \n",
    "    canvas.set_line_dash(line_dashes[0])\n",
    "    canvas.begin_path()\n",
    "    canvas.move_to(path_x, des_y)\n",
    "    canvas.line_to(des_x, des_y)\n",
    "    canvas.stroke()\n",
    "    \n",
    "    path_x += (des_x - start_x)/2\n",
    "    path_y = des_y - 5\n",
    "    canvas.set_line_dash([])\n",
    "    canvas.begin_path()\n",
    "    canvas.move_to(path_x+1,path_y)\n",
    "    canvas.line_to(path_x-2, path_y + 10)\n",
    "    canvas.stroke()\n",
    "\n",
    "    return des_x,des_y\n",
    "\n"
   ]
  },
  {
   "cell_type": "code",
   "execution_count": 1,
   "id": "f152d16f-e6bc-49e0-b274-b2fdeb8196aa",
   "metadata": {},
   "outputs": [
    {
     "ename": "RuntimeError",
     "evalue": "No image data, please be sure that ``sync_image_data`` is set to True",
     "output_type": "error",
     "traceback": [
      "\u001b[1;31m---------------------------------------------------------------------------\u001b[0m",
      "\u001b[1;31mRuntimeError\u001b[0m                              Traceback (most recent call last)",
      "Cell \u001b[1;32mIn[1], line 14\u001b[0m\n\u001b[0;32m     11\u001b[0m destination_canvas \u001b[38;5;241m=\u001b[39m Canvas(width\u001b[38;5;241m=\u001b[39m\u001b[38;5;241m100\u001b[39m, height\u001b[38;5;241m=\u001b[39m\u001b[38;5;241m100\u001b[39m)\n\u001b[0;32m     13\u001b[0m \u001b[38;5;66;03m# Get a portion of the source canvas\u001b[39;00m\n\u001b[1;32m---> 14\u001b[0m image_data \u001b[38;5;241m=\u001b[39m \u001b[43msource_canvas\u001b[49m\u001b[38;5;241;43m.\u001b[39;49m\u001b[43mget_image_data\u001b[49m\u001b[43m(\u001b[49m\u001b[38;5;241;43m50\u001b[39;49m\u001b[43m,\u001b[49m\u001b[43m \u001b[49m\u001b[38;5;241;43m50\u001b[39;49m\u001b[43m,\u001b[49m\u001b[43m \u001b[49m\u001b[38;5;241;43m100\u001b[39;49m\u001b[43m,\u001b[49m\u001b[43m \u001b[49m\u001b[38;5;241;43m100\u001b[39;49m\u001b[43m)\u001b[49m\n\u001b[0;32m     16\u001b[0m \u001b[38;5;66;03m# Draw the portion of the source canvas onto the destination canvas\u001b[39;00m\n\u001b[0;32m     17\u001b[0m destination_canvas\u001b[38;5;241m.\u001b[39mdraw_image(image_data, \u001b[38;5;241m0\u001b[39m, \u001b[38;5;241m0\u001b[39m)\n",
      "File \u001b[1;32m~\\Desktop\\Phylo\\venv\\Lib\\site-packages\\ipycanvas\\canvas.py:443\u001b[0m, in \u001b[0;36m_CanvasBase.get_image_data\u001b[1;34m(self, x, y, width, height)\u001b[0m\n\u001b[0;32m    434\u001b[0m \u001b[38;5;250m\u001b[39m\u001b[38;5;124;03m\"\"\"Return a NumPy array representing the underlying pixel data for a specified portion of the canvas.\u001b[39;00m\n\u001b[0;32m    435\u001b[0m \n\u001b[0;32m    436\u001b[0m \u001b[38;5;124;03mThis will throw an error if there is no ``image_data`` to retrieve, this happens when nothing was drawn yet or\u001b[39;00m\n\u001b[1;32m   (...)\u001b[0m\n\u001b[0;32m    440\u001b[0m \u001b[38;5;124;03mare (``x + width``, ``y + height``).\u001b[39;00m\n\u001b[0;32m    441\u001b[0m \u001b[38;5;124;03m\"\"\"\u001b[39;00m\n\u001b[0;32m    442\u001b[0m \u001b[38;5;28;01mif\u001b[39;00m \u001b[38;5;28mself\u001b[39m\u001b[38;5;241m.\u001b[39mimage_data \u001b[38;5;129;01mis\u001b[39;00m \u001b[38;5;28;01mNone\u001b[39;00m:\n\u001b[1;32m--> 443\u001b[0m     \u001b[38;5;28;01mraise\u001b[39;00m \u001b[38;5;167;01mRuntimeError\u001b[39;00m(\n\u001b[0;32m    444\u001b[0m         \u001b[38;5;124m\"\u001b[39m\u001b[38;5;124mNo image data, please be sure that ``sync_image_data`` is set to True\u001b[39m\u001b[38;5;124m\"\u001b[39m\n\u001b[0;32m    445\u001b[0m     )\n\u001b[0;32m    447\u001b[0m x \u001b[38;5;241m=\u001b[39m \u001b[38;5;28mint\u001b[39m(x)\n\u001b[0;32m    448\u001b[0m y \u001b[38;5;241m=\u001b[39m \u001b[38;5;28mint\u001b[39m(y)\n",
      "\u001b[1;31mRuntimeError\u001b[0m: No image data, please be sure that ``sync_image_data`` is set to True"
     ]
    }
   ],
   "source": [
    "from ipycanvas import Canvas\n",
    "\n",
    "# Create the source canvas\n",
    "source_canvas = Canvas(width=200, height=200)\n",
    "\n",
    "# Draw something on the source canvas\n",
    "source_canvas.fill_style = 'blue'\n",
    "source_canvas.fill_rect(0, 0, 200, 200)\n",
    "\n",
    "# Create the destination canvas\n",
    "destination_canvas = Canvas(width=100, height=100)\n",
    "\n",
    "# Get a portion of the source canvas\n",
    "image_data = source_canvas.get_image_data(50, 50, 100, 100)\n",
    "\n",
    "# Draw the portion of the source canvas onto the destination canvas\n",
    "destination_canvas.draw_image(image_data, 0, 0)\n",
    "\n",
    "# Display the destination canvas\n",
    "destination_canvas\n"
   ]
  },
  {
   "cell_type": "code",
   "execution_count": 2,
   "id": "4d87c071-9050-4d7f-9c8b-5a21f58ebfe1",
   "metadata": {},
   "outputs": [],
   "source": [
    "#### Testing Draw AD ####\n",
    "## Canvaas 1 ##\n",
    "\n",
    "canvas1 = Canvas(width=250, height=250)\n",
    "coord_x = root_x\n",
    "coord_y = root_y\n",
    "\n",
    "# Level1 - Branch 1\n",
    "coord_x,coord_y = add_branch(canvas1,root_x,root_y,coord_x + 10,coord_y)\n",
    "block_x,block_y = add_branch(canvas1,coord_x,coord_y,coord_x + branch_length, coord_y - branch_height)\n",
    "block_x,block_y = add_block(canvas1,block_x,block_y,blank_block_width,blank_block_height,BLANK)\n",
    "\n",
    "# Level1 - Branch 2\n",
    "coord_x,coord_y = add_branch(canvas1,coord_x,coord_y,coord_x + branch_length, coord_y + branch_height)\n",
    "\n",
    "# Level2 - Branch 1\n",
    "block_x,block_y = add_branch(canvas1,coord_x,coord_y,coord_x + branch_length, coord_y - branch_height)\n",
    "block_x,block_y = add_block(canvas1,block_x,block_y,blank_block_width,blank_block_height,BLANK)\n",
    "\n",
    "# Level2 - Branch 2\n",
    "coord_x,coord_y = add_branch(canvas1,coord_x,coord_y,coord_x + branch_length, coord_y + branch_height)\n",
    "\n",
    "# Level3 - Branch 1\n",
    "block_x,block_y = add_branch(canvas1,coord_x,coord_y,coord_x + branch_length, coord_y - branch_height)\n",
    "block_x,block_y = add_block(canvas1,block_x,block_y,blank_block_width,blank_block_height,BLANK)\n",
    "\n",
    "# Level3 - Branch2\n",
    "# Additional Height = 20\n",
    "coord_x,coord_y = add_branch(canvas1,coord_x,coord_y,coord_x + branch_length, coord_y + branch_height + 20)\n",
    "\n",
    "#Level4 - Branch1\n",
    "block_x,block_y = add_branch(canvas1,coord_x,coord_y,coord_x + branch_length, coord_y - branch_height - 10)\n",
    "block_x,block_y = add_block(canvas1,block_x,block_y,AD_width - block_x,blank_block_height + 20,RED)\n",
    "\n",
    "# Level4 - Branch2\n",
    "coord_x,coord_y = add_branch(canvas1,coord_x,coord_y,coord_x + branch_length, coord_y + branch_height + 20)\n",
    "\n",
    "# Level5 - Branch2\n",
    "lev5_x,lev5_y = add_branch(canvas1,coord_x,coord_y,coord_x + branch_length, coord_y + branch_height + 20)\n",
    "\n",
    "# Level5 - Branch1\n",
    "coord_x,coord_y = add_branch(canvas1,coord_x,coord_y,coord_x + branch_length, coord_y - branch_height- 5)\n",
    "block_x,block_y = add_branch(canvas1,coord_x,coord_y,coord_x + branch_length, coord_y - branch_height)\n",
    "\n",
    "# Level6 - Branch1\n",
    "block_x,block_y = add_block(canvas1,block_x,block_y,blank_block_width,blank_block_height,BLANK)\n",
    "\n",
    "# Level6 - Branch2\n",
    "block_x,block_y = add_branch(canvas1,coord_x,coord_y,coord_x + branch_length, coord_y + branch_height)\n",
    "block_x,block_y = add_block(canvas1,block_x,block_y,AD_width - block_x,blank_block_height + 20,BLUE)\n",
    "\n",
    "# Level6 - Branch3\n",
    "block_x,block_y = add_block(canvas1,lev5_x,lev5_y,AD_width - lev5_x,blank_block_height + 20,PURPLE)\n"
   ]
  },
  {
   "cell_type": "code",
   "execution_count": 4,
   "id": "02286476-2744-4b72-8fce-896135d1d3cd",
   "metadata": {},
   "outputs": [],
   "source": [
    "#### Testing Draw AD ####\n",
    "## Canvaas 2 ##\n",
    "\n",
    "canvas2 = Canvas(width=250, height=250)\n",
    "\n",
    "coord_x = root_x\n",
    "coord_y = root_y\n",
    "\n",
    "# Level1 - Branch 1\n",
    "coord_x,coord_y = add_branch(canvas2,root_x,root_y,coord_x + 10,coord_y)\n",
    "block_x,block_y = add_branch(canvas2,coord_x,coord_y,coord_x + branch_length, coord_y - branch_height)\n",
    "block_x,block_y = add_block(canvas2,block_x,block_y,blank_block_width,blank_block_height,BLANK)\n",
    "\n",
    "# Level1 - Branch 2\n",
    "coord_x,coord_y = elided_branch(canvas2,coord_x,coord_y,coord_x + branch_length, coord_y + branch_height + 10)\n",
    "\n",
    "# Level2 - Branch 1\n",
    "block_x,block_y = add_branch(canvas2,coord_x,coord_y,coord_x + branch_length, coord_y - branch_height)\n",
    "block_x,block_y = add_block(canvas2,block_x,block_y,AD_width - block_x,blank_block_height + 10,RED)\n",
    "\n",
    "# Level2 - Branch2\n",
    "# Additional Height = 20\n",
    "coord_x,coord_y = add_branch(canvas2,coord_x,coord_y,coord_x + branch_length, coord_y + branch_height + 20)\n",
    "\n",
    "# Level3 - Branch 1\n",
    "block_x,block_y = add_branch(canvas2,coord_x,coord_y,coord_x + branch_length, coord_y - branch_height - 10)\n",
    "block_x,block_y = add_block(canvas2,block_x,block_y,AD_width - block_x,blank_block_height + 10,GREEN)\n",
    "\n",
    "# Level3 - Branch2\n",
    "# Additional Height = 20\n",
    "block_x,block_y = add_branch(canvas2,coord_x,coord_y,coord_x + branch_length, coord_y + branch_height + 20)\n",
    "block_x,block_y = add_block(canvas2,block_x,block_y,AD_width - block_x,blank_block_height + 70,BEIGE)\n",
    "\n",
    "#level3 - Branch2 - nesting clade\n",
    "block_x,block_y = elided_branch(canvas2,block_x,block_y,block_x + branch_length, block_y + 2)\n",
    "block_x,block_y = add_block(canvas2,block_x,block_y,AD_width - block_x - 10,blank_block_height + 20,PURPLE)\n"
   ]
  },
  {
   "cell_type": "code",
   "execution_count": 5,
   "id": "ed9b858f-cda4-499b-85ad-e5e7bf95aef7",
   "metadata": {},
   "outputs": [
    {
     "data": {
      "application/vnd.jupyter.widget-view+json": {
       "model_id": "50670c25b73c48a9b5b6a4dae71c1d51",
       "version_major": 2,
       "version_minor": 0
      },
      "text/plain": [
       "HBox(children=(Canvas(height=250, width=250), Canvas(height=250, width=250)))"
      ]
     },
     "execution_count": 5,
     "metadata": {},
     "output_type": "execute_result"
    }
   ],
   "source": [
    "sprites = [canvas1, canvas2]\n",
    "HBox(sprites)"
   ]
  },
  {
   "cell_type": "code",
   "execution_count": 3,
   "id": "b3f1c521-7fbb-40a8-8612-60509c63e91e",
   "metadata": {},
   "outputs": [
    {
     "data": {
      "application/vnd.jupyter.widget-view+json": {
       "model_id": "d79771c710274b31b7926bb0ec908020",
       "version_major": 2,
       "version_minor": 0
      },
      "text/plain": [
       "Canvas(height=800, width=1200)"
      ]
     },
     "execution_count": 3,
     "metadata": {},
     "output_type": "execute_result"
    }
   ],
   "source": [
    "from ipycanvas import Canvas\n",
    "canvas = Canvas(height=800, width=1200)\n",
    "canvas.scale(1.0, 1.0)\n",
    "canvas.fill_rect(0,0,1100,1100)\n",
    "canvas.fill_style = RED\n",
    "width = 135\n",
    "height = 150\n",
    "x = 20\n",
    "canvas.fill_rect(x,20,width,height)\n",
    "\n",
    "canvas.fill_style = BLUE\n",
    "canvas.fill_rect(30,30,40,15)\n",
    "canvas.fill_rect(30,50,20,15)\n",
    "canvas.fill_style = RED\n",
    "x += width + 20\n",
    "canvas.fill_rect(x,20,width,height)\n",
    "x += width + 20\n",
    "canvas.fill_rect(x,20,width,height)\n",
    "x += width + 20\n",
    "canvas.fill_rect(x,20,width,height)\n",
    "x += width + 20\n",
    "canvas.fill_rect(x,20,width,height)\n",
    "x += width + 20\n",
    "canvas.fill_rect(x,20,width,height)\n",
    "x += width + 20\n",
    "canvas.fill_rect(x,20,width,height)\n",
    "\n",
    "\n",
    "canvas"
   ]
  },
  {
   "cell_type": "code",
   "execution_count": 9,
   "id": "7a2e899c-fb49-48d6-8c8c-7765ad12b0b8",
   "metadata": {},
   "outputs": [
    {
     "data": {
      "application/vnd.jupyter.widget-view+json": {
       "model_id": "a316343ed45b416da257056cd81676fb",
       "version_major": 2,
       "version_minor": 0
      },
      "text/plain": [
       "Canvas(height=200, width=200)"
      ]
     },
     "execution_count": 9,
     "metadata": {},
     "output_type": "execute_result"
    }
   ],
   "source": [
    "from ipycanvas import Canvas\n",
    "canvas = Canvas(width=200, height=200)\n",
    "line_dashes = [[2, 2], [5, 5], [8, 8], [10, 10]]\n",
    "\n",
    "canvas.fill_style = RED\n",
    "canvas.set_line_dash(line_dashes[1])\n",
    "canvas.begin_path()\n",
    "canvas.move_to(10,10)\n",
    "canvas.line_to(80,10)\n",
    "canvas.stroke()\n",
    "\n",
    "canvas\n"
   ]
  },
  {
   "cell_type": "code",
   "execution_count": 2,
   "id": "0c19b56a-316b-402e-aae4-becf54b6bf7f",
   "metadata": {},
   "outputs": [
    {
     "ename": "NameError",
     "evalue": "name 'ad_list' is not defined",
     "output_type": "error",
     "traceback": [
      "\u001b[1;31m---------------------------------------------------------------------------\u001b[0m",
      "\u001b[1;31mNameError\u001b[0m                                 Traceback (most recent call last)",
      "Cell \u001b[1;32mIn[2], line 38\u001b[0m\n\u001b[0;32m     35\u001b[0m             \u001b[38;5;28;01mawait\u001b[39;00m asyncio\u001b[38;5;241m.\u001b[39msleep(rate_limit)\n\u001b[0;32m     37\u001b[0m tree \u001b[38;5;241m=\u001b[39m Tree()\n\u001b[1;32m---> 38\u001b[0m asyncio\u001b[38;5;241m.\u001b[39mcreate_task(tree\u001b[38;5;241m.\u001b[39mdraw_with_rate_control(\u001b[43mad_list\u001b[49m, tree\u001b[38;5;241m.\u001b[39mcanvas, batch_size\u001b[38;5;241m=\u001b[39m\u001b[38;5;241m1\u001b[39m, rate_limit\u001b[38;5;241m=\u001b[39m\u001b[38;5;241m0.1\u001b[39m))\n\u001b[0;32m     39\u001b[0m tree\u001b[38;5;241m.\u001b[39mcanvas\n",
      "\u001b[1;31mNameError\u001b[0m: name 'ad_list' is not defined"
     ]
    }
   ],
   "source": [
    "import asyncio\n",
    "from ipycanvas import Canvas, hold_canvas\n",
    "\n",
    "class Tree:\n",
    "    def __init__(self):\n",
    "        self.canvas = Canvas(width=400, height=30)\n",
    "        \n",
    "    async def draw_ad(self):\n",
    "        pass\n",
    "    \n",
    "    async def draw_with_rate_control(self, ad_list, canvas, batch_size=10, rate_limit=0.1):\n",
    "        total_trees = len(ad_list)\n",
    "        completed_trees = 0\n",
    "    \n",
    "        for i in range(0, total_trees, batch_size):\n",
    "            batch = ad_list[i:i+batch_size] \n",
    "    \n",
    "            tasks = [self.draw_ad() for _ in range(len(batch))]\n",
    "            await asyncio.gather(*tasks)\n",
    "    \n",
    "            completed_trees += len(batch)\n",
    "    \n",
    "            progress = completed_trees / total_trees\n",
    "    \n",
    "            with hold_canvas(canvas):\n",
    "                canvas.clear_rect(0, 0, canvas.width, canvas.height)\n",
    "                canvas.fill_style = 'lightgray'\n",
    "                canvas.fill_rect(0, 0, 200, 50)\n",
    "                canvas.fill_style = 'blue'\n",
    "                canvas.fill_rect(0, 0, int(progress * 200), 50)\n",
    "                canvas.fill_style = 'black'\n",
    "                canvas.font = '16px Arial'\n",
    "                canvas.fill_text(f'Progress: {int(progress * 100)}%', 10, 20)\n",
    "    \n",
    "            await asyncio.sleep(rate_limit)\n",
    "\n",
    "tree = Tree()\n",
    "asyncio.create_task(tree.draw_with_rate_control(ad_list, tree.canvas, batch_size=1, rate_limit=0.1))\n",
    "tree.canvas\n"
   ]
  },
  {
   "cell_type": "code",
   "execution_count": 5,
   "id": "17aeaf8a-8493-43a2-b6c0-ccd94b1c874a",
   "metadata": {},
   "outputs": [
    {
     "name": "stdout",
     "output_type": "stream",
     "text": [
      "color code: #fd9780\n"
     ]
    },
    {
     "data": {
      "application/vnd.jupyter.widget-view+json": {
       "model_id": "ea9425f633ae4a0f92da97dfec6ec173",
       "version_major": 2,
       "version_minor": 0
      },
      "text/plain": [
       "Canvas(height=50)"
      ]
     },
     "metadata": {},
     "output_type": "display_data"
    }
   ],
   "source": [
    "from ipycanvas import Canvas\n",
    "\n",
    "canvas = Canvas(width=700, height=50)\n",
    "\n",
    "def hex_to_rgb(hex_color):\n",
    "    hex_color = hex_color.lstrip('#')\n",
    "    return tuple(int(hex_color[i:i+2], 16) for i in (0, 2, 4))\n",
    "\n",
    "def rgb_to_hex(rgb_color):\n",
    "    return '#{:02x}{:02x}{:02x}'.format(*rgb_color)\n",
    "\n",
    "def lighten_color(hex_color, amount):\n",
    "    rgb_color = hex_to_rgb(hex_color)\n",
    "    lightened_rgb = tuple(min(255, c + amount) for c in rgb_color)\n",
    "    return rgb_to_hex(lightened_rgb)\n",
    "\n",
    "initial_color_hex = RED\n",
    "\n",
    "lightened_color_hex = lighten_color(initial_color_hex, 10)\n",
    "\n",
    "print(\"color code:\", lightened_color_hex)\n",
    "\n",
    "\n",
    "gradient = canvas.create_linear_gradient(\n",
    "    0,\n",
    "    0, \n",
    "    350,\n",
    "    0, \n",
    "    [\n",
    "        (0,RED),\n",
    "        (0.2,RED),\n",
    "        (0.2, lightened_color_hex),\n",
    "        (0.4, lightened_color_hex),\n",
    "        (0.6, \"white\"),\n",
    "    ],\n",
    ")\n",
    "\n",
    "canvas.fill_style = gradient\n",
    "canvas.fill_rect(0, 0, 350, 50)\n",
    "\n",
    "display(canvas)\n"
   ]
  },
  {
   "cell_type": "code",
   "execution_count": 62,
   "id": "9a24fa9e-646c-48aa-a26a-dc2795a86cae",
   "metadata": {},
   "outputs": [
    {
     "name": "stdout",
     "output_type": "stream",
     "text": [
      "Collecting scikit-learn\n",
      "  Obtaining dependency information for scikit-learn from https://files.pythonhosted.org/packages/7b/0e/25d6b5678ed3c7e12bc94d047d0e9492e89cc78b7ea0034ac0f1cf2ff304/scikit_learn-1.4.1.post1-cp311-cp311-win_amd64.whl.metadata\n",
      "  Downloading scikit_learn-1.4.1.post1-cp311-cp311-win_amd64.whl.metadata (11 kB)\n",
      "Requirement already satisfied: numpy<2.0,>=1.19.5 in c:\\users\\coral\\desktop\\phylo\\venv\\lib\\site-packages (from scikit-learn) (1.26.2)\n",
      "Collecting scipy>=1.6.0 (from scikit-learn)\n",
      "  Obtaining dependency information for scipy>=1.6.0 from https://files.pythonhosted.org/packages/9a/25/5b30cb3efc9566f0ebeaeca1976150316353c17031ad7868ef46de5ab8dc/scipy-1.12.0-cp311-cp311-win_amd64.whl.metadata\n",
      "  Downloading scipy-1.12.0-cp311-cp311-win_amd64.whl.metadata (60 kB)\n",
      "     ---------------------------------------- 0.0/60.4 kB ? eta -:--:--\n",
      "     ------------------- ------------------ 30.7/60.4 kB 660.6 kB/s eta 0:00:01\n",
      "     -------------------------------------- 60.4/60.4 kB 809.7 kB/s eta 0:00:00\n",
      "Collecting joblib>=1.2.0 (from scikit-learn)\n",
      "  Obtaining dependency information for joblib>=1.2.0 from https://files.pythonhosted.org/packages/10/40/d551139c85db202f1f384ba8bcf96aca2f329440a844f924c8a0040b6d02/joblib-1.3.2-py3-none-any.whl.metadata\n",
      "  Downloading joblib-1.3.2-py3-none-any.whl.metadata (5.4 kB)\n",
      "Collecting threadpoolctl>=2.0.0 (from scikit-learn)\n",
      "  Obtaining dependency information for threadpoolctl>=2.0.0 from https://files.pythonhosted.org/packages/1e/84/ccd9b08653022b7785b6e3ee070ffb2825841e0dc119be22f0840b2b35cb/threadpoolctl-3.4.0-py3-none-any.whl.metadata\n",
      "  Downloading threadpoolctl-3.4.0-py3-none-any.whl.metadata (13 kB)\n",
      "Downloading scikit_learn-1.4.1.post1-cp311-cp311-win_amd64.whl (10.6 MB)\n",
      "   ---------------------------------------- 0.0/10.6 MB ? eta -:--:--\n",
      "   ---------------------------------------- 0.1/10.6 MB 1.3 MB/s eta 0:00:08\n",
      "    --------------------------------------- 0.2/10.6 MB 1.8 MB/s eta 0:00:06\n",
      "   - -------------------------------------- 0.3/10.6 MB 2.3 MB/s eta 0:00:05\n",
      "   -- ------------------------------------- 0.5/10.6 MB 3.1 MB/s eta 0:00:04\n",
      "   --- ------------------------------------ 0.9/10.6 MB 3.9 MB/s eta 0:00:03\n",
      "   ---- ----------------------------------- 1.2/10.6 MB 4.4 MB/s eta 0:00:03\n",
      "   ------ --------------------------------- 1.7/10.6 MB 5.1 MB/s eta 0:00:02\n",
      "   ------- -------------------------------- 2.0/10.6 MB 5.3 MB/s eta 0:00:02\n",
      "   --------- ------------------------------ 2.5/10.6 MB 5.8 MB/s eta 0:00:02\n",
      "   ---------- ----------------------------- 2.9/10.6 MB 6.4 MB/s eta 0:00:02\n",
      "   ------------ --------------------------- 3.4/10.6 MB 6.7 MB/s eta 0:00:02\n",
      "   ------------- -------------------------- 3.6/10.6 MB 6.6 MB/s eta 0:00:02\n",
      "   -------------- ------------------------- 3.9/10.6 MB 6.5 MB/s eta 0:00:02\n",
      "   --------------- ------------------------ 4.1/10.6 MB 6.5 MB/s eta 0:00:02\n",
      "   ----------------- ---------------------- 4.7/10.6 MB 6.9 MB/s eta 0:00:01\n",
      "   ------------------- -------------------- 5.1/10.6 MB 6.9 MB/s eta 0:00:01\n",
      "   -------------------- ------------------- 5.4/10.6 MB 6.9 MB/s eta 0:00:01\n",
      "   --------------------- ------------------ 5.8/10.6 MB 7.0 MB/s eta 0:00:01\n",
      "   ---------------------- ----------------- 6.0/10.6 MB 7.0 MB/s eta 0:00:01\n",
      "   ----------------------- ---------------- 6.3/10.6 MB 6.9 MB/s eta 0:00:01\n",
      "   -------------------------- ------------- 7.0/10.6 MB 7.2 MB/s eta 0:00:01\n",
      "   -------------------------- ------------- 7.1/10.6 MB 7.2 MB/s eta 0:00:01\n",
      "   -------------------------- ------------- 7.1/10.6 MB 7.2 MB/s eta 0:00:01\n",
      "   -------------------------- ------------- 7.2/10.6 MB 6.5 MB/s eta 0:00:01\n",
      "   ---------------------------- ----------- 7.6/10.6 MB 6.6 MB/s eta 0:00:01\n",
      "   -------------------------------- ------- 8.7/10.6 MB 7.3 MB/s eta 0:00:01\n",
      "   --------------------------------- ------ 8.8/10.6 MB 7.1 MB/s eta 0:00:01\n",
      "   ---------------------------------- ----- 9.2/10.6 MB 7.1 MB/s eta 0:00:01\n",
      "   ------------------------------------ --- 9.6/10.6 MB 7.2 MB/s eta 0:00:01\n",
      "   ------------------------------------- -- 9.9/10.6 MB 7.1 MB/s eta 0:00:01\n",
      "   -------------------------------------- - 10.4/10.6 MB 7.5 MB/s eta 0:00:01\n",
      "   ---------------------------------------  10.6/10.6 MB 7.8 MB/s eta 0:00:01\n",
      "   ---------------------------------------- 10.6/10.6 MB 7.6 MB/s eta 0:00:00\n",
      "Downloading joblib-1.3.2-py3-none-any.whl (302 kB)\n",
      "   ---------------------------------------- 0.0/302.2 kB ? eta -:--:--\n",
      "   ---------------------------------------- 302.2/302.2 kB 6.2 MB/s eta 0:00:00\n",
      "Downloading scipy-1.12.0-cp311-cp311-win_amd64.whl (46.2 MB)\n",
      "   ---------------------------------------- 0.0/46.2 MB ? eta -:--:--\n",
      "   ---------------------------------------- 0.2/46.2 MB 12.2 MB/s eta 0:00:04\n",
      "    --------------------------------------- 0.7/46.2 MB 8.9 MB/s eta 0:00:06\n",
      "    --------------------------------------- 1.1/46.2 MB 8.7 MB/s eta 0:00:06\n",
      "   - -------------------------------------- 1.4/46.2 MB 8.9 MB/s eta 0:00:06\n",
      "   - -------------------------------------- 1.8/46.2 MB 8.0 MB/s eta 0:00:06\n",
      "   - -------------------------------------- 2.2/46.2 MB 8.4 MB/s eta 0:00:06\n",
      "   -- ------------------------------------- 2.7/46.2 MB 8.5 MB/s eta 0:00:06\n",
      "   -- ------------------------------------- 3.0/46.2 MB 8.8 MB/s eta 0:00:05\n",
      "   --- ------------------------------------ 3.5/46.2 MB 8.9 MB/s eta 0:00:05\n",
      "   --- ------------------------------------ 4.1/46.2 MB 9.2 MB/s eta 0:00:05\n",
      "   --- ------------------------------------ 4.5/46.2 MB 9.2 MB/s eta 0:00:05\n",
      "   ---- ----------------------------------- 4.9/46.2 MB 9.2 MB/s eta 0:00:05\n",
      "   ---- ----------------------------------- 5.2/46.2 MB 9.1 MB/s eta 0:00:05\n",
      "   ---- ----------------------------------- 5.7/46.2 MB 9.0 MB/s eta 0:00:05\n",
      "   ----- ---------------------------------- 5.9/46.2 MB 8.8 MB/s eta 0:00:05\n",
      "   ----- ---------------------------------- 6.2/46.2 MB 8.9 MB/s eta 0:00:05\n",
      "   ----- ---------------------------------- 6.5/46.2 MB 8.5 MB/s eta 0:00:05\n",
      "   ----- ---------------------------------- 6.8/46.2 MB 8.4 MB/s eta 0:00:05\n",
      "   ------ --------------------------------- 7.4/46.2 MB 8.6 MB/s eta 0:00:05\n",
      "   ------ --------------------------------- 7.9/46.2 MB 8.7 MB/s eta 0:00:05\n",
      "   ------- -------------------------------- 8.4/46.2 MB 8.8 MB/s eta 0:00:05\n",
      "   ------- -------------------------------- 9.0/46.2 MB 9.0 MB/s eta 0:00:05\n",
      "   -------- ------------------------------- 9.4/46.2 MB 9.0 MB/s eta 0:00:05\n",
      "   -------- ------------------------------- 9.8/46.2 MB 9.0 MB/s eta 0:00:05\n",
      "   -------- ------------------------------- 10.2/46.2 MB 8.9 MB/s eta 0:00:05\n",
      "   --------- ------------------------------ 10.6/46.2 MB 9.0 MB/s eta 0:00:04\n",
      "   --------- ------------------------------ 11.0/46.2 MB 9.0 MB/s eta 0:00:04\n",
      "   --------- ------------------------------ 11.3/46.2 MB 8.8 MB/s eta 0:00:04\n",
      "   ---------- ----------------------------- 11.7/46.2 MB 8.8 MB/s eta 0:00:04\n",
      "   ---------- ----------------------------- 12.1/46.2 MB 9.0 MB/s eta 0:00:04\n",
      "   ---------- ----------------------------- 12.6/46.2 MB 8.8 MB/s eta 0:00:04\n",
      "   ----------- ---------------------------- 13.1/46.2 MB 9.1 MB/s eta 0:00:04\n",
      "   ----------- ---------------------------- 13.6/46.2 MB 9.2 MB/s eta 0:00:04\n",
      "   ------------ --------------------------- 14.3/46.2 MB 9.4 MB/s eta 0:00:04\n",
      "   ------------ --------------------------- 14.7/46.2 MB 9.4 MB/s eta 0:00:04\n",
      "   ------------- -------------------------- 15.1/46.2 MB 9.2 MB/s eta 0:00:04\n",
      "   ------------- -------------------------- 15.5/46.2 MB 9.4 MB/s eta 0:00:04\n",
      "   ------------- -------------------------- 15.8/46.2 MB 9.2 MB/s eta 0:00:04\n",
      "   -------------- ------------------------- 16.2/46.2 MB 9.6 MB/s eta 0:00:04\n",
      "   -------------- ------------------------- 16.2/46.2 MB 9.6 MB/s eta 0:00:04\n",
      "   -------------- ------------------------- 16.2/46.2 MB 9.6 MB/s eta 0:00:04\n",
      "   -------------- ------------------------- 16.2/46.2 MB 9.6 MB/s eta 0:00:04\n",
      "   -------------- ------------------------- 16.2/46.2 MB 9.6 MB/s eta 0:00:04\n",
      "   -------------- ------------------------- 16.2/46.2 MB 9.6 MB/s eta 0:00:04\n",
      "   -------------- ------------------------- 16.5/46.2 MB 7.8 MB/s eta 0:00:04\n",
      "   -------------- ------------------------- 16.5/46.2 MB 7.4 MB/s eta 0:00:04\n",
      "   --------------- ------------------------ 17.6/46.2 MB 7.9 MB/s eta 0:00:04\n",
      "   --------------- ------------------------ 18.2/46.2 MB 8.0 MB/s eta 0:00:04\n",
      "   ---------------- ----------------------- 18.5/46.2 MB 7.9 MB/s eta 0:00:04\n",
      "   ---------------- ----------------------- 18.9/46.2 MB 7.7 MB/s eta 0:00:04\n",
      "   ---------------- ----------------------- 19.3/46.2 MB 7.7 MB/s eta 0:00:04\n",
      "   ----------------- ---------------------- 19.8/46.2 MB 7.7 MB/s eta 0:00:04\n",
      "   ----------------- ---------------------- 20.2/46.2 MB 7.7 MB/s eta 0:00:04\n",
      "   ----------------- ---------------------- 20.5/46.2 MB 7.7 MB/s eta 0:00:04\n",
      "   ------------------ --------------------- 20.8/46.2 MB 7.5 MB/s eta 0:00:04\n",
      "   ------------------ --------------------- 21.1/46.2 MB 7.5 MB/s eta 0:00:04\n",
      "   ------------------ --------------------- 21.4/46.2 MB 7.4 MB/s eta 0:00:04\n",
      "   ------------------ --------------------- 21.7/46.2 MB 7.5 MB/s eta 0:00:04\n",
      "   ------------------- -------------------- 22.0/46.2 MB 7.5 MB/s eta 0:00:04\n",
      "   ------------------- -------------------- 22.3/46.2 MB 7.4 MB/s eta 0:00:04\n",
      "   ------------------- -------------------- 22.6/46.2 MB 7.4 MB/s eta 0:00:04\n",
      "   ------------------- -------------------- 22.9/46.2 MB 7.3 MB/s eta 0:00:04\n",
      "   -------------------- ------------------- 23.2/46.2 MB 7.1 MB/s eta 0:00:04\n",
      "   -------------------- ------------------- 23.5/46.2 MB 7.0 MB/s eta 0:00:04\n",
      "   -------------------- ------------------- 23.8/46.2 MB 6.9 MB/s eta 0:00:04\n",
      "   -------------------- ------------------- 24.0/46.2 MB 6.8 MB/s eta 0:00:04\n",
      "   --------------------- ------------------ 24.5/46.2 MB 6.6 MB/s eta 0:00:04\n",
      "   --------------------- ------------------ 24.8/46.2 MB 6.5 MB/s eta 0:00:04\n",
      "   --------------------- ------------------ 25.0/46.2 MB 6.5 MB/s eta 0:00:04\n",
      "   --------------------- ------------------ 25.2/46.2 MB 6.5 MB/s eta 0:00:04\n",
      "   ---------------------- ----------------- 25.6/46.2 MB 6.4 MB/s eta 0:00:04\n",
      "   ---------------------- ----------------- 26.0/46.2 MB 6.4 MB/s eta 0:00:04\n",
      "   ---------------------- ----------------- 26.3/46.2 MB 6.3 MB/s eta 0:00:04\n",
      "   ---------------------- ----------------- 26.3/46.2 MB 6.3 MB/s eta 0:00:04\n",
      "   ---------------------- ----------------- 26.5/46.2 MB 7.3 MB/s eta 0:00:03\n",
      "   ----------------------- ---------------- 26.6/46.2 MB 7.0 MB/s eta 0:00:03\n",
      "   ----------------------- ---------------- 26.7/46.2 MB 6.8 MB/s eta 0:00:03\n",
      "   ----------------------- ---------------- 26.9/46.2 MB 7.0 MB/s eta 0:00:03\n",
      "   ----------------------- ---------------- 27.0/46.2 MB 6.8 MB/s eta 0:00:03\n",
      "   ----------------------- ---------------- 27.4/46.2 MB 6.7 MB/s eta 0:00:03\n",
      "   ------------------------ --------------- 27.9/46.2 MB 6.5 MB/s eta 0:00:03\n",
      "   ------------------------ --------------- 28.3/46.2 MB 6.4 MB/s eta 0:00:03\n",
      "   ------------------------ --------------- 28.8/46.2 MB 6.5 MB/s eta 0:00:03\n",
      "   ------------------------- -------------- 29.3/46.2 MB 6.5 MB/s eta 0:00:03\n",
      "   ------------------------- -------------- 29.5/46.2 MB 6.4 MB/s eta 0:00:03\n",
      "   ------------------------- -------------- 29.7/46.2 MB 6.4 MB/s eta 0:00:03\n",
      "   -------------------------- ------------- 30.2/46.2 MB 6.4 MB/s eta 0:00:03\n",
      "   -------------------------- ------------- 30.4/46.2 MB 6.4 MB/s eta 0:00:03\n",
      "   -------------------------- ------------- 30.4/46.2 MB 6.4 MB/s eta 0:00:03\n",
      "   -------------------------- ------------- 30.4/46.2 MB 6.4 MB/s eta 0:00:03\n",
      "   -------------------------- ------------- 30.4/46.2 MB 6.4 MB/s eta 0:00:03\n",
      "   --------------------------- ------------ 31.2/46.2 MB 6.0 MB/s eta 0:00:03\n",
      "   ---------------------------- ----------- 32.8/46.2 MB 6.8 MB/s eta 0:00:02\n",
      "   ---------------------------- ----------- 33.3/46.2 MB 7.0 MB/s eta 0:00:02\n",
      "   ----------------------------- ---------- 33.8/46.2 MB 7.1 MB/s eta 0:00:02\n",
      "   ----------------------------- ---------- 34.2/46.2 MB 7.2 MB/s eta 0:00:02\n",
      "   ----------------------------- ---------- 34.5/46.2 MB 7.3 MB/s eta 0:00:02\n",
      "   ------------------------------ --------- 34.7/46.2 MB 7.0 MB/s eta 0:00:02\n",
      "   ------------------------------ --------- 35.2/46.2 MB 7.2 MB/s eta 0:00:02\n",
      "   ------------------------------ --------- 35.6/46.2 MB 7.4 MB/s eta 0:00:02\n",
      "   ------------------------------ --------- 35.7/46.2 MB 7.3 MB/s eta 0:00:02\n",
      "   ------------------------------- -------- 36.0/46.2 MB 7.4 MB/s eta 0:00:02\n",
      "   ------------------------------- -------- 36.3/46.2 MB 7.2 MB/s eta 0:00:02\n",
      "   ------------------------------- -------- 36.6/46.2 MB 7.2 MB/s eta 0:00:02\n",
      "   -------------------------------- ------- 36.9/46.2 MB 7.8 MB/s eta 0:00:02\n",
      "   -------------------------------- ------- 37.4/46.2 MB 8.2 MB/s eta 0:00:02\n",
      "   -------------------------------- ------- 37.9/46.2 MB 8.2 MB/s eta 0:00:02\n",
      "   --------------------------------- ------ 38.4/46.2 MB 8.3 MB/s eta 0:00:01\n",
      "   --------------------------------- ------ 38.9/46.2 MB 8.3 MB/s eta 0:00:01\n",
      "   ---------------------------------- ----- 39.3/46.2 MB 8.3 MB/s eta 0:00:01\n",
      "   ---------------------------------- ----- 39.9/46.2 MB 8.5 MB/s eta 0:00:01\n",
      "   ---------------------------------- ----- 40.2/46.2 MB 8.6 MB/s eta 0:00:01\n",
      "   ----------------------------------- ---- 40.5/46.2 MB 8.5 MB/s eta 0:00:01\n",
      "   ----------------------------------- ---- 40.9/46.2 MB 9.6 MB/s eta 0:00:01\n",
      "   ----------------------------------- ---- 41.2/46.2 MB 9.6 MB/s eta 0:00:01\n",
      "   ----------------------------------- ---- 41.2/46.2 MB 9.6 MB/s eta 0:00:01\n",
      "   ----------------------------------- ---- 41.5/46.2 MB 9.0 MB/s eta 0:00:01\n",
      "   ------------------------------------ --- 41.9/46.2 MB 8.6 MB/s eta 0:00:01\n",
      "   ------------------------------------ --- 42.4/46.2 MB 8.3 MB/s eta 0:00:01\n",
      "   ------------------------------------- -- 42.9/46.2 MB 8.1 MB/s eta 0:00:01\n",
      "   ------------------------------------- -- 43.5/46.2 MB 8.2 MB/s eta 0:00:01\n",
      "   -------------------------------------- - 44.0/46.2 MB 8.3 MB/s eta 0:00:01\n",
      "   -------------------------------------- - 44.7/46.2 MB 8.4 MB/s eta 0:00:01\n",
      "   ---------------------------------------  45.1/46.2 MB 8.6 MB/s eta 0:00:01\n",
      "   ---------------------------------------  45.4/46.2 MB 8.6 MB/s eta 0:00:01\n",
      "   ---------------------------------------  45.9/46.2 MB 8.6 MB/s eta 0:00:01\n",
      "   ---------------------------------------  46.2/46.2 MB 8.7 MB/s eta 0:00:01\n",
      "   ---------------------------------------  46.2/46.2 MB 8.7 MB/s eta 0:00:01\n",
      "   ---------------------------------------  46.2/46.2 MB 8.7 MB/s eta 0:00:01\n",
      "   ---------------------------------------- 46.2/46.2 MB 7.5 MB/s eta 0:00:00\n",
      "Downloading threadpoolctl-3.4.0-py3-none-any.whl (17 kB)\n",
      "Installing collected packages: threadpoolctl, scipy, joblib, scikit-learn\n",
      "Successfully installed joblib-1.3.2 scikit-learn-1.4.1.post1 scipy-1.12.0 threadpoolctl-3.4.0\n"
     ]
    },
    {
     "name": "stderr",
     "output_type": "stream",
     "text": [
      "\n",
      "[notice] A new release of pip is available: 23.2.1 -> 24.0\n",
      "[notice] To update, run: python.exe -m pip install --upgrade pip\n"
     ]
    }
   ],
   "source": [
    "!pip install scikit-learn"
   ]
  },
  {
   "cell_type": "code",
   "execution_count": 48,
   "id": "0f37997a-6041-4d21-b64b-8887faef1c14",
   "metadata": {},
   "outputs": [
    {
     "name": "stdout",
     "output_type": "stream",
     "text": [
      "[[4.90699100e-01 2.09002478e-01 9.70806869e-01 ... 4.64036983e-01\n",
      "  2.13625803e-01 2.95546518e-01]\n",
      " [7.64638936e-01 9.99588826e-01 1.39479706e-01 ... 7.73323956e-01\n",
      "  2.08420985e-02 8.50556471e-01]\n",
      " [7.17296291e-01 9.89493399e-01 5.45403350e-02 ... 4.49396729e-04\n",
      "  1.76451342e-01 8.98396343e-02]\n",
      " ...\n",
      " [1.68748698e-01 5.68074490e-01 6.16281757e-03 ... 9.51290775e-01\n",
      "  1.53999098e-02 7.03343398e-01]\n",
      " [2.15422103e-01 4.09883660e-03 1.62769826e-01 ... 6.56735886e-02\n",
      "  4.63622277e-01 9.23886176e-01]\n",
      " [7.98178700e-01 8.97950254e-01 4.67696660e-01 ... 6.84487070e-01\n",
      "  2.46128664e-01 1.73153027e-01]]\n",
      "[[0.4906991  0.48682071 0.84405158 ... 0.31639284 0.21452395 0.54686261]\n",
      " [0.48682071 0.99958883 0.56448655 ... 0.67069922 0.01247047 0.87425336]\n",
      " [0.84405158 0.56448655 0.05454033 ... 0.00330611 0.16961058 0.27876815]\n",
      " ...\n",
      " [0.31639284 0.67069922 0.00330611 ... 0.95129078 0.04053675 0.69391523]\n",
      " [0.21452395 0.01247047 0.16961058 ... 0.04053675 0.46362228 0.58500742]\n",
      " [0.54686261 0.87425336 0.27876815 ... 0.69391523 0.58500742 0.17315303]]\n",
      "[[0.         0.48682071 0.84405158 ... 0.31639284 0.21452395 0.54686261]\n",
      " [0.48682071 0.         0.56448655 ... 0.67069922 0.01247047 0.87425336]\n",
      " [0.84405158 0.56448655 0.         ... 0.00330611 0.16961058 0.27876815]\n",
      " ...\n",
      " [0.31639284 0.67069922 0.00330611 ... 0.         0.04053675 0.69391523]\n",
      " [0.21452395 0.01247047 0.16961058 ... 0.04053675 0.         0.58500742]\n",
      " [0.54686261 0.87425336 0.27876815 ... 0.69391523 0.58500742 0.        ]]\n"
     ]
    },
    {
     "data": {
      "application/vnd.plotly.v1+json": {
       "config": {
        "plotlyServerURL": "https://plot.ly"
       },
       "data": [
        {
         "hoverinfo": "text",
         "mode": "markers",
         "name": "Distance",
         "text": [
          "ID: Point 1",
          "ID: Point 2",
          "ID: Point 3",
          "ID: Point 4",
          "ID: Point 5",
          "ID: Point 6",
          "ID: Point 7",
          "ID: Point 8",
          "ID: Point 9",
          "ID: Point 10",
          "ID: Point 11",
          "ID: Point 12",
          "ID: Point 13",
          "ID: Point 14",
          "ID: Point 15",
          "ID: Point 16",
          "ID: Point 17",
          "ID: Point 18",
          "ID: Point 19",
          "ID: Point 20",
          "ID: Point 21",
          "ID: Point 22",
          "ID: Point 23",
          "ID: Point 24",
          "ID: Point 25",
          "ID: Point 26",
          "ID: Point 27",
          "ID: Point 28",
          "ID: Point 29",
          "ID: Point 30",
          "ID: Point 31",
          "ID: Point 32",
          "ID: Point 33",
          "ID: Point 34",
          "ID: Point 35",
          "ID: Point 36",
          "ID: Point 37",
          "ID: Point 38",
          "ID: Point 39",
          "ID: Point 40",
          "ID: Point 41",
          "ID: Point 42",
          "ID: Point 43",
          "ID: Point 44",
          "ID: Point 45",
          "ID: Point 46",
          "ID: Point 47",
          "ID: Point 48",
          "ID: Point 49",
          "ID: Point 50",
          "ID: Point 51",
          "ID: Point 52",
          "ID: Point 53",
          "ID: Point 54",
          "ID: Point 55",
          "ID: Point 56",
          "ID: Point 57",
          "ID: Point 58",
          "ID: Point 59",
          "ID: Point 60"
         ],
         "type": "scatter",
         "x": [
          0.3375580847738118,
          0.7603195634066843,
          0.8341204948681974,
          0.5032580821810168,
          0.7354096149368545,
          0.3159682026801319,
          0.3223955085323438,
          0.21953296702365266,
          0.4848553652635204,
          0.33001087072727464,
          0.08413097964340355,
          0.3670287024001371,
          0.5374519291613469,
          0.7735132459111347,
          0.6721337903324907,
          0.5321387883751338,
          0.18330123043199698,
          0.08603029162629888,
          0.7224214591763464,
          0.6550892847174259,
          0.21400534652779013,
          0.5675895669092299,
          0.6592364209681252,
          0.17994132618283015,
          0.842069536073494,
          0.2086791636475953,
          0.11999579331188148,
          0.7351012178616471,
          0,
          0.8692911996535868,
          0.6088101703207471,
          0.2782316462277876,
          0.15988689078392992,
          0.4709000094537785,
          0.8094618469280104,
          0.6934139605314735,
          0.2954552756524037,
          0.557309349704299,
          0.3696888260787141,
          0.20181399446255227,
          0.44384001272768014,
          0.3730460468037312,
          0.9063181518520242,
          0.3462065224761173,
          0.43574351825235086,
          0.7231668165917395,
          0.6899758980625383,
          0.542597846720417,
          0.13538264823691282,
          0.2391737374283704,
          0.39068671015418593,
          0.47274156347601315,
          0.4102376641727513,
          0.8391574362317713,
          0.7988404504812775,
          0.6357238827655616,
          0.21605014572856912,
          0.5452356249552415,
          0.6390454435350288,
          0.6221296336302655
         ],
         "y": [
          0,
          0.15875152066486076,
          0.507484072643264,
          0.6582708018268056,
          0.15653225238578755,
          0.4176172723626309,
          0.6472715177550356,
          0.771831943378102,
          0.8961790523120922,
          0.8326869655040581,
          0.5209733335754199,
          0.7834356094977087,
          0.02704619447167733,
          0.7032636749204866,
          0.8278241907604715,
          0.5355399939608513,
          0.553133429374119,
          0.6013088655518564,
          0.36371612347112287,
          0.12752981798533752,
          0.37984635156576757,
          0.03724073965652891,
          0.40441858622175086,
          0.2871114666895441,
          0.37941549580978584,
          0.21175437760673063,
          0.23716953552049386,
          0.5737255349512054,
          0.45046039058576776,
          0.5786706240030974,
          0.33222302745697363,
          0.1325050990087117,
          0.3850092159004802,
          0.22371834511234506,
          0.21088582040866372,
          0.5954712755016308,
          0.32278000118439265,
          0.1294293391013135,
          0.2448801948116138,
          0.6630027040931445,
          0.13635282604785665,
          0.6197483113077693,
          0.5318126023481786,
          0.4855779827072828,
          0.7554460973540749,
          0.759906311016191,
          0.7239859489496772,
          0.7393588292175635,
          0.16535126084361473,
          0.6487654456107818,
          0.32980884228858875,
          0.4373717338035905,
          0.8559870034871728,
          0.4592289528175344,
          0.2742257085920805,
          0.07890162032660869,
          0.47608832213950303,
          0.2672173179973568,
          0.2347073109795046,
          0.6918472588818779
         ]
        }
       ],
       "layout": {
        "dragmode": false,
        "height": 600,
        "plot_bgcolor": "#FFF0D5",
        "template": {
         "data": {
          "bar": [
           {
            "error_x": {
             "color": "#2a3f5f"
            },
            "error_y": {
             "color": "#2a3f5f"
            },
            "marker": {
             "line": {
              "color": "#E5ECF6",
              "width": 0.5
             },
             "pattern": {
              "fillmode": "overlay",
              "size": 10,
              "solidity": 0.2
             }
            },
            "type": "bar"
           }
          ],
          "barpolar": [
           {
            "marker": {
             "line": {
              "color": "#E5ECF6",
              "width": 0.5
             },
             "pattern": {
              "fillmode": "overlay",
              "size": 10,
              "solidity": 0.2
             }
            },
            "type": "barpolar"
           }
          ],
          "carpet": [
           {
            "aaxis": {
             "endlinecolor": "#2a3f5f",
             "gridcolor": "white",
             "linecolor": "white",
             "minorgridcolor": "white",
             "startlinecolor": "#2a3f5f"
            },
            "baxis": {
             "endlinecolor": "#2a3f5f",
             "gridcolor": "white",
             "linecolor": "white",
             "minorgridcolor": "white",
             "startlinecolor": "#2a3f5f"
            },
            "type": "carpet"
           }
          ],
          "choropleth": [
           {
            "colorbar": {
             "outlinewidth": 0,
             "ticks": ""
            },
            "type": "choropleth"
           }
          ],
          "contour": [
           {
            "colorbar": {
             "outlinewidth": 0,
             "ticks": ""
            },
            "colorscale": [
             [
              0,
              "#0d0887"
             ],
             [
              0.1111111111111111,
              "#46039f"
             ],
             [
              0.2222222222222222,
              "#7201a8"
             ],
             [
              0.3333333333333333,
              "#9c179e"
             ],
             [
              0.4444444444444444,
              "#bd3786"
             ],
             [
              0.5555555555555556,
              "#d8576b"
             ],
             [
              0.6666666666666666,
              "#ed7953"
             ],
             [
              0.7777777777777778,
              "#fb9f3a"
             ],
             [
              0.8888888888888888,
              "#fdca26"
             ],
             [
              1,
              "#f0f921"
             ]
            ],
            "type": "contour"
           }
          ],
          "contourcarpet": [
           {
            "colorbar": {
             "outlinewidth": 0,
             "ticks": ""
            },
            "type": "contourcarpet"
           }
          ],
          "heatmap": [
           {
            "colorbar": {
             "outlinewidth": 0,
             "ticks": ""
            },
            "colorscale": [
             [
              0,
              "#0d0887"
             ],
             [
              0.1111111111111111,
              "#46039f"
             ],
             [
              0.2222222222222222,
              "#7201a8"
             ],
             [
              0.3333333333333333,
              "#9c179e"
             ],
             [
              0.4444444444444444,
              "#bd3786"
             ],
             [
              0.5555555555555556,
              "#d8576b"
             ],
             [
              0.6666666666666666,
              "#ed7953"
             ],
             [
              0.7777777777777778,
              "#fb9f3a"
             ],
             [
              0.8888888888888888,
              "#fdca26"
             ],
             [
              1,
              "#f0f921"
             ]
            ],
            "type": "heatmap"
           }
          ],
          "heatmapgl": [
           {
            "colorbar": {
             "outlinewidth": 0,
             "ticks": ""
            },
            "colorscale": [
             [
              0,
              "#0d0887"
             ],
             [
              0.1111111111111111,
              "#46039f"
             ],
             [
              0.2222222222222222,
              "#7201a8"
             ],
             [
              0.3333333333333333,
              "#9c179e"
             ],
             [
              0.4444444444444444,
              "#bd3786"
             ],
             [
              0.5555555555555556,
              "#d8576b"
             ],
             [
              0.6666666666666666,
              "#ed7953"
             ],
             [
              0.7777777777777778,
              "#fb9f3a"
             ],
             [
              0.8888888888888888,
              "#fdca26"
             ],
             [
              1,
              "#f0f921"
             ]
            ],
            "type": "heatmapgl"
           }
          ],
          "histogram": [
           {
            "marker": {
             "pattern": {
              "fillmode": "overlay",
              "size": 10,
              "solidity": 0.2
             }
            },
            "type": "histogram"
           }
          ],
          "histogram2d": [
           {
            "colorbar": {
             "outlinewidth": 0,
             "ticks": ""
            },
            "colorscale": [
             [
              0,
              "#0d0887"
             ],
             [
              0.1111111111111111,
              "#46039f"
             ],
             [
              0.2222222222222222,
              "#7201a8"
             ],
             [
              0.3333333333333333,
              "#9c179e"
             ],
             [
              0.4444444444444444,
              "#bd3786"
             ],
             [
              0.5555555555555556,
              "#d8576b"
             ],
             [
              0.6666666666666666,
              "#ed7953"
             ],
             [
              0.7777777777777778,
              "#fb9f3a"
             ],
             [
              0.8888888888888888,
              "#fdca26"
             ],
             [
              1,
              "#f0f921"
             ]
            ],
            "type": "histogram2d"
           }
          ],
          "histogram2dcontour": [
           {
            "colorbar": {
             "outlinewidth": 0,
             "ticks": ""
            },
            "colorscale": [
             [
              0,
              "#0d0887"
             ],
             [
              0.1111111111111111,
              "#46039f"
             ],
             [
              0.2222222222222222,
              "#7201a8"
             ],
             [
              0.3333333333333333,
              "#9c179e"
             ],
             [
              0.4444444444444444,
              "#bd3786"
             ],
             [
              0.5555555555555556,
              "#d8576b"
             ],
             [
              0.6666666666666666,
              "#ed7953"
             ],
             [
              0.7777777777777778,
              "#fb9f3a"
             ],
             [
              0.8888888888888888,
              "#fdca26"
             ],
             [
              1,
              "#f0f921"
             ]
            ],
            "type": "histogram2dcontour"
           }
          ],
          "mesh3d": [
           {
            "colorbar": {
             "outlinewidth": 0,
             "ticks": ""
            },
            "type": "mesh3d"
           }
          ],
          "parcoords": [
           {
            "line": {
             "colorbar": {
              "outlinewidth": 0,
              "ticks": ""
             }
            },
            "type": "parcoords"
           }
          ],
          "pie": [
           {
            "automargin": true,
            "type": "pie"
           }
          ],
          "scatter": [
           {
            "fillpattern": {
             "fillmode": "overlay",
             "size": 10,
             "solidity": 0.2
            },
            "type": "scatter"
           }
          ],
          "scatter3d": [
           {
            "line": {
             "colorbar": {
              "outlinewidth": 0,
              "ticks": ""
             }
            },
            "marker": {
             "colorbar": {
              "outlinewidth": 0,
              "ticks": ""
             }
            },
            "type": "scatter3d"
           }
          ],
          "scattercarpet": [
           {
            "marker": {
             "colorbar": {
              "outlinewidth": 0,
              "ticks": ""
             }
            },
            "type": "scattercarpet"
           }
          ],
          "scattergeo": [
           {
            "marker": {
             "colorbar": {
              "outlinewidth": 0,
              "ticks": ""
             }
            },
            "type": "scattergeo"
           }
          ],
          "scattergl": [
           {
            "marker": {
             "colorbar": {
              "outlinewidth": 0,
              "ticks": ""
             }
            },
            "type": "scattergl"
           }
          ],
          "scattermapbox": [
           {
            "marker": {
             "colorbar": {
              "outlinewidth": 0,
              "ticks": ""
             }
            },
            "type": "scattermapbox"
           }
          ],
          "scatterpolar": [
           {
            "marker": {
             "colorbar": {
              "outlinewidth": 0,
              "ticks": ""
             }
            },
            "type": "scatterpolar"
           }
          ],
          "scatterpolargl": [
           {
            "marker": {
             "colorbar": {
              "outlinewidth": 0,
              "ticks": ""
             }
            },
            "type": "scatterpolargl"
           }
          ],
          "scatterternary": [
           {
            "marker": {
             "colorbar": {
              "outlinewidth": 0,
              "ticks": ""
             }
            },
            "type": "scatterternary"
           }
          ],
          "surface": [
           {
            "colorbar": {
             "outlinewidth": 0,
             "ticks": ""
            },
            "colorscale": [
             [
              0,
              "#0d0887"
             ],
             [
              0.1111111111111111,
              "#46039f"
             ],
             [
              0.2222222222222222,
              "#7201a8"
             ],
             [
              0.3333333333333333,
              "#9c179e"
             ],
             [
              0.4444444444444444,
              "#bd3786"
             ],
             [
              0.5555555555555556,
              "#d8576b"
             ],
             [
              0.6666666666666666,
              "#ed7953"
             ],
             [
              0.7777777777777778,
              "#fb9f3a"
             ],
             [
              0.8888888888888888,
              "#fdca26"
             ],
             [
              1,
              "#f0f921"
             ]
            ],
            "type": "surface"
           }
          ],
          "table": [
           {
            "cells": {
             "fill": {
              "color": "#EBF0F8"
             },
             "line": {
              "color": "white"
             }
            },
            "header": {
             "fill": {
              "color": "#C8D4E3"
             },
             "line": {
              "color": "white"
             }
            },
            "type": "table"
           }
          ]
         },
         "layout": {
          "annotationdefaults": {
           "arrowcolor": "#2a3f5f",
           "arrowhead": 0,
           "arrowwidth": 1
          },
          "autotypenumbers": "strict",
          "coloraxis": {
           "colorbar": {
            "outlinewidth": 0,
            "ticks": ""
           }
          },
          "colorscale": {
           "diverging": [
            [
             0,
             "#8e0152"
            ],
            [
             0.1,
             "#c51b7d"
            ],
            [
             0.2,
             "#de77ae"
            ],
            [
             0.3,
             "#f1b6da"
            ],
            [
             0.4,
             "#fde0ef"
            ],
            [
             0.5,
             "#f7f7f7"
            ],
            [
             0.6,
             "#e6f5d0"
            ],
            [
             0.7,
             "#b8e186"
            ],
            [
             0.8,
             "#7fbc41"
            ],
            [
             0.9,
             "#4d9221"
            ],
            [
             1,
             "#276419"
            ]
           ],
           "sequential": [
            [
             0,
             "#0d0887"
            ],
            [
             0.1111111111111111,
             "#46039f"
            ],
            [
             0.2222222222222222,
             "#7201a8"
            ],
            [
             0.3333333333333333,
             "#9c179e"
            ],
            [
             0.4444444444444444,
             "#bd3786"
            ],
            [
             0.5555555555555556,
             "#d8576b"
            ],
            [
             0.6666666666666666,
             "#ed7953"
            ],
            [
             0.7777777777777778,
             "#fb9f3a"
            ],
            [
             0.8888888888888888,
             "#fdca26"
            ],
            [
             1,
             "#f0f921"
            ]
           ],
           "sequentialminus": [
            [
             0,
             "#0d0887"
            ],
            [
             0.1111111111111111,
             "#46039f"
            ],
            [
             0.2222222222222222,
             "#7201a8"
            ],
            [
             0.3333333333333333,
             "#9c179e"
            ],
            [
             0.4444444444444444,
             "#bd3786"
            ],
            [
             0.5555555555555556,
             "#d8576b"
            ],
            [
             0.6666666666666666,
             "#ed7953"
            ],
            [
             0.7777777777777778,
             "#fb9f3a"
            ],
            [
             0.8888888888888888,
             "#fdca26"
            ],
            [
             1,
             "#f0f921"
            ]
           ]
          },
          "colorway": [
           "#636efa",
           "#EF553B",
           "#00cc96",
           "#ab63fa",
           "#FFA15A",
           "#19d3f3",
           "#FF6692",
           "#B6E880",
           "#FF97FF",
           "#FECB52"
          ],
          "font": {
           "color": "#2a3f5f"
          },
          "geo": {
           "bgcolor": "white",
           "lakecolor": "white",
           "landcolor": "#E5ECF6",
           "showlakes": true,
           "showland": true,
           "subunitcolor": "white"
          },
          "hoverlabel": {
           "align": "left"
          },
          "hovermode": "closest",
          "mapbox": {
           "style": "light"
          },
          "paper_bgcolor": "white",
          "plot_bgcolor": "#E5ECF6",
          "polar": {
           "angularaxis": {
            "gridcolor": "white",
            "linecolor": "white",
            "ticks": ""
           },
           "bgcolor": "#E5ECF6",
           "radialaxis": {
            "gridcolor": "white",
            "linecolor": "white",
            "ticks": ""
           }
          },
          "scene": {
           "xaxis": {
            "backgroundcolor": "#E5ECF6",
            "gridcolor": "white",
            "gridwidth": 2,
            "linecolor": "white",
            "showbackground": true,
            "ticks": "",
            "zerolinecolor": "white"
           },
           "yaxis": {
            "backgroundcolor": "#E5ECF6",
            "gridcolor": "white",
            "gridwidth": 2,
            "linecolor": "white",
            "showbackground": true,
            "ticks": "",
            "zerolinecolor": "white"
           },
           "zaxis": {
            "backgroundcolor": "#E5ECF6",
            "gridcolor": "white",
            "gridwidth": 2,
            "linecolor": "white",
            "showbackground": true,
            "ticks": "",
            "zerolinecolor": "white"
           }
          },
          "shapedefaults": {
           "line": {
            "color": "#2a3f5f"
           }
          },
          "ternary": {
           "aaxis": {
            "gridcolor": "white",
            "linecolor": "white",
            "ticks": ""
           },
           "baxis": {
            "gridcolor": "white",
            "linecolor": "white",
            "ticks": ""
           },
           "bgcolor": "#E5ECF6",
           "caxis": {
            "gridcolor": "white",
            "linecolor": "white",
            "ticks": ""
           }
          },
          "title": {
           "x": 0.05
          },
          "xaxis": {
           "automargin": true,
           "gridcolor": "white",
           "linecolor": "white",
           "ticks": "",
           "title": {
            "standoff": 15
           },
           "zerolinecolor": "white",
           "zerolinewidth": 2
          },
          "yaxis": {
           "automargin": true,
           "gridcolor": "white",
           "linecolor": "white",
           "ticks": "",
           "title": {
            "standoff": 15
           },
           "zerolinecolor": "white",
           "zerolinewidth": 2
          }
         }
        },
        "title": {
         "text": "Distance between trees"
        },
        "width": 800,
        "xaxis": {
         "autorange": true,
         "color": "#FFFFFF",
         "range": [
          -0.05699362168638499,
          0.9633117735384092
         ],
         "type": "linear"
        },
        "yaxis": {
         "autorange": true,
         "color": "#FFFFFF",
         "range": [
          -0.05986621199655677,
          0.9560452643086489
         ],
         "type": "linear"
        }
       }
      },
      "image/png": "[encoded data removed]",
      "text/html": [
       "<div>                            <div id=\"20e7c1ab-2eae-437f-beb6-8d8fd325b3bc\" class=\"plotly-graph-div\" style=\"height:600px; width:800px;\"></div>            <script type=\"text/javascript\">                require([\"plotly\"], function(Plotly) {                    window.PLOTLYENV=window.PLOTLYENV || {};                                    if (document.getElementById(\"20e7c1ab-2eae-437f-beb6-8d8fd325b3bc\")) {                    Plotly.newPlot(                        \"20e7c1ab-2eae-437f-beb6-8d8fd325b3bc\",                        [{\"hoverinfo\":\"text\",\"mode\":\"markers\",\"name\":\"Distance\",\"text\":[\"ID: Point 1\",\"ID: Point 2\",\"ID: Point 3\",\"ID: Point 4\",\"ID: Point 5\",\"ID: Point 6\",\"ID: Point 7\",\"ID: Point 8\",\"ID: Point 9\",\"ID: Point 10\",\"ID: Point 11\",\"ID: Point 12\",\"ID: Point 13\",\"ID: Point 14\",\"ID: Point 15\",\"ID: Point 16\",\"ID: Point 17\",\"ID: Point 18\",\"ID: Point 19\",\"ID: Point 20\",\"ID: Point 21\",\"ID: Point 22\",\"ID: Point 23\",\"ID: Point 24\",\"ID: Point 25\",\"ID: Point 26\",\"ID: Point 27\",\"ID: Point 28\",\"ID: Point 29\",\"ID: Point 30\",\"ID: Point 31\",\"ID: Point 32\",\"ID: Point 33\",\"ID: Point 34\",\"ID: Point 35\",\"ID: Point 36\",\"ID: Point 37\",\"ID: Point 38\",\"ID: Point 39\",\"ID: Point 40\",\"ID: Point 41\",\"ID: Point 42\",\"ID: Point 43\",\"ID: Point 44\",\"ID: Point 45\",\"ID: Point 46\",\"ID: Point 47\",\"ID: Point 48\",\"ID: Point 49\",\"ID: Point 50\",\"ID: Point 51\",\"ID: Point 52\",\"ID: Point 53\",\"ID: Point 54\",\"ID: Point 55\",\"ID: Point 56\",\"ID: Point 57\",\"ID: Point 58\",\"ID: Point 59\",\"ID: Point 60\"],\"x\":[0.3375580847738118,0.7603195634066843,0.8341204948681974,0.5032580821810168,0.7354096149368545,0.3159682026801319,0.3223955085323438,0.21953296702365266,0.4848553652635204,0.33001087072727464,0.08413097964340355,0.3670287024001371,0.5374519291613469,0.7735132459111347,0.6721337903324907,0.5321387883751338,0.18330123043199698,0.08603029162629888,0.7224214591763464,0.6550892847174259,0.21400534652779013,0.5675895669092299,0.6592364209681252,0.17994132618283015,0.842069536073494,0.2086791636475953,0.11999579331188148,0.7351012178616471,0.0,0.8692911996535868,0.6088101703207471,0.2782316462277876,0.15988689078392992,0.4709000094537785,0.8094618469280104,0.6934139605314735,0.2954552756524037,0.557309349704299,0.3696888260787141,0.20181399446255227,0.44384001272768014,0.3730460468037312,0.9063181518520242,0.3462065224761173,0.43574351825235086,0.7231668165917395,0.6899758980625383,0.542597846720417,0.13538264823691282,0.2391737374283704,0.39068671015418593,0.47274156347601315,0.4102376641727513,0.8391574362317713,0.7988404504812775,0.6357238827655616,0.21605014572856912,0.5452356249552415,0.6390454435350288,0.6221296336302655],\"y\":[0.0,0.15875152066486076,0.507484072643264,0.6582708018268056,0.15653225238578755,0.4176172723626309,0.6472715177550356,0.771831943378102,0.8961790523120922,0.8326869655040581,0.5209733335754199,0.7834356094977087,0.02704619447167733,0.7032636749204866,0.8278241907604715,0.5355399939608513,0.553133429374119,0.6013088655518564,0.36371612347112287,0.12752981798533752,0.37984635156576757,0.03724073965652891,0.40441858622175086,0.2871114666895441,0.37941549580978584,0.21175437760673063,0.23716953552049386,0.5737255349512054,0.45046039058576776,0.5786706240030974,0.33222302745697363,0.1325050990087117,0.3850092159004802,0.22371834511234506,0.21088582040866372,0.5954712755016308,0.32278000118439265,0.1294293391013135,0.2448801948116138,0.6630027040931445,0.13635282604785665,0.6197483113077693,0.5318126023481786,0.4855779827072828,0.7554460973540749,0.759906311016191,0.7239859489496772,0.7393588292175635,0.16535126084361473,0.6487654456107818,0.32980884228858875,0.4373717338035905,0.8559870034871728,0.4592289528175344,0.2742257085920805,0.07890162032660869,0.47608832213950303,0.2672173179973568,0.2347073109795046,0.6918472588818779],\"type\":\"scatter\"}],                        {\"template\":{\"data\":{\"histogram2dcontour\":[{\"type\":\"histogram2dcontour\",\"colorbar\":{\"outlinewidth\":0,\"ticks\":\"\"},\"colorscale\":[[0.0,\"#0d0887\"],[0.1111111111111111,\"#46039f\"],[0.2222222222222222,\"#7201a8\"],[0.3333333333333333,\"#9c179e\"],[0.4444444444444444,\"#bd3786\"],[0.5555555555555556,\"#d8576b\"],[0.6666666666666666,\"#ed7953\"],[0.7777777777777778,\"#fb9f3a\"],[0.8888888888888888,\"#fdca26\"],[1.0,\"#f0f921\"]]}],\"choropleth\":[{\"type\":\"choropleth\",\"colorbar\":{\"outlinewidth\":0,\"ticks\":\"\"}}],\"histogram2d\":[{\"type\":\"histogram2d\",\"colorbar\":{\"outlinewidth\":0,\"ticks\":\"\"},\"colorscale\":[[0.0,\"#0d0887\"],[0.1111111111111111,\"#46039f\"],[0.2222222222222222,\"#7201a8\"],[0.3333333333333333,\"#9c179e\"],[0.4444444444444444,\"#bd3786\"],[0.5555555555555556,\"#d8576b\"],[0.6666666666666666,\"#ed7953\"],[0.7777777777777778,\"#fb9f3a\"],[0.8888888888888888,\"#fdca26\"],[1.0,\"#f0f921\"]]}],\"heatmap\":[{\"type\":\"heatmap\",\"colorbar\":{\"outlinewidth\":0,\"ticks\":\"\"},\"colorscale\":[[0.0,\"#0d0887\"],[0.1111111111111111,\"#46039f\"],[0.2222222222222222,\"#7201a8\"],[0.3333333333333333,\"#9c179e\"],[0.4444444444444444,\"#bd3786\"],[0.5555555555555556,\"#d8576b\"],[0.6666666666666666,\"#ed7953\"],[0.7777777777777778,\"#fb9f3a\"],[0.8888888888888888,\"#fdca26\"],[1.0,\"#f0f921\"]]}],\"heatmapgl\":[{\"type\":\"heatmapgl\",\"colorbar\":{\"outlinewidth\":0,\"ticks\":\"\"},\"colorscale\":[[0.0,\"#0d0887\"],[0.1111111111111111,\"#46039f\"],[0.2222222222222222,\"#7201a8\"],[0.3333333333333333,\"#9c179e\"],[0.4444444444444444,\"#bd3786\"],[0.5555555555555556,\"#d8576b\"],[0.6666666666666666,\"#ed7953\"],[0.7777777777777778,\"#fb9f3a\"],[0.8888888888888888,\"#fdca26\"],[1.0,\"#f0f921\"]]}],\"contourcarpet\":[{\"type\":\"contourcarpet\",\"colorbar\":{\"outlinewidth\":0,\"ticks\":\"\"}}],\"contour\":[{\"type\":\"contour\",\"colorbar\":{\"outlinewidth\":0,\"ticks\":\"\"},\"colorscale\":[[0.0,\"#0d0887\"],[0.1111111111111111,\"#46039f\"],[0.2222222222222222,\"#7201a8\"],[0.3333333333333333,\"#9c179e\"],[0.4444444444444444,\"#bd3786\"],[0.5555555555555556,\"#d8576b\"],[0.6666666666666666,\"#ed7953\"],[0.7777777777777778,\"#fb9f3a\"],[0.8888888888888888,\"#fdca26\"],[1.0,\"#f0f921\"]]}],\"surface\":[{\"type\":\"surface\",\"colorbar\":{\"outlinewidth\":0,\"ticks\":\"\"},\"colorscale\":[[0.0,\"#0d0887\"],[0.1111111111111111,\"#46039f\"],[0.2222222222222222,\"#7201a8\"],[0.3333333333333333,\"#9c179e\"],[0.4444444444444444,\"#bd3786\"],[0.5555555555555556,\"#d8576b\"],[0.6666666666666666,\"#ed7953\"],[0.7777777777777778,\"#fb9f3a\"],[0.8888888888888888,\"#fdca26\"],[1.0,\"#f0f921\"]]}],\"mesh3d\":[{\"type\":\"mesh3d\",\"colorbar\":{\"outlinewidth\":0,\"ticks\":\"\"}}],\"scatter\":[{\"fillpattern\":{\"fillmode\":\"overlay\",\"size\":10,\"solidity\":0.2},\"type\":\"scatter\"}],\"parcoords\":[{\"type\":\"parcoords\",\"line\":{\"colorbar\":{\"outlinewidth\":0,\"ticks\":\"\"}}}],\"scatterpolargl\":[{\"type\":\"scatterpolargl\",\"marker\":{\"colorbar\":{\"outlinewidth\":0,\"ticks\":\"\"}}}],\"bar\":[{\"error_x\":{\"color\":\"#2a3f5f\"},\"error_y\":{\"color\":\"#2a3f5f\"},\"marker\":{\"line\":{\"color\":\"#E5ECF6\",\"width\":0.5},\"pattern\":{\"fillmode\":\"overlay\",\"size\":10,\"solidity\":0.2}},\"type\":\"bar\"}],\"scattergeo\":[{\"type\":\"scattergeo\",\"marker\":{\"colorbar\":{\"outlinewidth\":0,\"ticks\":\"\"}}}],\"scatterpolar\":[{\"type\":\"scatterpolar\",\"marker\":{\"colorbar\":{\"outlinewidth\":0,\"ticks\":\"\"}}}],\"histogram\":[{\"marker\":{\"pattern\":{\"fillmode\":\"overlay\",\"size\":10,\"solidity\":0.2}},\"type\":\"histogram\"}],\"scattergl\":[{\"type\":\"scattergl\",\"marker\":{\"colorbar\":{\"outlinewidth\":0,\"ticks\":\"\"}}}],\"scatter3d\":[{\"type\":\"scatter3d\",\"line\":{\"colorbar\":{\"outlinewidth\":0,\"ticks\":\"\"}},\"marker\":{\"colorbar\":{\"outlinewidth\":0,\"ticks\":\"\"}}}],\"scattermapbox\":[{\"type\":\"scattermapbox\",\"marker\":{\"colorbar\":{\"outlinewidth\":0,\"ticks\":\"\"}}}],\"scatterternary\":[{\"type\":\"scatterternary\",\"marker\":{\"colorbar\":{\"outlinewidth\":0,\"ticks\":\"\"}}}],\"scattercarpet\":[{\"type\":\"scattercarpet\",\"marker\":{\"colorbar\":{\"outlinewidth\":0,\"ticks\":\"\"}}}],\"carpet\":[{\"aaxis\":{\"endlinecolor\":\"#2a3f5f\",\"gridcolor\":\"white\",\"linecolor\":\"white\",\"minorgridcolor\":\"white\",\"startlinecolor\":\"#2a3f5f\"},\"baxis\":{\"endlinecolor\":\"#2a3f5f\",\"gridcolor\":\"white\",\"linecolor\":\"white\",\"minorgridcolor\":\"white\",\"startlinecolor\":\"#2a3f5f\"},\"type\":\"carpet\"}],\"table\":[{\"cells\":{\"fill\":{\"color\":\"#EBF0F8\"},\"line\":{\"color\":\"white\"}},\"header\":{\"fill\":{\"color\":\"#C8D4E3\"},\"line\":{\"color\":\"white\"}},\"type\":\"table\"}],\"barpolar\":[{\"marker\":{\"line\":{\"color\":\"#E5ECF6\",\"width\":0.5},\"pattern\":{\"fillmode\":\"overlay\",\"size\":10,\"solidity\":0.2}},\"type\":\"barpolar\"}],\"pie\":[{\"automargin\":true,\"type\":\"pie\"}]},\"layout\":{\"autotypenumbers\":\"strict\",\"colorway\":[\"#636efa\",\"#EF553B\",\"#00cc96\",\"#ab63fa\",\"#FFA15A\",\"#19d3f3\",\"#FF6692\",\"#B6E880\",\"#FF97FF\",\"#FECB52\"],\"font\":{\"color\":\"#2a3f5f\"},\"hovermode\":\"closest\",\"hoverlabel\":{\"align\":\"left\"},\"paper_bgcolor\":\"white\",\"plot_bgcolor\":\"#E5ECF6\",\"polar\":{\"bgcolor\":\"#E5ECF6\",\"angularaxis\":{\"gridcolor\":\"white\",\"linecolor\":\"white\",\"ticks\":\"\"},\"radialaxis\":{\"gridcolor\":\"white\",\"linecolor\":\"white\",\"ticks\":\"\"}},\"ternary\":{\"bgcolor\":\"#E5ECF6\",\"aaxis\":{\"gridcolor\":\"white\",\"linecolor\":\"white\",\"ticks\":\"\"},\"baxis\":{\"gridcolor\":\"white\",\"linecolor\":\"white\",\"ticks\":\"\"},\"caxis\":{\"gridcolor\":\"white\",\"linecolor\":\"white\",\"ticks\":\"\"}},\"coloraxis\":{\"colorbar\":{\"outlinewidth\":0,\"ticks\":\"\"}},\"colorscale\":{\"sequential\":[[0.0,\"#0d0887\"],[0.1111111111111111,\"#46039f\"],[0.2222222222222222,\"#7201a8\"],[0.3333333333333333,\"#9c179e\"],[0.4444444444444444,\"#bd3786\"],[0.5555555555555556,\"#d8576b\"],[0.6666666666666666,\"#ed7953\"],[0.7777777777777778,\"#fb9f3a\"],[0.8888888888888888,\"#fdca26\"],[1.0,\"#f0f921\"]],\"sequentialminus\":[[0.0,\"#0d0887\"],[0.1111111111111111,\"#46039f\"],[0.2222222222222222,\"#7201a8\"],[0.3333333333333333,\"#9c179e\"],[0.4444444444444444,\"#bd3786\"],[0.5555555555555556,\"#d8576b\"],[0.6666666666666666,\"#ed7953\"],[0.7777777777777778,\"#fb9f3a\"],[0.8888888888888888,\"#fdca26\"],[1.0,\"#f0f921\"]],\"diverging\":[[0,\"#8e0152\"],[0.1,\"#c51b7d\"],[0.2,\"#de77ae\"],[0.3,\"#f1b6da\"],[0.4,\"#fde0ef\"],[0.5,\"#f7f7f7\"],[0.6,\"#e6f5d0\"],[0.7,\"#b8e186\"],[0.8,\"#7fbc41\"],[0.9,\"#4d9221\"],[1,\"#276419\"]]},\"xaxis\":{\"gridcolor\":\"white\",\"linecolor\":\"white\",\"ticks\":\"\",\"title\":{\"standoff\":15},\"zerolinecolor\":\"white\",\"automargin\":true,\"zerolinewidth\":2},\"yaxis\":{\"gridcolor\":\"white\",\"linecolor\":\"white\",\"ticks\":\"\",\"title\":{\"standoff\":15},\"zerolinecolor\":\"white\",\"automargin\":true,\"zerolinewidth\":2},\"scene\":{\"xaxis\":{\"backgroundcolor\":\"#E5ECF6\",\"gridcolor\":\"white\",\"linecolor\":\"white\",\"showbackground\":true,\"ticks\":\"\",\"zerolinecolor\":\"white\",\"gridwidth\":2},\"yaxis\":{\"backgroundcolor\":\"#E5ECF6\",\"gridcolor\":\"white\",\"linecolor\":\"white\",\"showbackground\":true,\"ticks\":\"\",\"zerolinecolor\":\"white\",\"gridwidth\":2},\"zaxis\":{\"backgroundcolor\":\"#E5ECF6\",\"gridcolor\":\"white\",\"linecolor\":\"white\",\"showbackground\":true,\"ticks\":\"\",\"zerolinecolor\":\"white\",\"gridwidth\":2}},\"shapedefaults\":{\"line\":{\"color\":\"#2a3f5f\"}},\"annotationdefaults\":{\"arrowcolor\":\"#2a3f5f\",\"arrowhead\":0,\"arrowwidth\":1},\"geo\":{\"bgcolor\":\"white\",\"landcolor\":\"#E5ECF6\",\"subunitcolor\":\"white\",\"showland\":true,\"showlakes\":true,\"lakecolor\":\"white\"},\"title\":{\"x\":0.05},\"mapbox\":{\"style\":\"light\"}}},\"dragmode\":false,\"xaxis\":{\"color\":\"#FFFFFF\"},\"yaxis\":{\"color\":\"#FFFFFF\"},\"title\":{\"text\":\"Distance between trees\"},\"plot_bgcolor\":\"#FFF0D5\",\"width\":800,\"height\":600},                        {\"responsive\": true}                    ).then(function(){\n",
       "                            \n",
       "var gd = document.getElementById('20e7c1ab-2eae-437f-beb6-8d8fd325b3bc');\n",
       "var x = new MutationObserver(function (mutations, observer) {{\n",
       "        var display = window.getComputedStyle(gd).display;\n",
       "        if (!display || display === 'none') {{\n",
       "            console.log([gd, 'removed!']);\n",
       "            Plotly.purge(gd);\n",
       "            observer.disconnect();\n",
       "        }}\n",
       "}});\n",
       "\n",
       "// Listen for the removal of the full notebook cells\n",
       "var notebookContainer = gd.closest('#notebook-container');\n",
       "if (notebookContainer) {{\n",
       "    x.observe(notebookContainer, {childList: true});\n",
       "}}\n",
       "\n",
       "// Listen for the clearing of the current output cell\n",
       "var outputEl = gd.closest('.output');\n",
       "if (outputEl) {{\n",
       "    x.observe(outputEl, {childList: true});\n",
       "}}\n",
       "\n",
       "                        })                };                });            </script>        </div>"
      ]
     },
     "metadata": {},
     "output_type": "display_data"
    }
   ],
   "source": [
    "# Testing code for tree distance\n",
    "\n",
    "import plotly.graph_objects as go\n",
    "from sklearn.manifold import MDS\n",
    "import numpy as np\n",
    "\n",
    "BG = '#FFF0D5'\n",
    "# 1. random distance matrix → rf_distance between tree\n",
    "points_id = ['Point ' + str(i) for i in range(1, 61)]\n",
    "num_points = len(points_id)\n",
    "distances = np.random.rand(num_points, num_points)\n",
    ")\n",
    "\n",
    "# 2. MDS to calculate coordinates according the distance precomputed\n",
    "mds = MDS(n_components=2, dissimilarity='precomputed')\n",
    "coordinates = mds.fit_transform(distances)\n",
    "\n",
    "coordinates -= coordinates.min(axis=0)\n",
    "\n",
    "# 3. Plot out all point with coordinate\n",
    "fig = go.Figure() \n",
    "\n",
    "# mode : text+markers / lines\n",
    "hover_text = [f'ID: {points_id[i]}' for i in range(num_points)]\n",
    "fig.add_trace(go.Scatter(x=coordinates[:, 0], y=coordinates[:, 1], mode='markers', name='Distance',hoverinfo='text',text=hover_text))\n",
    "fig.update_layout(dragmode=False)\n",
    "fig.update_layout(title='Distance between trees',plot_bgcolor=BG,width=800, height=600,xaxis=dict(color=BLANK),yaxis=dict(color=BLANK))\n",
    "\n",
    "fig.show()\n"
   ]
  },
  {
   "cell_type": "code",
   "execution_count": 4,
   "id": "d0f4675f-819c-43bb-82e2-39594d04980c",
   "metadata": {},
   "outputs": [
    {
     "data": {
      "application/vnd.jupyter.widget-view+json": {
       "model_id": "1d577df75c9841bd9bb6c450342c7bf9",
       "version_major": 2,
       "version_minor": 0
      },
      "text/plain": [
       "Canvas(height=100, width=200)"
      ]
     },
     "execution_count": 4,
     "metadata": {},
     "output_type": "execute_result"
    }
   ],
   "source": [
    "from ipycanvas import Canvas\n",
    "\n",
    "canvas = Canvas(width=200, height=100)\n",
    "\n",
    "canvas.fill_rect(10,10,20,20)\n",
    "canvas.fill_rect(30,30,20,20)\n",
    "\n",
    "canvas\n"
   ]
  },
  {
   "cell_type": "code",
   "execution_count": 5,
   "id": "119b7fe9-75df-4786-89ca-67dc6b17327c",
   "metadata": {},
   "outputs": [
    {
     "data": {
      "application/vnd.jupyter.widget-view+json": {
       "model_id": "6f4fbf50b13c4bbaa87d6561e2cb63b1",
       "version_major": 2,
       "version_minor": 0
      },
      "text/plain": [
       "Canvas(height=100, width=200)"
      ]
     },
     "execution_count": 5,
     "metadata": {},
     "output_type": "execute_result"
    }
   ],
   "source": [
    "canvas2 = Canvas(width=200, height=100)\n",
    "canvas2.draw_image(canvas,0,0)\n",
    "\n",
    "canvas2"
   ]
  },
  {
   "cell_type": "code",
   "execution_count": 2,
   "id": "fbafd54f-2a21-4133-9407-8af150b90703",
   "metadata": {},
   "outputs": [
    {
     "name": "stdout",
     "output_type": "stream",
     "text": [
      "Collecting selenium\n",
      "  Obtaining dependency information for selenium from https://files.pythonhosted.org/packages/b4/f9/e9ac5e4c5d84b07c7d117d67b2c84be221bcb9e62ff31fd0a1bbc06099c0/selenium-4.19.0-py3-none-any.whl.metadata\n",
      "  Downloading selenium-4.19.0-py3-none-any.whl.metadata (6.9 kB)\n",
      "Requirement already satisfied: urllib3[socks]<3,>=1.26 in c:\\users\\coral\\desktop\\phylo\\venv\\lib\\site-packages (from selenium) (2.1.0)\n",
      "Collecting trio~=0.17 (from selenium)\n",
      "  Obtaining dependency information for trio~=0.17 from https://files.pythonhosted.org/packages/17/c9/f86f89f14d52f9f2f652ce24cb2f60141a51d087db1563f3fba94ba07346/trio-0.25.0-py3-none-any.whl.metadata\n",
      "  Downloading trio-0.25.0-py3-none-any.whl.metadata (8.7 kB)\n",
      "Collecting trio-websocket~=0.9 (from selenium)\n",
      "  Obtaining dependency information for trio-websocket~=0.9 from https://files.pythonhosted.org/packages/48/be/a9ae5f50cad5b6f85bd2574c2c923730098530096e170c1ce7452394d7aa/trio_websocket-0.11.1-py3-none-any.whl.metadata\n",
      "  Downloading trio_websocket-0.11.1-py3-none-any.whl.metadata (4.7 kB)\n",
      "Requirement already satisfied: certifi>=2021.10.8 in c:\\users\\coral\\desktop\\phylo\\venv\\lib\\site-packages (from selenium) (2023.7.22)\n",
      "Collecting typing_extensions>=4.9.0 (from selenium)\n",
      "  Obtaining dependency information for typing_extensions>=4.9.0 from https://files.pythonhosted.org/packages/01/f3/936e209267d6ef7510322191003885de524fc48d1b43269810cd589ceaf5/typing_extensions-4.11.0-py3-none-any.whl.metadata\n",
      "  Downloading typing_extensions-4.11.0-py3-none-any.whl.metadata (3.0 kB)\n",
      "Collecting attrs>=23.2.0 (from trio~=0.17->selenium)\n",
      "  Obtaining dependency information for attrs>=23.2.0 from https://files.pythonhosted.org/packages/e0/44/827b2a91a5816512fcaf3cc4ebc465ccd5d598c45cefa6703fcf4a79018f/attrs-23.2.0-py3-none-any.whl.metadata\n",
      "  Downloading attrs-23.2.0-py3-none-any.whl.metadata (9.5 kB)\n",
      "Collecting sortedcontainers (from trio~=0.17->selenium)\n",
      "  Obtaining dependency information for sortedcontainers from https://files.pythonhosted.org/packages/32/46/9cb0e58b2deb7f82b84065f37f3bffeb12413f947f9388e4cac22c4621ce/sortedcontainers-2.4.0-py2.py3-none-any.whl.metadata\n",
      "  Downloading sortedcontainers-2.4.0-py2.py3-none-any.whl.metadata (10 kB)\n",
      "Requirement already satisfied: idna in c:\\users\\coral\\desktop\\phylo\\venv\\lib\\site-packages (from trio~=0.17->selenium) (3.4)\n",
      "Collecting outcome (from trio~=0.17->selenium)\n",
      "  Obtaining dependency information for outcome from https://files.pythonhosted.org/packages/55/8b/5ab7257531a5d830fc8000c476e63c935488d74609b50f9384a643ec0a62/outcome-1.3.0.post0-py2.py3-none-any.whl.metadata\n",
      "  Downloading outcome-1.3.0.post0-py2.py3-none-any.whl.metadata (2.6 kB)\n",
      "Requirement already satisfied: sniffio>=1.3.0 in c:\\users\\coral\\desktop\\phylo\\venv\\lib\\site-packages (from trio~=0.17->selenium) (1.3.0)\n",
      "Requirement already satisfied: cffi>=1.14 in c:\\users\\coral\\desktop\\phylo\\venv\\lib\\site-packages (from trio~=0.17->selenium) (1.16.0)\n",
      "Collecting wsproto>=0.14 (from trio-websocket~=0.9->selenium)\n",
      "  Obtaining dependency information for wsproto>=0.14 from https://files.pythonhosted.org/packages/78/58/e860788190eba3bcce367f74d29c4675466ce8dddfba85f7827588416f01/wsproto-1.2.0-py3-none-any.whl.metadata\n",
      "  Downloading wsproto-1.2.0-py3-none-any.whl.metadata (5.6 kB)\n",
      "Collecting pysocks!=1.5.7,<2.0,>=1.5.6 (from urllib3[socks]<3,>=1.26->selenium)\n",
      "  Obtaining dependency information for pysocks!=1.5.7,<2.0,>=1.5.6 from https://files.pythonhosted.org/packages/8d/59/b4572118e098ac8e46e399a1dd0f2d85403ce8bbaad9ec79373ed6badaf9/PySocks-1.7.1-py3-none-any.whl.metadata\n",
      "  Downloading PySocks-1.7.1-py3-none-any.whl.metadata (13 kB)\n",
      "Requirement already satisfied: pycparser in c:\\users\\coral\\desktop\\phylo\\venv\\lib\\site-packages (from cffi>=1.14->trio~=0.17->selenium) (2.21)\n",
      "Collecting h11<1,>=0.9.0 (from wsproto>=0.14->trio-websocket~=0.9->selenium)\n",
      "  Obtaining dependency information for h11<1,>=0.9.0 from https://files.pythonhosted.org/packages/95/04/ff642e65ad6b90db43e668d70ffb6736436c7ce41fcc549f4e9472234127/h11-0.14.0-py3-none-any.whl.metadata\n",
      "  Downloading h11-0.14.0-py3-none-any.whl.metadata (8.2 kB)\n",
      "Downloading selenium-4.19.0-py3-none-any.whl (10.5 MB)\n",
      "   ---------------------------------------- 0.0/10.5 MB ? eta -:--:--\n",
      "   ---------------------------------------- 0.0/10.5 MB ? eta -:--:--\n",
      "   ---------------------------------------- 0.0/10.5 MB 660.6 kB/s eta 0:00:16\n",
      "   ---------------------------------------- 0.1/10.5 MB 660.6 kB/s eta 0:00:16\n",
      "    --------------------------------------- 0.2/10.5 MB 919.0 kB/s eta 0:00:12\n",
      "   - -------------------------------------- 0.3/10.5 MB 1.4 MB/s eta 0:00:08\n",
      "   - -------------------------------------- 0.5/10.5 MB 2.0 MB/s eta 0:00:05\n",
      "   --- ------------------------------------ 0.9/10.5 MB 3.0 MB/s eta 0:00:04\n",
      "   ----- ---------------------------------- 1.3/10.5 MB 3.9 MB/s eta 0:00:03\n",
      "   ------- -------------------------------- 2.1/10.5 MB 5.4 MB/s eta 0:00:02\n",
      "   --------- ------------------------------ 2.5/10.5 MB 6.0 MB/s eta 0:00:02\n",
      "   --------- ------------------------------ 2.5/10.5 MB 5.4 MB/s eta 0:00:02\n",
      "   --------- ------------------------------ 2.5/10.5 MB 5.4 MB/s eta 0:00:02\n",
      "   ---------- ----------------------------- 2.8/10.5 MB 4.8 MB/s eta 0:00:02\n",
      "   ---------- ----------------------------- 2.8/10.5 MB 4.9 MB/s eta 0:00:02\n",
      "   ---------- ----------------------------- 2.8/10.5 MB 4.4 MB/s eta 0:00:02\n",
      "   ---------- ----------------------------- 2.8/10.5 MB 4.4 MB/s eta 0:00:02\n",
      "   ----------- ---------------------------- 3.1/10.5 MB 4.2 MB/s eta 0:00:02\n",
      "   ------------ --------------------------- 3.2/10.5 MB 4.2 MB/s eta 0:00:02\n",
      "   ------------ --------------------------- 3.2/10.5 MB 3.8 MB/s eta 0:00:02\n",
      "   ------------ --------------------------- 3.3/10.5 MB 3.7 MB/s eta 0:00:02\n",
      "   ------------ --------------------------- 3.3/10.5 MB 3.5 MB/s eta 0:00:03\n",
      "   ------------ --------------------------- 3.3/10.5 MB 3.5 MB/s eta 0:00:03\n",
      "   ------------ --------------------------- 3.3/10.5 MB 3.5 MB/s eta 0:00:03\n",
      "   ------------ --------------------------- 3.4/10.5 MB 3.1 MB/s eta 0:00:03\n",
      "   ------------- -------------------------- 3.5/10.5 MB 3.1 MB/s eta 0:00:03\n",
      "   ------------- -------------------------- 3.5/10.5 MB 3.1 MB/s eta 0:00:03\n",
      "   ------------- -------------------------- 3.6/10.5 MB 2.9 MB/s eta 0:00:03\n",
      "   ------------- -------------------------- 3.6/10.5 MB 2.8 MB/s eta 0:00:03\n",
      "   ------------- -------------------------- 3.6/10.5 MB 2.8 MB/s eta 0:00:03\n",
      "   -------------- ------------------------- 3.7/10.5 MB 2.7 MB/s eta 0:00:03\n",
      "   -------------- ------------------------- 3.7/10.5 MB 2.7 MB/s eta 0:00:03\n",
      "   -------------- ------------------------- 3.7/10.5 MB 2.7 MB/s eta 0:00:03\n",
      "   -------------- ------------------------- 3.8/10.5 MB 2.6 MB/s eta 0:00:03\n",
      "   -------------- ------------------------- 3.8/10.5 MB 2.6 MB/s eta 0:00:03\n",
      "   -------------- ------------------------- 3.9/10.5 MB 2.5 MB/s eta 0:00:03\n",
      "   --------------- ------------------------ 4.0/10.5 MB 2.4 MB/s eta 0:00:03\n",
      "   --------------- ------------------------ 4.0/10.5 MB 2.4 MB/s eta 0:00:03\n",
      "   --------------- ------------------------ 4.0/10.5 MB 2.3 MB/s eta 0:00:03\n",
      "   --------------- ------------------------ 4.1/10.5 MB 2.3 MB/s eta 0:00:03\n",
      "   --------------- ------------------------ 4.1/10.5 MB 2.2 MB/s eta 0:00:03\n",
      "   --------------- ------------------------ 4.2/10.5 MB 2.2 MB/s eta 0:00:03\n",
      "   --------------- ------------------------ 4.2/10.5 MB 2.2 MB/s eta 0:00:03\n",
      "   --------------- ------------------------ 4.2/10.5 MB 2.2 MB/s eta 0:00:03\n",
      "   ---------------- ----------------------- 4.4/10.5 MB 2.2 MB/s eta 0:00:03\n",
      "   ----------------- ---------------------- 4.5/10.5 MB 2.2 MB/s eta 0:00:03\n",
      "   ----------------- ---------------------- 4.6/10.5 MB 2.2 MB/s eta 0:00:03\n",
      "   ----------------- ---------------------- 4.7/10.5 MB 2.2 MB/s eta 0:00:03\n",
      "   ----------------- ---------------------- 4.7/10.5 MB 2.2 MB/s eta 0:00:03\n",
      "   ------------------ --------------------- 4.8/10.5 MB 2.2 MB/s eta 0:00:03\n",
      "   ------------------ --------------------- 4.8/10.5 MB 2.2 MB/s eta 0:00:03\n",
      "   ------------------ --------------------- 5.0/10.5 MB 2.1 MB/s eta 0:00:03\n",
      "   ------------------ --------------------- 5.0/10.5 MB 2.1 MB/s eta 0:00:03\n",
      "   ------------------ --------------------- 5.0/10.5 MB 2.1 MB/s eta 0:00:03\n",
      "   ------------------- -------------------- 5.2/10.5 MB 2.1 MB/s eta 0:00:03\n",
      "   ------------------- -------------------- 5.2/10.5 MB 2.1 MB/s eta 0:00:03\n",
      "   ------------------- -------------------- 5.2/10.5 MB 2.0 MB/s eta 0:00:03\n",
      "   ------------------- -------------------- 5.2/10.5 MB 2.0 MB/s eta 0:00:03\n",
      "   ------------------- -------------------- 5.2/10.5 MB 2.0 MB/s eta 0:00:03\n",
      "   ------------------- -------------------- 5.2/10.5 MB 1.9 MB/s eta 0:00:03\n",
      "   -------------------- ------------------- 5.4/10.5 MB 2.0 MB/s eta 0:00:03\n",
      "   -------------------- ------------------- 5.4/10.5 MB 1.9 MB/s eta 0:00:03\n",
      "   -------------------- ------------------- 5.5/10.5 MB 1.9 MB/s eta 0:00:03\n",
      "   -------------------- ------------------- 5.5/10.5 MB 1.9 MB/s eta 0:00:03\n",
      "   -------------------- ------------------- 5.5/10.5 MB 1.9 MB/s eta 0:00:03\n",
      "   -------------------- ------------------- 5.5/10.5 MB 1.9 MB/s eta 0:00:03\n",
      "   --------------------- ------------------ 5.6/10.5 MB 1.8 MB/s eta 0:00:03\n",
      "   --------------------- ------------------ 5.6/10.5 MB 1.8 MB/s eta 0:00:03\n",
      "   --------------------- ------------------ 5.7/10.5 MB 1.8 MB/s eta 0:00:03\n",
      "   --------------------- ------------------ 5.7/10.5 MB 1.8 MB/s eta 0:00:03\n",
      "   --------------------- ------------------ 5.7/10.5 MB 1.8 MB/s eta 0:00:03\n",
      "   ---------------------- ----------------- 5.8/10.5 MB 1.8 MB/s eta 0:00:03\n",
      "   ---------------------- ----------------- 5.8/10.5 MB 1.8 MB/s eta 0:00:03\n",
      "   ---------------------- ----------------- 5.8/10.5 MB 1.8 MB/s eta 0:00:03\n",
      "   ---------------------- ----------------- 5.9/10.5 MB 1.7 MB/s eta 0:00:03\n",
      "   ---------------------- ----------------- 5.9/10.5 MB 1.7 MB/s eta 0:00:03\n",
      "   ---------------------- ----------------- 5.9/10.5 MB 1.7 MB/s eta 0:00:03\n",
      "   ---------------------- ----------------- 6.0/10.5 MB 1.7 MB/s eta 0:00:03\n",
      "   ---------------------- ----------------- 6.0/10.5 MB 1.7 MB/s eta 0:00:03\n",
      "   ----------------------- ---------------- 6.1/10.5 MB 1.7 MB/s eta 0:00:03\n",
      "   ----------------------- ---------------- 6.2/10.5 MB 1.7 MB/s eta 0:00:03\n",
      "   ----------------------- ---------------- 6.2/10.5 MB 1.7 MB/s eta 0:00:03\n",
      "   ----------------------- ---------------- 6.2/10.5 MB 1.6 MB/s eta 0:00:03\n",
      "   ----------------------- ---------------- 6.2/10.5 MB 1.6 MB/s eta 0:00:03\n",
      "   ----------------------- ---------------- 6.2/10.5 MB 1.6 MB/s eta 0:00:03\n",
      "   ----------------------- ---------------- 6.3/10.5 MB 1.6 MB/s eta 0:00:03\n",
      "   ----------------------- ---------------- 6.3/10.5 MB 1.6 MB/s eta 0:00:03\n",
      "   ------------------------ --------------- 6.4/10.5 MB 1.6 MB/s eta 0:00:03\n",
      "   ------------------------ --------------- 6.4/10.5 MB 1.6 MB/s eta 0:00:03\n",
      "   ------------------------ --------------- 6.4/10.5 MB 1.6 MB/s eta 0:00:03\n",
      "   ------------------------ --------------- 6.4/10.5 MB 1.6 MB/s eta 0:00:03\n",
      "   ------------------------ --------------- 6.5/10.5 MB 1.6 MB/s eta 0:00:03\n",
      "   ------------------------- -------------- 6.6/10.5 MB 1.6 MB/s eta 0:00:03\n",
      "   ------------------------- -------------- 6.6/10.5 MB 1.6 MB/s eta 0:00:03\n",
      "   ------------------------- -------------- 6.6/10.5 MB 1.6 MB/s eta 0:00:03\n",
      "   ------------------------- -------------- 6.7/10.5 MB 1.5 MB/s eta 0:00:03\n",
      "   ------------------------- -------------- 6.7/10.5 MB 1.5 MB/s eta 0:00:03\n",
      "   ------------------------- -------------- 6.7/10.5 MB 1.5 MB/s eta 0:00:03\n",
      "   ------------------------- -------------- 6.7/10.5 MB 1.5 MB/s eta 0:00:03\n",
      "   ------------------------- -------------- 6.7/10.5 MB 1.5 MB/s eta 0:00:03\n",
      "   ------------------------- -------------- 6.7/10.5 MB 1.5 MB/s eta 0:00:03\n",
      "   ------------------------- -------------- 6.7/10.5 MB 1.4 MB/s eta 0:00:03\n",
      "   ------------------------- -------------- 6.8/10.5 MB 1.4 MB/s eta 0:00:03\n",
      "   -------------------------- ------------- 6.9/10.5 MB 1.4 MB/s eta 0:00:03\n",
      "   -------------------------- ------------- 6.9/10.5 MB 1.4 MB/s eta 0:00:03\n",
      "   -------------------------- ------------- 7.0/10.5 MB 1.4 MB/s eta 0:00:03\n",
      "   -------------------------- ------------- 7.0/10.5 MB 1.4 MB/s eta 0:00:03\n",
      "   -------------------------- ------------- 7.0/10.5 MB 1.4 MB/s eta 0:00:03\n",
      "   -------------------------- ------------- 7.0/10.5 MB 1.4 MB/s eta 0:00:03\n",
      "   -------------------------- ------------- 7.1/10.5 MB 1.4 MB/s eta 0:00:03\n",
      "   --------------------------- ------------ 7.1/10.5 MB 1.4 MB/s eta 0:00:03\n",
      "   --------------------------- ------------ 7.1/10.5 MB 1.4 MB/s eta 0:00:03\n",
      "   --------------------------- ------------ 7.2/10.5 MB 1.4 MB/s eta 0:00:03\n",
      "   --------------------------- ------------ 7.2/10.5 MB 1.4 MB/s eta 0:00:03\n",
      "   --------------------------- ------------ 7.3/10.5 MB 1.4 MB/s eta 0:00:03\n",
      "   ---------------------------- ----------- 7.4/10.5 MB 1.4 MB/s eta 0:00:03\n",
      "   ---------------------------- ----------- 7.4/10.5 MB 1.4 MB/s eta 0:00:03\n",
      "   ---------------------------- ----------- 7.4/10.5 MB 1.4 MB/s eta 0:00:03\n",
      "   ---------------------------- ----------- 7.4/10.5 MB 1.4 MB/s eta 0:00:03\n",
      "   ---------------------------- ----------- 7.5/10.5 MB 1.4 MB/s eta 0:00:03\n",
      "   ---------------------------- ----------- 7.5/10.5 MB 1.4 MB/s eta 0:00:03\n",
      "   ---------------------------- ----------- 7.6/10.5 MB 1.4 MB/s eta 0:00:03\n",
      "   ----------------------------- ---------- 7.6/10.5 MB 1.4 MB/s eta 0:00:03\n",
      "   ----------------------------- ---------- 7.7/10.5 MB 1.3 MB/s eta 0:00:03\n",
      "   ----------------------------- ---------- 7.7/10.5 MB 1.3 MB/s eta 0:00:03\n",
      "   ----------------------------- ---------- 7.8/10.5 MB 1.3 MB/s eta 0:00:03\n",
      "   ----------------------------- ---------- 7.8/10.5 MB 1.3 MB/s eta 0:00:02\n",
      "   ----------------------------- ---------- 7.8/10.5 MB 1.3 MB/s eta 0:00:02\n",
      "   ------------------------------ --------- 7.9/10.5 MB 1.3 MB/s eta 0:00:02\n",
      "   ------------------------------ --------- 8.0/10.5 MB 1.3 MB/s eta 0:00:02\n",
      "   ------------------------------ --------- 8.0/10.5 MB 1.3 MB/s eta 0:00:02\n",
      "   ------------------------------ --------- 8.1/10.5 MB 1.3 MB/s eta 0:00:02\n",
      "   ------------------------------ --------- 8.1/10.5 MB 1.3 MB/s eta 0:00:02\n",
      "   ------------------------------- -------- 8.2/10.5 MB 1.3 MB/s eta 0:00:02\n",
      "   ------------------------------- -------- 8.2/10.5 MB 1.3 MB/s eta 0:00:02\n",
      "   ------------------------------- -------- 8.3/10.5 MB 1.3 MB/s eta 0:00:02\n",
      "   ------------------------------- -------- 8.3/10.5 MB 1.3 MB/s eta 0:00:02\n",
      "   ------------------------------- -------- 8.4/10.5 MB 1.3 MB/s eta 0:00:02\n",
      "   -------------------------------- ------- 8.4/10.5 MB 1.3 MB/s eta 0:00:02\n",
      "   -------------------------------- ------- 8.5/10.5 MB 1.3 MB/s eta 0:00:02\n",
      "   -------------------------------- ------- 8.5/10.5 MB 1.3 MB/s eta 0:00:02\n",
      "   -------------------------------- ------- 8.6/10.5 MB 1.3 MB/s eta 0:00:02\n",
      "   -------------------------------- ------- 8.7/10.5 MB 1.3 MB/s eta 0:00:02\n",
      "   --------------------------------- ------ 8.7/10.5 MB 1.3 MB/s eta 0:00:02\n",
      "   --------------------------------- ------ 8.8/10.5 MB 1.3 MB/s eta 0:00:02\n",
      "   --------------------------------- ------ 8.8/10.5 MB 1.3 MB/s eta 0:00:02\n",
      "   --------------------------------- ------ 8.9/10.5 MB 1.3 MB/s eta 0:00:02\n",
      "   ---------------------------------- ----- 9.0/10.5 MB 1.3 MB/s eta 0:00:02\n",
      "   ---------------------------------- ----- 9.0/10.5 MB 1.3 MB/s eta 0:00:02\n",
      "   ---------------------------------- ----- 9.1/10.5 MB 1.3 MB/s eta 0:00:02\n",
      "   ---------------------------------- ----- 9.1/10.5 MB 1.3 MB/s eta 0:00:02\n",
      "   ---------------------------------- ----- 9.2/10.5 MB 1.3 MB/s eta 0:00:02\n",
      "   ----------------------------------- ---- 9.3/10.5 MB 1.3 MB/s eta 0:00:01\n",
      "   ----------------------------------- ---- 9.4/10.5 MB 1.3 MB/s eta 0:00:01\n",
      "   ----------------------------------- ---- 9.4/10.5 MB 1.3 MB/s eta 0:00:01\n",
      "   ------------------------------------ --- 9.5/10.5 MB 1.3 MB/s eta 0:00:01\n",
      "   ------------------------------------ --- 9.5/10.5 MB 1.3 MB/s eta 0:00:01\n",
      "   ------------------------------------ --- 9.6/10.5 MB 1.3 MB/s eta 0:00:01\n",
      "   ------------------------------------ --- 9.7/10.5 MB 1.3 MB/s eta 0:00:01\n",
      "   ------------------------------------ --- 9.7/10.5 MB 1.3 MB/s eta 0:00:01\n",
      "   ------------------------------------ --- 9.7/10.5 MB 1.3 MB/s eta 0:00:01\n",
      "   ------------------------------------ --- 9.7/10.5 MB 1.3 MB/s eta 0:00:01\n",
      "   ------------------------------------ --- 9.7/10.5 MB 1.3 MB/s eta 0:00:01\n",
      "   ------------------------------------ --- 9.7/10.5 MB 1.3 MB/s eta 0:00:01\n",
      "   ------------------------------------ --- 9.7/10.5 MB 1.3 MB/s eta 0:00:01\n",
      "   ------------------------------------ --- 9.7/10.5 MB 1.3 MB/s eta 0:00:01\n",
      "   ------------------------------------- -- 9.8/10.5 MB 1.3 MB/s eta 0:00:01\n",
      "   ------------------------------------- -- 9.8/10.5 MB 1.3 MB/s eta 0:00:01\n",
      "   ------------------------------------- -- 9.8/10.5 MB 1.3 MB/s eta 0:00:01\n",
      "   ------------------------------------- -- 9.8/10.5 MB 1.3 MB/s eta 0:00:01\n",
      "   ------------------------------------- -- 9.8/10.5 MB 1.3 MB/s eta 0:00:01\n",
      "   ------------------------------------- -- 9.8/10.5 MB 1.2 MB/s eta 0:00:01\n",
      "   ------------------------------------- -- 9.8/10.5 MB 1.2 MB/s eta 0:00:01\n",
      "   ------------------------------------- -- 9.9/10.5 MB 1.2 MB/s eta 0:00:01\n",
      "   ------------------------------------- -- 9.9/10.5 MB 1.2 MB/s eta 0:00:01\n",
      "   ------------------------------------- -- 10.0/10.5 MB 1.2 MB/s eta 0:00:01\n",
      "   -------------------------------------- - 10.0/10.5 MB 1.2 MB/s eta 0:00:01\n",
      "   -------------------------------------- - 10.1/10.5 MB 1.2 MB/s eta 0:00:01\n",
      "   -------------------------------------- - 10.1/10.5 MB 1.2 MB/s eta 0:00:01\n",
      "   -------------------------------------- - 10.1/10.5 MB 1.2 MB/s eta 0:00:01\n",
      "   -------------------------------------- - 10.2/10.5 MB 1.2 MB/s eta 0:00:01\n",
      "   -------------------------------------- - 10.2/10.5 MB 1.2 MB/s eta 0:00:01\n",
      "   ---------------------------------------  10.2/10.5 MB 1.2 MB/s eta 0:00:01\n",
      "   ---------------------------------------  10.3/10.5 MB 1.2 MB/s eta 0:00:01\n",
      "   ---------------------------------------  10.3/10.5 MB 1.2 MB/s eta 0:00:01\n",
      "   ---------------------------------------  10.3/10.5 MB 1.2 MB/s eta 0:00:01\n",
      "   ---------------------------------------  10.3/10.5 MB 1.2 MB/s eta 0:00:01\n",
      "   ---------------------------------------  10.3/10.5 MB 1.2 MB/s eta 0:00:01\n",
      "   ---------------------------------------  10.3/10.5 MB 1.2 MB/s eta 0:00:01\n",
      "   ---------------------------------------  10.3/10.5 MB 1.2 MB/s eta 0:00:01\n",
      "   ---------------------------------------  10.4/10.5 MB 1.2 MB/s eta 0:00:01\n",
      "   ---------------------------------------  10.4/10.5 MB 1.2 MB/s eta 0:00:01\n",
      "   ---------------------------------------  10.4/10.5 MB 1.2 MB/s eta 0:00:01\n",
      "   ---------------------------------------  10.4/10.5 MB 1.2 MB/s eta 0:00:01\n",
      "   ---------------------------------------  10.4/10.5 MB 1.2 MB/s eta 0:00:01\n",
      "   ---------------------------------------  10.4/10.5 MB 1.2 MB/s eta 0:00:01\n",
      "   ---------------------------------------  10.4/10.5 MB 1.2 MB/s eta 0:00:01\n",
      "   ---------------------------------------  10.4/10.5 MB 1.2 MB/s eta 0:00:01\n",
      "   ---------------------------------------  10.4/10.5 MB 1.1 MB/s eta 0:00:01\n",
      "   ---------------------------------------  10.4/10.5 MB 1.1 MB/s eta 0:00:01\n",
      "   ---------------------------------------  10.4/10.5 MB 1.1 MB/s eta 0:00:01\n",
      "   ---------------------------------------  10.4/10.5 MB 1.1 MB/s eta 0:00:01\n",
      "   ---------------------------------------  10.4/10.5 MB 1.1 MB/s eta 0:00:01\n",
      "   ---------------------------------------  10.5/10.5 MB 1.1 MB/s eta 0:00:01\n",
      "   ---------------------------------------  10.5/10.5 MB 1.1 MB/s eta 0:00:01\n",
      "   ---------------------------------------  10.5/10.5 MB 1.1 MB/s eta 0:00:01\n",
      "   ---------------------------------------- 10.5/10.5 MB 1.1 MB/s eta 0:00:00\n",
      "Downloading trio-0.25.0-py3-none-any.whl (467 kB)\n",
      "   ---------------------------------------- 0.0/467.2 kB ? eta -:--:--\n",
      "    --------------------------------------- 10.2/467.2 kB ? eta -:--:--\n",
      "   -- ------------------------------------ 30.7/467.2 kB 445.2 kB/s eta 0:00:01\n",
      "   -- ------------------------------------ 30.7/467.2 kB 445.2 kB/s eta 0:00:01\n",
      "   --- ----------------------------------- 41.0/467.2 kB 219.4 kB/s eta 0:00:02\n",
      "   --- ----------------------------------- 41.0/467.2 kB 219.4 kB/s eta 0:00:02\n",
      "   --- ----------------------------------- 41.0/467.2 kB 219.4 kB/s eta 0:00:02\n",
      "   --- ----------------------------------- 41.0/467.2 kB 219.4 kB/s eta 0:00:02\n",
      "   --- ----------------------------------- 41.0/467.2 kB 219.4 kB/s eta 0:00:02\n",
      "   --- ----------------------------------- 41.0/467.2 kB 219.4 kB/s eta 0:00:02\n",
      "   --- ----------------------------------- 41.0/467.2 kB 219.4 kB/s eta 0:00:02\n",
      "   ----- --------------------------------- 61.4/467.2 kB 109.4 kB/s eta 0:00:04\n",
      "   ----- --------------------------------- 61.4/467.2 kB 109.4 kB/s eta 0:00:04\n",
      "   ----- --------------------------------- 71.7/467.2 kB 112.5 kB/s eta 0:00:04\n",
      "   ------- ------------------------------- 92.2/467.2 kB 138.1 kB/s eta 0:00:03\n",
      "   ------- ------------------------------- 92.2/467.2 kB 138.1 kB/s eta 0:00:03\n",
      "   ---------------- --------------------- 204.8/467.2 kB 276.8 kB/s eta 0:00:01\n",
      "   ---------------- --------------------- 204.8/467.2 kB 276.8 kB/s eta 0:00:01\n",
      "   -------------------- ----------------- 256.0/467.2 kB 314.7 kB/s eta 0:00:01\n",
      "   ----------------------- -------------- 286.7/467.2 kB 333.9 kB/s eta 0:00:01\n",
      "   ------------------------- ------------ 317.4/467.2 kB 345.2 kB/s eta 0:00:01\n",
      "   ----------------------------- -------- 358.4/467.2 kB 371.6 kB/s eta 0:00:01\n",
      "   ------------------------------------ - 450.6/467.2 kB 447.5 kB/s eta 0:00:01\n",
      "   -------------------------------------- 467.2/467.2 kB 456.9 kB/s eta 0:00:00\n",
      "Downloading trio_websocket-0.11.1-py3-none-any.whl (17 kB)\n",
      "Downloading typing_extensions-4.11.0-py3-none-any.whl (34 kB)\n",
      "Downloading attrs-23.2.0-py3-none-any.whl (60 kB)\n",
      "   ---------------------------------------- 0.0/60.8 kB ? eta -:--:--\n",
      "   -------------------- ------------------- 30.7/60.8 kB 1.3 MB/s eta 0:00:01\n",
      "   ---------------------------------------- 60.8/60.8 kB 801.8 kB/s eta 0:00:00\n",
      "Downloading PySocks-1.7.1-py3-none-any.whl (16 kB)\n",
      "Downloading wsproto-1.2.0-py3-none-any.whl (24 kB)\n",
      "Downloading outcome-1.3.0.post0-py2.py3-none-any.whl (10 kB)\n",
      "Downloading sortedcontainers-2.4.0-py2.py3-none-any.whl (29 kB)\n",
      "Downloading h11-0.14.0-py3-none-any.whl (58 kB)\n",
      "   ---------------------------------------- 0.0/58.3 kB ? eta -:--:--\n",
      "   ---------------------------------------- 0.0/58.3 kB ? eta -:--:--\n",
      "   ---------------------------------------- 0.0/58.3 kB ? eta -:--:--\n",
      "   ------- -------------------------------- 10.2/58.3 kB ? eta -:--:--\n",
      "   ---------------------------------------- 58.3/58.3 kB 774.5 kB/s eta 0:00:00\n",
      "Installing collected packages: sortedcontainers, typing_extensions, pysocks, h11, attrs, wsproto, outcome, trio, trio-websocket, selenium\n",
      "  Attempting uninstall: attrs\n",
      "    Found existing installation: attrs 23.1.0\n",
      "    Uninstalling attrs-23.1.0:\n",
      "      Successfully uninstalled attrs-23.1.0\n",
      "Successfully installed attrs-23.2.0 h11-0.14.0 outcome-1.3.0.post0 pysocks-1.7.1 selenium-4.19.0 sortedcontainers-2.4.0 trio-0.25.0 trio-websocket-0.11.1 typing_extensions-4.11.0 wsproto-1.2.0\n"
     ]
    },
    {
     "name": "stderr",
     "output_type": "stream",
     "text": [
      "\n",
      "[notice] A new release of pip is available: 23.2.1 -> 24.0\n",
      "[notice] To update, run: python.exe -m pip install --upgrade pip\n"
     ]
    }
   ],
   "source": [
    "!pip install selenium\n"
   ]
  },
  {
   "cell_type": "code",
   "execution_count": 17,
   "id": "7288ad08-d13d-4c49-8f00-9656618ccbaa",
   "metadata": {},
   "outputs": [],
   "source": [
    "from ipycanvas import Canvas\n",
    "\n",
    "canvas = Canvas(width=500, height=500, sync_image_data=True)\n",
    "\n",
    "\n",
    "def save_to_file(*args, **kwargs):\n",
    "    canvas.to_file(\"save_file.png\")\n",
    "\n",
    "canvas.fill_style = 'white'\n",
    "canvas.fill_rect(0, 0, 500, 500)\n",
    "canvas.fill_style = 'red'\n",
    "canvas.fill_rect(10, 10, 200, 200)\n",
    "\n",
    "\n",
    "canvas.observe(save_to_file, \"image_data\")\n",
    "\n",
    "\n"
   ]
  },
  {
   "cell_type": "code",
   "execution_count": null,
   "id": "437d6332-c6b3-4f5d-b145-37968e28fa29",
   "metadata": {},
   "outputs": [],
   "source": []
  }
 ],
 "metadata": {
  "kernelspec": {
   "display_name": "Python 3 (ipykernel)",
   "language": "python",
   "name": "python3"
  },
  "language_info": {
   "codemirror_mode": {
    "name": "ipython",
    "version": 3
   },
   "file_extension": ".py",
   "mimetype": "text/x-python",
   "name": "python",
   "nbconvert_exporter": "python",
   "pygments_lexer": "ipython3",
   "version": "3.11.4"
  }
 },
 "nbformat": 4,
 "nbformat_minor": 5
}
