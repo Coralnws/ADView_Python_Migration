{
 "cells": [
  {
   "cell_type": "code",
   "execution_count": 1,
   "id": "04b86733",
   "metadata": {},
   "outputs": [
    {
     "name": "stdout",
     "output_type": "stream",
     "text": [
      "Requirement already satisfied: dendropy in c:\\users\\coral\\desktop\\phylo\\venv\\lib\\site-packages (from -r requirements.txt (line 1)) (4.6.1)\n",
      "Requirement already satisfied: ipycanvas in c:\\users\\coral\\desktop\\phylo\\venv\\lib\\site-packages (from -r requirements.txt (line 2)) (0.13.1)\n",
      "Requirement already satisfied: setuptools in c:\\users\\coral\\desktop\\phylo\\venv\\lib\\site-packages (from dendropy->-r requirements.txt (line 1)) (68.2.2)\n",
      "Requirement already satisfied: ipywidgets<9,>=7.6.0 in c:\\users\\coral\\desktop\\phylo\\venv\\lib\\site-packages (from ipycanvas->-r requirements.txt (line 2)) (8.1.1)\n",
      "Requirement already satisfied: pillow>=6.0 in c:\\users\\coral\\desktop\\phylo\\venv\\lib\\site-packages (from ipycanvas->-r requirements.txt (line 2)) (10.1.0)\n",
      "Requirement already satisfied: numpy in c:\\users\\coral\\desktop\\phylo\\venv\\lib\\site-packages (from ipycanvas->-r requirements.txt (line 2)) (1.26.2)\n",
      "Requirement already satisfied: comm>=0.1.3 in c:\\users\\coral\\desktop\\phylo\\venv\\lib\\site-packages (from ipywidgets<9,>=7.6.0->ipycanvas->-r requirements.txt (line 2)) (0.2.0)\n",
      "Requirement already satisfied: ipython>=6.1.0 in c:\\users\\coral\\desktop\\phylo\\venv\\lib\\site-packages (from ipywidgets<9,>=7.6.0->ipycanvas->-r requirements.txt (line 2)) (8.17.2)\n",
      "Requirement already satisfied: traitlets>=4.3.1 in c:\\users\\coral\\desktop\\phylo\\venv\\lib\\site-packages (from ipywidgets<9,>=7.6.0->ipycanvas->-r requirements.txt (line 2)) (5.14.0)\n",
      "Requirement already satisfied: widgetsnbextension~=4.0.9 in c:\\users\\coral\\desktop\\phylo\\venv\\lib\\site-packages (from ipywidgets<9,>=7.6.0->ipycanvas->-r requirements.txt (line 2)) (4.0.9)\n",
      "Requirement already satisfied: jupyterlab-widgets~=3.0.9 in c:\\users\\coral\\desktop\\phylo\\venv\\lib\\site-packages (from ipywidgets<9,>=7.6.0->ipycanvas->-r requirements.txt (line 2)) (3.0.9)\n",
      "Requirement already satisfied: decorator in c:\\users\\coral\\desktop\\phylo\\venv\\lib\\site-packages (from ipython>=6.1.0->ipywidgets<9,>=7.6.0->ipycanvas->-r requirements.txt (line 2)) (5.1.1)\n",
      "Requirement already satisfied: jedi>=0.16 in c:\\users\\coral\\desktop\\phylo\\venv\\lib\\site-packages (from ipython>=6.1.0->ipywidgets<9,>=7.6.0->ipycanvas->-r requirements.txt (line 2)) (0.19.1)\n",
      "Requirement already satisfied: matplotlib-inline in c:\\users\\coral\\desktop\\phylo\\venv\\lib\\site-packages (from ipython>=6.1.0->ipywidgets<9,>=7.6.0->ipycanvas->-r requirements.txt (line 2)) (0.1.6)\n",
      "Requirement already satisfied: prompt-toolkit!=3.0.37,<3.1.0,>=3.0.30 in c:\\users\\coral\\desktop\\phylo\\venv\\lib\\site-packages (from ipython>=6.1.0->ipywidgets<9,>=7.6.0->ipycanvas->-r requirements.txt (line 2)) (3.0.41)\n",
      "Requirement already satisfied: pygments>=2.4.0 in c:\\users\\coral\\desktop\\phylo\\venv\\lib\\site-packages (from ipython>=6.1.0->ipywidgets<9,>=7.6.0->ipycanvas->-r requirements.txt (line 2)) (2.16.1)\n",
      "Requirement already satisfied: stack-data in c:\\users\\coral\\desktop\\phylo\\venv\\lib\\site-packages (from ipython>=6.1.0->ipywidgets<9,>=7.6.0->ipycanvas->-r requirements.txt (line 2)) (0.6.3)\n",
      "Requirement already satisfied: colorama in c:\\users\\coral\\desktop\\phylo\\venv\\lib\\site-packages (from ipython>=6.1.0->ipywidgets<9,>=7.6.0->ipycanvas->-r requirements.txt (line 2)) (0.4.6)\n",
      "Requirement already satisfied: parso<0.9.0,>=0.8.3 in c:\\users\\coral\\desktop\\phylo\\venv\\lib\\site-packages (from jedi>=0.16->ipython>=6.1.0->ipywidgets<9,>=7.6.0->ipycanvas->-r requirements.txt (line 2)) (0.8.3)\n",
      "Requirement already satisfied: wcwidth in c:\\users\\coral\\desktop\\phylo\\venv\\lib\\site-packages (from prompt-toolkit!=3.0.37,<3.1.0,>=3.0.30->ipython>=6.1.0->ipywidgets<9,>=7.6.0->ipycanvas->-r requirements.txt (line 2)) (0.2.10)\n",
      "Requirement already satisfied: executing>=1.2.0 in c:\\users\\coral\\desktop\\phylo\\venv\\lib\\site-packages (from stack-data->ipython>=6.1.0->ipywidgets<9,>=7.6.0->ipycanvas->-r requirements.txt (line 2)) (2.0.1)\n",
      "Requirement already satisfied: asttokens>=2.1.0 in c:\\users\\coral\\desktop\\phylo\\venv\\lib\\site-packages (from stack-data->ipython>=6.1.0->ipywidgets<9,>=7.6.0->ipycanvas->-r requirements.txt (line 2)) (2.4.1)\n",
      "Requirement already satisfied: pure-eval in c:\\users\\coral\\desktop\\phylo\\venv\\lib\\site-packages (from stack-data->ipython>=6.1.0->ipywidgets<9,>=7.6.0->ipycanvas->-r requirements.txt (line 2)) (0.2.2)\n",
      "Requirement already satisfied: six>=1.12.0 in c:\\users\\coral\\desktop\\phylo\\venv\\lib\\site-packages (from asttokens>=2.1.0->stack-data->ipython>=6.1.0->ipywidgets<9,>=7.6.0->ipycanvas->-r requirements.txt (line 2)) (1.16.0)\n"
     ]
    },
    {
     "name": "stderr",
     "output_type": "stream",
     "text": [
      "\n",
      "[notice] A new release of pip is available: 23.2.1 -> 24.0\n",
      "[notice] To update, run: python.exe -m pip install --upgrade pip\n"
     ]
    }
   ],
   "source": [
    "!pip install -r requirements.txt"
   ]
  },
  {
   "cell_type": "code",
   "execution_count": 123,
   "id": "b60808f5-8e58-46c7-a055-ac2a8608787c",
   "metadata": {},
   "outputs": [],
   "source": [
    "import myTree as myTree\n",
    "import importlib\n",
    "importlib.reload(myTree)\n",
    "\n",
    "mytree = myTree.myTree(treefile = \"Data/69species/astral.FAA.trim50genes.final.tre\")"
   ]
  },
  {
   "cell_type": "code",
   "execution_count": 124,
   "id": "08d50fd9-5b73-41cf-a9fd-ac29e78625f0",
   "metadata": {},
   "outputs": [],
   "source": [
    "outgroup = [\"Uronema sp\", \"Monomastix opisthostigma\", \"Pyramimonas parkeae\", \"Nephroselmis pyriformis\"]\n",
    "mytree.set_outgroup(outgroup)"
   ]
  },
  {
   "cell_type": "code",
   "execution_count": 125,
   "id": "16419580-c7e1-4fb1-a94b-f12d5728ca73",
   "metadata": {},
   "outputs": [],
   "source": [
    "mytree.add_tree_collection(treefile = \"Data/69species/tc.tre\",namefile=\"Data/69species/names.txt\")"
   ]
  },
  {
   "cell_type": "code",
   "execution_count": 126,
   "id": "6c798ff9-74c3-433b-8d97-13970de6d6d6",
   "metadata": {
    "scrolled": true
   },
   "outputs": [
    {
     "data": {
      "application/vnd.jupyter.widget-view+json": {
       "model_id": "4f3c4e81d3f04737b262e5f85983d14c",
       "version_major": 2,
       "version_minor": 0
      },
      "text/plain": [
       "rtCanvas(height=2080, width=1100)"
      ]
     },
     "execution_count": 126,
     "metadata": {},
     "output_type": "execute_result"
    }
   ],
   "source": [
    "import importlib\n",
    "importlib.reload(myTree)\n",
    "\n",
    "rt_canvas = mytree.reference_tree()\n",
    "rt_canvas"
   ]
  },
  {
   "cell_type": "code",
   "execution_count": 128,
   "id": "0c592e27-1e33-41f5-833c-46b56e4741b2",
   "metadata": {},
   "outputs": [
    {
     "data": {
      "application/vnd.jupyter.widget-view+json": {
       "model_id": "f96d1424cb4f451d93f22b81357e14ef",
       "version_major": 2,
       "version_minor": 0
      },
      "text/plain": [
       "tcCanvas(height=1720, width=1100)"
      ]
     },
     "execution_count": 128,
     "metadata": {},
     "output_type": "execute_result"
    }
   ],
   "source": [
    "mytree.AD(view='Individual',scale=1.0,max_ad=12)"
   ]
  },
  {
   "cell_type": "code",
   "execution_count": 22,
   "id": "ddda35a3-7803-4d67-86ed-6d84bbd6c27e",
   "metadata": {},
   "outputs": [
    {
     "name": "stdout",
     "output_type": "stream",
     "text": [
      "Root\n",
      "    A:4\n",
      "    B:99\n",
      "Root\n",
      "    A:4\n",
      "    B:99\n",
      "Root\n",
      "    A:4\n",
      "    B:99\n",
      "Root\n",
      "    A:4\n",
      "    B:99\n",
      "Root\n",
      "    A:4\n",
      "    B:99\n",
      "Root\n",
      "    A:4\n",
      "    B:99\n",
      "Root\n",
      "    A:4\n",
      "    B:99\n",
      "Root\n",
      "    A:4\n",
      "    B:99\n",
      "Root\n",
      "    A:4\n",
      "    B:99\n",
      "Root\n",
      "    A:4\n",
      "    B:99\n",
      "Root\n",
      "    A:4\n",
      "    B:99\n",
      "Root\n",
      "    A:4\n",
      "    B:99\n",
      "Root\n",
      "    A:4\n",
      "    B:99\n",
      "Root\n",
      "    A:4\n",
      "    B:99\n",
      "Root\n",
      "    A:4\n",
      "    B:99\n",
      "Root\n",
      "    A:4\n",
      "    B:99\n",
      "Root\n",
      "    A:4\n",
      "    B:99\n",
      "Root\n",
      "    A:4\n",
      "    B:99\n",
      "Root\n",
      "    A:4\n",
      "    B:99\n",
      "Root\n",
      "    A:4\n",
      "    B:99\n",
      "Root\n",
      "    A:4\n",
      "    B:99\n",
      "Root\n",
      "    A:4\n",
      "    B:99\n",
      "Root\n",
      "    A:4\n",
      "    B:99\n",
      "Root\n",
      "    A:4\n",
      "    B:99\n",
      "Root\n",
      "    A:4\n",
      "    B:99\n",
      "Root\n",
      "    A:4\n",
      "    B:99\n",
      "Root\n",
      "    A:4\n",
      "    B:99\n",
      "Root\n",
      "    A:4\n",
      "    B:99\n",
      "Root\n",
      "    A:4\n",
      "    B:99\n",
      "Root\n",
      "    A:4\n",
      "    B:99\n",
      "Root\n",
      "    A:4\n",
      "    B:99\n",
      "Root\n",
      "    A:4\n",
      "    B:99\n",
      "Root\n",
      "    A:4\n",
      "    B:99\n",
      "Root\n",
      "    A:4\n",
      "    B:99\n",
      "Root\n",
      "    A:4\n",
      "    B:99\n",
      "Root\n",
      "    A:4\n",
      "    B:99\n",
      "Root\n",
      "    A:4\n",
      "    B:99\n",
      "Root\n",
      "    A:4\n",
      "    B:99\n",
      "Root\n",
      "    A:4\n",
      "    B:99\n",
      "Root\n",
      "    A:4\n",
      "    B:99\n",
      "Root\n",
      "    A:4\n",
      "    B:99\n",
      "Root\n",
      "    A:4\n",
      "    B:99\n",
      "Root\n",
      "    A:4\n",
      "    B:99\n",
      "Root\n",
      "    A:4\n",
      "    B:99\n",
      "Root\n",
      "    A:4\n",
      "    B:99\n",
      "Root\n",
      "    A:4\n",
      "    B:99\n",
      "Root\n",
      "    A:4\n",
      "    B:99\n",
      "Root\n",
      "    A:4\n",
      "    B:99\n",
      "Root\n",
      "    A:4\n",
      "    B:99\n",
      "Root\n",
      "    A:4\n",
      "    B:99\n",
      "Root\n",
      "    A:4\n",
      "    B:99\n",
      "Root\n",
      "    A:4\n",
      "    B:99\n",
      "Root\n",
      "    A:4\n",
      "    B:99\n",
      "Root\n",
      "    A:4\n",
      "    B:99\n",
      "Root\n",
      "    A:4\n",
      "    B:99\n",
      "Root\n",
      "    A:4\n",
      "    B:99\n",
      "Root\n",
      "    A:4\n",
      "    B:99\n",
      "Root\n",
      "    A:4\n",
      "    B:99\n",
      "Root\n",
      "    A:4\n",
      "    B:99\n",
      "Root\n",
      "    A:4\n",
      "    B:99\n",
      "Root\n",
      "    A:4\n",
      "    B:99\n",
      "Root\n",
      "    A:4\n",
      "    B:99\n",
      "Root\n",
      "    A:4\n",
      "    B:99\n",
      "Root\n",
      "    A:4\n",
      "    B:99\n",
      "Root\n",
      "    A:4\n",
      "    B:99\n",
      "Root\n",
      "    A:4\n",
      "    B:99\n",
      "Root\n",
      "    A:4\n",
      "    B:99\n",
      "Root\n",
      "    A:4\n",
      "    B:99\n"
     ]
    }
   ],
   "source": [
    "for ad_tree in tc_canvas.ad_list:\n",
    "    ad_tree.plot_tree()"
   ]
  },
  {
   "cell_type": "code",
   "execution_count": 16,
   "id": "3244a17a-39ed-43b7-a7b7-7d2bec113c42",
   "metadata": {},
   "outputs": [
    {
     "name": "stdout",
     "output_type": "stream",
     "text": [
      "<Error> : Reference Tree not exist.\n",
      "Please ensure that you have called the reference_tree() function before calling this function.\n"
     ]
    }
   ],
   "source": [
    "# mytree.select_subtree([\"mesostigma\",\"spirotaenia\"])\n",
    "mytree.select_leaf_node(\"uronema\")"
   ]
  },
  {
   "cell_type": "code",
   "execution_count": 21,
   "id": "1c9aa213-2ebf-4718-bd1c-ae3158e9f9d6",
   "metadata": {},
   "outputs": [
    {
     "name": "stdout",
     "output_type": "stream",
     "text": [
      "[]\n"
     ]
    }
   ],
   "source": [
    "print(canvas.output)"
   ]
  },
  {
   "cell_type": "code",
   "execution_count": null,
   "id": "ea244723-4226-498e-8664-2833dcea4dff",
   "metadata": {},
   "outputs": [],
   "source": []
  },
  {
   "cell_type": "code",
   "execution_count": null,
   "id": "0e6f1e22-f6a4-4671-adfb-d8b729be1cd0",
   "metadata": {},
   "outputs": [],
   "source": []
  }
 ],
 "metadata": {
  "kernelspec": {
   "display_name": "Python 3 (ipykernel)",
   "language": "python",
   "name": "python3"
  },
  "language_info": {
   "codemirror_mode": {
    "name": "ipython",
    "version": 3
   },
   "file_extension": ".py",
   "mimetype": "text/x-python",
   "name": "python",
   "nbconvert_exporter": "python",
   "pygments_lexer": "ipython3",
   "version": "3.11.4"
  }
 },
 "nbformat": 4,
 "nbformat_minor": 5
}
