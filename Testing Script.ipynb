{
 "cells": [
  {
   "cell_type": "code",
   "execution_count": null,
   "id": "04b86733",
   "metadata": {},
   "outputs": [],
   "source": [
    "!pip install -r requirements.txt"
   ]
  },
  {
   "cell_type": "code",
   "execution_count": 1,
   "id": "b60808f5-8e58-46c7-a055-ac2a8608787c",
   "metadata": {},
   "outputs": [],
   "source": [
    "import ADViewpy\n",
    "\n",
    "adpy = ADViewpy.init(treefile = \"Data/69species/astral.FAA.trim50genes.final.tre\")\n",
    "\n",
    "# adpy = ADViewpy.init(treefile = \"Data/astral2/astral.FAA.trim50genes33taxa.final.tre\")\n",
    "# adpy = ADViewpy.init(treefile = \"tre_test.tre\")"
   ]
  },
  {
   "cell_type": "code",
   "execution_count": 2,
   "id": "08d50fd9-5b73-41cf-a9fd-ac29e78625f0",
   "metadata": {
    "scrolled": true
   },
   "outputs": [],
   "source": [
    "outgroup = [\"Uronema sp\", \"Monomastix opisthostigma\", \"Pyramimonas parkeae\", \"Nephroselmis pyriformis\"]\n",
    "adpy.set_outgroup(outgroup)\n",
    "\n",
    "# %load_ext snakeviz\n",
    "# %snakeviz adpy.set_outgroup(outgroup)"
   ]
  },
  {
   "cell_type": "code",
   "execution_count": 3,
   "id": "16419580-c7e1-4fb1-a94b-f12d5728ca73",
   "metadata": {
    "scrolled": true
   },
   "outputs": [],
   "source": [
    "# # adpy.add_tree_collection(treefile = \"Data/69species/tc_test_missing.tre\",namefile=\"Data/69species/names.txt\")\n",
    "# # adpy.add_tree_collection(treefile = \"Data/astral2/tc.tre\")\n",
    "\n",
    "treefile = \"Data/69species/tc.tre\"\n",
    "namefile = \"Data/69species/names.txt\"\n",
    "adpy.add_tree_collection(treefile = treefile,namefile=namefile)\n",
    "\n",
    "# %load_ext snakeviz\n",
    "# %snakeviz adpy.add_tree_collection(treefile = treefile,namefile=namefile)"
   ]
  },
  {
   "cell_type": "code",
   "execution_count": 4,
   "id": "54d1af3b-c322-4ea1-b2ad-e18192c2e3d7",
   "metadata": {
    "scrolled": true
   },
   "outputs": [
    {
     "data": {
      "application/vnd.jupyter.widget-view+json": {
       "model_id": "79dbdfe004df4f449faa52bc186a2e82",
       "version_major": 2,
       "version_minor": 0
      },
      "text/plain": [
       "rtCanvas(height=2160, sync_image_data=True, width=1100)"
      ]
     },
     "execution_count": 4,
     "metadata": {},
     "output_type": "execute_result"
    }
   ],
   "source": [
    "exact_match_range = [100,100]\n",
    "support_value_range = [0,100]\n",
    "\n",
    "adpy.reference_tree(exact_match_range=[50,100])\n",
    "# # \n",
    "# %load_ext snakeviz\n",
    "# %snakeviz adpy.reference_tree()"
   ]
  },
  {
   "cell_type": "code",
   "execution_count": 5,
   "id": "5c790886-b92c-4c44-bc24-5e9ca1ef9116",
   "metadata": {},
   "outputs": [],
   "source": [
    "taxa_list = [\"nothoceros aenigmaticus\",\"polymorpha\"]\n",
    "adpy.select_subtree(taxa_list)\n",
    "\n",
    "\n",
    "taxa_list = [\"lescurii\",\"polymorpha\"]\n",
    "adpy.select_subtree(taxa_list)\n",
    "\n",
    "taxa_list = [\"scutata\",\"globosum\"]\n",
    "adpy.select_subtree(taxa_list)\n",
    "\n",
    "taxa_list = [\"mesostigma\",\"minuta\"]\n",
    "adpy.select_subtree(taxa_list)\n",
    "\n",
    "taxa_list = [\"fimbriata\",\"subtile\"]\n",
    "adpy.select_subtree(taxa_list)"
   ]
  },
  {
   "cell_type": "code",
   "execution_count": 6,
   "id": "aa0153c6-03d5-49e9-b32e-81b6687f6f2b",
   "metadata": {
    "scrolled": true
   },
   "outputs": [
    {
     "name": "stdout",
     "output_type": "stream",
     "text": [
      "<Error> : Tree is not exist.\n",
      "Please choose an existing tree.\n"
     ]
    }
   ],
   "source": [
    "adpy.pairwise_comparison(compare_tree=56)\n",
    "\n",
    "# %load_ext snakeviz\n",
    "# %snakeviz adpy.pairwise_comparison(compare_tree=2)\n"
   ]
  },
  {
   "cell_type": "code",
   "execution_count": null,
   "id": "bfec3278-cb16-4d47-8e2b-c79885139b5b",
   "metadata": {},
   "outputs": [],
   "source": [
    "adpy.pairwise_canvas.rt_sorted_layer_list"
   ]
  },
  {
   "cell_type": "code",
   "execution_count": null,
   "id": "0df31d7b-0330-4617-b62d-be234f58b71a",
   "metadata": {},
   "outputs": [],
   "source": [
    "print(adpy.pairwise_canvas.rt_layer_block_list)\n",
    "print(adpy.pairwise_canvas.rt_sorted_layer_list)\n",
    "print(adpy.pairwise_canvas.rt_layer_occupied)"
   ]
  },
  {
   "cell_type": "code",
   "execution_count": null,
   "id": "31f8f6c8-e364-458b-99ea-4432aa0827c5",
   "metadata": {},
   "outputs": [],
   "source": [
    "print(adpy.pairwise_canvas.tc_right_layer_block_list)\n",
    "print(adpy.pairwise_canvas.tc_right_sorted_layer_list)\n",
    "print(adpy.pairwise_canvas.tc_right_layer_occupied)"
   ]
  },
  {
   "cell_type": "code",
   "execution_count": null,
   "id": "b57ee99a-9ed7-47a3-8382-2fe6ee91065a",
   "metadata": {},
   "outputs": [],
   "source": [
    "adpy.pairwise_canvas[2]"
   ]
  },
  {
   "cell_type": "code",
   "execution_count": 8,
   "id": "5adb5fc0-7c9a-4c94-84ae-fcf9701a7184",
   "metadata": {
    "scrolled": true
   },
   "outputs": [
    {
     "data": {
      "application/vnd.jupyter.widget-view+json": {
       "model_id": "2407cf29433d467c9c3fabbfdf31cb70",
       "version_major": 2,
       "version_minor": 0
      },
      "text/plain": [
       "tcCanvas(height=1947, sync_image_data=True, width=1100)"
      ]
     },
     "metadata": {},
     "output_type": "display_data"
    }
   ],
   "source": [
    "adpy.AD(view='AD Individual',scale=1.0,context_level = 2,show_tree_name=True,escape_taxa_as_context_block=False)\n",
    "#,escape_taxa_as_context_block=False\n",
    "\n",
    "# %load_ext snakeviz\n",
    "# %snakeviz adpy.AD(view='AD Individual',scale=1.0,sort='id',context_level = 2,show_tree_name=True)"
   ]
  },
  {
   "cell_type": "code",
   "execution_count": null,
   "id": "1551f362-af7a-47c8-a7c3-6d198a7a87f4",
   "metadata": {
    "scrolled": true
   },
   "outputs": [],
   "source": [
    "adpy.tree_distribution()\n",
    "\n",
    "# %load_ext snakeviz\n",
    "# %snakeviz adpy.tree_distribution()"
   ]
  },
  {
   "cell_type": "code",
   "execution_count": null,
   "id": "92d16c59-0150-49d8-a8a5-7d90b41c4fad",
   "metadata": {},
   "outputs": [],
   "source": [
    "adpy.tree_distance()"
   ]
  },
  {
   "cell_type": "code",
   "execution_count": null,
   "id": "67ed5047-f2e6-4702-a13d-49948553b318",
   "metadata": {
    "scrolled": true
   },
   "outputs": [],
   "source": [
    "adpy.export_image(view='Tree Distribution',filename='tree_distribution_export')"
   ]
  },
  {
   "cell_type": "code",
   "execution_count": null,
   "id": "5fa1b7f2-900e-48ab-86b1-94d024c40497",
   "metadata": {
    "scrolled": true
   },
   "outputs": [],
   "source": [
    "adpy.AD(view='AD Cluster',scale=1.0)\n",
    "\n",
    "# %load_ext snakeviz\n",
    "# %snakeviz adpy.AD(view='AD Cluster',scale=1.0)"
   ]
  },
  {
   "cell_type": "code",
   "execution_count": null,
   "id": "6bcb3310-f02b-4b02-84a9-55e5f0880b8a",
   "metadata": {},
   "outputs": [],
   "source": [
    "taxa_list = [\"spirogyra\",\"mougeotia\"]\n",
    "adpy.select_subtree(taxa_list)\n",
    "\n",
    "# %load_ext snakeviz\n",
    "# %snakeviz adpy.select_subtree(taxa_list)"
   ]
  },
  {
   "cell_type": "code",
   "execution_count": null,
   "id": "940cba8f-b592-4e20-929e-d810b3b02357",
   "metadata": {},
   "outputs": [],
   "source": []
  }
 ],
 "metadata": {
  "kernelspec": {
   "display_name": "Python 3 (ipykernel)",
   "language": "python",
   "name": "python3"
  },
  "language_info": {
   "codemirror_mode": {
    "name": "ipython",
    "version": 3
   },
   "file_extension": ".py",
   "mimetype": "text/x-python",
   "name": "python",
   "nbconvert_exporter": "python",
   "pygments_lexer": "ipython3",
   "version": "3.11.4"
  }
 },
 "nbformat": 4,
 "nbformat_minor": 5
}
