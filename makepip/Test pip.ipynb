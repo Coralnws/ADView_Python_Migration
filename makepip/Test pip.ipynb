{
 "cells": [
  {
   "cell_type": "code",
   "execution_count": 1,
   "id": "initial_id",
   "metadata": {},
   "outputs": [
    {
     "name": "stdout",
     "output_type": "stream",
     "text": [
      "Processing c:\\users\\coral\\desktop\\phylo\\ipy-ad\\test pip\\adviewpy-0.0.1-py3-none-any.whl\n",
      "Installing collected packages: ADViewpy\n",
      "  Attempting uninstall: ADViewpy\n",
      "    Found existing installation: ADViewpy 0.0.1\n",
      "    Uninstalling ADViewpy-0.0.1:\n",
      "      Successfully uninstalled ADViewpy-0.0.1\n",
      "Successfully installed ADViewpy-0.0.1\n"
     ]
    }
   ],
   "source": [
    "!pip install ADViewpy-0.0.1-py3-none-any.whl --force-reinstall"
   ]
  },
  {
   "cell_type": "code",
   "execution_count": 8,
   "id": "d8c14bd4",
   "metadata": {},
   "outputs": [
    {
     "name": "stderr",
     "output_type": "stream",
     "text": [
      "ERROR: Could not open requirements file: [Errno 2] No such file or directory: 'ADViewpy.requirements.txt'\n"
     ]
    }
   ],
   "source": [
    "!pip install -r requirements.txt"
   ]
  },
  {
   "cell_type": "code",
   "execution_count": 5,
   "id": "ccfc519a",
   "metadata": {},
   "outputs": [],
   "source": [
    "import ADViewpy\n",
    "\n",
    "adpy = ADViewpy.init(treefile = \"Data/69species/astral.FAA.trim50genes.final.tre\")"
   ]
  },
  {
   "cell_type": "code",
   "execution_count": 6,
   "id": "5eed67a2",
   "metadata": {
    "scrolled": true
   },
   "outputs": [
    {
     "data": {
      "application/vnd.jupyter.widget-view+json": {
       "model_id": "8b0b50a6c4bc4346b49c388b2703e353",
       "version_major": 2,
       "version_minor": 0
      },
      "text/plain": [
       "rtCanvas(height=2140, sync_image_data=True, width=1100)"
      ]
     },
     "execution_count": 6,
     "metadata": {},
     "output_type": "execute_result"
    }
   ],
   "source": [
    "adpy.reference_tree()"
   ]
  },
  {
   "cell_type": "code",
   "execution_count": 17,
   "id": "2b9e1c27",
   "metadata": {},
   "outputs": [
    {
     "name": "stdout",
     "output_type": "stream",
     "text": [
      "<Error> : Tree Collection Not Exist.\n",
      "Please ensure that you have called the add_tree_collection() function before calling this function.\n"
     ]
    }
   ],
   "source": [
    "adpy.AD(view=\"AD_Individual\")"
   ]
  },
  {
   "cell_type": "code",
   "execution_count": null,
   "id": "2b8579c3",
   "metadata": {},
   "outputs": [],
   "source": []
  }
 ],
 "metadata": {
  "kernelspec": {
   "display_name": "Python 3 (ipykernel)",
   "language": "python",
   "name": "python3"
  },
  "language_info": {
   "codemirror_mode": {
    "name": "ipython",
    "version": 3
   },
   "file_extension": ".py",
   "mimetype": "text/x-python",
   "name": "python",
   "nbconvert_exporter": "python",
   "pygments_lexer": "ipython3",
   "version": "3.11.4"
  }
 },
 "nbformat": 4,
 "nbformat_minor": 5
}
