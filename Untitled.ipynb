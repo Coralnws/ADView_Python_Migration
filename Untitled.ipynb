{
 "cells": [
  {
   "cell_type": "code",
   "execution_count": 1,
   "id": "ef34ae55-d9f0-4fdd-bafc-13d39b36b6e9",
   "metadata": {},
   "outputs": [
    {
     "name": "stdout",
     "output_type": "stream",
     "text": [
      "Requirement already satisfied: ADViewpy in c:\\users\\coral\\desktop\\phylo\\venv\\lib\\site-packages (0.0.1)\n"
     ]
    },
    {
     "name": "stderr",
     "output_type": "stream",
     "text": [
      "\n",
      "[notice] A new release of pip is available: 23.2.1 -> 24.0\n",
      "[notice] To update, run: python.exe -m pip install --upgrade pip\n"
     ]
    }
   ],
   "source": [
    "!pip install ADViewpy"
   ]
  },
  {
   "cell_type": "code",
   "execution_count": 3,
   "id": "bf18aa15-5361-4fcc-81fd-edf2897293ca",
   "metadata": {},
   "outputs": [
    {
     "ename": "SyntaxError",
     "evalue": "invalid syntax (rtCanvas.py, line 205)",
     "output_type": "error",
     "traceback": [
      "Traceback \u001b[1;36m(most recent call last)\u001b[0m:\n",
      "\u001b[0m  File \u001b[0;32m~\\Desktop\\Phylo\\venv\\Lib\\site-packages\\IPython\\core\\interactiveshell.py:3548\u001b[0m in \u001b[0;35mrun_code\u001b[0m\n    exec(code_obj, self.user_global_ns, self.user_ns)\u001b[0m\n",
      "\u001b[0m  Cell \u001b[0;32mIn[3], line 1\u001b[0m\n    import ADViewpy\u001b[0m\n",
      "\u001b[1;36m  File \u001b[1;32m~\\Desktop\\Phylo\\Ipy-AD\\ADView_Python_Migration\\ADViewpy.py:10\u001b[1;36m\n\u001b[1;33m    from rtCanvas import rtCanvas\u001b[1;36m\n",
      "\u001b[1;36m  File \u001b[1;32m~\\Desktop\\Phylo\\Ipy-AD\\ADView_Python_Migration\\rtCanvas.py:205\u001b[1;36m\u001b[0m\n\u001b[1;33m    for node in\u001b[0m\n\u001b[1;37m               ^\u001b[0m\n\u001b[1;31mSyntaxError\u001b[0m\u001b[1;31m:\u001b[0m invalid syntax\n"
     ]
    }
   ],
   "source": [
    "import ADViewpy\n",
    "\n",
    "adviewpy = ADViewpy.init(treefile=\"Data/69species/astral.FAA.trim50genes.final.tre\")"
   ]
  },
  {
   "cell_type": "code",
   "execution_count": null,
   "id": "ac239c79-a841-4eba-9104-5a1fc8056ba0",
   "metadata": {},
   "outputs": [],
   "source": []
  }
 ],
 "metadata": {
  "kernelspec": {
   "display_name": "Python 3 (ipykernel)",
   "language": "python",
   "name": "python3"
  },
  "language_info": {
   "codemirror_mode": {
    "name": "ipython",
    "version": 3
   },
   "file_extension": ".py",
   "mimetype": "text/x-python",
   "name": "python",
   "nbconvert_exporter": "python",
   "pygments_lexer": "ipython3",
   "version": "3.11.4"
  }
 },
 "nbformat": 4,
 "nbformat_minor": 5
}
